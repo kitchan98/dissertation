{
  "cells": [
    {
      "cell_type": "code",
      "execution_count": null,
      "id": "OOKmqeYt93co",
      "metadata": {
        "colab": {
          "base_uri": "https://localhost:8080/"
        },
        "id": "OOKmqeYt93co",
        "outputId": "a19b17a2-9e4c-4cd9-b3da-d55b197ac32b"
      },
      "outputs": [
        {
          "output_type": "stream",
          "name": "stdout",
          "text": [
            "Mounted at /content/drive\n"
          ]
        }
      ],
      "source": [
        "from google.colab import drive\n",
        "drive.mount('/content/drive')"
      ]
    },
    {
      "cell_type": "code",
      "execution_count": null,
      "id": "KqRun_2rPnzA",
      "metadata": {
        "id": "KqRun_2rPnzA"
      },
      "outputs": [],
      "source": [
        "!pip install remotezip opencv-python==4.5.2.52 opencv-python-headless==4.5.2.52\n",
        "#!pip install tf-models-official\n",
        "#!pip install tensorflow==2.15.0\n",
        "!pip install tensorflow\n",
        "!pip install -qU wandb"
      ]
    },
    {
      "cell_type": "code",
      "execution_count": null,
      "id": "117d17a6",
      "metadata": {
        "id": "117d17a6"
      },
      "outputs": [],
      "source": [
        "import numpy as np\n",
        "import pandas as pd\n",
        "import matplotlib.pyplot as plt\n",
        "import tensorflow as tf\n",
        "from tensorflow import keras\n",
        "from tensorflow.keras.models import Sequential, Model\n",
        "from tensorflow.keras.layers import (Dense, Conv3D, Flatten, Dropout, LSTM, MaxPooling3D, GlobalMaxPooling3D,\n",
        "                                     BatchNormalization, GlobalAveragePooling3D, TimeDistributed, Reshape,\n",
        "                                     Input, Concatenate, UpSampling3D, PReLU, LeakyReLU, Lambda, ELU, ReLU)\n",
        "from tensorflow.keras.preprocessing.image import ImageDataGenerator\n",
        "from tensorflow.keras.callbacks import EarlyStopping, ReduceLROnPlateau\n",
        "from tensorflow.data import Dataset\n",
        "import random\n",
        "import cv2\n",
        "import os\n",
        "import requests\n",
        "from pathlib import Path\n",
        "from sklearn.metrics import accuracy_score, precision_score, recall_score, f1_score, roc_auc_score, confusion_matrix\n",
        "from transformers import YolosImageProcessor, YolosForObjectDetection\n",
        "from PIL import Image, ImageDraw\n",
        "import wandb\n",
        "from wandb.integration.keras import WandbCallback, WandbMetricsLogger, WandbModelCheckpoint, WandbEvalCallback\n",
        "import tqdm\n",
        "from tensorflow.keras import backend as K\n",
        "import gc"
      ]
    },
    {
      "cell_type": "code",
      "execution_count": null,
      "id": "fzVKDyTWRUIV",
      "metadata": {
        "colab": {
          "base_uri": "https://localhost:8080/"
        },
        "id": "fzVKDyTWRUIV",
        "outputId": "2f25735d-c6d8-48f6-b549-1035630ec39c"
      },
      "outputs": [
        {
          "name": "stdout",
          "output_type": "stream",
          "text": [
            "Tensorflow version 2.15.0\n"
          ]
        }
      ],
      "source": [
        "print(\"Tensorflow version \" + tf.__version__)\n",
        "\n",
        "##try:\n",
        "#  tpu = tf.distribute.cluster_resolver.TPUClusterResolver()\n",
        "#  print(f'Running on a TPU w/{tpu.num_accelerators()[\"TPU\"]} cores')\n",
        "#except ValueError:\n",
        "#  raise BaseException('ERROR: Not connected to a TPU runtime; please see the previous cell in this notebook for instructions!')\n",
        "\n",
        "#tf.config.experimental_connect_to_cluster(tpu)\n",
        "#tf.tpu.experimental.initialize_tpu_system(tpu)\n",
        "#strategy = tf.distribute.TPUStrategy(tpu)\n",
        "\n",
        "#print(\"All TPU devices: \", tf.config.list_logical_devices('TPU'))"
      ]
    },
    {
      "cell_type": "code",
      "execution_count": null,
      "id": "hGaZr-9QCOe_",
      "metadata": {
        "colab": {
          "base_uri": "https://localhost:8080/"
        },
        "id": "hGaZr-9QCOe_",
        "outputId": "2fc2b31f-7056-4349-9121-5da7be4fb5fe"
      },
      "outputs": [
        {
          "output_type": "stream",
          "name": "stdout",
          "text": [
            "/content/drive/MyDrive\n"
          ]
        }
      ],
      "source": [
        "%cd /content/drive/MyDrive/"
      ]
    },
    {
      "cell_type": "code",
      "execution_count": null,
      "id": "EOzzV6lt7NLX",
      "metadata": {
        "colab": {
          "base_uri": "https://localhost:8080/",
          "height": 124
        },
        "id": "EOzzV6lt7NLX",
        "outputId": "fe0e2717-fd69-475f-e103-1f2e6008f9ba"
      },
      "outputs": [
        {
          "data": {
            "application/javascript": [
              "\n",
              "        window._wandbApiKey = new Promise((resolve, reject) => {\n",
              "            function loadScript(url) {\n",
              "            return new Promise(function(resolve, reject) {\n",
              "                let newScript = document.createElement(\"script\");\n",
              "                newScript.onerror = reject;\n",
              "                newScript.onload = resolve;\n",
              "                document.body.appendChild(newScript);\n",
              "                newScript.src = url;\n",
              "            });\n",
              "            }\n",
              "            loadScript(\"https://cdn.jsdelivr.net/npm/postmate/build/postmate.min.js\").then(() => {\n",
              "            const iframe = document.createElement('iframe')\n",
              "            iframe.style.cssText = \"width:0;height:0;border:none\"\n",
              "            document.body.appendChild(iframe)\n",
              "            const handshake = new Postmate({\n",
              "                container: iframe,\n",
              "                url: 'https://wandb.ai/authorize'\n",
              "            });\n",
              "            const timeout = setTimeout(() => reject(\"Couldn't auto authenticate\"), 5000)\n",
              "            handshake.then(function(child) {\n",
              "                child.on('authorize', data => {\n",
              "                    clearTimeout(timeout)\n",
              "                    resolve(data)\n",
              "                });\n",
              "            });\n",
              "            })\n",
              "        });\n",
              "    "
            ],
            "text/plain": [
              "<IPython.core.display.Javascript object>"
            ]
          },
          "metadata": {},
          "output_type": "display_data"
        },
        {
          "name": "stderr",
          "output_type": "stream",
          "text": [
            "\u001b[34m\u001b[1mwandb\u001b[0m: Logging into wandb.ai. (Learn how to deploy a W&B server locally: https://wandb.me/wandb-server)\n",
            "\u001b[34m\u001b[1mwandb\u001b[0m: You can find your API key in your browser here: https://wandb.ai/authorize\n",
            "wandb: Paste an API key from your profile and hit enter, or press ctrl+c to quit:"
          ]
        },
        {
          "name": "stdout",
          "output_type": "stream",
          "text": [
            " ··········\n"
          ]
        },
        {
          "name": "stderr",
          "output_type": "stream",
          "text": [
            "\u001b[34m\u001b[1mwandb\u001b[0m: Appending key for api.wandb.ai to your netrc file: /root/.netrc\n"
          ]
        },
        {
          "data": {
            "text/plain": [
              "True"
            ]
          },
          "execution_count": 5,
          "metadata": {},
          "output_type": "execute_result"
        }
      ],
      "source": [
        "wandb.login()"
      ]
    },
    {
      "cell_type": "markdown",
      "id": "99b19846",
      "metadata": {
        "id": "99b19846"
      },
      "source": [
        "# Video Processing"
      ]
    },
    {
      "cell_type": "code",
      "source": [
        "import os\n",
        "def video_num(video_path):\n",
        "    video_files = []\n",
        "    for root, dirs, files in os.walk(video_path):\n",
        "        for file in files:\n",
        "            if file.endswith('.mp4'):\n",
        "                video_files.append(os.path.join(root, file))\n",
        "\n",
        "    print(f\"Found {len(video_files)} video files.\")\n",
        "    return video_files"
      ],
      "metadata": {
        "id": "ET4a7ez8Ybgl"
      },
      "id": "ET4a7ez8Ybgl",
      "execution_count": null,
      "outputs": []
    },
    {
      "cell_type": "code",
      "source": [
        "len(video_num(\"/content/drive/MyDrive/Dataset/Aggregate/Myself/\"))"
      ],
      "metadata": {
        "colab": {
          "base_uri": "https://localhost:8080/"
        },
        "id": "QU5U77ZwYkD5",
        "outputId": "fe2d4d9b-0424-4dd7-fd8c-1825c9aad3ce"
      },
      "id": "QU5U77ZwYkD5",
      "execution_count": null,
      "outputs": [
        {
          "output_type": "stream",
          "name": "stdout",
          "text": [
            "Found 443 video files.\n"
          ]
        },
        {
          "output_type": "execute_result",
          "data": {
            "text/plain": [
              "443"
            ]
          },
          "metadata": {},
          "execution_count": 12
        }
      ]
    },
    {
      "cell_type": "code",
      "execution_count": null,
      "id": "Etyn_NUCFrMG",
      "metadata": {
        "id": "Etyn_NUCFrMG"
      },
      "outputs": [],
      "source": [
        "#cap = cv2.VideoCapture(\"/content/drive/MyDrive/Dataset/SSD_Train/Shoplifting/processed_Shoplifting (8).mp4\")\n",
        "#length = int(cap.get(cv2.CAP_PROP_FRAME_COUNT))\n",
        "#print( length )"
      ]
    },
    {
      "cell_type": "code",
      "execution_count": null,
      "id": "c23f3c08",
      "metadata": {
        "id": "c23f3c08"
      },
      "outputs": [],
      "source": [
        "def frames_from_video_file(video_path, n_frames, output_size=(120, 120), frame_step=1):\n",
        "\n",
        "    result = []\n",
        "    src = cv2.VideoCapture(str(video_path))\n",
        "\n",
        "    video_length = src.get(cv2.CAP_PROP_FRAME_COUNT)\n",
        "\n",
        "    need_length = 1 + (n_frames - 1) * frame_step\n",
        "\n",
        "    if need_length > video_length:\n",
        "      start = 0\n",
        "    else:\n",
        "      max_start = video_length - need_length\n",
        "      start = random.randint(0, max_start + 1)\n",
        "\n",
        "    src.set(cv2.CAP_PROP_POS_FRAMES, start)\n",
        "    # ret is a boolean indicating whether read was successful, frame is the image itself\n",
        "    ret, frame = src.read()\n",
        "    result.append(format_frames(frame, output_size))\n",
        "\n",
        "    for _ in range(n_frames - 1):\n",
        "      for _ in range(frame_step):\n",
        "        ret, frame = src.read()\n",
        "      if ret:\n",
        "        frame = format_frames(frame, output_size)\n",
        "        result.append(frame)\n",
        "      else:\n",
        "        result.append(np.zeros_like(result[0]))\n",
        "    src.release()\n",
        "    result = np.array(result)[..., [2, 1, 0]]\n",
        "\n",
        "    return result"
      ]
    },
    {
      "cell_type": "code",
      "execution_count": null,
      "id": "cc4afb94",
      "metadata": {
        "id": "cc4afb94"
      },
      "outputs": [],
      "source": [
        "def format_frames(frame, output_size):\n",
        "\n",
        "    frame_resized = tf.image.resize_with_pad(frame, *output_size)\n",
        "    frame_resized = frame_resized.numpy()\n",
        "\n",
        "    return frame_resized"
      ]
    },
    {
      "cell_type": "code",
      "execution_count": null,
      "id": "250e34c8",
      "metadata": {
        "id": "250e34c8"
      },
      "outputs": [],
      "source": [
        "class FrameGenerator:\n",
        "    def __init__(self, path, n_frames, training = False):\n",
        "        \"\"\" Returns a set of frames with their associated label.\n",
        "\n",
        "          Args:\n",
        "            path: Video file paths.\n",
        "            n_frames: Number of frames.\n",
        "            training: Boolean to determine if training dataset is being created.\n",
        "        \"\"\"\n",
        "        self.path = path\n",
        "        self.n_frames = n_frames\n",
        "        self.training = training\n",
        "        self.class_names = sorted(set(p.name for p in self.path.iterdir() if p.is_dir()))\n",
        "        self.class_ids_for_name = dict((name, idx) for idx, name in enumerate(self.class_names))\n",
        "\n",
        "        print(self.class_names)\n",
        "        print(self.class_ids_for_name)\n",
        "\n",
        "    def get_files_and_class_names(self):\n",
        "        video_paths = list(self.path.glob('*/*.mp4'))\n",
        "        classes = [p.parent.name for p in video_paths]\n",
        "        return video_paths, classes\n",
        "\n",
        "    def __call__(self):\n",
        "        video_paths, classes = self.get_files_and_class_names()\n",
        "\n",
        "        pairs = list(zip(video_paths, classes))\n",
        "\n",
        "        if self.training:\n",
        "            random.shuffle(pairs)\n",
        "\n",
        "        for path, name in pairs:\n",
        "            print(\"Processing video:\", path, \"Class name:\", name, \"Label:\", self.class_ids_for_name[name])\n",
        "            video_frames = frames_from_video_file(path, self.n_frames)\n",
        "            label = self.class_ids_for_name[name]\n",
        "            yield video_frames, label\n",
        "            gc.collect()"
      ]
    },
    {
      "cell_type": "markdown",
      "id": "xKwxA5VKJIrt",
      "metadata": {
        "id": "xKwxA5VKJIrt"
      },
      "source": [
        "**Organizing all the files, combing Augmented and Processed Videos**"
      ]
    },
    {
      "cell_type": "code",
      "execution_count": null,
      "id": "5616c4c2",
      "metadata": {
        "colab": {
          "base_uri": "https://localhost:8080/"
        },
        "id": "5616c4c2",
        "outputId": "b8f3c5b9-6fcb-4c3b-cbf4-739dd7d797f3"
      },
      "outputs": [
        {
          "name": "stdout",
          "output_type": "stream",
          "text": [
            "['Normal', 'Shoplifting']\n",
            "{'Normal': 0, 'Shoplifting': 1}\n",
            "Processing video: /content/drive/MyDrive/Dataset/Share/Original_Aggregate_Train/Shoplifting/Copy of shorten_IMG_0161.mp4 Class name: Shoplifting Label: 1\n",
            "Shape: (140, 120, 120, 3)\n",
            "Label: 1\n"
          ]
        }
      ],
      "source": [
        "#labelling data with Normal and Shoplifting\n",
        "fg = FrameGenerator(Path(\"/content/drive/MyDrive/Dataset/Share/Original_Aggregate_Train/\"), 140, training=True)\n",
        "\n",
        "frames, label = next(fg())\n",
        "\n",
        "print(f\"Shape: {frames.shape}\")\n",
        "print(f\"Label: {label}\")"
      ]
    },
    {
      "cell_type": "code",
      "execution_count": null,
      "id": "b15b3127",
      "metadata": {
        "id": "b15b3127"
      },
      "outputs": [],
      "source": [
        "# Create the training set\n",
        "output_signature = (tf.TensorSpec(shape = (None, None, None, 3), dtype = tf.float32),\n",
        "                    tf.TensorSpec(shape = (), dtype = tf.int16))\n",
        "train_ds = tf.data.Dataset.from_generator(fg,\n",
        "                                          output_signature = output_signature)\n",
        "\n",
        "# Check if working\n",
        "#for frames, labels in train_ds.take(3):\n",
        "#    print(labels)"
      ]
    },
    {
      "cell_type": "code",
      "execution_count": null,
      "id": "5iRS9sXTUHIT",
      "metadata": {
        "colab": {
          "base_uri": "https://localhost:8080/"
        },
        "id": "5iRS9sXTUHIT",
        "outputId": "136e02cf-ff6e-4b95-874d-34d7670276b9"
      },
      "outputs": [
        {
          "name": "stdout",
          "output_type": "stream",
          "text": [
            "['Normal', 'Shoplifting']\n",
            "{'Normal': 0, 'Shoplifting': 1}\n"
          ]
        }
      ],
      "source": [
        "val_ds = tf.data.Dataset.from_generator(FrameGenerator(Path(\"/content/drive/MyDrive/Dataset/Share/Original_Aggregate_Val/\"), 140),\n",
        "                                        output_signature = output_signature)"
      ]
    },
    {
      "cell_type": "code",
      "execution_count": null,
      "id": "tFJRoOm3Iw9R",
      "metadata": {
        "id": "tFJRoOm3Iw9R"
      },
      "outputs": [],
      "source": [
        "#test_ds = tf.data.Dataset.from_generator(lambda: generator_wrapper(Path(\"/content/drive/MyDrive/Dataset/Test/\"), 140),\n",
        "#                                        output_signature = output_signature)"
      ]
    },
    {
      "cell_type": "code",
      "execution_count": null,
      "id": "37f6f844",
      "metadata": {
        "colab": {
          "base_uri": "https://localhost:8080/"
        },
        "id": "37f6f844",
        "outputId": "062427a3-a9e4-4be0-d2f0-71577ea7aad0"
      },
      "outputs": [
        {
          "name": "stdout",
          "output_type": "stream",
          "text": [
            "Processing video: /content/drive/MyDrive/Dataset/Share/Original_Aggregate_Train/Normal/gaussian_processed_Normal (45).mp4 Class name: Normal Label: 0\n",
            "Processing video: /content/drive/MyDrive/Dataset/Share/Original_Aggregate_Train/Normal/gaussian_processed_Normal (26).mp4 Class name: Normal Label: 0\n",
            "Shape of training set of frames: (140, 120, 120, 3)\n",
            "Shape of training labels: ()\n",
            "Processing video: /content/drive/MyDrive/Dataset/Share/Original_Aggregate_Val/Shoplifting/Copy of iseg_resized_Shoplifting (79).mp4 Class name: Shoplifting Label: 1\n",
            "Processing video: /content/drive/MyDrive/Dataset/Share/Original_Aggregate_Val/Shoplifting/processed_Shoplifting (70).mp4 Class name: Shoplifting Label: 1\n",
            "Shape of validation set of frames: (140, 120, 120, 3)\n",
            "Shape of validation labels: ()\n"
          ]
        }
      ],
      "source": [
        "train_frames, train_labels = next(iter(train_ds))\n",
        "print(f'Shape of training set of frames: {train_frames.shape}')\n",
        "print(f'Shape of training labels: {train_labels.shape}')\n",
        "\n",
        "val_frames, val_labels = next(iter(val_ds))\n",
        "print(f'Shape of validation set of frames: {val_frames.shape}')\n",
        "print(f'Shape of validation labels: {val_labels.shape}')\n",
        "\n",
        "#test_frames, test_labels = next(iter(test_ds))\n",
        "#print(f'Shape of validation set of frames: {test_frames.shape}')\n",
        "#print(f'Shape of validation labels: {test_labels.shape}')"
      ]
    },
    {
      "cell_type": "code",
      "execution_count": null,
      "id": "ik06BA7QkrQa",
      "metadata": {
        "id": "ik06BA7QkrQa"
      },
      "outputs": [],
      "source": [
        "copy_val_ds = val_ds"
      ]
    },
    {
      "cell_type": "code",
      "execution_count": null,
      "id": "8cb0a548",
      "metadata": {
        "id": "8cb0a548"
      },
      "outputs": [],
      "source": [
        "# Configure for performance\n",
        "AUTOTUNE = tf.data.AUTOTUNE\n",
        "\n",
        "train_ds = train_ds.cache().shuffle(2000).prefetch(buffer_size = AUTOTUNE)\n",
        "val_ds = val_ds.cache().shuffle(2000).prefetch(buffer_size = AUTOTUNE)"
      ]
    },
    {
      "cell_type": "code",
      "execution_count": null,
      "id": "e2551161",
      "metadata": {
        "colab": {
          "base_uri": "https://localhost:8080/"
        },
        "id": "e2551161",
        "outputId": "f0413406-6289-4456-a096-5e2d21650a0c",
        "scrolled": true
      },
      "outputs": [
        {
          "name": "stdout",
          "output_type": "stream",
          "text": [
            "Processing video: /content/drive/MyDrive/Dataset/Share/Original_Aggregate_Train/Shoplifting/pose_Shoplifting (46).mp4 Class name: Shoplifting Label: 1\n",
            "Processing video: /content/drive/MyDrive/Dataset/Share/Original_Aggregate_Train/Shoplifting/processed_Shoplifting (54).mp4 Class name: Shoplifting Label: 1\n",
            "Processing video: /content/drive/MyDrive/Dataset/Share/Original_Aggregate_Train/Normal/gaussian_processed_Normal (11).mp4 Class name: Normal Label: 0\n",
            "Processing video: /content/drive/MyDrive/Dataset/Share/Original_Aggregate_Train/Normal/pose_Normal (62).mp4 Class name: Normal Label: 0\n",
            "Processing video: /content/drive/MyDrive/Dataset/Share/Original_Aggregate_Train/Normal/processed_Normal (35).mp4 Class name: Normal Label: 0\n",
            "Processing video: /content/drive/MyDrive/Dataset/Share/Original_Aggregate_Train/Normal/processed_Normal (27).mp4 Class name: Normal Label: 0\n",
            "Processing video: /content/drive/MyDrive/Dataset/Share/Original_Aggregate_Train/Normal/flipped_pose_Normal (48).mp4 Class name: Normal Label: 0\n",
            "Processing video: /content/drive/MyDrive/Dataset/Share/Original_Aggregate_Train/Shoplifting/flipped_pose_Shoplifting (29).mp4 Class name: Shoplifting Label: 1\n",
            "Processing video: /content/drive/MyDrive/Dataset/Share/Original_Aggregate_Train/Shoplifting/gaussian_processed_Shoplifting (38).mp4 Class name: Shoplifting Label: 1\n",
            "Processing video: /content/drive/MyDrive/Dataset/Share/Original_Aggregate_Train/Shoplifting/flipped_processed_Shoplifting (45).mp4 Class name: Shoplifting Label: 1\n",
            "Processing video: /content/drive/MyDrive/Dataset/Share/Original_Aggregate_Train/Normal/processed_Normal (2).mp4 Class name: Normal Label: 0\n",
            "Processing video: /content/drive/MyDrive/Dataset/Share/Original_Aggregate_Train/Shoplifting/Copy of salt&pepper_steal2.mp4 Class name: Shoplifting Label: 1\n",
            "Processing video: /content/drive/MyDrive/Dataset/Share/Original_Aggregate_Train/Shoplifting/flipped_processed_Shoplifting (33).mp4 Class name: Shoplifting Label: 1\n",
            "Processing video: /content/drive/MyDrive/Dataset/Share/Original_Aggregate_Train/Normal/processed_Normal (1).mp4 Class name: Normal Label: 0\n",
            "Processing video: /content/drive/MyDrive/Dataset/Share/Original_Aggregate_Train/Normal/processed_Normal (54).mp4 Class name: Normal Label: 0\n",
            "Processing video: /content/drive/MyDrive/Dataset/Share/Original_Aggregate_Train/Shoplifting/processed_Shoplifting (17).mp4 Class name: Shoplifting Label: 1\n",
            "Processing video: /content/drive/MyDrive/Dataset/Share/Original_Aggregate_Train/Normal/flipped_pose_Normal (43).mp4 Class name: Normal Label: 0\n",
            "Processing video: /content/drive/MyDrive/Dataset/Share/Original_Aggregate_Train/Normal/flipped_processed_Normal (67).mp4 Class name: Normal Label: 0\n",
            "Processing video: /content/drive/MyDrive/Dataset/Share/Original_Aggregate_Train/Normal/processed_Normal (20).mp4 Class name: Normal Label: 0\n",
            "Processing video: /content/drive/MyDrive/Dataset/Share/Original_Aggregate_Train/Shoplifting/flipped_processed_Shoplifting (31).mp4 Class name: Shoplifting Label: 1\n",
            "Processing video: /content/drive/MyDrive/Dataset/Share/Original_Aggregate_Train/Shoplifting/pose_Shoplifting (39).mp4 Class name: Shoplifting Label: 1\n",
            "Processing video: /content/drive/MyDrive/Dataset/Share/Original_Aggregate_Train/Normal/processed_Normal (28).mp4 Class name: Normal Label: 0\n",
            "Processing video: /content/drive/MyDrive/Dataset/Share/Original_Aggregate_Train/Shoplifting/processed_Shoplifting (3).mp4 Class name: Shoplifting Label: 1\n",
            "Processing video: /content/drive/MyDrive/Dataset/Share/Original_Aggregate_Train/Shoplifting/processed_Shoplifting (38).mp4 Class name: Shoplifting Label: 1\n",
            "Processing video: /content/drive/MyDrive/Dataset/Share/Original_Aggregate_Train/Shoplifting/gaussian_processed_Shoplifting (8).mp4 Class name: Shoplifting Label: 1\n",
            "Processing video: /content/drive/MyDrive/Dataset/Share/Original_Aggregate_Train/Shoplifting/gaussian_processed_Shoplifting (42).mp4 Class name: Shoplifting Label: 1\n",
            "Processing video: /content/drive/MyDrive/Dataset/Share/Original_Aggregate_Train/Normal/gaussian_processed_Normal (22).mp4 Class name: Normal Label: 0\n",
            "Processing video: /content/drive/MyDrive/Dataset/Share/Original_Aggregate_Train/Shoplifting/processed_Shoplifting (59).mp4 Class name: Shoplifting Label: 1\n",
            "Processing video: /content/drive/MyDrive/Dataset/Share/Original_Aggregate_Train/Shoplifting/flipped_pose_Shoplifting (56).mp4 Class name: Shoplifting Label: 1\n",
            "Processing video: /content/drive/MyDrive/Dataset/Share/Original_Aggregate_Train/Shoplifting/processed_Shoplifting (62).mp4 Class name: Shoplifting Label: 1\n",
            "Processing video: /content/drive/MyDrive/Dataset/Share/Original_Aggregate_Train/Normal/flipped_processed_Normal (37).mp4 Class name: Normal Label: 0\n",
            "Processing video: /content/drive/MyDrive/Dataset/Share/Original_Aggregate_Train/Normal/flipped_pose_Normal (35).mp4 Class name: Normal Label: 0\n",
            "Processing video: /content/drive/MyDrive/Dataset/Share/Original_Aggregate_Train/Normal/processed_Normal (29).mp4 Class name: Normal Label: 0\n",
            "Processing video: /content/drive/MyDrive/Dataset/Share/Original_Aggregate_Train/Normal/pose_Normal (65).mp4 Class name: Normal Label: 0\n",
            "Processing video: /content/drive/MyDrive/Dataset/Share/Original_Aggregate_Train/Shoplifting/Copy of steal5.mp4 Class name: Shoplifting Label: 1\n",
            "Processing video: /content/drive/MyDrive/Dataset/Share/Original_Aggregate_Train/Shoplifting/gaussian_processed_Shoplifting (9).mp4 Class name: Shoplifting Label: 1\n",
            "Processing video: /content/drive/MyDrive/Dataset/Share/Original_Aggregate_Train/Normal/flipped_pose_Normal (31).mp4 Class name: Normal Label: 0\n",
            "Processing video: /content/drive/MyDrive/Dataset/Share/Original_Aggregate_Train/Normal/pose_Normal (4).mp4 Class name: Normal Label: 0\n",
            "Processing video: /content/drive/MyDrive/Dataset/Share/Original_Aggregate_Train/Shoplifting/flipped_pose_Shoplifting (55).mp4 Class name: Shoplifting Label: 1\n",
            "Processing video: /content/drive/MyDrive/Dataset/Share/Original_Aggregate_Train/Normal/flipped_pose_Normal (63).mp4 Class name: Normal Label: 0\n",
            "Processing video: /content/drive/MyDrive/Dataset/Share/Original_Aggregate_Train/Shoplifting/flipped_processed_Shoplifting (38).mp4 Class name: Shoplifting Label: 1\n",
            "Processing video: /content/drive/MyDrive/Dataset/Share/Original_Aggregate_Train/Normal/1202850_087_trimmed.mp4 Class name: Normal Label: 0\n",
            "Processing video: /content/drive/MyDrive/Dataset/Share/Original_Aggregate_Train/Normal/gaussian_processed_Normal (31).mp4 Class name: Normal Label: 0\n",
            "Processing video: /content/drive/MyDrive/Dataset/Share/Original_Aggregate_Train/Normal/output_229_trimmed.mp4 Class name: Normal Label: 0\n",
            "Processing video: /content/drive/MyDrive/Dataset/Share/Original_Aggregate_Train/Shoplifting/processed_Shoplifting (30).mp4 Class name: Shoplifting Label: 1\n",
            "Processing video: /content/drive/MyDrive/Dataset/Share/Original_Aggregate_Train/Normal/processed_Normal (51).mp4 Class name: Normal Label: 0\n",
            "Processing video: /content/drive/MyDrive/Dataset/Share/Original_Aggregate_Train/Normal/1202850_006_trimmed.mp4 Class name: Normal Label: 0\n",
            "Processing video: /content/drive/MyDrive/Dataset/Share/Original_Aggregate_Train/Normal/gaussian_processed_Normal (30).mp4 Class name: Normal Label: 0\n",
            "Processing video: /content/drive/MyDrive/Dataset/Share/Original_Aggregate_Train/Shoplifting/flipped_pose_Shoplifting (64).mp4 Class name: Shoplifting Label: 1\n",
            "Processing video: /content/drive/MyDrive/Dataset/Share/Original_Aggregate_Train/Shoplifting/Copy of steal7.mp4 Class name: Shoplifting Label: 1\n",
            "Processing video: /content/drive/MyDrive/Dataset/Share/Original_Aggregate_Train/Normal/pose_Normal (57).mp4 Class name: Normal Label: 0\n",
            "Processing video: /content/drive/MyDrive/Dataset/Share/Original_Aggregate_Train/Shoplifting/processed_Shoplifting (7).mp4 Class name: Shoplifting Label: 1\n",
            "Processing video: /content/drive/MyDrive/Dataset/Share/Original_Aggregate_Train/Normal/flipped_processed_Normal (53).mp4 Class name: Normal Label: 0\n",
            "Processing video: /content/drive/MyDrive/Dataset/Share/Original_Aggregate_Train/Normal/pose_Normal (41).mp4 Class name: Normal Label: 0\n",
            "Processing video: /content/drive/MyDrive/Dataset/Share/Original_Aggregate_Train/Shoplifting/pose_Shoplifting (65).mp4 Class name: Shoplifting Label: 1\n",
            "Processing video: /content/drive/MyDrive/Dataset/Share/Original_Aggregate_Train/Shoplifting/Copy of shorten_resized_13.mp4 Class name: Shoplifting Label: 1\n",
            "Processing video: /content/drive/MyDrive/Dataset/Share/Original_Aggregate_Train/Normal/processed_Normal (56).mp4 Class name: Normal Label: 0\n",
            "Processing video: /content/drive/MyDrive/Dataset/Share/Original_Aggregate_Train/Normal/gaussian_processed_Normal (20).mp4 Class name: Normal Label: 0\n",
            "Processing video: /content/drive/MyDrive/Dataset/Share/Original_Aggregate_Train/Shoplifting/Copy of shorten_steal34.mp4 Class name: Shoplifting Label: 1\n",
            "Processing video: /content/drive/MyDrive/Dataset/Share/Original_Aggregate_Train/Shoplifting/Copy of salt&pepper_steal2 (1).mp4 Class name: Shoplifting Label: 1\n",
            "Processing video: /content/drive/MyDrive/Dataset/Share/Original_Aggregate_Train/Normal/flipped_processed_Normal (12).mp4 Class name: Normal Label: 0\n",
            "Processing video: /content/drive/MyDrive/Dataset/Share/Original_Aggregate_Train/Normal/pose_Normal (69).mp4 Class name: Normal Label: 0\n",
            "Processing video: /content/drive/MyDrive/Dataset/Share/Original_Aggregate_Train/Shoplifting/flipped_processed_Shoplifting (19).mp4 Class name: Shoplifting Label: 1\n",
            "Processing video: /content/drive/MyDrive/Dataset/Share/Original_Aggregate_Train/Normal/gaussian_processed_Normal (29).mp4 Class name: Normal Label: 0\n",
            "Processing video: /content/drive/MyDrive/Dataset/Share/Original_Aggregate_Train/Shoplifting/processed_Shoplifting (23).mp4 Class name: Shoplifting Label: 1\n",
            "Processing video: /content/drive/MyDrive/Dataset/Share/Original_Aggregate_Train/Normal/6848071910_290_trimmed.mp4 Class name: Normal Label: 0\n",
            "Processing video: /content/drive/MyDrive/Dataset/Share/Original_Aggregate_Train/Shoplifting/flipped_pose_Shoplifting (31).mp4 Class name: Shoplifting Label: 1\n",
            "Processing video: /content/drive/MyDrive/Dataset/Share/Original_Aggregate_Train/Shoplifting/pose_Shoplifting (42).mp4 Class name: Shoplifting Label: 1\n",
            "Processing video: /content/drive/MyDrive/Dataset/Share/Original_Aggregate_Train/Shoplifting/flipped_processed_Shoplifting (57).mp4 Class name: Shoplifting Label: 1\n",
            "Processing video: /content/drive/MyDrive/Dataset/Share/Original_Aggregate_Train/Shoplifting/flipped_processed_Shoplifting (43).mp4 Class name: Shoplifting Label: 1\n",
            "Processing video: /content/drive/MyDrive/Dataset/Share/Original_Aggregate_Train/Shoplifting/pose_Shoplifting (37).mp4 Class name: Shoplifting Label: 1\n",
            "Processing video: /content/drive/MyDrive/Dataset/Share/Original_Aggregate_Train/Shoplifting/Copy of shorten_IMG_0160.mp4 Class name: Shoplifting Label: 1\n",
            "Processing video: /content/drive/MyDrive/Dataset/Share/Original_Aggregate_Train/Normal/flipped_pose_Normal (29).mp4 Class name: Normal Label: 0\n",
            "Processing video: /content/drive/MyDrive/Dataset/Share/Original_Aggregate_Train/Normal/processed_Normal (42).mp4 Class name: Normal Label: 0\n",
            "Processing video: /content/drive/MyDrive/Dataset/Share/Original_Aggregate_Train/Normal/pose_Normal (58).mp4 Class name: Normal Label: 0\n",
            "Processing video: /content/drive/MyDrive/Dataset/Share/Original_Aggregate_Train/Normal/gaussian_processed_Normal (42).mp4 Class name: Normal Label: 0\n",
            "Processing video: /content/drive/MyDrive/Dataset/Share/Original_Aggregate_Train/Normal/flipped_pose_Normal (42).mp4 Class name: Normal Label: 0\n",
            "Processing video: /content/drive/MyDrive/Dataset/Share/Original_Aggregate_Train/Normal/output_203_trimmed.mp4 Class name: Normal Label: 0\n",
            "Processing video: /content/drive/MyDrive/Dataset/Share/Original_Aggregate_Train/Normal/pose_Normal (54).mp4 Class name: Normal Label: 0\n",
            "Processing video: /content/drive/MyDrive/Dataset/Share/Original_Aggregate_Train/Normal/flipped_processed_Normal (64).mp4 Class name: Normal Label: 0\n",
            "Processing video: /content/drive/MyDrive/Dataset/Share/Original_Aggregate_Train/Shoplifting/processed_Shoplifting (11).mp4 Class name: Shoplifting Label: 1\n",
            "Processing video: /content/drive/MyDrive/Dataset/Share/Original_Aggregate_Train/Normal/6848071910_403_trimmed.mp4 Class name: Normal Label: 0\n",
            "Processing video: /content/drive/MyDrive/Dataset/Share/Original_Aggregate_Train/Shoplifting/processed_Shoplifting (46).mp4 Class name: Shoplifting Label: 1\n",
            "Processing video: /content/drive/MyDrive/Dataset/Share/Original_Aggregate_Train/Normal/flipped_processed_Normal (61).mp4 Class name: Normal Label: 0\n",
            "Processing video: /content/drive/MyDrive/Dataset/Share/Original_Aggregate_Train/Shoplifting/flipped_pose_Shoplifting (17).mp4 Class name: Shoplifting Label: 1\n",
            "Processing video: /content/drive/MyDrive/Dataset/Share/Original_Aggregate_Train/Normal/flipped_processed_Normal (43).mp4 Class name: Normal Label: 0\n",
            "Processing video: /content/drive/MyDrive/Dataset/Share/Original_Aggregate_Train/Normal/pose_Normal (36).mp4 Class name: Normal Label: 0\n",
            "Processing video: /content/drive/MyDrive/Dataset/Share/Original_Aggregate_Train/Normal/processed_Normal (31).mp4 Class name: Normal Label: 0\n",
            "Processing video: /content/drive/MyDrive/Dataset/Share/Original_Aggregate_Train/Normal/flipped_pose_Normal (59).mp4 Class name: Normal Label: 0\n",
            "Processing video: /content/drive/MyDrive/Dataset/Share/Original_Aggregate_Train/Normal/flipped_processed_Normal (49).mp4 Class name: Normal Label: 0\n",
            "Processing video: /content/drive/MyDrive/Dataset/Share/Original_Aggregate_Train/Normal/flipped_pose_Normal (54).mp4 Class name: Normal Label: 0\n",
            "Processing video: /content/drive/MyDrive/Dataset/Share/Original_Aggregate_Train/Shoplifting/processed_Shoplifting (57).mp4 Class name: Shoplifting Label: 1\n",
            "Processing video: /content/drive/MyDrive/Dataset/Share/Original_Aggregate_Train/Normal/output_125_trimmed.mp4 Class name: Normal Label: 0\n",
            "Processing video: /content/drive/MyDrive/Dataset/Share/Original_Aggregate_Train/Shoplifting/flipped_pose_Shoplifting (63).mp4 Class name: Shoplifting Label: 1\n",
            "Processing video: /content/drive/MyDrive/Dataset/Share/Original_Aggregate_Train/Shoplifting/flipped_processed_Shoplifting (17).mp4 Class name: Shoplifting Label: 1\n",
            "Processing video: /content/drive/MyDrive/Dataset/Share/Original_Aggregate_Train/Shoplifting/processed_Shoplifting (10).mp4 Class name: Shoplifting Label: 1\n",
            "Processing video: /content/drive/MyDrive/Dataset/Share/Original_Aggregate_Train/Shoplifting/processed_Shoplifting (34).mp4 Class name: Shoplifting Label: 1\n",
            "Processing video: /content/drive/MyDrive/Dataset/Share/Original_Aggregate_Train/Normal/flipped_pose_Normal (27).mp4 Class name: Normal Label: 0\n",
            "Processing video: /content/drive/MyDrive/Dataset/Share/Original_Aggregate_Train/Shoplifting/flipped_processed_Shoplifting (62).mp4 Class name: Shoplifting Label: 1\n",
            "Processing video: /content/drive/MyDrive/Dataset/Share/Original_Aggregate_Train/Shoplifting/pose_Shoplifting (50).mp4 Class name: Shoplifting Label: 1\n",
            "Processing video: /content/drive/MyDrive/Dataset/Share/Original_Aggregate_Train/Normal/1202850_372_trimmed.mp4 Class name: Normal Label: 0\n",
            "Processing video: /content/drive/MyDrive/Dataset/Share/Original_Aggregate_Train/Normal/processed_Normal (32).mp4 Class name: Normal Label: 0\n",
            "Processing video: /content/drive/MyDrive/Dataset/Share/Original_Aggregate_Train/Shoplifting/pose_Shoplifting (59).mp4 Class name: Shoplifting Label: 1\n",
            "Processing video: /content/drive/MyDrive/Dataset/Share/Original_Aggregate_Train/Shoplifting/processed_Shoplifting (32).mp4 Class name: Shoplifting Label: 1\n",
            "Processing video: /content/drive/MyDrive/Dataset/Share/Original_Aggregate_Train/Normal/pose_Normal (44).mp4 Class name: Normal Label: 0\n",
            "Processing video: /content/drive/MyDrive/Dataset/Share/Original_Aggregate_Train/Shoplifting/flipped_processed_Shoplifting (60).mp4 Class name: Shoplifting Label: 1\n",
            "Processing video: /content/drive/MyDrive/Dataset/Share/Original_Aggregate_Train/Shoplifting/flipped_processed_Shoplifting (21).mp4 Class name: Shoplifting Label: 1\n",
            "Processing video: /content/drive/MyDrive/Dataset/Share/Original_Aggregate_Train/Normal/1202850_086_trimmed.mp4 Class name: Normal Label: 0\n",
            "Processing video: /content/drive/MyDrive/Dataset/Share/Original_Aggregate_Train/Shoplifting/pose_Shoplifting (28).mp4 Class name: Shoplifting Label: 1\n",
            "Processing video: /content/drive/MyDrive/Dataset/Share/Original_Aggregate_Train/Normal/pose_Normal (64).mp4 Class name: Normal Label: 0\n",
            "Processing video: /content/drive/MyDrive/Dataset/Share/Original_Aggregate_Train/Shoplifting/gaussian_processed_Shoplifting (29).mp4 Class name: Shoplifting Label: 1\n",
            "Processing video: /content/drive/MyDrive/Dataset/Share/Original_Aggregate_Train/Shoplifting/flipped_processed_Shoplifting (47).mp4 Class name: Shoplifting Label: 1\n",
            "Processing video: /content/drive/MyDrive/Dataset/Share/Original_Aggregate_Train/Shoplifting/flipped_processed_Shoplifting (61).mp4 Class name: Shoplifting Label: 1\n",
            "Processing video: /content/drive/MyDrive/Dataset/Share/Original_Aggregate_Train/Normal/processed_Normal (40).mp4 Class name: Normal Label: 0\n",
            "Processing video: /content/drive/MyDrive/Dataset/Share/Original_Aggregate_Train/Normal/flipped_processed_Normal (28).mp4 Class name: Normal Label: 0\n",
            "Processing video: /content/drive/MyDrive/Dataset/Share/Original_Aggregate_Train/Shoplifting/Copy of shorten_steal31.mp4 Class name: Shoplifting Label: 1\n",
            "Processing video: /content/drive/MyDrive/Dataset/Share/Original_Aggregate_Train/Shoplifting/processed_Shoplifting (60).mp4 Class name: Shoplifting Label: 1\n",
            "Processing video: /content/drive/MyDrive/Dataset/Share/Original_Aggregate_Train/Shoplifting/flipped_pose_Shoplifting (34).mp4 Class name: Shoplifting Label: 1\n",
            "Processing video: /content/drive/MyDrive/Dataset/Share/Original_Aggregate_Train/Shoplifting/flipped_pose_Shoplifting (47).mp4 Class name: Shoplifting Label: 1\n",
            "Processing video: /content/drive/MyDrive/Dataset/Share/Original_Aggregate_Train/Shoplifting/flipped_pose_Shoplifting (20).mp4 Class name: Shoplifting Label: 1\n",
            "Processing video: /content/drive/MyDrive/Dataset/Share/Original_Aggregate_Train/Normal/processed_Normal (12).mp4 Class name: Normal Label: 0\n",
            "Processing video: /content/drive/MyDrive/Dataset/Share/Original_Aggregate_Train/Normal/flipped_pose_Normal (60).mp4 Class name: Normal Label: 0\n",
            "Processing video: /content/drive/MyDrive/Dataset/Share/Original_Aggregate_Train/Normal/flipped_pose_Normal (33).mp4 Class name: Normal Label: 0\n",
            "Processing video: /content/drive/MyDrive/Dataset/Share/Original_Aggregate_Train/Normal/pose_Normal (35).mp4 Class name: Normal Label: 0\n",
            "Processing video: /content/drive/MyDrive/Dataset/Share/Original_Aggregate_Train/Shoplifting/flipped_pose_Shoplifting (18).mp4 Class name: Shoplifting Label: 1\n",
            "Processing video: /content/drive/MyDrive/Dataset/Share/Original_Aggregate_Train/Normal/flipped_processed_Normal (56).mp4 Class name: Normal Label: 0\n",
            "Processing video: /content/drive/MyDrive/Dataset/Share/Original_Aggregate_Train/Shoplifting/Copy of salt&pepper_shorten_steal30.mp4 Class name: Shoplifting Label: 1\n",
            "Processing video: /content/drive/MyDrive/Dataset/Share/Original_Aggregate_Train/Normal/1202850_167_trimmed.mp4 Class name: Normal Label: 0\n",
            "Processing video: /content/drive/MyDrive/Dataset/Share/Original_Aggregate_Train/Normal/pose_Normal (24).mp4 Class name: Normal Label: 0\n",
            "Processing video: /content/drive/MyDrive/Dataset/Share/Original_Aggregate_Train/Shoplifting/flipped_pose_Shoplifting (23).mp4 Class name: Shoplifting Label: 1\n",
            "Processing video: /content/drive/MyDrive/Dataset/Share/Original_Aggregate_Train/Shoplifting/flipped_processed_Shoplifting (66).mp4 Class name: Shoplifting Label: 1\n",
            "Processing video: /content/drive/MyDrive/Dataset/Share/Original_Aggregate_Train/Shoplifting/gaussian_processed_Shoplifting (24).mp4 Class name: Shoplifting Label: 1\n",
            "Processing video: /content/drive/MyDrive/Dataset/Share/Original_Aggregate_Train/Shoplifting/pose_Shoplifting (66).mp4 Class name: Shoplifting Label: 1\n",
            "Processing video: /content/drive/MyDrive/Dataset/Share/Original_Aggregate_Train/Normal/flipped_pose_Normal (36).mp4 Class name: Normal Label: 0\n",
            "Processing video: /content/drive/MyDrive/Dataset/Share/Original_Aggregate_Train/Shoplifting/Copy of salt&pepper_shorten_steal31.mp4 Class name: Shoplifting Label: 1\n",
            "Processing video: /content/drive/MyDrive/Dataset/Share/Original_Aggregate_Train/Shoplifting/gaussian_processed_Shoplifting (26).mp4 Class name: Shoplifting Label: 1\n",
            "Processing video: /content/drive/MyDrive/Dataset/Share/Original_Aggregate_Train/Normal/processed_Normal (69).mp4 Class name: Normal Label: 0\n",
            "Processing video: /content/drive/MyDrive/Dataset/Share/Original_Aggregate_Train/Normal/flipped_pose_Normal (32).mp4 Class name: Normal Label: 0\n",
            "Processing video: /content/drive/MyDrive/Dataset/Share/Original_Aggregate_Train/Normal/processed_Normal (3).mp4 Class name: Normal Label: 0\n",
            "Processing video: /content/drive/MyDrive/Dataset/Share/Original_Aggregate_Train/Shoplifting/gaussian_processed_Shoplifting (6).mp4 Class name: Shoplifting Label: 1\n",
            "Processing video: /content/drive/MyDrive/Dataset/Share/Original_Aggregate_Train/Normal/pose_Normal (48).mp4 Class name: Normal Label: 0\n",
            "Processing video: /content/drive/MyDrive/Dataset/Share/Original_Aggregate_Train/Shoplifting/Copy of salt&pepper_shorten_steal18.mp4 Class name: Shoplifting Label: 1\n",
            "Processing video: /content/drive/MyDrive/Dataset/Share/Original_Aggregate_Train/Normal/flipped_processed_Normal (27).mp4 Class name: Normal Label: 0\n",
            "Processing video: /content/drive/MyDrive/Dataset/Share/Original_Aggregate_Train/Normal/flipped_pose_Normal (13).mp4 Class name: Normal Label: 0\n",
            "Processing video: /content/drive/MyDrive/Dataset/Share/Original_Aggregate_Train/Normal/processed_Normal (24).mp4 Class name: Normal Label: 0\n",
            "Processing video: /content/drive/MyDrive/Dataset/Share/Original_Aggregate_Train/Normal/processed_Normal (62).mp4 Class name: Normal Label: 0\n",
            "Processing video: /content/drive/MyDrive/Dataset/Share/Original_Aggregate_Train/Shoplifting/flipped_processed_Shoplifting (15).mp4 Class name: Shoplifting Label: 1\n",
            "Processing video: /content/drive/MyDrive/Dataset/Share/Original_Aggregate_Train/Shoplifting/Copy of salt&pepper_shorten_steal19.mp4 Class name: Shoplifting Label: 1\n",
            "Processing video: /content/drive/MyDrive/Dataset/Share/Original_Aggregate_Train/Shoplifting/gaussian_processed_Shoplifting (15).mp4 Class name: Shoplifting Label: 1\n",
            "Processing video: /content/drive/MyDrive/Dataset/Share/Original_Aggregate_Train/Shoplifting/pose_Shoplifting (15).mp4 Class name: Shoplifting Label: 1\n",
            "Processing video: /content/drive/MyDrive/Dataset/Share/Original_Aggregate_Train/Shoplifting/Copy of salt&pepper_steal7.mp4 Class name: Shoplifting Label: 1\n",
            "Processing video: /content/drive/MyDrive/Dataset/Share/Original_Aggregate_Train/Normal/processed_Normal (8).mp4 Class name: Normal Label: 0\n",
            "Processing video: /content/drive/MyDrive/Dataset/Share/Original_Aggregate_Train/Shoplifting/pose_Shoplifting (7).mp4 Class name: Shoplifting Label: 1\n",
            "Processing video: /content/drive/MyDrive/Dataset/Share/Original_Aggregate_Train/Shoplifting/flipped_pose_Shoplifting (40).mp4 Class name: Shoplifting Label: 1\n",
            "Processing video: /content/drive/MyDrive/Dataset/Share/Original_Aggregate_Train/Shoplifting/Copy of shorten_steal18.mp4 Class name: Shoplifting Label: 1\n",
            "Processing video: /content/drive/MyDrive/Dataset/Share/Original_Aggregate_Train/Normal/processed_Normal (4).mp4 Class name: Normal Label: 0\n",
            "Processing video: /content/drive/MyDrive/Dataset/Share/Original_Aggregate_Train/Normal/flipped_pose_Normal (30).mp4 Class name: Normal Label: 0\n",
            "Processing video: /content/drive/MyDrive/Dataset/Share/Original_Aggregate_Train/Shoplifting/Copy of shorten_IMG_0160 (1).mp4 Class name: Shoplifting Label: 1\n",
            "Processing video: /content/drive/MyDrive/Dataset/Share/Original_Aggregate_Train/Shoplifting/gaussian_processed_Shoplifting (34).mp4 Class name: Shoplifting Label: 1\n",
            "Processing video: /content/drive/MyDrive/Dataset/Share/Original_Aggregate_Train/Normal/processed_Normal (13).mp4 Class name: Normal Label: 0\n",
            "Processing video: /content/drive/MyDrive/Dataset/Share/Original_Aggregate_Train/Shoplifting/pose_Shoplifting (61).mp4 Class name: Shoplifting Label: 1\n",
            "Processing video: /content/drive/MyDrive/Dataset/Share/Original_Aggregate_Train/Normal/flipped_processed_Normal (38).mp4 Class name: Normal Label: 0\n",
            "Processing video: /content/drive/MyDrive/Dataset/Share/Original_Aggregate_Train/Shoplifting/flipped_pose_Shoplifting (38).mp4 Class name: Shoplifting Label: 1\n",
            "Processing video: /content/drive/MyDrive/Dataset/Share/Original_Aggregate_Train/Normal/pose_Normal (56).mp4 Class name: Normal Label: 0\n",
            "Processing video: /content/drive/MyDrive/Dataset/Share/Original_Aggregate_Train/Normal/flipped_processed_Normal (22).mp4 Class name: Normal Label: 0\n",
            "Processing video: /content/drive/MyDrive/Dataset/Share/Original_Aggregate_Train/Shoplifting/Copy of steal2.mp4 Class name: Shoplifting Label: 1\n",
            "Processing video: /content/drive/MyDrive/Dataset/Share/Original_Aggregate_Train/Shoplifting/gaussian_processed_Shoplifting (43).mp4 Class name: Shoplifting Label: 1\n",
            "Processing video: /content/drive/MyDrive/Dataset/Share/Original_Aggregate_Train/Normal/1202850_277_trimmed.mp4 Class name: Normal Label: 0\n",
            "Processing video: /content/drive/MyDrive/Dataset/Share/Original_Aggregate_Train/Normal/processed_Normal (10).mp4 Class name: Normal Label: 0\n",
            "Processing video: /content/drive/MyDrive/Dataset/Share/Original_Aggregate_Train/Normal/flipped_processed_Normal (35).mp4 Class name: Normal Label: 0\n",
            "Processing video: /content/drive/MyDrive/Dataset/Share/Original_Aggregate_Train/Normal/gaussian_processed_Normal (8).mp4 Class name: Normal Label: 0\n",
            "Processing video: /content/drive/MyDrive/Dataset/Share/Original_Aggregate_Train/Shoplifting/flipped_processed_Shoplifting (26).mp4 Class name: Shoplifting Label: 1\n",
            "Processing video: /content/drive/MyDrive/Dataset/Share/Original_Aggregate_Train/Normal/pose_Normal (43).mp4 Class name: Normal Label: 0\n",
            "Processing video: /content/drive/MyDrive/Dataset/Share/Original_Aggregate_Train/Normal/flipped_pose_Normal (50).mp4 Class name: Normal Label: 0\n",
            "Processing video: /content/drive/MyDrive/Dataset/Share/Original_Aggregate_Train/Normal/flipped_pose_Normal (58).mp4 Class name: Normal Label: 0\n",
            "Processing video: /content/drive/MyDrive/Dataset/Share/Original_Aggregate_Train/Normal/gaussian_processed_Normal (46).mp4 Class name: Normal Label: 0\n",
            "Processing video: /content/drive/MyDrive/Dataset/Share/Original_Aggregate_Train/Shoplifting/flipped_processed_Shoplifting (24).mp4 Class name: Shoplifting Label: 1\n",
            "Processing video: /content/drive/MyDrive/Dataset/Share/Original_Aggregate_Train/Normal/gaussian_processed_Normal (2).mp4 Class name: Normal Label: 0\n",
            "Processing video: /content/drive/MyDrive/Dataset/Share/Original_Aggregate_Train/Normal/gaussian_processed_Normal (43).mp4 Class name: Normal Label: 0\n",
            "Processing video: /content/drive/MyDrive/Dataset/Share/Original_Aggregate_Train/Normal/pose_Normal (20).mp4 Class name: Normal Label: 0\n",
            "Processing video: /content/drive/MyDrive/Dataset/Share/Original_Aggregate_Train/Shoplifting/pose_Shoplifting (1).mp4 Class name: Shoplifting Label: 1\n",
            "Processing video: /content/drive/MyDrive/Dataset/Share/Original_Aggregate_Train/Normal/pose_Normal (30).mp4 Class name: Normal Label: 0\n",
            "Processing video: /content/drive/MyDrive/Dataset/Share/Original_Aggregate_Train/Shoplifting/processed_Shoplifting (14).mp4 Class name: Shoplifting Label: 1\n",
            "Processing video: /content/drive/MyDrive/Dataset/Share/Original_Aggregate_Train/Shoplifting/processed_Shoplifting (40).mp4 Class name: Shoplifting Label: 1\n",
            "Processing video: /content/drive/MyDrive/Dataset/Share/Original_Aggregate_Train/Normal/gaussian_processed_Normal (35).mp4 Class name: Normal Label: 0\n",
            "Processing video: /content/drive/MyDrive/Dataset/Share/Original_Aggregate_Train/Normal/gaussian_processed_Normal (32).mp4 Class name: Normal Label: 0\n",
            "Processing video: /content/drive/MyDrive/Dataset/Share/Original_Aggregate_Train/Shoplifting/pose_Shoplifting (10).mp4 Class name: Shoplifting Label: 1\n",
            "Processing video: /content/drive/MyDrive/Dataset/Share/Original_Aggregate_Train/Shoplifting/processed_Shoplifting (1).mp4 Class name: Shoplifting Label: 1\n",
            "Processing video: /content/drive/MyDrive/Dataset/Share/Original_Aggregate_Train/Shoplifting/flipped_processed_Shoplifting (44).mp4 Class name: Shoplifting Label: 1\n",
            "Processing video: /content/drive/MyDrive/Dataset/Share/Original_Aggregate_Train/Normal/flipped_processed_Normal (42).mp4 Class name: Normal Label: 0\n",
            "Processing video: /content/drive/MyDrive/Dataset/Share/Original_Aggregate_Train/Normal/flipped_processed_Normal (17).mp4 Class name: Normal Label: 0\n",
            "Processing video: /content/drive/MyDrive/Dataset/Share/Original_Aggregate_Train/Normal/pose_Normal (60).mp4 Class name: Normal Label: 0\n",
            "Processing video: /content/drive/MyDrive/Dataset/Share/Original_Aggregate_Train/Normal/gaussian_processed_Normal (10).mp4 Class name: Normal Label: 0\n",
            "Processing video: /content/drive/MyDrive/Dataset/Share/Original_Aggregate_Train/Shoplifting/gaussian_processed_Shoplifting (16).mp4 Class name: Shoplifting Label: 1\n",
            "Processing video: /content/drive/MyDrive/Dataset/Share/Original_Aggregate_Train/Shoplifting/flipped_pose_Shoplifting (32).mp4 Class name: Shoplifting Label: 1\n",
            "Processing video: /content/drive/MyDrive/Dataset/Share/Original_Aggregate_Train/Shoplifting/flipped_processed_Shoplifting (54).mp4 Class name: Shoplifting Label: 1\n",
            "Processing video: /content/drive/MyDrive/Dataset/Share/Original_Aggregate_Train/Shoplifting/flipped_processed_Shoplifting (68).mp4 Class name: Shoplifting Label: 1\n",
            "Processing video: /content/drive/MyDrive/Dataset/Share/Original_Aggregate_Train/Shoplifting/pose_Shoplifting (43).mp4 Class name: Shoplifting Label: 1\n",
            "Processing video: /content/drive/MyDrive/Dataset/Share/Original_Aggregate_Train/Shoplifting/processed_Shoplifting (65).mp4 Class name: Shoplifting Label: 1\n",
            "Processing video: /content/drive/MyDrive/Dataset/Share/Original_Aggregate_Train/Shoplifting/processed_Shoplifting (8).mp4 Class name: Shoplifting Label: 1\n",
            "Processing video: /content/drive/MyDrive/Dataset/Share/Original_Aggregate_Train/Normal/pose_Normal (3).mp4 Class name: Normal Label: 0\n",
            "Processing video: /content/drive/MyDrive/Dataset/Share/Original_Aggregate_Train/Shoplifting/flipped_pose_Shoplifting (19).mp4 Class name: Shoplifting Label: 1\n",
            "Processing video: /content/drive/MyDrive/Dataset/Share/Original_Aggregate_Train/Normal/gaussian_processed_Normal (12).mp4 Class name: Normal Label: 0\n",
            "Processing video: /content/drive/MyDrive/Dataset/Share/Original_Aggregate_Train/Shoplifting/pose_Shoplifting (13).mp4 Class name: Shoplifting Label: 1\n",
            "Processing video: /content/drive/MyDrive/Dataset/Share/Original_Aggregate_Train/Normal/processed_Normal (23).mp4 Class name: Normal Label: 0\n",
            "Processing video: /content/drive/MyDrive/Dataset/Share/Original_Aggregate_Train/Normal/pose_Normal (9).mp4 Class name: Normal Label: 0\n",
            "Processing video: /content/drive/MyDrive/Dataset/Share/Original_Aggregate_Train/Shoplifting/pose_Shoplifting (34).mp4 Class name: Shoplifting Label: 1\n",
            "Processing video: /content/drive/MyDrive/Dataset/Share/Original_Aggregate_Train/Shoplifting/flipped_processed_Shoplifting (23).mp4 Class name: Shoplifting Label: 1\n",
            "Processing video: /content/drive/MyDrive/Dataset/Share/Original_Aggregate_Train/Shoplifting/flipped_pose_Shoplifting (59).mp4 Class name: Shoplifting Label: 1\n",
            "Processing video: /content/drive/MyDrive/Dataset/Share/Original_Aggregate_Train/Normal/pose_Normal (38).mp4 Class name: Normal Label: 0\n",
            "Processing video: /content/drive/MyDrive/Dataset/Share/Original_Aggregate_Train/Normal/flipped_processed_Normal (50) (1).mp4 Class name: Normal Label: 0\n",
            "Processing video: /content/drive/MyDrive/Dataset/Share/Original_Aggregate_Train/Normal/gaussian_processed_Normal (49).mp4 Class name: Normal Label: 0\n",
            "Processing video: /content/drive/MyDrive/Dataset/Share/Original_Aggregate_Train/Normal/pose_Normal (11).mp4 Class name: Normal Label: 0\n",
            "Processing video: /content/drive/MyDrive/Dataset/Share/Original_Aggregate_Train/Normal/processed_Normal (36).mp4 Class name: Normal Label: 0\n",
            "Processing video: /content/drive/MyDrive/Dataset/Share/Original_Aggregate_Train/Normal/1202850_065_trimmed.mp4 Class name: Normal Label: 0\n",
            "Processing video: /content/drive/MyDrive/Dataset/Share/Original_Aggregate_Train/Shoplifting/Copy of salt&pepper_steal4.mp4 Class name: Shoplifting Label: 1\n",
            "Processing video: /content/drive/MyDrive/Dataset/Share/Original_Aggregate_Train/Normal/processed_Normal (5).mp4 Class name: Normal Label: 0\n",
            "Processing video: /content/drive/MyDrive/Dataset/Share/Original_Aggregate_Train/Shoplifting/flipped_pose_Shoplifting (36).mp4 Class name: Shoplifting Label: 1\n",
            "Processing video: /content/drive/MyDrive/Dataset/Share/Original_Aggregate_Train/Normal/output_215_trimmed.mp4 Class name: Normal Label: 0\n",
            "Processing video: /content/drive/MyDrive/Dataset/Share/Original_Aggregate_Train/Normal/flipped_pose_Normal (47).mp4 Class name: Normal Label: 0\n",
            "Processing video: /content/drive/MyDrive/Dataset/Share/Original_Aggregate_Train/Shoplifting/pose_Shoplifting (17).mp4 Class name: Shoplifting Label: 1\n",
            "Processing video: /content/drive/MyDrive/Dataset/Share/Original_Aggregate_Train/Shoplifting/flipped_processed_Shoplifting (59).mp4 Class name: Shoplifting Label: 1\n",
            "Processing video: /content/drive/MyDrive/Dataset/Share/Original_Aggregate_Train/Normal/flipped_pose_Normal (53).mp4 Class name: Normal Label: 0\n",
            "Processing video: /content/drive/MyDrive/Dataset/Share/Original_Aggregate_Train/Shoplifting/pose_Shoplifting (24).mp4 Class name: Shoplifting Label: 1\n",
            "Processing video: /content/drive/MyDrive/Dataset/Share/Original_Aggregate_Train/Shoplifting/processed_Shoplifting (20).mp4 Class name: Shoplifting Label: 1\n",
            "Processing video: /content/drive/MyDrive/Dataset/Share/Original_Aggregate_Train/Normal/pose_Normal (23).mp4 Class name: Normal Label: 0\n",
            "Processing video: /content/drive/MyDrive/Dataset/Share/Original_Aggregate_Train/Normal/output_121_trimmed.mp4 Class name: Normal Label: 0\n",
            "Processing video: /content/drive/MyDrive/Dataset/Share/Original_Aggregate_Train/Normal/pose_Normal (12).mp4 Class name: Normal Label: 0\n",
            "Processing video: /content/drive/MyDrive/Dataset/Share/Original_Aggregate_Train/Normal/processed_Normal (9).mp4 Class name: Normal Label: 0\n",
            "Processing video: /content/drive/MyDrive/Dataset/Share/Original_Aggregate_Train/Shoplifting/pose_Shoplifting (57).mp4 Class name: Shoplifting Label: 1\n",
            "Processing video: /content/drive/MyDrive/Dataset/Share/Original_Aggregate_Train/Normal/processed_Normal (57).mp4 Class name: Normal Label: 0\n",
            "Processing video: /content/drive/MyDrive/Dataset/Share/Original_Aggregate_Train/Normal/processed_Normal (22).mp4 Class name: Normal Label: 0\n",
            "Processing video: /content/drive/MyDrive/Dataset/Share/Original_Aggregate_Train/Shoplifting/processed_Shoplifting (2).mp4 Class name: Shoplifting Label: 1\n",
            "Processing video: /content/drive/MyDrive/Dataset/Share/Original_Aggregate_Train/Shoplifting/processed_Shoplifting (56).mp4 Class name: Shoplifting Label: 1\n",
            "Processing video: /content/drive/MyDrive/Dataset/Share/Original_Aggregate_Train/Normal/gaussian_processed_Normal (21).mp4 Class name: Normal Label: 0\n",
            "Processing video: /content/drive/MyDrive/Dataset/Share/Original_Aggregate_Train/Normal/pose_Normal (28).mp4 Class name: Normal Label: 0\n",
            "Processing video: /content/drive/MyDrive/Dataset/Share/Original_Aggregate_Train/Normal/flipped_processed_Normal (59).mp4 Class name: Normal Label: 0\n",
            "Processing video: /content/drive/MyDrive/Dataset/Share/Original_Aggregate_Train/Shoplifting/processed_Shoplifting (25).mp4 Class name: Shoplifting Label: 1\n",
            "Processing video: /content/drive/MyDrive/Dataset/Share/Original_Aggregate_Train/Normal/pose_Normal (19).mp4 Class name: Normal Label: 0\n",
            "Processing video: /content/drive/MyDrive/Dataset/Share/Original_Aggregate_Train/Normal/processed_Normal (67).mp4 Class name: Normal Label: 0\n",
            "Processing video: /content/drive/MyDrive/Dataset/Share/Original_Aggregate_Train/Normal/gaussian_processed_Normal (26).mp4 Class name: Normal Label: 0\n",
            "Processing video: /content/drive/MyDrive/Dataset/Share/Original_Aggregate_Train/Shoplifting/pose_Shoplifting (38).mp4 Class name: Shoplifting Label: 1\n",
            "Processing video: /content/drive/MyDrive/Dataset/Share/Original_Aggregate_Train/Normal/gaussian_processed_Normal (25).mp4 Class name: Normal Label: 0\n",
            "Processing video: /content/drive/MyDrive/Dataset/Share/Original_Aggregate_Train/Shoplifting/flipped_pose_Shoplifting (44).mp4 Class name: Shoplifting Label: 1\n",
            "Processing video: /content/drive/MyDrive/Dataset/Share/Original_Aggregate_Train/Shoplifting/pose_Shoplifting (64).mp4 Class name: Shoplifting Label: 1\n",
            "Processing video: /content/drive/MyDrive/Dataset/Share/Original_Aggregate_Train/Shoplifting/processed_Shoplifting (43).mp4 Class name: Shoplifting Label: 1\n",
            "Processing video: /content/drive/MyDrive/Dataset/Share/Original_Aggregate_Train/Shoplifting/flipped_processed_Shoplifting (12).mp4 Class name: Shoplifting Label: 1\n",
            "Processing video: /content/drive/MyDrive/Dataset/Share/Original_Aggregate_Train/Normal/flipped_pose_Normal (22).mp4 Class name: Normal Label: 0\n",
            "Processing video: /content/drive/MyDrive/Dataset/Share/Original_Aggregate_Train/Normal/processed_Normal (65).mp4 Class name: Normal Label: 0\n",
            "Processing video: /content/drive/MyDrive/Dataset/Share/Original_Aggregate_Train/Normal/flipped_pose_Normal (37).mp4 Class name: Normal Label: 0\n",
            "Processing video: /content/drive/MyDrive/Dataset/Share/Original_Aggregate_Train/Shoplifting/processed_Shoplifting (24).mp4 Class name: Shoplifting Label: 1\n",
            "Processing video: /content/drive/MyDrive/Dataset/Share/Original_Aggregate_Train/Shoplifting/flipped_processed_Shoplifting (50) (1).mp4 Class name: Shoplifting Label: 1\n",
            "Processing video: /content/drive/MyDrive/Dataset/Share/Original_Aggregate_Train/Normal/1202850_299_trimmed.mp4 Class name: Normal Label: 0\n",
            "Processing video: /content/drive/MyDrive/Dataset/Share/Original_Aggregate_Train/Normal/flipped_processed_Normal (24).mp4 Class name: Normal Label: 0\n",
            "Processing video: /content/drive/MyDrive/Dataset/Share/Original_Aggregate_Train/Shoplifting/processed_Shoplifting (53).mp4 Class name: Shoplifting Label: 1\n",
            "Processing video: /content/drive/MyDrive/Dataset/Share/Original_Aggregate_Train/Normal/flipped_processed_Normal (32).mp4 Class name: Normal Label: 0\n",
            "Processing video: /content/drive/MyDrive/Dataset/Share/Original_Aggregate_Train/Shoplifting/gaussian_processed_Shoplifting (14).mp4 Class name: Shoplifting Label: 1\n",
            "Processing video: /content/drive/MyDrive/Dataset/Share/Original_Aggregate_Train/Normal/gaussian_processed_Normal (5).mp4 Class name: Normal Label: 0\n",
            "Processing video: /content/drive/MyDrive/Dataset/Share/Original_Aggregate_Train/Normal/processed_Normal (48).mp4 Class name: Normal Label: 0\n",
            "Processing video: /content/drive/MyDrive/Dataset/Share/Original_Aggregate_Train/Shoplifting/pose_Shoplifting (52).mp4 Class name: Shoplifting Label: 1\n",
            "Processing video: /content/drive/MyDrive/Dataset/Share/Original_Aggregate_Train/Shoplifting/Copy of shorten_steal25.mp4 Class name: Shoplifting Label: 1\n",
            "Processing video: /content/drive/MyDrive/Dataset/Share/Original_Aggregate_Train/Shoplifting/Copy of salt&pepper_shorten_steal32.mp4 Class name: Shoplifting Label: 1\n",
            "Processing video: /content/drive/MyDrive/Dataset/Share/Original_Aggregate_Train/Normal/gaussian_processed_Normal (23).mp4 Class name: Normal Label: 0\n",
            "Processing video: /content/drive/MyDrive/Dataset/Share/Original_Aggregate_Train/Shoplifting/flipped_processed_Shoplifting (40).mp4 Class name: Shoplifting Label: 1\n",
            "Processing video: /content/drive/MyDrive/Dataset/Share/Original_Aggregate_Train/Normal/processed_Normal (66).mp4 Class name: Normal Label: 0\n",
            "Processing video: /content/drive/MyDrive/Dataset/Share/Original_Aggregate_Train/Normal/flipped_pose_Normal (44).mp4 Class name: Normal Label: 0\n",
            "Processing video: /content/drive/MyDrive/Dataset/Share/Original_Aggregate_Train/Shoplifting/pose_Shoplifting (8).mp4 Class name: Shoplifting Label: 1\n",
            "Processing video: /content/drive/MyDrive/Dataset/Share/Original_Aggregate_Train/Shoplifting/gaussian_processed_Shoplifting (1).mp4 Class name: Shoplifting Label: 1\n",
            "Processing video: /content/drive/MyDrive/Dataset/Share/Original_Aggregate_Train/Normal/pose_Normal (8).mp4 Class name: Normal Label: 0\n",
            "Processing video: /content/drive/MyDrive/Dataset/Share/Original_Aggregate_Train/Shoplifting/flipped_pose_Shoplifting (53).mp4 Class name: Shoplifting Label: 1\n",
            "Processing video: /content/drive/MyDrive/Dataset/Share/Original_Aggregate_Train/Shoplifting/gaussian_processed_Shoplifting (5).mp4 Class name: Shoplifting Label: 1\n",
            "Processing video: /content/drive/MyDrive/Dataset/Share/Original_Aggregate_Train/Normal/pose_Normal (6).mp4 Class name: Normal Label: 0\n",
            "Processing video: /content/drive/MyDrive/Dataset/Share/Original_Aggregate_Train/Shoplifting/processed_Shoplifting (67).mp4 Class name: Shoplifting Label: 1\n",
            "Processing video: /content/drive/MyDrive/Dataset/Share/Original_Aggregate_Train/Normal/flipped_pose_Normal (56).mp4 Class name: Normal Label: 0\n",
            "Processing video: /content/drive/MyDrive/Dataset/Share/Original_Aggregate_Train/Shoplifting/processed_Shoplifting (22).mp4 Class name: Shoplifting Label: 1\n",
            "Processing video: /content/drive/MyDrive/Dataset/Share/Original_Aggregate_Train/Normal/pose_Normal (55).mp4 Class name: Normal Label: 0\n",
            "Processing video: /content/drive/MyDrive/Dataset/Share/Original_Aggregate_Train/Normal/flipped_processed_Normal (58).mp4 Class name: Normal Label: 0\n",
            "Processing video: /content/drive/MyDrive/Dataset/Share/Original_Aggregate_Train/Normal/pose_Normal (26).mp4 Class name: Normal Label: 0\n",
            "Processing video: /content/drive/MyDrive/Dataset/Share/Original_Aggregate_Train/Normal/6848071910_477_trimmed.mp4 Class name: Normal Label: 0\n",
            "Processing video: /content/drive/MyDrive/Dataset/Share/Original_Aggregate_Train/Normal/flipped_processed_Normal (25).mp4 Class name: Normal Label: 0\n",
            "Processing video: /content/drive/MyDrive/Dataset/Share/Original_Aggregate_Train/Normal/flipped_processed_Normal (69).mp4 Class name: Normal Label: 0\n",
            "Processing video: /content/drive/MyDrive/Dataset/Share/Original_Aggregate_Train/Normal/pose_Normal (14).mp4 Class name: Normal Label: 0\n",
            "Processing video: /content/drive/MyDrive/Dataset/Share/Original_Aggregate_Train/Shoplifting/pose_Shoplifting (26).mp4 Class name: Shoplifting Label: 1\n",
            "Processing video: /content/drive/MyDrive/Dataset/Share/Original_Aggregate_Train/Normal/1202850_230_trimmed.mp4 Class name: Normal Label: 0\n",
            "Processing video: /content/drive/MyDrive/Dataset/Share/Original_Aggregate_Train/Shoplifting/Copy of shorten_steal19.mp4 Class name: Shoplifting Label: 1\n",
            "Processing video: /content/drive/MyDrive/Dataset/Share/Original_Aggregate_Train/Normal/pose_Normal (13).mp4 Class name: Normal Label: 0\n",
            "Processing video: /content/drive/MyDrive/Dataset/Share/Original_Aggregate_Train/Normal/flipped_pose_Normal (55).mp4 Class name: Normal Label: 0\n",
            "Processing video: /content/drive/MyDrive/Dataset/Share/Original_Aggregate_Train/Normal/pose_Normal (15).mp4 Class name: Normal Label: 0\n",
            "Processing video: /content/drive/MyDrive/Dataset/Share/Original_Aggregate_Train/Shoplifting/processed_Shoplifting (48).mp4 Class name: Shoplifting Label: 1\n",
            "Processing video: /content/drive/MyDrive/Dataset/Share/Original_Aggregate_Train/Shoplifting/pose_Shoplifting (60).mp4 Class name: Shoplifting Label: 1\n",
            "Processing video: /content/drive/MyDrive/Dataset/Share/Original_Aggregate_Train/Normal/processed_Normal (19).mp4 Class name: Normal Label: 0\n",
            "Processing video: /content/drive/MyDrive/Dataset/Share/Original_Aggregate_Train/Shoplifting/flipped_processed_Shoplifting (52).mp4 Class name: Shoplifting Label: 1\n",
            "Processing video: /content/drive/MyDrive/Dataset/Share/Original_Aggregate_Train/Normal/1202850_066_trimmed.mp4 Class name: Normal Label: 0\n",
            "Processing video: /content/drive/MyDrive/Dataset/Share/Original_Aggregate_Train/Shoplifting/pose_Shoplifting (62).mp4 Class name: Shoplifting Label: 1\n",
            "Processing video: /content/drive/MyDrive/Dataset/Share/Original_Aggregate_Train/Normal/gaussian_processed_Normal (39).mp4 Class name: Normal Label: 0\n",
            "Processing video: /content/drive/MyDrive/Dataset/Share/Original_Aggregate_Train/Shoplifting/flipped_processed_Shoplifting (56).mp4 Class name: Shoplifting Label: 1\n",
            "Processing video: /content/drive/MyDrive/Dataset/Share/Original_Aggregate_Train/Shoplifting/pose_Shoplifting (36).mp4 Class name: Shoplifting Label: 1\n",
            "Processing video: /content/drive/MyDrive/Dataset/Share/Original_Aggregate_Train/Shoplifting/gaussian_processed_Shoplifting (2).mp4 Class name: Shoplifting Label: 1\n",
            "Processing video: /content/drive/MyDrive/Dataset/Share/Original_Aggregate_Train/Normal/pose_Normal (49).mp4 Class name: Normal Label: 0\n",
            "Processing video: /content/drive/MyDrive/Dataset/Share/Original_Aggregate_Train/Shoplifting/flipped_processed_Shoplifting (16).mp4 Class name: Shoplifting Label: 1\n",
            "Processing video: /content/drive/MyDrive/Dataset/Share/Original_Aggregate_Train/Normal/pose_Normal (31).mp4 Class name: Normal Label: 0\n",
            "Processing video: /content/drive/MyDrive/Dataset/Share/Original_Aggregate_Train/Normal/flipped_pose_Normal (34).mp4 Class name: Normal Label: 0\n",
            "Processing video: /content/drive/MyDrive/Dataset/Share/Original_Aggregate_Train/Normal/flipped_processed_Normal (63).mp4 Class name: Normal Label: 0\n",
            "Processing video: /content/drive/MyDrive/Dataset/Share/Original_Aggregate_Train/Shoplifting/Copy of shorten_steal21.mp4 Class name: Shoplifting Label: 1\n",
            "Processing video: /content/drive/MyDrive/Dataset/Share/Original_Aggregate_Train/Shoplifting/processed_Shoplifting (51).mp4 Class name: Shoplifting Label: 1\n",
            "Processing video: /content/drive/MyDrive/Dataset/Share/Original_Aggregate_Train/Normal/flipped_pose_Normal (52).mp4 Class name: Normal Label: 0\n",
            "Processing video: /content/drive/MyDrive/Dataset/Share/Original_Aggregate_Train/Normal/flipped_pose_Normal (64).mp4 Class name: Normal Label: 0\n",
            "Processing video: /content/drive/MyDrive/Dataset/Share/Original_Aggregate_Train/Shoplifting/flipped_processed_Shoplifting (39).mp4 Class name: Shoplifting Label: 1\n",
            "Processing video: /content/drive/MyDrive/Dataset/Share/Original_Aggregate_Train/Normal/1202850_210_trimmed.mp4 Class name: Normal Label: 0\n",
            "Processing video: /content/drive/MyDrive/Dataset/Share/Original_Aggregate_Train/Shoplifting/flipped_processed_Shoplifting (48).mp4 Class name: Shoplifting Label: 1\n",
            "Processing video: /content/drive/MyDrive/Dataset/Share/Original_Aggregate_Train/Normal/gaussian_processed_Normal (50).mp4 Class name: Normal Label: 0\n",
            "Processing video: /content/drive/MyDrive/Dataset/Share/Original_Aggregate_Train/Normal/gaussian_processed_Normal (13).mp4 Class name: Normal Label: 0\n",
            "Processing video: /content/drive/MyDrive/Dataset/Share/Original_Aggregate_Train/Shoplifting/processed_Shoplifting (36).mp4 Class name: Shoplifting Label: 1\n",
            "Processing video: /content/drive/MyDrive/Dataset/Share/Original_Aggregate_Train/Shoplifting/processed_Shoplifting (69).mp4 Class name: Shoplifting Label: 1\n",
            "Processing video: /content/drive/MyDrive/Dataset/Share/Original_Aggregate_Train/Shoplifting/pose_Shoplifting (68).mp4 Class name: Shoplifting Label: 1\n",
            "Processing video: /content/drive/MyDrive/Dataset/Share/Original_Aggregate_Train/Normal/flipped_processed_Normal (50).mp4 Class name: Normal Label: 0\n",
            "Processing video: /content/drive/MyDrive/Dataset/Share/Original_Aggregate_Train/Normal/pose_Normal (59).mp4 Class name: Normal Label: 0\n",
            "Processing video: /content/drive/MyDrive/Dataset/Share/Original_Aggregate_Train/Shoplifting/flipped_processed_Shoplifting (51).mp4 Class name: Shoplifting Label: 1\n",
            "Processing video: /content/drive/MyDrive/Dataset/Share/Original_Aggregate_Train/Normal/1590456_155_trimmed.mp4 Class name: Normal Label: 0\n",
            "Processing video: /content/drive/MyDrive/Dataset/Share/Original_Aggregate_Train/Normal/processed_Normal (63).mp4 Class name: Normal Label: 0\n",
            "Processing video: /content/drive/MyDrive/Dataset/Share/Original_Aggregate_Train/Normal/pose_Normal (5).mp4 Class name: Normal Label: 0\n",
            "Processing video: /content/drive/MyDrive/Dataset/Share/Original_Aggregate_Train/Shoplifting/pose_Shoplifting (4).mp4 Class name: Shoplifting Label: 1\n",
            "Processing video: /content/drive/MyDrive/Dataset/Share/Original_Aggregate_Train/Normal/pose_Normal (53).mp4 Class name: Normal Label: 0\n",
            "Processing video: /content/drive/MyDrive/Dataset/Share/Original_Aggregate_Train/Normal/flipped_processed_Normal (60).mp4 Class name: Normal Label: 0\n",
            "Processing video: /content/drive/MyDrive/Dataset/Share/Original_Aggregate_Train/Shoplifting/gaussian_processed_Shoplifting (11).mp4 Class name: Shoplifting Label: 1\n",
            "Processing video: /content/drive/MyDrive/Dataset/Share/Original_Aggregate_Train/Normal/flipped_processed_Normal (66).mp4 Class name: Normal Label: 0\n",
            "Processing video: /content/drive/MyDrive/Dataset/Share/Original_Aggregate_Train/Normal/gaussian_processed_Normal (37).mp4 Class name: Normal Label: 0\n",
            "Processing video: /content/drive/MyDrive/Dataset/Share/Original_Aggregate_Train/Shoplifting/processed_Shoplifting (5).mp4 Class name: Shoplifting Label: 1\n",
            "Processing video: /content/drive/MyDrive/Dataset/Share/Original_Aggregate_Train/Shoplifting/Copy of salt&pepper_shorten_steal25.mp4 Class name: Shoplifting Label: 1\n",
            "Processing video: /content/drive/MyDrive/Dataset/Share/Original_Aggregate_Train/Normal/flipped_pose_Normal (25).mp4 Class name: Normal Label: 0\n",
            "Processing video: /content/drive/MyDrive/Dataset/Share/Original_Aggregate_Train/Shoplifting/gaussian_processed_Shoplifting (4).mp4 Class name: Shoplifting Label: 1\n",
            "Processing video: /content/drive/MyDrive/Dataset/Share/Original_Aggregate_Train/Shoplifting/flipped_pose_Shoplifting (13).mp4 Class name: Shoplifting Label: 1\n",
            "Processing video: /content/drive/MyDrive/Dataset/Share/Original_Aggregate_Train/Shoplifting/pose_Shoplifting (22).mp4 Class name: Shoplifting Label: 1\n",
            "Processing video: /content/drive/MyDrive/Dataset/Share/Original_Aggregate_Train/Shoplifting/processed_Shoplifting (15).mp4 Class name: Shoplifting Label: 1\n",
            "Processing video: /content/drive/MyDrive/Dataset/Share/Original_Aggregate_Train/Normal/flipped_pose_Normal (38).mp4 Class name: Normal Label: 0\n",
            "Processing video: /content/drive/MyDrive/Dataset/Share/Original_Aggregate_Train/Shoplifting/flipped_pose_Shoplifting (54).mp4 Class name: Shoplifting Label: 1\n",
            "Processing video: /content/drive/MyDrive/Dataset/Share/Original_Aggregate_Train/Shoplifting/pose_Shoplifting (51).mp4 Class name: Shoplifting Label: 1\n",
            "Processing video: /content/drive/MyDrive/Dataset/Share/Original_Aggregate_Train/Normal/flipped_pose_Normal (39).mp4 Class name: Normal Label: 0\n",
            "Processing video: /content/drive/MyDrive/Dataset/Share/Original_Aggregate_Train/Shoplifting/pose_Shoplifting (3).mp4 Class name: Shoplifting Label: 1\n",
            "Processing video: /content/drive/MyDrive/Dataset/Share/Original_Aggregate_Train/Normal/gaussian_processed_Normal (17).mp4 Class name: Normal Label: 0\n",
            "Processing video: /content/drive/MyDrive/Dataset/Share/Original_Aggregate_Train/Shoplifting/pose_Shoplifting (47).mp4 Class name: Shoplifting Label: 1\n",
            "Processing video: /content/drive/MyDrive/Dataset/Share/Original_Aggregate_Train/Shoplifting/pose_Shoplifting (55).mp4 Class name: Shoplifting Label: 1\n",
            "Processing video: /content/drive/MyDrive/Dataset/Share/Original_Aggregate_Train/Shoplifting/pose_Shoplifting (5).mp4 Class name: Shoplifting Label: 1\n",
            "Processing video: /content/drive/MyDrive/Dataset/Share/Original_Aggregate_Train/Shoplifting/processed_Shoplifting (4).mp4 Class name: Shoplifting Label: 1\n",
            "Processing video: /content/drive/MyDrive/Dataset/Share/Original_Aggregate_Train/Shoplifting/pose_Shoplifting (53).mp4 Class name: Shoplifting Label: 1\n",
            "Processing video: /content/drive/MyDrive/Dataset/Share/Original_Aggregate_Train/Shoplifting/flipped_pose_Shoplifting (12).mp4 Class name: Shoplifting Label: 1\n",
            "Processing video: /content/drive/MyDrive/Dataset/Share/Original_Aggregate_Train/Normal/processed_Normal (68).mp4 Class name: Normal Label: 0\n",
            "Processing video: /content/drive/MyDrive/Dataset/Share/Original_Aggregate_Train/Normal/pose_Normal (32).mp4 Class name: Normal Label: 0\n",
            "Processing video: /content/drive/MyDrive/Dataset/Share/Original_Aggregate_Train/Normal/pose_Normal (45).mp4 Class name: Normal Label: 0\n",
            "Processing video: /content/drive/MyDrive/Dataset/Share/Original_Aggregate_Train/Shoplifting/Copy of salt&pepper_steal5.mp4 Class name: Shoplifting Label: 1\n",
            "Processing video: /content/drive/MyDrive/Dataset/Share/Original_Aggregate_Train/Shoplifting/processed_Shoplifting (6).mp4 Class name: Shoplifting Label: 1\n",
            "Processing video: /content/drive/MyDrive/Dataset/Share/Original_Aggregate_Train/Shoplifting/flipped_pose_Shoplifting (41).mp4 Class name: Shoplifting Label: 1\n",
            "Processing video: /content/drive/MyDrive/Dataset/Share/Original_Aggregate_Train/Shoplifting/gaussian_processed_Shoplifting (47).mp4 Class name: Shoplifting Label: 1\n",
            "Processing video: /content/drive/MyDrive/Dataset/Share/Original_Aggregate_Train/Shoplifting/flipped_pose_Shoplifting (16).mp4 Class name: Shoplifting Label: 1\n",
            "Processing video: /content/drive/MyDrive/Dataset/Share/Original_Aggregate_Train/Normal/output_319_trimmed.mp4 Class name: Normal Label: 0\n",
            "Processing video: /content/drive/MyDrive/Dataset/Share/Original_Aggregate_Train/Shoplifting/gaussian_processed_Shoplifting (28).mp4 Class name: Shoplifting Label: 1\n",
            "Processing video: /content/drive/MyDrive/Dataset/Share/Original_Aggregate_Train/Shoplifting/gaussian_processed_Shoplifting (12).mp4 Class name: Shoplifting Label: 1\n",
            "Processing video: /content/drive/MyDrive/Dataset/Share/Original_Aggregate_Train/Normal/pose_Normal (50).mp4 Class name: Normal Label: 0\n",
            "Processing video: /content/drive/MyDrive/Dataset/Share/Original_Aggregate_Train/Shoplifting/flipped_pose_Shoplifting (42).mp4 Class name: Shoplifting Label: 1\n",
            "Processing video: /content/drive/MyDrive/Dataset/Share/Original_Aggregate_Train/Normal/processed_Normal (26).mp4 Class name: Normal Label: 0\n",
            "Processing video: /content/drive/MyDrive/Dataset/Share/Original_Aggregate_Train/Shoplifting/flipped_pose_Shoplifting (22).mp4 Class name: Shoplifting Label: 1\n",
            "Processing video: /content/drive/MyDrive/Dataset/Share/Original_Aggregate_Train/Shoplifting/processed_Shoplifting (45).mp4 Class name: Shoplifting Label: 1\n",
            "Processing video: /content/drive/MyDrive/Dataset/Share/Original_Aggregate_Train/Normal/flipped_processed_Normal (51).mp4 Class name: Normal Label: 0\n",
            "Processing video: /content/drive/MyDrive/Dataset/Share/Original_Aggregate_Train/Shoplifting/Copy of salt&pepper_shorten_steal22.mp4 Class name: Shoplifting Label: 1\n",
            "Processing video: /content/drive/MyDrive/Dataset/Share/Original_Aggregate_Train/Shoplifting/pose_Shoplifting (56).mp4 Class name: Shoplifting Label: 1\n",
            "Processing video: /content/drive/MyDrive/Dataset/Share/Original_Aggregate_Train/Normal/pose_Normal (33).mp4 Class name: Normal Label: 0\n",
            "Processing video: /content/drive/MyDrive/Dataset/Share/Original_Aggregate_Train/Shoplifting/flipped_pose_Shoplifting (33).mp4 Class name: Shoplifting Label: 1\n",
            "Processing video: /content/drive/MyDrive/Dataset/Share/Original_Aggregate_Train/Shoplifting/Copy of salt&pepper_steal1.2.mp4 Class name: Shoplifting Label: 1\n",
            "Processing video: /content/drive/MyDrive/Dataset/Share/Original_Aggregate_Train/Shoplifting/pose_Shoplifting (21).mp4 Class name: Shoplifting Label: 1\n",
            "Processing video: /content/drive/MyDrive/Dataset/Share/Original_Aggregate_Train/Normal/flipped_processed_Normal (18).mp4 Class name: Normal Label: 0\n",
            "Processing video: /content/drive/MyDrive/Dataset/Share/Original_Aggregate_Train/Shoplifting/flipped_processed_Shoplifting (53).mp4 Class name: Shoplifting Label: 1\n",
            "Processing video: /content/drive/MyDrive/Dataset/Share/Original_Aggregate_Train/Shoplifting/flipped_pose_Shoplifting (26).mp4 Class name: Shoplifting Label: 1\n",
            "Processing video: /content/drive/MyDrive/Dataset/Share/Original_Aggregate_Train/Normal/flipped_processed_Normal (54).mp4 Class name: Normal Label: 0\n",
            "Processing video: /content/drive/MyDrive/Dataset/Share/Original_Aggregate_Train/Shoplifting/gaussian_processed_Shoplifting (50).mp4 Class name: Shoplifting Label: 1\n",
            "Processing video: /content/drive/MyDrive/Dataset/Share/Original_Aggregate_Train/Normal/6848071910_144_trimmed.mp4 Class name: Normal Label: 0\n",
            "Processing video: /content/drive/MyDrive/Dataset/Share/Original_Aggregate_Train/Normal/flipped_pose_Normal (49).mp4 Class name: Normal Label: 0\n",
            "Processing video: /content/drive/MyDrive/Dataset/Share/Original_Aggregate_Train/Shoplifting/flipped_pose_Shoplifting (50).mp4 Class name: Shoplifting Label: 1\n",
            "Processing video: /content/drive/MyDrive/Dataset/Share/Original_Aggregate_Train/Normal/processed_Normal (55).mp4 Class name: Normal Label: 0\n",
            "Processing video: /content/drive/MyDrive/Dataset/Share/Original_Aggregate_Train/Normal/gaussian_processed_Normal (6).mp4 Class name: Normal Label: 0\n",
            "Processing video: /content/drive/MyDrive/Dataset/Share/Original_Aggregate_Train/Normal/processed_Normal (15).mp4 Class name: Normal Label: 0\n",
            "Processing video: /content/drive/MyDrive/Dataset/Share/Original_Aggregate_Train/Shoplifting/gaussian_processed_Shoplifting (35).mp4 Class name: Shoplifting Label: 1\n",
            "Processing video: /content/drive/MyDrive/Dataset/Share/Original_Aggregate_Train/Normal/pose_Normal (66).mp4 Class name: Normal Label: 0\n",
            "Processing video: /content/drive/MyDrive/Dataset/Share/Original_Aggregate_Train/Normal/flipped_pose_Normal (16).mp4 Class name: Normal Label: 0\n",
            "Processing video: /content/drive/MyDrive/Dataset/Share/Original_Aggregate_Train/Normal/pose_Normal (16).mp4 Class name: Normal Label: 0\n",
            "Processing video: /content/drive/MyDrive/Dataset/Share/Original_Aggregate_Train/Normal/gaussian_processed_Normal (28).mp4 Class name: Normal Label: 0\n",
            "Processing video: /content/drive/MyDrive/Dataset/Share/Original_Aggregate_Train/Shoplifting/processed_Shoplifting (18).mp4 Class name: Shoplifting Label: 1\n",
            "Processing video: /content/drive/MyDrive/Dataset/Share/Original_Aggregate_Train/Shoplifting/flipped_processed_Shoplifting (35).mp4 Class name: Shoplifting Label: 1\n",
            "Processing video: /content/drive/MyDrive/Dataset/Share/Original_Aggregate_Train/Normal/gaussian_processed_Normal (16).mp4 Class name: Normal Label: 0\n",
            "Processing video: /content/drive/MyDrive/Dataset/Share/Original_Aggregate_Train/Normal/gaussian_processed_Normal (44).mp4 Class name: Normal Label: 0\n",
            "Processing video: /content/drive/MyDrive/Dataset/Share/Original_Aggregate_Train/Normal/processed_Normal (17).mp4 Class name: Normal Label: 0\n",
            "Processing video: /content/drive/MyDrive/Dataset/Share/Original_Aggregate_Train/Normal/flipped_pose_Normal (51).mp4 Class name: Normal Label: 0\n",
            "Processing video: /content/drive/MyDrive/Dataset/Share/Original_Aggregate_Train/Normal/flipped_processed_Normal (52).mp4 Class name: Normal Label: 0\n",
            "Processing video: /content/drive/MyDrive/Dataset/Share/Original_Aggregate_Train/Shoplifting/pose_Shoplifting (33).mp4 Class name: Shoplifting Label: 1\n",
            "Processing video: /content/drive/MyDrive/Dataset/Share/Original_Aggregate_Train/Normal/6848071910_150_trimmed.mp4 Class name: Normal Label: 0\n",
            "Processing video: /content/drive/MyDrive/Dataset/Share/Original_Aggregate_Train/Shoplifting/processed_Shoplifting (63).mp4 Class name: Shoplifting Label: 1\n",
            "Processing video: /content/drive/MyDrive/Dataset/Share/Original_Aggregate_Train/Shoplifting/pose_Shoplifting (67).mp4 Class name: Shoplifting Label: 1\n",
            "Processing video: /content/drive/MyDrive/Dataset/Share/Original_Aggregate_Train/Shoplifting/pose_Shoplifting (58).mp4 Class name: Shoplifting Label: 1\n",
            "Processing video: /content/drive/MyDrive/Dataset/Share/Original_Aggregate_Train/Shoplifting/processed_Shoplifting (33).mp4 Class name: Shoplifting Label: 1\n",
            "Processing video: /content/drive/MyDrive/Dataset/Share/Original_Aggregate_Train/Normal/flipped_pose_Normal (14).mp4 Class name: Normal Label: 0\n",
            "Processing video: /content/drive/MyDrive/Dataset/Share/Original_Aggregate_Train/Shoplifting/gaussian_processed_Shoplifting (32).mp4 Class name: Shoplifting Label: 1\n",
            "Processing video: /content/drive/MyDrive/Dataset/Share/Original_Aggregate_Train/Shoplifting/flipped_pose_Shoplifting (45).mp4 Class name: Shoplifting Label: 1\n",
            "Processing video: /content/drive/MyDrive/Dataset/Share/Original_Aggregate_Train/Normal/6848071910_446_trimmed.mp4 Class name: Normal Label: 0\n",
            "Processing video: /content/drive/MyDrive/Dataset/Share/Original_Aggregate_Train/Normal/flipped_processed_Normal (14).mp4 Class name: Normal Label: 0\n",
            "Processing video: /content/drive/MyDrive/Dataset/Share/Original_Aggregate_Train/Shoplifting/flipped_processed_Shoplifting (32).mp4 Class name: Shoplifting Label: 1\n",
            "Processing video: /content/drive/MyDrive/Dataset/Share/Original_Aggregate_Train/Shoplifting/flipped_pose_Shoplifting (27).mp4 Class name: Shoplifting Label: 1\n",
            "Processing video: /content/drive/MyDrive/Dataset/Share/Original_Aggregate_Train/Normal/flipped_pose_Normal (40).mp4 Class name: Normal Label: 0\n",
            "Processing video: /content/drive/MyDrive/Dataset/Share/Original_Aggregate_Train/Shoplifting/processed_Shoplifting (21).mp4 Class name: Shoplifting Label: 1\n",
            "Processing video: /content/drive/MyDrive/Dataset/Share/Original_Aggregate_Train/Shoplifting/Copy of shorten_steal22.mp4 Class name: Shoplifting Label: 1\n",
            "Processing video: /content/drive/MyDrive/Dataset/Share/Original_Aggregate_Train/Shoplifting/gaussian_processed_Shoplifting (39).mp4 Class name: Shoplifting Label: 1\n",
            "Processing video: /content/drive/MyDrive/Dataset/Share/Original_Aggregate_Train/Normal/1590456_269_trimmed.mp4 Class name: Normal Label: 0\n",
            "Processing video: /content/drive/MyDrive/Dataset/Share/Original_Aggregate_Train/Shoplifting/flipped_processed_Shoplifting (18).mp4 Class name: Shoplifting Label: 1\n",
            "Processing video: /content/drive/MyDrive/Dataset/Share/Original_Aggregate_Train/Normal/gaussian_processed_Normal (3).mp4 Class name: Normal Label: 0\n",
            "Processing video: /content/drive/MyDrive/Dataset/Share/Original_Aggregate_Train/Shoplifting/flipped_processed_Shoplifting (22).mp4 Class name: Shoplifting Label: 1\n",
            "Processing video: /content/drive/MyDrive/Dataset/Share/Original_Aggregate_Train/Normal/flipped_pose_Normal (11).mp4 Class name: Normal Label: 0\n",
            "Processing video: /content/drive/MyDrive/Dataset/Share/Original_Aggregate_Train/Shoplifting/gaussian_processed_Shoplifting (10).mp4 Class name: Shoplifting Label: 1\n",
            "Processing video: /content/drive/MyDrive/Dataset/Share/Original_Aggregate_Train/Shoplifting/gaussian_processed_Shoplifting (45).mp4 Class name: Shoplifting Label: 1\n",
            "Processing video: /content/drive/MyDrive/Dataset/Share/Original_Aggregate_Train/Normal/flipped_processed_Normal (29).mp4 Class name: Normal Label: 0\n",
            "Processing video: /content/drive/MyDrive/Dataset/Share/Original_Aggregate_Train/Normal/flipped_processed_Normal (46).mp4 Class name: Normal Label: 0\n",
            "Processing video: /content/drive/MyDrive/Dataset/Share/Original_Aggregate_Train/Normal/gaussian_processed_Normal (41).mp4 Class name: Normal Label: 0\n",
            "Processing video: /content/drive/MyDrive/Dataset/Share/Original_Aggregate_Train/Shoplifting/processed_Shoplifting (68).mp4 Class name: Shoplifting Label: 1\n",
            "Processing video: /content/drive/MyDrive/Dataset/Share/Original_Aggregate_Train/Normal/processed_Normal (49).mp4 Class name: Normal Label: 0\n",
            "Processing video: /content/drive/MyDrive/Dataset/Share/Original_Aggregate_Train/Normal/processed_Normal (47).mp4 Class name: Normal Label: 0\n",
            "Processing video: /content/drive/MyDrive/Dataset/Share/Original_Aggregate_Train/Normal/6848071910_138_trimmed.mp4 Class name: Normal Label: 0\n",
            "Processing video: /content/drive/MyDrive/Dataset/Share/Original_Aggregate_Train/Shoplifting/flipped_processed_Shoplifting (42).mp4 Class name: Shoplifting Label: 1\n",
            "Processing video: /content/drive/MyDrive/Dataset/Share/Original_Aggregate_Train/Normal/flipped_processed_Normal (21).mp4 Class name: Normal Label: 0\n",
            "Processing video: /content/drive/MyDrive/Dataset/Share/Original_Aggregate_Train/Shoplifting/gaussian_processed_Shoplifting (22).mp4 Class name: Shoplifting Label: 1\n",
            "Processing video: /content/drive/MyDrive/Dataset/Share/Original_Aggregate_Train/Shoplifting/processed_Shoplifting (19).mp4 Class name: Shoplifting Label: 1\n",
            "Processing video: /content/drive/MyDrive/Dataset/Share/Original_Aggregate_Train/Shoplifting/processed_Shoplifting (42).mp4 Class name: Shoplifting Label: 1\n",
            "Processing video: /content/drive/MyDrive/Dataset/Share/Original_Aggregate_Train/Normal/flipped_pose_Normal (18).mp4 Class name: Normal Label: 0\n",
            "Processing video: /content/drive/MyDrive/Dataset/Share/Original_Aggregate_Train/Normal/1202850_022_trimmed.mp4 Class name: Normal Label: 0\n",
            "Processing video: /content/drive/MyDrive/Dataset/Share/Original_Aggregate_Train/Normal/flipped_pose_Normal (41).mp4 Class name: Normal Label: 0\n",
            "Processing video: /content/drive/MyDrive/Dataset/Share/Original_Aggregate_Train/Shoplifting/flipped_pose_Shoplifting (58).mp4 Class name: Shoplifting Label: 1\n",
            "Processing video: /content/drive/MyDrive/Dataset/Share/Original_Aggregate_Train/Normal/processed_Normal (14).mp4 Class name: Normal Label: 0\n",
            "Processing video: /content/drive/MyDrive/Dataset/Share/Original_Aggregate_Train/Normal/processed_Normal (58).mp4 Class name: Normal Label: 0\n",
            "Processing video: /content/drive/MyDrive/Dataset/Share/Original_Aggregate_Train/Shoplifting/pose_Shoplifting (48).mp4 Class name: Shoplifting Label: 1\n",
            "Processing video: /content/drive/MyDrive/Dataset/Share/Original_Aggregate_Train/Shoplifting/gaussian_processed_Shoplifting (25).mp4 Class name: Shoplifting Label: 1\n",
            "Processing video: /content/drive/MyDrive/Dataset/Share/Original_Aggregate_Train/Shoplifting/gaussian_processed_Shoplifting (17).mp4 Class name: Shoplifting Label: 1\n",
            "Processing video: /content/drive/MyDrive/Dataset/Share/Original_Aggregate_Train/Shoplifting/gaussian_processed_Shoplifting (20).mp4 Class name: Shoplifting Label: 1\n",
            "Processing video: /content/drive/MyDrive/Dataset/Share/Original_Aggregate_Train/Shoplifting/flipped_processed_Shoplifting (67).mp4 Class name: Shoplifting Label: 1\n",
            "Processing video: /content/drive/MyDrive/Dataset/Share/Original_Aggregate_Train/Normal/1202850_380_trimmed.mp4 Class name: Normal Label: 0\n",
            "Processing video: /content/drive/MyDrive/Dataset/Share/Original_Aggregate_Train/Shoplifting/Copy of shorten_steal29.mp4 Class name: Shoplifting Label: 1\n",
            "Processing video: /content/drive/MyDrive/Dataset/Share/Original_Aggregate_Train/Shoplifting/flipped_processed_Shoplifting (27).mp4 Class name: Shoplifting Label: 1\n",
            "Processing video: /content/drive/MyDrive/Dataset/Share/Original_Aggregate_Train/Shoplifting/pose_Shoplifting (2).mp4 Class name: Shoplifting Label: 1\n",
            "Processing video: /content/drive/MyDrive/Dataset/Share/Original_Aggregate_Train/Normal/pose_Normal (67).mp4 Class name: Normal Label: 0\n",
            "Processing video: /content/drive/MyDrive/Dataset/Share/Original_Aggregate_Train/Shoplifting/flipped_pose_Shoplifting (39).mp4 Class name: Shoplifting Label: 1\n",
            "Processing video: /content/drive/MyDrive/Dataset/Share/Original_Aggregate_Train/Shoplifting/flipped_processed_Shoplifting (41).mp4 Class name: Shoplifting Label: 1\n",
            "Processing video: /content/drive/MyDrive/Dataset/Share/Original_Aggregate_Train/Shoplifting/Copy of shorten_steal30.mp4 Class name: Shoplifting Label: 1\n",
            "Processing video: /content/drive/MyDrive/Dataset/Share/Original_Aggregate_Train/Normal/1202850_245_trimmed.mp4 Class name: Normal Label: 0\n",
            "Processing video: /content/drive/MyDrive/Dataset/Share/Original_Aggregate_Train/Shoplifting/flipped_pose_Shoplifting (28).mp4 Class name: Shoplifting Label: 1\n",
            "Processing video: /content/drive/MyDrive/Dataset/Share/Original_Aggregate_Train/Normal/flipped_pose_Normal (21).mp4 Class name: Normal Label: 0\n",
            "Processing video: /content/drive/MyDrive/Dataset/Share/Original_Aggregate_Train/Normal/flipped_processed_Normal (65).mp4 Class name: Normal Label: 0\n",
            "Processing video: /content/drive/MyDrive/Dataset/Share/Original_Aggregate_Train/Shoplifting/flipped_processed_Shoplifting (50).mp4 Class name: Shoplifting Label: 1\n",
            "Processing video: /content/drive/MyDrive/Dataset/Share/Original_Aggregate_Train/Shoplifting/pose_Shoplifting (27).mp4 Class name: Shoplifting Label: 1\n",
            "Processing video: /content/drive/MyDrive/Dataset/Share/Original_Aggregate_Train/Normal/6848071910_580_trimmed.mp4 Class name: Normal Label: 0\n",
            "Processing video: /content/drive/MyDrive/Dataset/Share/Original_Aggregate_Train/Shoplifting/flipped_processed_Shoplifting (37).mp4 Class name: Shoplifting Label: 1\n",
            "Processing video: /content/drive/MyDrive/Dataset/Share/Original_Aggregate_Train/Normal/1590456_177_trimmed.mp4 Class name: Normal Label: 0\n",
            "Processing video: /content/drive/MyDrive/Dataset/Share/Original_Aggregate_Train/Shoplifting/gaussian_processed_Shoplifting (31).mp4 Class name: Shoplifting Label: 1\n",
            "Processing video: /content/drive/MyDrive/Dataset/Share/Original_Aggregate_Train/Normal/flipped_processed_Normal (20).mp4 Class name: Normal Label: 0\n",
            "Processing video: /content/drive/MyDrive/Dataset/Share/Original_Aggregate_Train/Normal/pose_Normal (17).mp4 Class name: Normal Label: 0\n",
            "Processing video: /content/drive/MyDrive/Dataset/Share/Original_Aggregate_Train/Normal/flipped_processed_Normal (16).mp4 Class name: Normal Label: 0\n",
            "Processing video: /content/drive/MyDrive/Dataset/Share/Original_Aggregate_Train/Normal/pose_Normal (7).mp4 Class name: Normal Label: 0\n",
            "Processing video: /content/drive/MyDrive/Dataset/Share/Original_Aggregate_Train/Normal/gaussian_processed_Normal (38).mp4 Class name: Normal Label: 0\n",
            "Processing video: /content/drive/MyDrive/Dataset/Share/Original_Aggregate_Train/Shoplifting/gaussian_processed_Shoplifting (13).mp4 Class name: Shoplifting Label: 1\n",
            "Processing video: /content/drive/MyDrive/Dataset/Share/Original_Aggregate_Train/Shoplifting/flipped_processed_Shoplifting (63).mp4 Class name: Shoplifting Label: 1\n",
            "Processing video: /content/drive/MyDrive/Dataset/Share/Original_Aggregate_Train/Shoplifting/Copy of salt&pepper_shorten_steal20.mp4 Class name: Shoplifting Label: 1\n",
            "Processing video: /content/drive/MyDrive/Dataset/Share/Original_Aggregate_Train/Normal/processed_Normal (39).mp4 Class name: Normal Label: 0\n",
            "Processing video: /content/drive/MyDrive/Dataset/Share/Original_Aggregate_Train/Shoplifting/pose_Shoplifting (31).mp4 Class name: Shoplifting Label: 1\n",
            "Processing video: /content/drive/MyDrive/Dataset/Share/Original_Aggregate_Train/Normal/flipped_pose_Normal (23).mp4 Class name: Normal Label: 0\n",
            "Processing video: /content/drive/MyDrive/Dataset/Share/Original_Aggregate_Train/Normal/pose_Normal (29).mp4 Class name: Normal Label: 0\n",
            "Processing video: /content/drive/MyDrive/Dataset/Share/Original_Aggregate_Train/Normal/1202850_094_trimmed.mp4 Class name: Normal Label: 0\n",
            "Processing video: /content/drive/MyDrive/Dataset/Share/Original_Aggregate_Train/Normal/gaussian_processed_Normal (9).mp4 Class name: Normal Label: 0\n",
            "Processing video: /content/drive/MyDrive/Dataset/Share/Original_Aggregate_Train/Shoplifting/processed_Shoplifting (44).mp4 Class name: Shoplifting Label: 1\n",
            "Processing video: /content/drive/MyDrive/Dataset/Share/Original_Aggregate_Train/Normal/pose_Normal (46).mp4 Class name: Normal Label: 0\n",
            "Processing video: /content/drive/MyDrive/Dataset/Share/Original_Aggregate_Train/Shoplifting/flipped_processed_Shoplifting (34).mp4 Class name: Shoplifting Label: 1\n",
            "Processing video: /content/drive/MyDrive/Dataset/Share/Original_Aggregate_Train/Normal/processed_Normal (21).mp4 Class name: Normal Label: 0\n",
            "Processing video: /content/drive/MyDrive/Dataset/Share/Original_Aggregate_Train/Shoplifting/pose_Shoplifting (12).mp4 Class name: Shoplifting Label: 1\n",
            "Processing video: /content/drive/MyDrive/Dataset/Share/Original_Aggregate_Train/Normal/gaussian_processed_Normal (24).mp4 Class name: Normal Label: 0\n",
            "Processing video: /content/drive/MyDrive/Dataset/Share/Original_Aggregate_Train/Shoplifting/processed_Shoplifting (64).mp4 Class name: Shoplifting Label: 1\n",
            "Processing video: /content/drive/MyDrive/Dataset/Share/Original_Aggregate_Train/Shoplifting/gaussian_processed_Shoplifting (48).mp4 Class name: Shoplifting Label: 1\n",
            "Processing video: /content/drive/MyDrive/Dataset/Share/Original_Aggregate_Train/Normal/6848071910_095_trimmed.mp4 Class name: Normal Label: 0\n",
            "Processing video: /content/drive/MyDrive/Dataset/Share/Original_Aggregate_Train/Shoplifting/gaussian_processed_Shoplifting (41).mp4 Class name: Shoplifting Label: 1\n",
            "Processing video: /content/drive/MyDrive/Dataset/Share/Original_Aggregate_Train/Shoplifting/pose_Shoplifting (25).mp4 Class name: Shoplifting Label: 1\n",
            "Processing video: /content/drive/MyDrive/Dataset/Share/Original_Aggregate_Train/Shoplifting/pose_Shoplifting (16).mp4 Class name: Shoplifting Label: 1\n",
            "Processing video: /content/drive/MyDrive/Dataset/Share/Original_Aggregate_Train/Shoplifting/gaussian_processed_Shoplifting (23).mp4 Class name: Shoplifting Label: 1\n",
            "Processing video: /content/drive/MyDrive/Dataset/Share/Original_Aggregate_Train/Normal/gaussian_processed_Normal (40).mp4 Class name: Normal Label: 0\n",
            "Processing video: /content/drive/MyDrive/Dataset/Share/Original_Aggregate_Train/Shoplifting/flipped_pose_Shoplifting (57).mp4 Class name: Shoplifting Label: 1\n",
            "Processing video: /content/drive/MyDrive/Dataset/Share/Original_Aggregate_Train/Shoplifting/pose_Shoplifting (35).mp4 Class name: Shoplifting Label: 1\n",
            "Processing video: /content/drive/MyDrive/Dataset/Share/Original_Aggregate_Train/Shoplifting/processed_Shoplifting (39).mp4 Class name: Shoplifting Label: 1\n",
            "Processing video: /content/drive/MyDrive/Dataset/Share/Original_Aggregate_Train/Normal/processed_Normal (38).mp4 Class name: Normal Label: 0\n",
            "Processing video: /content/drive/MyDrive/Dataset/Share/Original_Aggregate_Train/Normal/gaussian_processed_Normal (15).mp4 Class name: Normal Label: 0\n",
            "Processing video: /content/drive/MyDrive/Dataset/Share/Original_Aggregate_Train/Normal/flipped_pose_Normal (12).mp4 Class name: Normal Label: 0\n",
            "Processing video: /content/drive/MyDrive/Dataset/Share/Original_Aggregate_Train/Normal/6848071910_409_trimmed.mp4 Class name: Normal Label: 0\n",
            "Processing video: /content/drive/MyDrive/Dataset/Share/Original_Aggregate_Train/Normal/gaussian_processed_Normal (36).mp4 Class name: Normal Label: 0\n",
            "Processing video: /content/drive/MyDrive/Dataset/Share/Original_Aggregate_Train/Shoplifting/processed_Shoplifting (28).mp4 Class name: Shoplifting Label: 1\n",
            "Processing video: /content/drive/MyDrive/Dataset/Share/Original_Aggregate_Train/Normal/1202850_162_trimmed.mp4 Class name: Normal Label: 0\n",
            "Processing video: /content/drive/MyDrive/Dataset/Share/Original_Aggregate_Train/Shoplifting/gaussian_processed_Shoplifting (46).mp4 Class name: Shoplifting Label: 1\n",
            "Processing video: /content/drive/MyDrive/Dataset/Share/Original_Aggregate_Train/Normal/flipped_pose_Normal (26).mp4 Class name: Normal Label: 0\n",
            "Processing video: /content/drive/MyDrive/Dataset/Share/Original_Aggregate_Train/Normal/flipped_processed_Normal (44).mp4 Class name: Normal Label: 0\n",
            "Processing video: /content/drive/MyDrive/Dataset/Share/Original_Aggregate_Train/Shoplifting/pose_Shoplifting (20).mp4 Class name: Shoplifting Label: 1\n",
            "Processing video: /content/drive/MyDrive/Dataset/Share/Original_Aggregate_Train/Shoplifting/gaussian_processed_Shoplifting (27).mp4 Class name: Shoplifting Label: 1\n",
            "Processing video: /content/drive/MyDrive/Dataset/Share/Original_Aggregate_Train/Normal/gaussian_processed_Normal (7).mp4 Class name: Normal Label: 0\n",
            "Processing video: /content/drive/MyDrive/Dataset/Share/Original_Aggregate_Train/Shoplifting/pose_Shoplifting (45).mp4 Class name: Shoplifting Label: 1\n",
            "Processing video: /content/drive/MyDrive/Dataset/Share/Original_Aggregate_Train/Shoplifting/pose_Shoplifting (32).mp4 Class name: Shoplifting Label: 1\n",
            "Processing video: /content/drive/MyDrive/Dataset/Share/Original_Aggregate_Train/Normal/flipped_pose_Normal (57).mp4 Class name: Normal Label: 0\n",
            "Processing video: /content/drive/MyDrive/Dataset/Share/Original_Aggregate_Train/Normal/processed_Normal (6).mp4 Class name: Normal Label: 0\n",
            "Processing video: /content/drive/MyDrive/Dataset/Share/Original_Aggregate_Train/Shoplifting/flipped_pose_Shoplifting (25).mp4 Class name: Shoplifting Label: 1\n",
            "Processing video: /content/drive/MyDrive/Dataset/Share/Original_Aggregate_Train/Shoplifting/flipped_pose_Shoplifting (52).mp4 Class name: Shoplifting Label: 1\n",
            "Processing video: /content/drive/MyDrive/Dataset/Share/Original_Aggregate_Train/Normal/processed_Normal (43).mp4 Class name: Normal Label: 0\n",
            "Processing video: /content/drive/MyDrive/Dataset/Share/Original_Aggregate_Train/Normal/gaussian_processed_Normal (27).mp4 Class name: Normal Label: 0\n",
            "Processing video: /content/drive/MyDrive/Dataset/Share/Original_Aggregate_Train/Shoplifting/flipped_processed_Shoplifting (58).mp4 Class name: Shoplifting Label: 1\n",
            "Processing video: /content/drive/MyDrive/Dataset/Share/Original_Aggregate_Train/Normal/1590456_210_trimmed.mp4 Class name: Normal Label: 0\n",
            "Processing video: /content/drive/MyDrive/Dataset/Share/Original_Aggregate_Train/Normal/processed_Normal (61).mp4 Class name: Normal Label: 0\n",
            "Processing video: /content/drive/MyDrive/Dataset/Share/Original_Aggregate_Train/Normal/1590456_222_trimmed.mp4 Class name: Normal Label: 0\n",
            "Processing video: /content/drive/MyDrive/Dataset/Share/Original_Aggregate_Train/Normal/processed_Normal (34).mp4 Class name: Normal Label: 0\n",
            "Processing video: /content/drive/MyDrive/Dataset/Share/Original_Aggregate_Train/Normal/output_196_trimmed.mp4 Class name: Normal Label: 0\n",
            "Processing video: /content/drive/MyDrive/Dataset/Share/Original_Aggregate_Train/Normal/flipped_processed_Normal (47).mp4 Class name: Normal Label: 0\n",
            "Processing video: /content/drive/MyDrive/Dataset/Share/Original_Aggregate_Train/Normal/processed_Normal (59).mp4 Class name: Normal Label: 0\n",
            "Processing video: /content/drive/MyDrive/Dataset/Share/Original_Aggregate_Train/Normal/gaussian_processed_Normal (19).mp4 Class name: Normal Label: 0\n",
            "Processing video: /content/drive/MyDrive/Dataset/Share/Original_Aggregate_Train/Shoplifting/Copy of steal2 (1).mp4 Class name: Shoplifting Label: 1\n",
            "Processing video: /content/drive/MyDrive/Dataset/Share/Original_Aggregate_Train/Shoplifting/pose_Shoplifting (63).mp4 Class name: Shoplifting Label: 1\n",
            "Processing video: /content/drive/MyDrive/Dataset/Share/Original_Aggregate_Train/Shoplifting/processed_Shoplifting (47).mp4 Class name: Shoplifting Label: 1\n",
            "Processing video: /content/drive/MyDrive/Dataset/Share/Original_Aggregate_Train/Shoplifting/Copy of salt&pepper_shorten_steal21.mp4 Class name: Shoplifting Label: 1\n",
            "Processing video: /content/drive/MyDrive/Dataset/Share/Original_Aggregate_Train/Normal/pose_Normal (52).mp4 Class name: Normal Label: 0\n",
            "Processing video: /content/drive/MyDrive/Dataset/Share/Original_Aggregate_Train/Shoplifting/processed_Shoplifting (9).mp4 Class name: Shoplifting Label: 1\n",
            "Processing video: /content/drive/MyDrive/Dataset/Share/Original_Aggregate_Train/Normal/pose_Normal (18).mp4 Class name: Normal Label: 0\n",
            "Processing video: /content/drive/MyDrive/Dataset/Share/Original_Aggregate_Train/Shoplifting/flipped_pose_Shoplifting (62).mp4 Class name: Shoplifting Label: 1\n",
            "Processing video: /content/drive/MyDrive/Dataset/Share/Original_Aggregate_Train/Shoplifting/pose_Shoplifting (29).mp4 Class name: Shoplifting Label: 1\n",
            "Processing video: /content/drive/MyDrive/Dataset/Share/Original_Aggregate_Train/Shoplifting/flipped_pose_Shoplifting (46).mp4 Class name: Shoplifting Label: 1\n",
            "Processing video: /content/drive/MyDrive/Dataset/Share/Original_Aggregate_Train/Normal/gaussian_processed_Normal (34).mp4 Class name: Normal Label: 0\n",
            "Processing video: /content/drive/MyDrive/Dataset/Share/Original_Aggregate_Train/Shoplifting/processed_Shoplifting (52).mp4 Class name: Shoplifting Label: 1\n",
            "Processing video: /content/drive/MyDrive/Dataset/Share/Original_Aggregate_Train/Normal/flipped_processed_Normal (26).mp4 Class name: Normal Label: 0\n",
            "Processing video: /content/drive/MyDrive/Dataset/Share/Original_Aggregate_Train/Shoplifting/flipped_processed_Shoplifting (25).mp4 Class name: Shoplifting Label: 1\n",
            "Processing video: /content/drive/MyDrive/Dataset/Share/Original_Aggregate_Train/Normal/flipped_pose_Normal (20).mp4 Class name: Normal Label: 0\n",
            "Processing video: /content/drive/MyDrive/Dataset/Share/Original_Aggregate_Train/Normal/pose_Normal (10).mp4 Class name: Normal Label: 0\n",
            "Processing video: /content/drive/MyDrive/Dataset/Share/Original_Aggregate_Train/Shoplifting/flipped_pose_Shoplifting (35).mp4 Class name: Shoplifting Label: 1\n",
            "Processing video: /content/drive/MyDrive/Dataset/Share/Original_Aggregate_Train/Shoplifting/processed_Shoplifting (27).mp4 Class name: Shoplifting Label: 1\n",
            "Processing video: /content/drive/MyDrive/Dataset/Share/Original_Aggregate_Train/Normal/flipped_processed_Normal (30).mp4 Class name: Normal Label: 0\n",
            "Processing video: /content/drive/MyDrive/Dataset/Share/Original_Aggregate_Train/Normal/gaussian_processed_Normal (18).mp4 Class name: Normal Label: 0\n",
            "Processing video: /content/drive/MyDrive/Dataset/Share/Original_Aggregate_Train/Shoplifting/processed_Shoplifting (61).mp4 Class name: Shoplifting Label: 1\n",
            "Processing video: /content/drive/MyDrive/Dataset/Share/Original_Aggregate_Train/Shoplifting/flipped_processed_Shoplifting (30).mp4 Class name: Shoplifting Label: 1\n",
            "Processing video: /content/drive/MyDrive/Dataset/Share/Original_Aggregate_Train/Normal/flipped_processed_Normal (39).mp4 Class name: Normal Label: 0\n",
            "Processing video: /content/drive/MyDrive/Dataset/Share/Original_Aggregate_Train/Normal/1202850_346_trimmed.mp4 Class name: Normal Label: 0\n",
            "Processing video: /content/drive/MyDrive/Dataset/Share/Original_Aggregate_Train/Shoplifting/gaussian_processed_Shoplifting (19).mp4 Class name: Shoplifting Label: 1\n",
            "Processing video: /content/drive/MyDrive/Dataset/Share/Original_Aggregate_Train/Shoplifting/flipped_processed_Shoplifting (65).mp4 Class name: Shoplifting Label: 1\n",
            "Processing video: /content/drive/MyDrive/Dataset/Share/Original_Aggregate_Train/Normal/flipped_processed_Normal (31).mp4 Class name: Normal Label: 0\n",
            "Processing video: /content/drive/MyDrive/Dataset/Share/Original_Aggregate_Train/Shoplifting/flipped_processed_Shoplifting (20).mp4 Class name: Shoplifting Label: 1\n",
            "Processing video: /content/drive/MyDrive/Dataset/Share/Original_Aggregate_Train/Shoplifting/flipped_pose_Shoplifting (37).mp4 Class name: Shoplifting Label: 1\n",
            "Processing video: /content/drive/MyDrive/Dataset/Share/Original_Aggregate_Train/Shoplifting/pose_Shoplifting (11).mp4 Class name: Shoplifting Label: 1\n",
            "Processing video: /content/drive/MyDrive/Dataset/Share/Original_Aggregate_Train/Normal/flipped_processed_Normal (68).mp4 Class name: Normal Label: 0\n",
            "Processing video: /content/drive/MyDrive/Dataset/Share/Original_Aggregate_Train/Shoplifting/flipped_processed_Shoplifting (29).mp4 Class name: Shoplifting Label: 1\n",
            "Processing video: /content/drive/MyDrive/Dataset/Share/Original_Aggregate_Train/Shoplifting/processed_Shoplifting (35).mp4 Class name: Shoplifting Label: 1\n",
            "Processing video: /content/drive/MyDrive/Dataset/Share/Original_Aggregate_Train/Normal/flipped_pose_Normal (19).mp4 Class name: Normal Label: 0\n",
            "Processing video: /content/drive/MyDrive/Dataset/Share/Original_Aggregate_Train/Shoplifting/flipped_processed_Shoplifting (36).mp4 Class name: Shoplifting Label: 1\n",
            "Processing video: /content/drive/MyDrive/Dataset/Share/Original_Aggregate_Train/Normal/gaussian_processed_Normal (45).mp4 Class name: Normal Label: 0\n",
            "Processing video: /content/drive/MyDrive/Dataset/Share/Original_Aggregate_Train/Normal/output_250_trimmed.mp4 Class name: Normal Label: 0\n",
            "Processing video: /content/drive/MyDrive/Dataset/Share/Original_Aggregate_Train/Normal/flipped_processed_Normal (62).mp4 Class name: Normal Label: 0\n",
            "Processing video: /content/drive/MyDrive/Dataset/Share/Original_Aggregate_Train/Shoplifting/Copy of shorten_steal32.mp4 Class name: Shoplifting Label: 1\n",
            "Processing video: /content/drive/MyDrive/Dataset/Share/Original_Aggregate_Train/Shoplifting/pose_Shoplifting (44).mp4 Class name: Shoplifting Label: 1\n",
            "Processing video: /content/drive/MyDrive/Dataset/Share/Original_Aggregate_Train/Shoplifting/Copy of shorten_IMG_0161.mp4 Class name: Shoplifting Label: 1\n",
            "Processing video: /content/drive/MyDrive/Dataset/Share/Original_Aggregate_Train/Shoplifting/processed_Shoplifting (12).mp4 Class name: Shoplifting Label: 1\n",
            "Processing video: /content/drive/MyDrive/Dataset/Share/Original_Aggregate_Train/Normal/flipped_processed_Normal (48).mp4 Class name: Normal Label: 0\n",
            "Processing video: /content/drive/MyDrive/Dataset/Share/Original_Aggregate_Train/Shoplifting/processed_Shoplifting (66).mp4 Class name: Shoplifting Label: 1\n",
            "Processing video: /content/drive/MyDrive/Dataset/Share/Original_Aggregate_Train/Normal/processed_Normal (50).mp4 Class name: Normal Label: 0\n",
            "Processing video: /content/drive/MyDrive/Dataset/Share/Original_Aggregate_Train/Normal/flipped_pose_Normal (17).mp4 Class name: Normal Label: 0\n",
            "Processing video: /content/drive/MyDrive/Dataset/Share/Original_Aggregate_Train/Normal/flipped_pose_Normal (24).mp4 Class name: Normal Label: 0\n",
            "Processing video: /content/drive/MyDrive/Dataset/Share/Original_Aggregate_Train/Shoplifting/flipped_processed_Shoplifting (69).mp4 Class name: Shoplifting Label: 1\n",
            "Processing video: /content/drive/MyDrive/Dataset/Share/Original_Aggregate_Train/Normal/pose_Normal (34).mp4 Class name: Normal Label: 0\n",
            "Processing video: /content/drive/MyDrive/Dataset/Share/Original_Aggregate_Train/Shoplifting/pose_Shoplifting (41).mp4 Class name: Shoplifting Label: 1\n",
            "Processing video: /content/drive/MyDrive/Dataset/Share/Original_Aggregate_Train/Shoplifting/pose_Shoplifting (6).mp4 Class name: Shoplifting Label: 1\n",
            "Processing video: /content/drive/MyDrive/Dataset/Share/Original_Aggregate_Train/Normal/pose_Normal (51).mp4 Class name: Normal Label: 0\n",
            "Processing video: /content/drive/MyDrive/Dataset/Share/Original_Aggregate_Train/Shoplifting/flipped_pose_Shoplifting (48).mp4 Class name: Shoplifting Label: 1\n",
            "Processing video: /content/drive/MyDrive/Dataset/Share/Original_Aggregate_Train/Normal/flipped_pose_Normal (46).mp4 Class name: Normal Label: 0\n",
            "Processing video: /content/drive/MyDrive/Dataset/Share/Original_Aggregate_Train/Shoplifting/Copy of steal4.mp4 Class name: Shoplifting Label: 1\n",
            "Processing video: /content/drive/MyDrive/Dataset/Share/Original_Aggregate_Train/Normal/pose_Normal (21).mp4 Class name: Normal Label: 0\n",
            "Processing video: /content/drive/MyDrive/Dataset/Share/Original_Aggregate_Train/Shoplifting/flipped_pose_Shoplifting (24).mp4 Class name: Shoplifting Label: 1\n",
            "Processing video: /content/drive/MyDrive/Dataset/Share/Original_Aggregate_Train/Normal/processed_Normal (64).mp4 Class name: Normal Label: 0\n",
            "Processing video: /content/drive/MyDrive/Dataset/Share/Original_Aggregate_Train/Normal/pose_Normal (27).mp4 Class name: Normal Label: 0\n",
            "Processing video: /content/drive/MyDrive/Dataset/Share/Original_Aggregate_Train/Shoplifting/processed_Shoplifting (37).mp4 Class name: Shoplifting Label: 1\n",
            "Processing video: /content/drive/MyDrive/Dataset/Share/Original_Aggregate_Train/Shoplifting/flipped_pose_Shoplifting (11).mp4 Class name: Shoplifting Label: 1\n",
            "Processing video: /content/drive/MyDrive/Dataset/Share/Original_Aggregate_Train/Normal/pose_Normal (25).mp4 Class name: Normal Label: 0\n",
            "Processing video: /content/drive/MyDrive/Dataset/Share/Original_Aggregate_Train/Shoplifting/processed_Shoplifting (29).mp4 Class name: Shoplifting Label: 1\n",
            "Processing video: /content/drive/MyDrive/Dataset/Share/Original_Aggregate_Train/Normal/processed_Normal (46).mp4 Class name: Normal Label: 0\n",
            "Processing video: /content/drive/MyDrive/Dataset/Share/Original_Aggregate_Train/Normal/pose_Normal (42).mp4 Class name: Normal Label: 0\n",
            "Processing video: /content/drive/MyDrive/Dataset/Share/Original_Aggregate_Train/Shoplifting/pose_Shoplifting (18).mp4 Class name: Shoplifting Label: 1\n",
            "Processing video: /content/drive/MyDrive/Dataset/Share/Original_Aggregate_Train/Normal/pose_Normal (1).mp4 Class name: Normal Label: 0\n",
            "Processing video: /content/drive/MyDrive/Dataset/Share/Original_Aggregate_Train/Normal/pose_Normal (47).mp4 Class name: Normal Label: 0\n",
            "Processing video: /content/drive/MyDrive/Dataset/Share/Original_Aggregate_Train/Normal/gaussian_processed_Normal (48).mp4 Class name: Normal Label: 0\n",
            "Processing video: /content/drive/MyDrive/Dataset/Share/Original_Aggregate_Train/Shoplifting/processed_Shoplifting (58).mp4 Class name: Shoplifting Label: 1\n",
            "Processing video: /content/drive/MyDrive/Dataset/Share/Original_Aggregate_Train/Normal/flipped_processed_Normal (40).mp4 Class name: Normal Label: 0\n",
            "Processing video: /content/drive/MyDrive/Dataset/Share/Original_Aggregate_Train/Shoplifting/Copy of salt&pepper_steal9.mp4 Class name: Shoplifting Label: 1\n",
            "Processing video: /content/drive/MyDrive/Dataset/Share/Original_Aggregate_Train/Shoplifting/pose_Shoplifting (9).mp4 Class name: Shoplifting Label: 1\n",
            "Processing video: /content/drive/MyDrive/Dataset/Share/Original_Aggregate_Train/Normal/processed_Normal (45).mp4 Class name: Normal Label: 0\n",
            "Processing video: /content/drive/MyDrive/Dataset/Share/Original_Aggregate_Train/Shoplifting/flipped_processed_Shoplifting (46).mp4 Class name: Shoplifting Label: 1\n",
            "Processing video: /content/drive/MyDrive/Dataset/Share/Original_Aggregate_Train/Normal/pose_Normal (2).mp4 Class name: Normal Label: 0\n",
            "Processing video: /content/drive/MyDrive/Dataset/Share/Original_Aggregate_Train/Normal/flipped_pose_Normal (45).mp4 Class name: Normal Label: 0\n",
            "Processing video: /content/drive/MyDrive/Dataset/Share/Original_Aggregate_Train/Normal/gaussian_processed_Normal (4).mp4 Class name: Normal Label: 0\n",
            "Processing video: /content/drive/MyDrive/Dataset/Share/Original_Aggregate_Train/Shoplifting/flipped_processed_Shoplifting (64).mp4 Class name: Shoplifting Label: 1\n",
            "Processing video: /content/drive/MyDrive/Dataset/Share/Original_Aggregate_Train/Shoplifting/gaussian_processed_Shoplifting (7).mp4 Class name: Shoplifting Label: 1\n",
            "Processing video: /content/drive/MyDrive/Dataset/Share/Original_Aggregate_Train/Normal/pose_Normal (39).mp4 Class name: Normal Label: 0\n",
            "Processing video: /content/drive/MyDrive/Dataset/Share/Original_Aggregate_Train/Normal/pose_Normal (37).mp4 Class name: Normal Label: 0\n",
            "Processing video: /content/drive/MyDrive/Dataset/Share/Original_Aggregate_Train/Shoplifting/flipped_pose_Shoplifting (15).mp4 Class name: Shoplifting Label: 1\n",
            "Processing video: /content/drive/MyDrive/Dataset/Share/Original_Aggregate_Train/Shoplifting/flipped_pose_Shoplifting (51).mp4 Class name: Shoplifting Label: 1\n",
            "Processing video: /content/drive/MyDrive/Dataset/Share/Original_Aggregate_Train/Shoplifting/gaussian_processed_Shoplifting (40).mp4 Class name: Shoplifting Label: 1\n",
            "Processing video: /content/drive/MyDrive/Dataset/Share/Original_Aggregate_Train/Normal/processed_Normal (11).mp4 Class name: Normal Label: 0\n",
            "Processing video: /content/drive/MyDrive/Dataset/Share/Original_Aggregate_Train/Shoplifting/gaussian_processed_Shoplifting (21).mp4 Class name: Shoplifting Label: 1\n",
            "Processing video: /content/drive/MyDrive/Dataset/Share/Original_Aggregate_Train/Normal/processed_Normal (52).mp4 Class name: Normal Label: 0\n",
            "Processing video: /content/drive/MyDrive/Dataset/Share/Original_Aggregate_Train/Normal/processed_Normal (53).mp4 Class name: Normal Label: 0\n",
            "Processing video: /content/drive/MyDrive/Dataset/Share/Original_Aggregate_Train/Shoplifting/flipped_processed_Shoplifting (55).mp4 Class name: Shoplifting Label: 1\n",
            "Processing video: /content/drive/MyDrive/Dataset/Share/Original_Aggregate_Train/Normal/processed_Normal (37).mp4 Class name: Normal Label: 0\n",
            "Processing video: /content/drive/MyDrive/Dataset/Share/Original_Aggregate_Train/Shoplifting/gaussian_processed_Shoplifting (44).mp4 Class name: Shoplifting Label: 1\n",
            "Processing video: /content/drive/MyDrive/Dataset/Share/Original_Aggregate_Train/Normal/1202850_324_trimmed.mp4 Class name: Normal Label: 0\n",
            "Processing video: /content/drive/MyDrive/Dataset/Share/Original_Aggregate_Train/Normal/gaussian_processed_Normal (47).mp4 Class name: Normal Label: 0\n",
            "Processing video: /content/drive/MyDrive/Dataset/Share/Original_Aggregate_Train/Shoplifting/Copy of salt&pepper_shorten_steal29.mp4 Class name: Shoplifting Label: 1\n",
            "Processing video: /content/drive/MyDrive/Dataset/Share/Original_Aggregate_Train/Normal/flipped_pose_Normal (15).mp4 Class name: Normal Label: 0\n",
            "Processing video: /content/drive/MyDrive/Dataset/Share/Original_Aggregate_Train/Normal/flipped_processed_Normal (41).mp4 Class name: Normal Label: 0\n",
            "Processing video: /content/drive/MyDrive/Dataset/Share/Original_Aggregate_Train/Normal/processed_Normal (16).mp4 Class name: Normal Label: 0\n",
            "Processing video: /content/drive/MyDrive/Dataset/Share/Original_Aggregate_Train/Normal/gaussian_processed_Normal (14).mp4 Class name: Normal Label: 0\n",
            "Processing video: /content/drive/MyDrive/Dataset/Share/Original_Aggregate_Train/Normal/pose_Normal (40).mp4 Class name: Normal Label: 0\n",
            "Processing video: /content/drive/MyDrive/Dataset/Share/Original_Aggregate_Train/Shoplifting/processed_Shoplifting (26).mp4 Class name: Shoplifting Label: 1\n",
            "Processing video: /content/drive/MyDrive/Dataset/Share/Original_Aggregate_Train/Normal/flipped_processed_Normal (13).mp4 Class name: Normal Label: 0\n",
            "Processing video: /content/drive/MyDrive/Dataset/Share/Original_Aggregate_Train/Normal/flipped_pose_Normal (62).mp4 Class name: Normal Label: 0\n",
            "Processing video: /content/drive/MyDrive/Dataset/Share/Original_Aggregate_Train/Normal/processed_Normal (60).mp4 Class name: Normal Label: 0\n",
            "Processing video: /content/drive/MyDrive/Dataset/Share/Original_Aggregate_Train/Shoplifting/pose_Shoplifting (23).mp4 Class name: Shoplifting Label: 1\n",
            "Processing video: /content/drive/MyDrive/Dataset/Share/Original_Aggregate_Train/Shoplifting/pose_Shoplifting (54).mp4 Class name: Shoplifting Label: 1\n",
            "Processing video: /content/drive/MyDrive/Dataset/Share/Original_Aggregate_Train/Shoplifting/flipped_processed_Shoplifting (13).mp4 Class name: Shoplifting Label: 1\n",
            "Processing video: /content/drive/MyDrive/Dataset/Share/Original_Aggregate_Train/Shoplifting/pose_Shoplifting (30).mp4 Class name: Shoplifting Label: 1\n",
            "Processing video: /content/drive/MyDrive/Dataset/Share/Original_Aggregate_Train/Normal/output_114_trimmed.mp4 Class name: Normal Label: 0\n",
            "Processing video: /content/drive/MyDrive/Dataset/Share/Original_Aggregate_Train/Shoplifting/pose_Shoplifting (69).mp4 Class name: Shoplifting Label: 1\n",
            "Processing video: /content/drive/MyDrive/Dataset/Share/Original_Aggregate_Train/Shoplifting/flipped_processed_Shoplifting (11).mp4 Class name: Shoplifting Label: 1\n",
            "Processing video: /content/drive/MyDrive/Dataset/Share/Original_Aggregate_Train/Normal/flipped_processed_Normal (19).mp4 Class name: Normal Label: 0\n",
            "Processing video: /content/drive/MyDrive/Dataset/Share/Original_Aggregate_Train/Shoplifting/pose_Shoplifting (19).mp4 Class name: Shoplifting Label: 1\n",
            "Processing video: /content/drive/MyDrive/Dataset/Share/Original_Aggregate_Train/Shoplifting/pose_Shoplifting (14).mp4 Class name: Shoplifting Label: 1\n",
            "Processing video: /content/drive/MyDrive/Dataset/Share/Original_Aggregate_Train/Normal/output_188_trimmed.mp4 Class name: Normal Label: 0\n",
            "Processing video: /content/drive/MyDrive/Dataset/Share/Original_Aggregate_Train/Shoplifting/Copy of salt&pepper_shorten_steal34.mp4 Class name: Shoplifting Label: 1\n",
            "Processing video: /content/drive/MyDrive/Dataset/Share/Original_Aggregate_Train/Normal/flipped_processed_Normal (34).mp4 Class name: Normal Label: 0\n",
            "Processing video: /content/drive/MyDrive/Dataset/Share/Original_Aggregate_Train/Shoplifting/processed_Shoplifting (55).mp4 Class name: Shoplifting Label: 1\n",
            "Processing video: /content/drive/MyDrive/Dataset/Share/Original_Aggregate_Train/Normal/flipped_processed_Normal (15).mp4 Class name: Normal Label: 0\n",
            "Processing video: /content/drive/MyDrive/Dataset/Share/Original_Aggregate_Train/Shoplifting/gaussian_processed_Shoplifting (18).mp4 Class name: Shoplifting Label: 1\n",
            "Processing video: /content/drive/MyDrive/Dataset/Share/Original_Aggregate_Train/Shoplifting/flipped_pose_Shoplifting (21).mp4 Class name: Shoplifting Label: 1\n",
            "Processing video: /content/drive/MyDrive/Dataset/Share/Original_Aggregate_Train/Normal/pose_Normal (68).mp4 Class name: Normal Label: 0\n",
            "Processing video: /content/drive/MyDrive/Dataset/Share/Original_Aggregate_Train/Normal/pose_Normal (61).mp4 Class name: Normal Label: 0\n",
            "Processing video: /content/drive/MyDrive/Dataset/Share/Original_Aggregate_Train/Shoplifting/flipped_pose_Shoplifting (30).mp4 Class name: Shoplifting Label: 1\n",
            "Processing video: /content/drive/MyDrive/Dataset/Share/Original_Aggregate_Train/Normal/processed_Normal (25).mp4 Class name: Normal Label: 0\n",
            "Processing video: /content/drive/MyDrive/Dataset/Share/Original_Aggregate_Train/Normal/processed_Normal (7).mp4 Class name: Normal Label: 0\n",
            "Processing video: /content/drive/MyDrive/Dataset/Share/Original_Aggregate_Train/Shoplifting/flipped_pose_Shoplifting (14).mp4 Class name: Shoplifting Label: 1\n",
            "Processing video: /content/drive/MyDrive/Dataset/Share/Original_Aggregate_Train/Shoplifting/processed_Shoplifting (50).mp4 Class name: Shoplifting Label: 1\n",
            "Processing video: /content/drive/MyDrive/Dataset/Share/Original_Aggregate_Train/Shoplifting/flipped_pose_Shoplifting (43).mp4 Class name: Shoplifting Label: 1\n",
            "Processing video: /content/drive/MyDrive/Dataset/Share/Original_Aggregate_Train/Shoplifting/pose_Shoplifting (40).mp4 Class name: Shoplifting Label: 1\n",
            "Processing video: /content/drive/MyDrive/Dataset/Share/Original_Aggregate_Train/Normal/pose_Normal (63).mp4 Class name: Normal Label: 0\n",
            "Processing video: /content/drive/MyDrive/Dataset/Share/Original_Aggregate_Train/Shoplifting/processed_Shoplifting (31).mp4 Class name: Shoplifting Label: 1\n",
            "Processing video: /content/drive/MyDrive/Dataset/Share/Original_Aggregate_Train/Shoplifting/processed_Shoplifting (13).mp4 Class name: Shoplifting Label: 1\n",
            "Processing video: /content/drive/MyDrive/Dataset/Share/Original_Aggregate_Train/Shoplifting/Copy of steal9.mp4 Class name: Shoplifting Label: 1\n",
            "Processing video: /content/drive/MyDrive/Dataset/Share/Original_Aggregate_Train/Normal/flipped_processed_Normal (45).mp4 Class name: Normal Label: 0\n",
            "Processing video: /content/drive/MyDrive/Dataset/Share/Original_Aggregate_Train/Normal/output_041_trimmed.mp4 Class name: Normal Label: 0\n",
            "Processing video: /content/drive/MyDrive/Dataset/Share/Original_Aggregate_Train/Normal/processed_Normal (44).mp4 Class name: Normal Label: 0\n",
            "Processing video: /content/drive/MyDrive/Dataset/Share/Original_Aggregate_Train/Normal/flipped_processed_Normal (57).mp4 Class name: Normal Label: 0\n",
            "Processing video: /content/drive/MyDrive/Dataset/Share/Original_Aggregate_Train/Normal/processed_Normal (18).mp4 Class name: Normal Label: 0\n",
            "Processing video: /content/drive/MyDrive/Dataset/Share/Original_Aggregate_Train/Shoplifting/flipped_pose_Shoplifting (60).mp4 Class name: Shoplifting Label: 1\n",
            "Processing video: /content/drive/MyDrive/Dataset/Share/Original_Aggregate_Train/Normal/flipped_processed_Normal (55).mp4 Class name: Normal Label: 0\n",
            "Processing video: /content/drive/MyDrive/Dataset/Share/Original_Aggregate_Train/Shoplifting/gaussian_processed_Shoplifting (3).mp4 Class name: Shoplifting Label: 1\n",
            "Processing video: /content/drive/MyDrive/Dataset/Share/Original_Aggregate_Train/Shoplifting/processed_Shoplifting (16).mp4 Class name: Shoplifting Label: 1\n",
            "Processing video: /content/drive/MyDrive/Dataset/Share/Original_Aggregate_Train/Shoplifting/flipped_processed_Shoplifting (28).mp4 Class name: Shoplifting Label: 1\n",
            "Processing video: /content/drive/MyDrive/Dataset/Share/Original_Aggregate_Train/Normal/flipped_processed_Normal (36).mp4 Class name: Normal Label: 0\n",
            "Processing video: /content/drive/MyDrive/Dataset/Share/Original_Aggregate_Train/Normal/flipped_pose_Normal (28).mp4 Class name: Normal Label: 0\n",
            "Processing video: /content/drive/MyDrive/Dataset/Share/Original_Aggregate_Train/Shoplifting/processed_Shoplifting (41).mp4 Class name: Shoplifting Label: 1\n",
            "Processing video: /content/drive/MyDrive/Dataset/Share/Original_Aggregate_Train/Shoplifting/Copy of shorten_IMG_0161 (1).mp4 Class name: Shoplifting Label: 1\n",
            "Processing video: /content/drive/MyDrive/Dataset/Share/Original_Aggregate_Train/Shoplifting/gaussian_processed_Shoplifting (36).mp4 Class name: Shoplifting Label: 1\n",
            "Processing video: /content/drive/MyDrive/Dataset/Share/Original_Aggregate_Train/Shoplifting/flipped_pose_Shoplifting (61).mp4 Class name: Shoplifting Label: 1\n",
            "Processing video: /content/drive/MyDrive/Dataset/Share/Original_Aggregate_Train/Shoplifting/flipped_processed_Shoplifting (14).mp4 Class name: Shoplifting Label: 1\n",
            "Processing video: /content/drive/MyDrive/Dataset/Share/Original_Aggregate_Train/Shoplifting/Copy of shorten_steal20.mp4 Class name: Shoplifting Label: 1\n",
            "Processing video: /content/drive/MyDrive/Dataset/Share/Original_Aggregate_Train/Normal/pose_Normal (22).mp4 Class name: Normal Label: 0\n",
            "Processing video: /content/drive/MyDrive/Dataset/Share/Original_Aggregate_Train/Normal/flipped_pose_Normal (61).mp4 Class name: Normal Label: 0\n",
            "Processing video: /content/drive/MyDrive/Dataset/Share/Original_Aggregate_Train/Shoplifting/gaussian_processed_Shoplifting (37).mp4 Class name: Shoplifting Label: 1\n",
            "Processing video: /content/drive/MyDrive/Dataset/Share/Original_Aggregate_Train/Normal/flipped_processed_Normal (23).mp4 Class name: Normal Label: 0\n",
            "Processing video: /content/drive/MyDrive/Dataset/Share/Original_Aggregate_Train/Normal/6848071910_488_trimmed.mp4 Class name: Normal Label: 0\n",
            "Processing video: /content/drive/MyDrive/Dataset/Share/Original_Aggregate_Train/Normal/processed_Normal (30).mp4 Class name: Normal Label: 0\n",
            "Shape of training set of frames: (4, 140, 120, 120, 3)\n",
            "Shape of training labels: (4,)\n"
          ]
        }
      ],
      "source": [
        "train_ds = train_ds.batch(4)\n",
        "train_frames, train_labels = next(iter(train_ds))\n",
        "print(f'Shape of training set of frames: {train_frames.shape}')\n",
        "print(f'Shape of training labels: {train_labels.shape}')"
      ]
    },
    {
      "cell_type": "code",
      "execution_count": null,
      "id": "4efZl-5DLpf9",
      "metadata": {
        "colab": {
          "base_uri": "https://localhost:8080/"
        },
        "id": "4efZl-5DLpf9",
        "outputId": "4e3e6c82-741c-41d0-acb9-d2a59a7ee3c9"
      },
      "outputs": [
        {
          "name": "stdout",
          "output_type": "stream",
          "text": [
            "Processing video: /content/drive/MyDrive/Dataset/Share/Original_Aggregate_Val/Shoplifting/Copy of iseg_resized_Shoplifting (79).mp4 Class name: Shoplifting Label: 1\n",
            "Processing video: /content/drive/MyDrive/Dataset/Share/Original_Aggregate_Val/Shoplifting/processed_Shoplifting (70).mp4 Class name: Shoplifting Label: 1\n",
            "Processing video: /content/drive/MyDrive/Dataset/Share/Original_Aggregate_Val/Shoplifting/processed_Shoplifting (71).mp4 Class name: Shoplifting Label: 1\n",
            "Processing video: /content/drive/MyDrive/Dataset/Share/Original_Aggregate_Val/Shoplifting/processed_Shoplifting (72).mp4 Class name: Shoplifting Label: 1\n",
            "Processing video: /content/drive/MyDrive/Dataset/Share/Original_Aggregate_Val/Shoplifting/processed_Shoplifting (73).mp4 Class name: Shoplifting Label: 1\n",
            "Processing video: /content/drive/MyDrive/Dataset/Share/Original_Aggregate_Val/Shoplifting/processed_Shoplifting (74).mp4 Class name: Shoplifting Label: 1\n",
            "Processing video: /content/drive/MyDrive/Dataset/Share/Original_Aggregate_Val/Shoplifting/processed_Shoplifting (75).mp4 Class name: Shoplifting Label: 1\n",
            "Processing video: /content/drive/MyDrive/Dataset/Share/Original_Aggregate_Val/Shoplifting/processed_Shoplifting (76).mp4 Class name: Shoplifting Label: 1\n",
            "Processing video: /content/drive/MyDrive/Dataset/Share/Original_Aggregate_Val/Shoplifting/processed_Shoplifting (78).mp4 Class name: Shoplifting Label: 1\n",
            "Processing video: /content/drive/MyDrive/Dataset/Share/Original_Aggregate_Val/Shoplifting/processed_Shoplifting (77).mp4 Class name: Shoplifting Label: 1\n",
            "Processing video: /content/drive/MyDrive/Dataset/Share/Original_Aggregate_Val/Shoplifting/processed_Shoplifting (79).mp4 Class name: Shoplifting Label: 1\n",
            "Processing video: /content/drive/MyDrive/Dataset/Share/Original_Aggregate_Val/Shoplifting/processed_Shoplifting (80).mp4 Class name: Shoplifting Label: 1\n",
            "Processing video: /content/drive/MyDrive/Dataset/Share/Original_Aggregate_Val/Shoplifting/processed_Shoplifting (81).mp4 Class name: Shoplifting Label: 1\n",
            "Processing video: /content/drive/MyDrive/Dataset/Share/Original_Aggregate_Val/Shoplifting/processed_Shoplifting (82).mp4 Class name: Shoplifting Label: 1\n",
            "Processing video: /content/drive/MyDrive/Dataset/Share/Original_Aggregate_Val/Shoplifting/processed_Shoplifting (83).mp4 Class name: Shoplifting Label: 1\n",
            "Processing video: /content/drive/MyDrive/Dataset/Share/Original_Aggregate_Val/Shoplifting/processed_Shoplifting (84).mp4 Class name: Shoplifting Label: 1\n",
            "Processing video: /content/drive/MyDrive/Dataset/Share/Original_Aggregate_Val/Shoplifting/processed_Shoplifting (85).mp4 Class name: Shoplifting Label: 1\n",
            "Processing video: /content/drive/MyDrive/Dataset/Share/Original_Aggregate_Val/Shoplifting/processed_Shoplifting (86).mp4 Class name: Shoplifting Label: 1\n",
            "Processing video: /content/drive/MyDrive/Dataset/Share/Original_Aggregate_Val/Shoplifting/processed_Shoplifting (87).mp4 Class name: Shoplifting Label: 1\n",
            "Processing video: /content/drive/MyDrive/Dataset/Share/Original_Aggregate_Val/Shoplifting/processed_Shoplifting (89).mp4 Class name: Shoplifting Label: 1\n",
            "Processing video: /content/drive/MyDrive/Dataset/Share/Original_Aggregate_Val/Shoplifting/processed_Shoplifting (88).mp4 Class name: Shoplifting Label: 1\n",
            "Processing video: /content/drive/MyDrive/Dataset/Share/Original_Aggregate_Val/Shoplifting/processed_Shoplifting (90).mp4 Class name: Shoplifting Label: 1\n",
            "Processing video: /content/drive/MyDrive/Dataset/Share/Original_Aggregate_Val/Shoplifting/processed_Shoplifting (91).mp4 Class name: Shoplifting Label: 1\n",
            "Processing video: /content/drive/MyDrive/Dataset/Share/Original_Aggregate_Val/Shoplifting/processed_Shoplifting (92).mp4 Class name: Shoplifting Label: 1\n",
            "Processing video: /content/drive/MyDrive/Dataset/Share/Original_Aggregate_Val/Shoplifting/processed_Shoplifting (93).mp4 Class name: Shoplifting Label: 1\n",
            "Processing video: /content/drive/MyDrive/Dataset/Share/Original_Aggregate_Val/Shoplifting/flipped_processed_Shoplifting (70).mp4 Class name: Shoplifting Label: 1\n",
            "Processing video: /content/drive/MyDrive/Dataset/Share/Original_Aggregate_Val/Shoplifting/flipped_processed_Shoplifting (71).mp4 Class name: Shoplifting Label: 1\n",
            "Processing video: /content/drive/MyDrive/Dataset/Share/Original_Aggregate_Val/Shoplifting/flipped_processed_Shoplifting (72).mp4 Class name: Shoplifting Label: 1\n",
            "Processing video: /content/drive/MyDrive/Dataset/Share/Original_Aggregate_Val/Shoplifting/flipped_processed_Shoplifting (73).mp4 Class name: Shoplifting Label: 1\n",
            "Processing video: /content/drive/MyDrive/Dataset/Share/Original_Aggregate_Val/Shoplifting/flipped_processed_Shoplifting (74).mp4 Class name: Shoplifting Label: 1\n",
            "Processing video: /content/drive/MyDrive/Dataset/Share/Original_Aggregate_Val/Shoplifting/flipped_processed_Shoplifting (75).mp4 Class name: Shoplifting Label: 1\n",
            "Processing video: /content/drive/MyDrive/Dataset/Share/Original_Aggregate_Val/Shoplifting/flipped_processed_Shoplifting (76).mp4 Class name: Shoplifting Label: 1\n",
            "Processing video: /content/drive/MyDrive/Dataset/Share/Original_Aggregate_Val/Shoplifting/flipped_processed_Shoplifting (78).mp4 Class name: Shoplifting Label: 1\n",
            "Processing video: /content/drive/MyDrive/Dataset/Share/Original_Aggregate_Val/Shoplifting/flipped_processed_Shoplifting (77).mp4 Class name: Shoplifting Label: 1\n",
            "Processing video: /content/drive/MyDrive/Dataset/Share/Original_Aggregate_Val/Shoplifting/flipped_processed_Shoplifting (79).mp4 Class name: Shoplifting Label: 1\n",
            "Processing video: /content/drive/MyDrive/Dataset/Share/Original_Aggregate_Val/Shoplifting/flipped_processed_Shoplifting (80).mp4 Class name: Shoplifting Label: 1\n",
            "Processing video: /content/drive/MyDrive/Dataset/Share/Original_Aggregate_Val/Shoplifting/flipped_processed_Shoplifting (81).mp4 Class name: Shoplifting Label: 1\n",
            "Processing video: /content/drive/MyDrive/Dataset/Share/Original_Aggregate_Val/Shoplifting/flipped_processed_Shoplifting (82).mp4 Class name: Shoplifting Label: 1\n",
            "Processing video: /content/drive/MyDrive/Dataset/Share/Original_Aggregate_Val/Shoplifting/flipped_processed_Shoplifting (83).mp4 Class name: Shoplifting Label: 1\n",
            "Processing video: /content/drive/MyDrive/Dataset/Share/Original_Aggregate_Val/Shoplifting/flipped_processed_Shoplifting (84).mp4 Class name: Shoplifting Label: 1\n",
            "Processing video: /content/drive/MyDrive/Dataset/Share/Original_Aggregate_Val/Shoplifting/flipped_processed_Shoplifting (85).mp4 Class name: Shoplifting Label: 1\n",
            "Processing video: /content/drive/MyDrive/Dataset/Share/Original_Aggregate_Val/Shoplifting/flipped_processed_Shoplifting (86).mp4 Class name: Shoplifting Label: 1\n",
            "Processing video: /content/drive/MyDrive/Dataset/Share/Original_Aggregate_Val/Shoplifting/flipped_processed_Shoplifting (87).mp4 Class name: Shoplifting Label: 1\n",
            "Processing video: /content/drive/MyDrive/Dataset/Share/Original_Aggregate_Val/Shoplifting/flipped_processed_Shoplifting (89).mp4 Class name: Shoplifting Label: 1\n",
            "Processing video: /content/drive/MyDrive/Dataset/Share/Original_Aggregate_Val/Shoplifting/flipped_processed_Shoplifting (88).mp4 Class name: Shoplifting Label: 1\n",
            "Processing video: /content/drive/MyDrive/Dataset/Share/Original_Aggregate_Val/Shoplifting/flipped_processed_Shoplifting (90).mp4 Class name: Shoplifting Label: 1\n",
            "Processing video: /content/drive/MyDrive/Dataset/Share/Original_Aggregate_Val/Shoplifting/flipped_processed_Shoplifting (91).mp4 Class name: Shoplifting Label: 1\n",
            "Processing video: /content/drive/MyDrive/Dataset/Share/Original_Aggregate_Val/Shoplifting/flipped_processed_Shoplifting (92).mp4 Class name: Shoplifting Label: 1\n",
            "Processing video: /content/drive/MyDrive/Dataset/Share/Original_Aggregate_Val/Shoplifting/flipped_processed_Shoplifting (93).mp4 Class name: Shoplifting Label: 1\n",
            "Processing video: /content/drive/MyDrive/Dataset/Share/Original_Aggregate_Val/Shoplifting/pose_Shoplifting (70).mp4 Class name: Shoplifting Label: 1\n",
            "Processing video: /content/drive/MyDrive/Dataset/Share/Original_Aggregate_Val/Shoplifting/pose_Shoplifting (71).mp4 Class name: Shoplifting Label: 1\n",
            "Processing video: /content/drive/MyDrive/Dataset/Share/Original_Aggregate_Val/Shoplifting/pose_Shoplifting (72).mp4 Class name: Shoplifting Label: 1\n",
            "Processing video: /content/drive/MyDrive/Dataset/Share/Original_Aggregate_Val/Shoplifting/pose_Shoplifting (73).mp4 Class name: Shoplifting Label: 1\n",
            "Processing video: /content/drive/MyDrive/Dataset/Share/Original_Aggregate_Val/Shoplifting/pose_Shoplifting (74).mp4 Class name: Shoplifting Label: 1\n",
            "Processing video: /content/drive/MyDrive/Dataset/Share/Original_Aggregate_Val/Shoplifting/pose_Shoplifting (75).mp4 Class name: Shoplifting Label: 1\n",
            "Processing video: /content/drive/MyDrive/Dataset/Share/Original_Aggregate_Val/Shoplifting/pose_Shoplifting (76).mp4 Class name: Shoplifting Label: 1\n",
            "Processing video: /content/drive/MyDrive/Dataset/Share/Original_Aggregate_Val/Shoplifting/pose_Shoplifting (77).mp4 Class name: Shoplifting Label: 1\n",
            "Processing video: /content/drive/MyDrive/Dataset/Share/Original_Aggregate_Val/Shoplifting/pose_Shoplifting (78).mp4 Class name: Shoplifting Label: 1\n",
            "Processing video: /content/drive/MyDrive/Dataset/Share/Original_Aggregate_Val/Shoplifting/pose_Shoplifting (79).mp4 Class name: Shoplifting Label: 1\n",
            "Processing video: /content/drive/MyDrive/Dataset/Share/Original_Aggregate_Val/Shoplifting/pose_Shoplifting (80).mp4 Class name: Shoplifting Label: 1\n",
            "Processing video: /content/drive/MyDrive/Dataset/Share/Original_Aggregate_Val/Shoplifting/pose_Shoplifting (81).mp4 Class name: Shoplifting Label: 1\n",
            "Processing video: /content/drive/MyDrive/Dataset/Share/Original_Aggregate_Val/Shoplifting/pose_Shoplifting (82).mp4 Class name: Shoplifting Label: 1\n",
            "Processing video: /content/drive/MyDrive/Dataset/Share/Original_Aggregate_Val/Shoplifting/pose_Shoplifting (83).mp4 Class name: Shoplifting Label: 1\n",
            "Processing video: /content/drive/MyDrive/Dataset/Share/Original_Aggregate_Val/Shoplifting/pose_Shoplifting (84).mp4 Class name: Shoplifting Label: 1\n",
            "Processing video: /content/drive/MyDrive/Dataset/Share/Original_Aggregate_Val/Shoplifting/pose_Shoplifting (85).mp4 Class name: Shoplifting Label: 1\n",
            "Processing video: /content/drive/MyDrive/Dataset/Share/Original_Aggregate_Val/Shoplifting/pose_Shoplifting (86).mp4 Class name: Shoplifting Label: 1\n",
            "Processing video: /content/drive/MyDrive/Dataset/Share/Original_Aggregate_Val/Shoplifting/pose_Shoplifting (87).mp4 Class name: Shoplifting Label: 1\n",
            "Processing video: /content/drive/MyDrive/Dataset/Share/Original_Aggregate_Val/Shoplifting/pose_Shoplifting (88).mp4 Class name: Shoplifting Label: 1\n",
            "Processing video: /content/drive/MyDrive/Dataset/Share/Original_Aggregate_Val/Shoplifting/pose_Shoplifting (89).mp4 Class name: Shoplifting Label: 1\n",
            "Processing video: /content/drive/MyDrive/Dataset/Share/Original_Aggregate_Val/Shoplifting/pose_Shoplifting (90).mp4 Class name: Shoplifting Label: 1\n",
            "Processing video: /content/drive/MyDrive/Dataset/Share/Original_Aggregate_Val/Shoplifting/pose_Shoplifting (91).mp4 Class name: Shoplifting Label: 1\n",
            "Processing video: /content/drive/MyDrive/Dataset/Share/Original_Aggregate_Val/Shoplifting/pose_Shoplifting (92).mp4 Class name: Shoplifting Label: 1\n",
            "Processing video: /content/drive/MyDrive/Dataset/Share/Original_Aggregate_Val/Shoplifting/pose_Shoplifting (93).mp4 Class name: Shoplifting Label: 1\n",
            "Processing video: /content/drive/MyDrive/Dataset/Share/Original_Aggregate_Val/Shoplifting/flipped_pose_Shoplifting (70).mp4 Class name: Shoplifting Label: 1\n",
            "Processing video: /content/drive/MyDrive/Dataset/Share/Original_Aggregate_Val/Shoplifting/flipped_pose_Shoplifting (71).mp4 Class name: Shoplifting Label: 1\n",
            "Processing video: /content/drive/MyDrive/Dataset/Share/Original_Aggregate_Val/Shoplifting/flipped_pose_Shoplifting (72).mp4 Class name: Shoplifting Label: 1\n",
            "Processing video: /content/drive/MyDrive/Dataset/Share/Original_Aggregate_Val/Shoplifting/flipped_pose_Shoplifting (73).mp4 Class name: Shoplifting Label: 1\n",
            "Processing video: /content/drive/MyDrive/Dataset/Share/Original_Aggregate_Val/Shoplifting/flipped_pose_Shoplifting (74).mp4 Class name: Shoplifting Label: 1\n",
            "Processing video: /content/drive/MyDrive/Dataset/Share/Original_Aggregate_Val/Shoplifting/flipped_pose_Shoplifting (75).mp4 Class name: Shoplifting Label: 1\n",
            "Processing video: /content/drive/MyDrive/Dataset/Share/Original_Aggregate_Val/Shoplifting/flipped_pose_Shoplifting (76).mp4 Class name: Shoplifting Label: 1\n",
            "Processing video: /content/drive/MyDrive/Dataset/Share/Original_Aggregate_Val/Shoplifting/flipped_pose_Shoplifting (77).mp4 Class name: Shoplifting Label: 1\n",
            "Processing video: /content/drive/MyDrive/Dataset/Share/Original_Aggregate_Val/Shoplifting/flipped_pose_Shoplifting (78).mp4 Class name: Shoplifting Label: 1\n",
            "Processing video: /content/drive/MyDrive/Dataset/Share/Original_Aggregate_Val/Shoplifting/flipped_pose_Shoplifting (79).mp4 Class name: Shoplifting Label: 1\n",
            "Processing video: /content/drive/MyDrive/Dataset/Share/Original_Aggregate_Val/Shoplifting/flipped_pose_Shoplifting (80).mp4 Class name: Shoplifting Label: 1\n",
            "Processing video: /content/drive/MyDrive/Dataset/Share/Original_Aggregate_Val/Shoplifting/flipped_pose_Shoplifting (81).mp4 Class name: Shoplifting Label: 1\n",
            "Processing video: /content/drive/MyDrive/Dataset/Share/Original_Aggregate_Val/Shoplifting/flipped_pose_Shoplifting (82).mp4 Class name: Shoplifting Label: 1\n",
            "Processing video: /content/drive/MyDrive/Dataset/Share/Original_Aggregate_Val/Shoplifting/flipped_pose_Shoplifting (83).mp4 Class name: Shoplifting Label: 1\n",
            "Processing video: /content/drive/MyDrive/Dataset/Share/Original_Aggregate_Val/Shoplifting/flipped_pose_Shoplifting (84).mp4 Class name: Shoplifting Label: 1\n",
            "Processing video: /content/drive/MyDrive/Dataset/Share/Original_Aggregate_Val/Shoplifting/flipped_pose_Shoplifting (85).mp4 Class name: Shoplifting Label: 1\n",
            "Processing video: /content/drive/MyDrive/Dataset/Share/Original_Aggregate_Val/Shoplifting/flipped_pose_Shoplifting (86).mp4 Class name: Shoplifting Label: 1\n",
            "Processing video: /content/drive/MyDrive/Dataset/Share/Original_Aggregate_Val/Shoplifting/flipped_pose_Shoplifting (87).mp4 Class name: Shoplifting Label: 1\n",
            "Processing video: /content/drive/MyDrive/Dataset/Share/Original_Aggregate_Val/Shoplifting/flipped_pose_Shoplifting (88).mp4 Class name: Shoplifting Label: 1\n",
            "Processing video: /content/drive/MyDrive/Dataset/Share/Original_Aggregate_Val/Shoplifting/flipped_pose_Shoplifting (89).mp4 Class name: Shoplifting Label: 1\n",
            "Processing video: /content/drive/MyDrive/Dataset/Share/Original_Aggregate_Val/Shoplifting/flipped_pose_Shoplifting (90).mp4 Class name: Shoplifting Label: 1\n",
            "Processing video: /content/drive/MyDrive/Dataset/Share/Original_Aggregate_Val/Shoplifting/flipped_pose_Shoplifting (91).mp4 Class name: Shoplifting Label: 1\n",
            "Processing video: /content/drive/MyDrive/Dataset/Share/Original_Aggregate_Val/Shoplifting/flipped_pose_Shoplifting (92).mp4 Class name: Shoplifting Label: 1\n",
            "Processing video: /content/drive/MyDrive/Dataset/Share/Original_Aggregate_Val/Shoplifting/flipped_pose_Shoplifting (93).mp4 Class name: Shoplifting Label: 1\n",
            "Processing video: /content/drive/MyDrive/Dataset/Share/Original_Aggregate_Val/Shoplifting/resized_Shoplifting (70).mp4 Class name: Shoplifting Label: 1\n",
            "Processing video: /content/drive/MyDrive/Dataset/Share/Original_Aggregate_Val/Shoplifting/resized_Shoplifting (71).mp4 Class name: Shoplifting Label: 1\n",
            "Processing video: /content/drive/MyDrive/Dataset/Share/Original_Aggregate_Val/Shoplifting/resized_Shoplifting (72).mp4 Class name: Shoplifting Label: 1\n",
            "Processing video: /content/drive/MyDrive/Dataset/Share/Original_Aggregate_Val/Shoplifting/resized_Shoplifting (73).mp4 Class name: Shoplifting Label: 1\n",
            "Processing video: /content/drive/MyDrive/Dataset/Share/Original_Aggregate_Val/Shoplifting/resized_Shoplifting (74).mp4 Class name: Shoplifting Label: 1\n",
            "Processing video: /content/drive/MyDrive/Dataset/Share/Original_Aggregate_Val/Shoplifting/resized_Shoplifting (75).mp4 Class name: Shoplifting Label: 1\n",
            "Processing video: /content/drive/MyDrive/Dataset/Share/Original_Aggregate_Val/Shoplifting/resized_Shoplifting (76).mp4 Class name: Shoplifting Label: 1\n",
            "Processing video: /content/drive/MyDrive/Dataset/Share/Original_Aggregate_Val/Shoplifting/resized_Shoplifting (77).mp4 Class name: Shoplifting Label: 1\n",
            "Processing video: /content/drive/MyDrive/Dataset/Share/Original_Aggregate_Val/Shoplifting/resized_Shoplifting (78).mp4 Class name: Shoplifting Label: 1\n",
            "Processing video: /content/drive/MyDrive/Dataset/Share/Original_Aggregate_Val/Shoplifting/resized_Shoplifting (79).mp4 Class name: Shoplifting Label: 1\n",
            "Processing video: /content/drive/MyDrive/Dataset/Share/Original_Aggregate_Val/Shoplifting/resized_Shoplifting (80).mp4 Class name: Shoplifting Label: 1\n",
            "Processing video: /content/drive/MyDrive/Dataset/Share/Original_Aggregate_Val/Shoplifting/resized_Shoplifting (81).mp4 Class name: Shoplifting Label: 1\n",
            "Processing video: /content/drive/MyDrive/Dataset/Share/Original_Aggregate_Val/Shoplifting/resized_Shoplifting (82).mp4 Class name: Shoplifting Label: 1\n",
            "Processing video: /content/drive/MyDrive/Dataset/Share/Original_Aggregate_Val/Shoplifting/resized_Shoplifting (83).mp4 Class name: Shoplifting Label: 1\n",
            "Processing video: /content/drive/MyDrive/Dataset/Share/Original_Aggregate_Val/Shoplifting/resized_Shoplifting (84).mp4 Class name: Shoplifting Label: 1\n",
            "Processing video: /content/drive/MyDrive/Dataset/Share/Original_Aggregate_Val/Shoplifting/resized_Shoplifting (85).mp4 Class name: Shoplifting Label: 1\n",
            "Processing video: /content/drive/MyDrive/Dataset/Share/Original_Aggregate_Val/Shoplifting/resized_Shoplifting (86).mp4 Class name: Shoplifting Label: 1\n",
            "Processing video: /content/drive/MyDrive/Dataset/Share/Original_Aggregate_Val/Shoplifting/resized_Shoplifting (87).mp4 Class name: Shoplifting Label: 1\n",
            "Processing video: /content/drive/MyDrive/Dataset/Share/Original_Aggregate_Val/Shoplifting/resized_Shoplifting (88).mp4 Class name: Shoplifting Label: 1\n",
            "Processing video: /content/drive/MyDrive/Dataset/Share/Original_Aggregate_Val/Shoplifting/resized_Shoplifting (89).mp4 Class name: Shoplifting Label: 1\n",
            "Processing video: /content/drive/MyDrive/Dataset/Share/Original_Aggregate_Val/Shoplifting/resized_Shoplifting (90).mp4 Class name: Shoplifting Label: 1\n",
            "Processing video: /content/drive/MyDrive/Dataset/Share/Original_Aggregate_Val/Shoplifting/resized_Shoplifting (91).mp4 Class name: Shoplifting Label: 1\n",
            "Processing video: /content/drive/MyDrive/Dataset/Share/Original_Aggregate_Val/Shoplifting/resized_Shoplifting (92).mp4 Class name: Shoplifting Label: 1\n",
            "Processing video: /content/drive/MyDrive/Dataset/Share/Original_Aggregate_Val/Shoplifting/resized_Shoplifting (93).mp4 Class name: Shoplifting Label: 1\n",
            "Processing video: /content/drive/MyDrive/Dataset/Share/Original_Aggregate_Val/Shoplifting/Copy of brightness_shorten_flipped_processed_Shoplifting (45x).mp4 Class name: Shoplifting Label: 1\n",
            "Processing video: /content/drive/MyDrive/Dataset/Share/Original_Aggregate_Val/Shoplifting/Copy of brightness_steal1.1.mp4 Class name: Shoplifting Label: 1\n",
            "Processing video: /content/drive/MyDrive/Dataset/Share/Original_Aggregate_Val/Shoplifting/Copy of brightness_steal8.mp4 Class name: Shoplifting Label: 1\n",
            "Processing video: /content/drive/MyDrive/Dataset/Share/Original_Aggregate_Val/Shoplifting/Copy of brightness_shorten_flipped_Shoplifting (45x).mp4 Class name: Shoplifting Label: 1\n",
            "Processing video: /content/drive/MyDrive/Dataset/Share/Original_Aggregate_Val/Shoplifting/Copy of brightness_steal6.mp4 Class name: Shoplifting Label: 1\n",
            "Processing video: /content/drive/MyDrive/Dataset/Share/Original_Aggregate_Val/Shoplifting/Copy of brightness_shorten_Shoplifting (45x).mp4 Class name: Shoplifting Label: 1\n",
            "Processing video: /content/drive/MyDrive/Dataset/Share/Original_Aggregate_Val/Shoplifting/Copy of brightness_steal3.mp4 Class name: Shoplifting Label: 1\n",
            "Processing video: /content/drive/MyDrive/Dataset/Share/Original_Aggregate_Val/Shoplifting/Copy of brightness_steal26.mp4 Class name: Shoplifting Label: 1\n",
            "Processing video: /content/drive/MyDrive/Dataset/Share/Original_Aggregate_Val/Shoplifting/Copy of brightness_shorten_processed_Shoplifting (45x).mp4 Class name: Shoplifting Label: 1\n",
            "Processing video: /content/drive/MyDrive/Dataset/Share/Original_Aggregate_Val/Shoplifting/Copy of brightness_resized_processed_Shoplifting (93).mp4 Class name: Shoplifting Label: 1\n",
            "Processing video: /content/drive/MyDrive/Dataset/Share/Original_Aggregate_Val/Shoplifting/Copy of flipped_steal6.mp4 Class name: Shoplifting Label: 1\n",
            "Processing video: /content/drive/MyDrive/Dataset/Share/Original_Aggregate_Val/Shoplifting/Copy of contrast_steal6.mp4 Class name: Shoplifting Label: 1\n",
            "Processing video: /content/drive/MyDrive/Dataset/Share/Original_Aggregate_Val/Shoplifting/Copy of flipped_box_steal33.mp4 Class name: Shoplifting Label: 1\n",
            "Processing video: /content/drive/MyDrive/Dataset/Share/Original_Aggregate_Val/Shoplifting/Copy of contrast_steal3.mp4 Class name: Shoplifting Label: 1\n",
            "Processing video: /content/drive/MyDrive/Dataset/Share/Original_Aggregate_Val/Shoplifting/Copy of flipped_steal3.mp4 Class name: Shoplifting Label: 1\n",
            "Processing video: /content/drive/MyDrive/Dataset/Share/Original_Aggregate_Val/Shoplifting/Copy of flipped_box_steal26.mp4 Class name: Shoplifting Label: 1\n",
            "Processing video: /content/drive/MyDrive/Dataset/Share/Original_Aggregate_Val/Shoplifting/Copy of flipped_steal1.1.mp4 Class name: Shoplifting Label: 1\n",
            "Processing video: /content/drive/MyDrive/Dataset/Share/Original_Aggregate_Val/Shoplifting/Copy of contrast_steal8.mp4 Class name: Shoplifting Label: 1\n",
            "Processing video: /content/drive/MyDrive/Dataset/Share/Original_Aggregate_Val/Shoplifting/Copy of brightness_steal33.mp4 Class name: Shoplifting Label: 1\n",
            "Processing video: /content/drive/MyDrive/Dataset/Share/Original_Aggregate_Val/Shoplifting/Copy of contrast_steal1.1.mp4 Class name: Shoplifting Label: 1\n",
            "Processing video: /content/drive/MyDrive/Dataset/Share/Original_Aggregate_Val/Shoplifting/Copy of flipped_steal26.mp4 Class name: Shoplifting Label: 1\n",
            "Processing video: /content/drive/MyDrive/Dataset/Share/Original_Aggregate_Val/Shoplifting/Copy of iseg_resized_Shoplifting (82).mp4 Class name: Shoplifting Label: 1\n",
            "Processing video: /content/drive/MyDrive/Dataset/Share/Original_Aggregate_Val/Shoplifting/Copy of iseg_resized_Shoplifting (71).mp4 Class name: Shoplifting Label: 1\n",
            "Processing video: /content/drive/MyDrive/Dataset/Share/Original_Aggregate_Val/Shoplifting/Copy of iseg_resized_Shoplifting (76).mp4 Class name: Shoplifting Label: 1\n",
            "Processing video: /content/drive/MyDrive/Dataset/Share/Original_Aggregate_Val/Shoplifting/Copy of flipped_steal8.mp4 Class name: Shoplifting Label: 1\n",
            "Processing video: /content/drive/MyDrive/Dataset/Share/Original_Aggregate_Val/Shoplifting/Copy of translate_resized_processed_Shoplifting (93).mp4 Class name: Shoplifting Label: 1\n",
            "Processing video: /content/drive/MyDrive/Dataset/Share/Original_Aggregate_Val/Shoplifting/Copy of iseg_resized_Shoplifting (80).mp4 Class name: Shoplifting Label: 1\n",
            "Processing video: /content/drive/MyDrive/Dataset/Share/Original_Aggregate_Val/Shoplifting/Copy of iseg_resized_Shoplifting (81).mp4 Class name: Shoplifting Label: 1\n",
            "Processing video: /content/drive/MyDrive/Dataset/Share/Original_Aggregate_Val/Shoplifting/Copy of flipped_steal33.mp4 Class name: Shoplifting Label: 1\n",
            "Processing video: /content/drive/MyDrive/Dataset/Share/Original_Aggregate_Val/Shoplifting/Copy of translate_steal33.mp4 Class name: Shoplifting Label: 1\n",
            "Processing video: /content/drive/MyDrive/Dataset/Share/Original_Aggregate_Val/Shoplifting/Copy of translate_steal6.mp4 Class name: Shoplifting Label: 1\n",
            "Processing video: /content/drive/MyDrive/Dataset/Share/Original_Aggregate_Val/Shoplifting/Copy of translate_steal3.mp4 Class name: Shoplifting Label: 1\n",
            "Processing video: /content/drive/MyDrive/Dataset/Share/Original_Aggregate_Val/Shoplifting/Copy of translate_steal8.mp4 Class name: Shoplifting Label: 1\n",
            "Processing video: /content/drive/MyDrive/Dataset/Share/Original_Aggregate_Val/Shoplifting/Copy of translate_shorten_Shoplifting (45x).mp4 Class name: Shoplifting Label: 1\n",
            "Processing video: /content/drive/MyDrive/Dataset/Share/Original_Aggregate_Val/Shoplifting/Copy of translate_steal1.1.mp4 Class name: Shoplifting Label: 1\n",
            "Processing video: /content/drive/MyDrive/Dataset/Share/Original_Aggregate_Val/Shoplifting/Copy of translate_shorten_flipped_Shoplifting (45x).mp4 Class name: Shoplifting Label: 1\n",
            "Processing video: /content/drive/MyDrive/Dataset/Share/Original_Aggregate_Val/Shoplifting/Copy of translate_steal26.mp4 Class name: Shoplifting Label: 1\n",
            "Processing video: /content/drive/MyDrive/Dataset/Share/Original_Aggregate_Val/Shoplifting/Copy of translate_shorten_flipped_processed_Shoplifting (45x).mp4 Class name: Shoplifting Label: 1\n",
            "Processing video: /content/drive/MyDrive/Dataset/Share/Original_Aggregate_Val/Shoplifting/Copy of translate_shorten_processed_Shoplifting (45x).mp4 Class name: Shoplifting Label: 1\n",
            "Processing video: /content/drive/MyDrive/Dataset/Share/Original_Aggregate_Val/Normal/6848071910_301_trimmed.mp4 Class name: Normal Label: 0\n",
            "Processing video: /content/drive/MyDrive/Dataset/Share/Original_Aggregate_Val/Normal/6848071910_440_trimmed.mp4 Class name: Normal Label: 0\n",
            "Processing video: /content/drive/MyDrive/Dataset/Share/Original_Aggregate_Val/Normal/6848071910_564_trimmed.mp4 Class name: Normal Label: 0\n",
            "Processing video: /content/drive/MyDrive/Dataset/Share/Original_Aggregate_Val/Normal/1590456_178_trimmed.mp4 Class name: Normal Label: 0\n",
            "Processing video: /content/drive/MyDrive/Dataset/Share/Original_Aggregate_Val/Normal/1590456_279_trimmed.mp4 Class name: Normal Label: 0\n",
            "Processing video: /content/drive/MyDrive/Dataset/Share/Original_Aggregate_Val/Normal/output_216_trimmed.mp4 Class name: Normal Label: 0\n",
            "Processing video: /content/drive/MyDrive/Dataset/Share/Original_Aggregate_Val/Normal/6848071910_594_trimmed.mp4 Class name: Normal Label: 0\n",
            "Processing video: /content/drive/MyDrive/Dataset/Share/Original_Aggregate_Val/Normal/1202850_259_trimmed.mp4 Class name: Normal Label: 0\n",
            "Processing video: /content/drive/MyDrive/Dataset/Share/Original_Aggregate_Val/Normal/output_296_trimmed.mp4 Class name: Normal Label: 0\n",
            "Processing video: /content/drive/MyDrive/Dataset/Share/Original_Aggregate_Val/Normal/6848071910_547_trimmed.mp4 Class name: Normal Label: 0\n",
            "Processing video: /content/drive/MyDrive/Dataset/Share/Original_Aggregate_Val/Normal/6848071910_521_trimmed.mp4 Class name: Normal Label: 0\n",
            "Processing video: /content/drive/MyDrive/Dataset/Share/Original_Aggregate_Val/Normal/1590456_144_trimmed.mp4 Class name: Normal Label: 0\n",
            "Processing video: /content/drive/MyDrive/Dataset/Share/Original_Aggregate_Val/Normal/1590456_094_trimmed.mp4 Class name: Normal Label: 0\n",
            "Processing video: /content/drive/MyDrive/Dataset/Share/Original_Aggregate_Val/Normal/1202850_214_trimmed.mp4 Class name: Normal Label: 0\n",
            "Processing video: /content/drive/MyDrive/Dataset/Share/Original_Aggregate_Val/Normal/6848071910_094_trimmed.mp4 Class name: Normal Label: 0\n",
            "Processing video: /content/drive/MyDrive/Dataset/Share/Original_Aggregate_Val/Normal/6848071910_511_trimmed.mp4 Class name: Normal Label: 0\n",
            "Processing video: /content/drive/MyDrive/Dataset/Share/Original_Aggregate_Val/Normal/6848071910_199_trimmed.mp4 Class name: Normal Label: 0\n",
            "Processing video: /content/drive/MyDrive/Dataset/Share/Original_Aggregate_Val/Normal/1590456_227_trimmed.mp4 Class name: Normal Label: 0\n",
            "Processing video: /content/drive/MyDrive/Dataset/Share/Original_Aggregate_Val/Normal/1202850_376_trimmed.mp4 Class name: Normal Label: 0\n",
            "Processing video: /content/drive/MyDrive/Dataset/Share/Original_Aggregate_Val/Normal/processed_Normal (71).mp4 Class name: Normal Label: 0\n",
            "Processing video: /content/drive/MyDrive/Dataset/Share/Original_Aggregate_Val/Normal/processed_Normal (70).mp4 Class name: Normal Label: 0\n",
            "Processing video: /content/drive/MyDrive/Dataset/Share/Original_Aggregate_Val/Normal/processed_Normal (72).mp4 Class name: Normal Label: 0\n",
            "Processing video: /content/drive/MyDrive/Dataset/Share/Original_Aggregate_Val/Normal/processed_Normal (73).mp4 Class name: Normal Label: 0\n",
            "Processing video: /content/drive/MyDrive/Dataset/Share/Original_Aggregate_Val/Normal/processed_Normal (74).mp4 Class name: Normal Label: 0\n",
            "Processing video: /content/drive/MyDrive/Dataset/Share/Original_Aggregate_Val/Normal/processed_Normal (75).mp4 Class name: Normal Label: 0\n",
            "Processing video: /content/drive/MyDrive/Dataset/Share/Original_Aggregate_Val/Normal/processed_Normal (76).mp4 Class name: Normal Label: 0\n",
            "Processing video: /content/drive/MyDrive/Dataset/Share/Original_Aggregate_Val/Normal/processed_Normal (77).mp4 Class name: Normal Label: 0\n",
            "Processing video: /content/drive/MyDrive/Dataset/Share/Original_Aggregate_Val/Normal/processed_Normal (78).mp4 Class name: Normal Label: 0\n",
            "Processing video: /content/drive/MyDrive/Dataset/Share/Original_Aggregate_Val/Normal/processed_Normal (79).mp4 Class name: Normal Label: 0\n",
            "Processing video: /content/drive/MyDrive/Dataset/Share/Original_Aggregate_Val/Normal/processed_Normal (81).mp4 Class name: Normal Label: 0\n",
            "Processing video: /content/drive/MyDrive/Dataset/Share/Original_Aggregate_Val/Normal/processed_Normal (80).mp4 Class name: Normal Label: 0\n",
            "Processing video: /content/drive/MyDrive/Dataset/Share/Original_Aggregate_Val/Normal/processed_Normal (83).mp4 Class name: Normal Label: 0\n",
            "Processing video: /content/drive/MyDrive/Dataset/Share/Original_Aggregate_Val/Normal/processed_Normal (82).mp4 Class name: Normal Label: 0\n",
            "Processing video: /content/drive/MyDrive/Dataset/Share/Original_Aggregate_Val/Normal/processed_Normal (84).mp4 Class name: Normal Label: 0\n",
            "Processing video: /content/drive/MyDrive/Dataset/Share/Original_Aggregate_Val/Normal/processed_Normal (85).mp4 Class name: Normal Label: 0\n",
            "Processing video: /content/drive/MyDrive/Dataset/Share/Original_Aggregate_Val/Normal/processed_Normal (86).mp4 Class name: Normal Label: 0\n",
            "Processing video: /content/drive/MyDrive/Dataset/Share/Original_Aggregate_Val/Normal/processed_Normal (87).mp4 Class name: Normal Label: 0\n",
            "Processing video: /content/drive/MyDrive/Dataset/Share/Original_Aggregate_Val/Normal/processed_Normal (88).mp4 Class name: Normal Label: 0\n",
            "Processing video: /content/drive/MyDrive/Dataset/Share/Original_Aggregate_Val/Normal/processed_Normal (89).mp4 Class name: Normal Label: 0\n",
            "Processing video: /content/drive/MyDrive/Dataset/Share/Original_Aggregate_Val/Normal/processed_Normal (90).mp4 Class name: Normal Label: 0\n",
            "Processing video: /content/drive/MyDrive/Dataset/Share/Original_Aggregate_Val/Normal/flipped_processed_Normal (71).mp4 Class name: Normal Label: 0\n",
            "Processing video: /content/drive/MyDrive/Dataset/Share/Original_Aggregate_Val/Normal/flipped_processed_Normal (70).mp4 Class name: Normal Label: 0\n",
            "Processing video: /content/drive/MyDrive/Dataset/Share/Original_Aggregate_Val/Normal/flipped_processed_Normal (72).mp4 Class name: Normal Label: 0\n",
            "Processing video: /content/drive/MyDrive/Dataset/Share/Original_Aggregate_Val/Normal/flipped_processed_Normal (73).mp4 Class name: Normal Label: 0\n",
            "Processing video: /content/drive/MyDrive/Dataset/Share/Original_Aggregate_Val/Normal/flipped_processed_Normal (74).mp4 Class name: Normal Label: 0\n",
            "Processing video: /content/drive/MyDrive/Dataset/Share/Original_Aggregate_Val/Normal/flipped_processed_Normal (75).mp4 Class name: Normal Label: 0\n",
            "Processing video: /content/drive/MyDrive/Dataset/Share/Original_Aggregate_Val/Normal/flipped_processed_Normal (76).mp4 Class name: Normal Label: 0\n",
            "Processing video: /content/drive/MyDrive/Dataset/Share/Original_Aggregate_Val/Normal/flipped_processed_Normal (77).mp4 Class name: Normal Label: 0\n",
            "Processing video: /content/drive/MyDrive/Dataset/Share/Original_Aggregate_Val/Normal/flipped_processed_Normal (78).mp4 Class name: Normal Label: 0\n",
            "Processing video: /content/drive/MyDrive/Dataset/Share/Original_Aggregate_Val/Normal/flipped_processed_Normal (79).mp4 Class name: Normal Label: 0\n",
            "Processing video: /content/drive/MyDrive/Dataset/Share/Original_Aggregate_Val/Normal/flipped_processed_Normal (81).mp4 Class name: Normal Label: 0\n",
            "Processing video: /content/drive/MyDrive/Dataset/Share/Original_Aggregate_Val/Normal/flipped_processed_Normal (80).mp4 Class name: Normal Label: 0\n",
            "Processing video: /content/drive/MyDrive/Dataset/Share/Original_Aggregate_Val/Normal/flipped_processed_Normal (83).mp4 Class name: Normal Label: 0\n",
            "Processing video: /content/drive/MyDrive/Dataset/Share/Original_Aggregate_Val/Normal/flipped_processed_Normal (82).mp4 Class name: Normal Label: 0\n",
            "Processing video: /content/drive/MyDrive/Dataset/Share/Original_Aggregate_Val/Normal/flipped_processed_Normal (84).mp4 Class name: Normal Label: 0\n",
            "Processing video: /content/drive/MyDrive/Dataset/Share/Original_Aggregate_Val/Normal/flipped_processed_Normal (85).mp4 Class name: Normal Label: 0\n",
            "Processing video: /content/drive/MyDrive/Dataset/Share/Original_Aggregate_Val/Normal/flipped_processed_Normal (86).mp4 Class name: Normal Label: 0\n",
            "Processing video: /content/drive/MyDrive/Dataset/Share/Original_Aggregate_Val/Normal/flipped_processed_Normal (87).mp4 Class name: Normal Label: 0\n",
            "Processing video: /content/drive/MyDrive/Dataset/Share/Original_Aggregate_Val/Normal/flipped_processed_Normal (88).mp4 Class name: Normal Label: 0\n",
            "Processing video: /content/drive/MyDrive/Dataset/Share/Original_Aggregate_Val/Normal/flipped_processed_Normal (89).mp4 Class name: Normal Label: 0\n",
            "Processing video: /content/drive/MyDrive/Dataset/Share/Original_Aggregate_Val/Normal/flipped_processed_Normal (90).mp4 Class name: Normal Label: 0\n",
            "Processing video: /content/drive/MyDrive/Dataset/Share/Original_Aggregate_Val/Normal/pose_Normal (70).mp4 Class name: Normal Label: 0\n",
            "Processing video: /content/drive/MyDrive/Dataset/Share/Original_Aggregate_Val/Normal/pose_Normal (72).mp4 Class name: Normal Label: 0\n",
            "Processing video: /content/drive/MyDrive/Dataset/Share/Original_Aggregate_Val/Normal/pose_Normal (73).mp4 Class name: Normal Label: 0\n",
            "Processing video: /content/drive/MyDrive/Dataset/Share/Original_Aggregate_Val/Normal/pose_Normal (74).mp4 Class name: Normal Label: 0\n",
            "Processing video: /content/drive/MyDrive/Dataset/Share/Original_Aggregate_Val/Normal/pose_Normal (75).mp4 Class name: Normal Label: 0\n",
            "Processing video: /content/drive/MyDrive/Dataset/Share/Original_Aggregate_Val/Normal/pose_Normal (76).mp4 Class name: Normal Label: 0\n",
            "Processing video: /content/drive/MyDrive/Dataset/Share/Original_Aggregate_Val/Normal/pose_Normal (77).mp4 Class name: Normal Label: 0\n",
            "Processing video: /content/drive/MyDrive/Dataset/Share/Original_Aggregate_Val/Normal/pose_Normal (78).mp4 Class name: Normal Label: 0\n",
            "Processing video: /content/drive/MyDrive/Dataset/Share/Original_Aggregate_Val/Normal/pose_Normal (79).mp4 Class name: Normal Label: 0\n",
            "Processing video: /content/drive/MyDrive/Dataset/Share/Original_Aggregate_Val/Normal/pose_Normal (80).mp4 Class name: Normal Label: 0\n",
            "Processing video: /content/drive/MyDrive/Dataset/Share/Original_Aggregate_Val/Normal/pose_Normal (81).mp4 Class name: Normal Label: 0\n",
            "Processing video: /content/drive/MyDrive/Dataset/Share/Original_Aggregate_Val/Normal/pose_Normal (82).mp4 Class name: Normal Label: 0\n",
            "Processing video: /content/drive/MyDrive/Dataset/Share/Original_Aggregate_Val/Normal/pose_Normal (83).mp4 Class name: Normal Label: 0\n",
            "Processing video: /content/drive/MyDrive/Dataset/Share/Original_Aggregate_Val/Normal/pose_Normal (84).mp4 Class name: Normal Label: 0\n",
            "Processing video: /content/drive/MyDrive/Dataset/Share/Original_Aggregate_Val/Normal/pose_Normal (85).mp4 Class name: Normal Label: 0\n",
            "Processing video: /content/drive/MyDrive/Dataset/Share/Original_Aggregate_Val/Normal/pose_Normal (86).mp4 Class name: Normal Label: 0\n",
            "Processing video: /content/drive/MyDrive/Dataset/Share/Original_Aggregate_Val/Normal/pose_Normal (87).mp4 Class name: Normal Label: 0\n",
            "Processing video: /content/drive/MyDrive/Dataset/Share/Original_Aggregate_Val/Normal/pose_Normal (88).mp4 Class name: Normal Label: 0\n",
            "Processing video: /content/drive/MyDrive/Dataset/Share/Original_Aggregate_Val/Normal/pose_Normal (89).mp4 Class name: Normal Label: 0\n",
            "Processing video: /content/drive/MyDrive/Dataset/Share/Original_Aggregate_Val/Normal/pose_Normal (90).mp4 Class name: Normal Label: 0\n",
            "Processing video: /content/drive/MyDrive/Dataset/Share/Original_Aggregate_Val/Normal/flipped_pose_Normal (71).mp4 Class name: Normal Label: 0\n",
            "Processing video: /content/drive/MyDrive/Dataset/Share/Original_Aggregate_Val/Normal/flipped_pose_Normal (70).mp4 Class name: Normal Label: 0\n",
            "Processing video: /content/drive/MyDrive/Dataset/Share/Original_Aggregate_Val/Normal/flipped_pose_Normal (72).mp4 Class name: Normal Label: 0\n",
            "Processing video: /content/drive/MyDrive/Dataset/Share/Original_Aggregate_Val/Normal/flipped_pose_Normal (73).mp4 Class name: Normal Label: 0\n",
            "Processing video: /content/drive/MyDrive/Dataset/Share/Original_Aggregate_Val/Normal/flipped_pose_Normal (74).mp4 Class name: Normal Label: 0\n",
            "Processing video: /content/drive/MyDrive/Dataset/Share/Original_Aggregate_Val/Normal/flipped_pose_Normal (75).mp4 Class name: Normal Label: 0\n",
            "Processing video: /content/drive/MyDrive/Dataset/Share/Original_Aggregate_Val/Normal/flipped_pose_Normal (76).mp4 Class name: Normal Label: 0\n",
            "Processing video: /content/drive/MyDrive/Dataset/Share/Original_Aggregate_Val/Normal/flipped_pose_Normal (77).mp4 Class name: Normal Label: 0\n",
            "Processing video: /content/drive/MyDrive/Dataset/Share/Original_Aggregate_Val/Normal/flipped_pose_Normal (78).mp4 Class name: Normal Label: 0\n",
            "Processing video: /content/drive/MyDrive/Dataset/Share/Original_Aggregate_Val/Normal/flipped_pose_Normal (79).mp4 Class name: Normal Label: 0\n",
            "Processing video: /content/drive/MyDrive/Dataset/Share/Original_Aggregate_Val/Normal/flipped_pose_Normal (80).mp4 Class name: Normal Label: 0\n",
            "Processing video: /content/drive/MyDrive/Dataset/Share/Original_Aggregate_Val/Normal/flipped_pose_Normal (81).mp4 Class name: Normal Label: 0\n",
            "Processing video: /content/drive/MyDrive/Dataset/Share/Original_Aggregate_Val/Normal/flipped_pose_Normal (82).mp4 Class name: Normal Label: 0\n",
            "Processing video: /content/drive/MyDrive/Dataset/Share/Original_Aggregate_Val/Normal/flipped_pose_Normal (83).mp4 Class name: Normal Label: 0\n",
            "Processing video: /content/drive/MyDrive/Dataset/Share/Original_Aggregate_Val/Normal/flipped_pose_Normal (84).mp4 Class name: Normal Label: 0\n",
            "Processing video: /content/drive/MyDrive/Dataset/Share/Original_Aggregate_Val/Normal/flipped_pose_Normal (85).mp4 Class name: Normal Label: 0\n",
            "Processing video: /content/drive/MyDrive/Dataset/Share/Original_Aggregate_Val/Normal/flipped_pose_Normal (86).mp4 Class name: Normal Label: 0\n",
            "Processing video: /content/drive/MyDrive/Dataset/Share/Original_Aggregate_Val/Normal/flipped_pose_Normal (87).mp4 Class name: Normal Label: 0\n",
            "Processing video: /content/drive/MyDrive/Dataset/Share/Original_Aggregate_Val/Normal/flipped_pose_Normal (88).mp4 Class name: Normal Label: 0\n",
            "Processing video: /content/drive/MyDrive/Dataset/Share/Original_Aggregate_Val/Normal/flipped_pose_Normal (89).mp4 Class name: Normal Label: 0\n",
            "Processing video: /content/drive/MyDrive/Dataset/Share/Original_Aggregate_Val/Normal/flipped_pose_Normal (90).mp4 Class name: Normal Label: 0\n",
            "Processing video: /content/drive/MyDrive/Dataset/Share/Original_Aggregate_Val/Normal/pose_Normal (71).mp4 Class name: Normal Label: 0\n",
            "Processing video: /content/drive/MyDrive/Dataset/Share/Original_Aggregate_Val/Normal/resized_Normal (71).mp4 Class name: Normal Label: 0\n",
            "Processing video: /content/drive/MyDrive/Dataset/Share/Original_Aggregate_Val/Normal/resized_Normal (70).mp4 Class name: Normal Label: 0\n",
            "Processing video: /content/drive/MyDrive/Dataset/Share/Original_Aggregate_Val/Normal/resized_Normal (72).mp4 Class name: Normal Label: 0\n",
            "Processing video: /content/drive/MyDrive/Dataset/Share/Original_Aggregate_Val/Normal/resized_Normal (73).mp4 Class name: Normal Label: 0\n",
            "Processing video: /content/drive/MyDrive/Dataset/Share/Original_Aggregate_Val/Normal/resized_Normal (74).mp4 Class name: Normal Label: 0\n",
            "Processing video: /content/drive/MyDrive/Dataset/Share/Original_Aggregate_Val/Normal/resized_Normal (75).mp4 Class name: Normal Label: 0\n",
            "Processing video: /content/drive/MyDrive/Dataset/Share/Original_Aggregate_Val/Normal/resized_Normal (76).mp4 Class name: Normal Label: 0\n",
            "Processing video: /content/drive/MyDrive/Dataset/Share/Original_Aggregate_Val/Normal/resized_Normal (77).mp4 Class name: Normal Label: 0\n",
            "Processing video: /content/drive/MyDrive/Dataset/Share/Original_Aggregate_Val/Normal/resized_Normal (78).mp4 Class name: Normal Label: 0\n",
            "Processing video: /content/drive/MyDrive/Dataset/Share/Original_Aggregate_Val/Normal/resized_Normal (79).mp4 Class name: Normal Label: 0\n",
            "Processing video: /content/drive/MyDrive/Dataset/Share/Original_Aggregate_Val/Normal/resized_Normal (80).mp4 Class name: Normal Label: 0\n",
            "Processing video: /content/drive/MyDrive/Dataset/Share/Original_Aggregate_Val/Normal/resized_Normal (81).mp4 Class name: Normal Label: 0\n",
            "Processing video: /content/drive/MyDrive/Dataset/Share/Original_Aggregate_Val/Normal/resized_Normal (82).mp4 Class name: Normal Label: 0\n",
            "Processing video: /content/drive/MyDrive/Dataset/Share/Original_Aggregate_Val/Normal/resized_Normal (83).mp4 Class name: Normal Label: 0\n",
            "Processing video: /content/drive/MyDrive/Dataset/Share/Original_Aggregate_Val/Normal/resized_Normal (84).mp4 Class name: Normal Label: 0\n",
            "Processing video: /content/drive/MyDrive/Dataset/Share/Original_Aggregate_Val/Normal/resized_Normal (85).mp4 Class name: Normal Label: 0\n",
            "Processing video: /content/drive/MyDrive/Dataset/Share/Original_Aggregate_Val/Normal/resized_Normal (86).mp4 Class name: Normal Label: 0\n",
            "Processing video: /content/drive/MyDrive/Dataset/Share/Original_Aggregate_Val/Normal/resized_Normal (87).mp4 Class name: Normal Label: 0\n",
            "Processing video: /content/drive/MyDrive/Dataset/Share/Original_Aggregate_Val/Normal/resized_Normal (88).mp4 Class name: Normal Label: 0\n",
            "Processing video: /content/drive/MyDrive/Dataset/Share/Original_Aggregate_Val/Normal/resized_Normal (89).mp4 Class name: Normal Label: 0\n",
            "Processing video: /content/drive/MyDrive/Dataset/Share/Original_Aggregate_Val/Normal/resized_Normal (90).mp4 Class name: Normal Label: 0\n",
            "Processing video: /content/drive/MyDrive/Dataset/Share/Original_Aggregate_Val/Normal/output_116_trimmed.mp4 Class name: Normal Label: 0\n",
            "Processing video: /content/drive/MyDrive/Dataset/Share/Original_Aggregate_Val/Normal/output_134_trimmed.mp4 Class name: Normal Label: 0\n",
            "Processing video: /content/drive/MyDrive/Dataset/Share/Original_Aggregate_Val/Normal/output_163_trimmed.mp4 Class name: Normal Label: 0\n",
            "Processing video: /content/drive/MyDrive/Dataset/Share/Original_Aggregate_Val/Normal/output_281_trimmed.mp4 Class name: Normal Label: 0\n",
            "Processing video: /content/drive/MyDrive/Dataset/Share/Original_Aggregate_Val/Normal/output_329_trimmed.mp4 Class name: Normal Label: 0\n",
            "Processing video: /content/drive/MyDrive/Dataset/Share/Original_Aggregate_Val/Normal/1590456_013_trimmed.mp4 Class name: Normal Label: 0\n",
            "Processing video: /content/drive/MyDrive/Dataset/Share/Original_Aggregate_Val/Normal/1590456_027_trimmed.mp4 Class name: Normal Label: 0\n",
            "Processing video: /content/drive/MyDrive/Dataset/Share/Original_Aggregate_Val/Normal/1590456_129_trimmed.mp4 Class name: Normal Label: 0\n",
            "Processing video: /content/drive/MyDrive/Dataset/Share/Original_Aggregate_Val/Normal/1590456_161_trimmed.mp4 Class name: Normal Label: 0\n",
            "Processing video: /content/drive/MyDrive/Dataset/Share/Original_Aggregate_Val/Normal/1202850_005_trimmed.mp4 Class name: Normal Label: 0\n",
            "Processing video: /content/drive/MyDrive/Dataset/Share/Original_Aggregate_Val/Normal/1202850_115_trimmed.mp4 Class name: Normal Label: 0\n",
            "Processing video: /content/drive/MyDrive/Dataset/Share/Original_Aggregate_Val/Normal/1202850_194_trimmed.mp4 Class name: Normal Label: 0\n",
            "Processing video: /content/drive/MyDrive/Dataset/Share/Original_Aggregate_Val/Normal/1202850_263_trimmed.mp4 Class name: Normal Label: 0\n",
            "Processing video: /content/drive/MyDrive/Dataset/Share/Original_Aggregate_Val/Normal/1202850_314_trimmed.mp4 Class name: Normal Label: 0\n",
            "Processing video: /content/drive/MyDrive/Dataset/Share/Original_Aggregate_Val/Normal/1202850_329_trimmed.mp4 Class name: Normal Label: 0\n",
            "Processing video: /content/drive/MyDrive/Dataset/Share/Original_Aggregate_Val/Normal/1202850_344_trimmed.mp4 Class name: Normal Label: 0\n",
            "Processing video: /content/drive/MyDrive/Dataset/Share/Original_Aggregate_Val/Normal/1202850_387_trimmed.mp4 Class name: Normal Label: 0\n",
            "Processing video: /content/drive/MyDrive/Dataset/Share/Original_Aggregate_Val/Normal/1202850_392_trimmed.mp4 Class name: Normal Label: 0\n",
            "Processing video: /content/drive/MyDrive/Dataset/Share/Original_Aggregate_Val/Normal/6848071910_119_trimmed.mp4 Class name: Normal Label: 0\n",
            "Processing video: /content/drive/MyDrive/Dataset/Share/Original_Aggregate_Val/Normal/6848071910_204_trimmed.mp4 Class name: Normal Label: 0\n",
            "Processing video: /content/drive/MyDrive/Dataset/Share/Original_Aggregate_Val/Normal/6848071910_336_trimmed.mp4 Class name: Normal Label: 0\n",
            "Processing video: /content/drive/MyDrive/Dataset/Share/Original_Aggregate_Val/Normal/6848071910_420_trimmed.mp4 Class name: Normal Label: 0\n",
            "Processing video: /content/drive/MyDrive/Dataset/Share/Original_Aggregate_Val/Normal/6848071910_626_trimmed.mp4 Class name: Normal Label: 0\n",
            "Shape of validation set of frames: (4, 140, 120, 120, 3)\n",
            "Shape of validation labels: (4,)\n"
          ]
        }
      ],
      "source": [
        "val_ds = val_ds.batch(4)\n",
        "val_frames, val_labels = next(iter(val_ds))\n",
        "\n",
        "print(f'Shape of validation set of frames: {val_frames.shape}')\n",
        "print(f'Shape of validation labels: {val_labels.shape}')"
      ]
    },
    {
      "cell_type": "markdown",
      "id": "Yja3smIpYIJ-",
      "metadata": {
        "id": "Yja3smIpYIJ-"
      },
      "source": [
        "#Quick Visualization"
      ]
    },
    {
      "cell_type": "code",
      "execution_count": null,
      "id": "gTkC3jiMnjqM",
      "metadata": {
        "colab": {
          "base_uri": "https://localhost:8080/",
          "height": 184
        },
        "id": "gTkC3jiMnjqM",
        "outputId": "82d4dbe8-0a89-4ffe-d0c7-79725c5c8a39"
      },
      "outputs": [
        {
          "name": "stdout",
          "output_type": "stream",
          "text": [
            "Warning: Frames are not in uint8 format, converting...\n"
          ]
        },
        {
          "data": {
            "image/png": "[encoded data removed]",
            "text/plain": [
              "<Figure size 2000x500 with 10 Axes>"
            ]
          },
          "metadata": {},
          "output_type": "display_data"
        }
      ],
      "source": [
        "%matplotlib inline\n",
        "def plot_frames_from_dataset(train_ds, n_images=3):\n",
        "    # Take one batch from the dataset\n",
        "    for frames, labels in train_ds.take(1):\n",
        "        # Select the first video in the batch\n",
        "        video_frames = frames[0].numpy()  # Convert to numpy array\n",
        "\n",
        "        # Check and correct the range of pixel values if necessary\n",
        "        if video_frames.dtype != np.uint8:\n",
        "            print(\"Warning: Frames are not in uint8 format, converting...\")\n",
        "            video_frames = (224 * (video_frames - np.min(video_frames)) / np.ptp(video_frames)).astype(np.uint8)\n",
        "\n",
        "        fig, axs = plt.subplots(1, n_images, figsize=(20, 5))\n",
        "        for i in range(n_images):\n",
        "            # Plot each frame\n",
        "            frame = video_frames[i]\n",
        "\n",
        "            # Normalize frame for display if needed\n",
        "            if np.max(frame) > 1:\n",
        "                frame = frame / 224.0\n",
        "\n",
        "            axs[i].imshow(frame)\n",
        "            axs[i].set_title(f\"Frame {i}\")\n",
        "            axs[i].axis('off')\n",
        "\n",
        "        plt.tight_layout()\n",
        "        plt.show()\n",
        "        break  # Only process the first batch\n",
        "\n",
        "# Call the function with your dataset\n",
        "plot_frames_from_dataset(train_ds, n_images=10)"
      ]
    },
    {
      "cell_type": "markdown",
      "id": "U9q7Fms5I6hD",
      "metadata": {
        "id": "U9q7Fms5I6hD"
      },
      "source": []
    },
    {
      "cell_type": "markdown",
      "id": "Wp5ao6LdecwU",
      "metadata": {
        "id": "Wp5ao6LdecwU"
      },
      "source": [
        "# Running the actual Model"
      ]
    },
    {
      "cell_type": "code",
      "execution_count": null,
      "id": "ld1U4Jnt75kD",
      "metadata": {
        "colab": {
          "base_uri": "https://localhost:8080/",
          "height": 122
        },
        "id": "ld1U4Jnt75kD",
        "outputId": "83a8c600-6bc3-45b7-e86c-ee9c975c244e"
      },
      "outputs": [
        {
          "name": "stderr",
          "output_type": "stream",
          "text": [
            "\u001b[34m\u001b[1mwandb\u001b[0m: Currently logged in as: \u001b[33mkitchan98\u001b[0m. Use \u001b[1m`wandb login --relogin`\u001b[0m to force relogin\n"
          ]
        },
        {
          "data": {
            "text/html": [
              "Tracking run with wandb version 0.17.1"
            ],
            "text/plain": [
              "<IPython.core.display.HTML object>"
            ]
          },
          "metadata": {},
          "output_type": "display_data"
        },
        {
          "data": {
            "text/html": [
              "Run data is saved locally in <code>/content/drive/MyDrive/wandb/run-20240615_195524-u3thflub</code>"
            ],
            "text/plain": [
              "<IPython.core.display.HTML object>"
            ]
          },
          "metadata": {},
          "output_type": "display_data"
        },
        {
          "data": {
            "text/html": [
              "Syncing run <strong><a href='https://wandb.ai/kitchan98/theft_prototype/runs/u3thflub' target=\"_blank\">dashing-sponge-58</a></strong> to <a href='https://wandb.ai/kitchan98/theft_prototype' target=\"_blank\">Weights & Biases</a> (<a href='https://wandb.me/run' target=\"_blank\">docs</a>)<br/>"
            ],
            "text/plain": [
              "<IPython.core.display.HTML object>"
            ]
          },
          "metadata": {},
          "output_type": "display_data"
        },
        {
          "data": {
            "text/html": [
              " View project at <a href='https://wandb.ai/kitchan98/theft_prototype' target=\"_blank\">https://wandb.ai/kitchan98/theft_prototype</a>"
            ],
            "text/plain": [
              "<IPython.core.display.HTML object>"
            ]
          },
          "metadata": {},
          "output_type": "display_data"
        },
        {
          "data": {
            "text/html": [
              " View run at <a href='https://wandb.ai/kitchan98/theft_prototype/runs/u3thflub' target=\"_blank\">https://wandb.ai/kitchan98/theft_prototype/runs/u3thflub</a>"
            ],
            "text/plain": [
              "<IPython.core.display.HTML object>"
            ]
          },
          "metadata": {},
          "output_type": "display_data"
        }
      ],
      "source": [
        "# wandb configuration\n",
        "run = wandb.init(project='theft_prototype',\n",
        "                 config={\n",
        "                     \"learning_rate\": 0.001,\n",
        "                     \"epochs\": 60,\n",
        "                     \"loss_function\": \"binary_crossentropy\",\n",
        "                     \"earlystopping_patience\": 40,\n",
        "                 })\n",
        "config = wandb.config\n",
        "\n",
        "wandb_callbacks = [\n",
        "    tf.keras.callbacks.EarlyStopping(\n",
        "        monitor='val_accuracy', patience=50\n",
        "    ),\n",
        "    WandbMetricsLogger()\n",
        "]"
      ]
    },
    {
      "cell_type": "markdown",
      "id": "rloag6_1fXOV",
      "metadata": {
        "id": "rloag6_1fXOV"
      },
      "source": [
        "#The Original (Main)"
      ]
    },
    {
      "cell_type": "code",
      "execution_count": null,
      "id": "6ya7rXoBcxH0",
      "metadata": {
        "id": "6ya7rXoBcxH0"
      },
      "outputs": [],
      "source": [
        "input_shape = (16, 140, 140, 140, 3)\n",
        "#inputs = Input(shape=input_shape)\n",
        "inputs = Input(shape=input_shape[1:])\n",
        "\n",
        "x = Conv3D(8, (3, 3, 3), strides=(1, 1, 1), padding='same')(inputs)\n",
        "x = LeakyReLU()(x)\n",
        "x = Conv3D(8, (3, 3, 3), strides=(1, 1, 1), padding='same')(x)\n",
        "x = LeakyReLU()(x)\n",
        "x = Conv3D(16, (3, 3, 3), strides=(1, 1, 1), padding='same')(x)\n",
        "x = LeakyReLU()(x)\n",
        "x = MaxPooling3D(pool_size=(2, 2, 2))(x)\n",
        "x = Conv3D(16, (3, 3, 3), strides=(1, 1, 1), padding='same')(x)\n",
        "x = LeakyReLU()(x)\n",
        "\n",
        "x1 = MaxPooling3D(pool_size=(2,1,1))(x)\n",
        "x1 = Conv3D(16, (3, 3, 3), strides=(1, 1, 1), padding='same')(x1)\n",
        "x1 = LeakyReLU()(x1)\n",
        "x1 = Conv3D(32, (5, 5, 5), strides=(1, 1, 1), padding='same')(x1)\n",
        "x1 = LeakyReLU()(x1)\n",
        "x1 = Conv3D(32, (3, 3, 3), strides=(1, 1, 1), padding='same')(x1)\n",
        "x1 = LeakyReLU()(x1)\n",
        "x1 = Conv3D(32, (3, 3, 3), strides=(1, 1, 1), padding='same', kernel_regularizer = 'l2')(x1)\n",
        "x1 = LeakyReLU()(x1)\n",
        "\n",
        "# mid branch\n",
        "x2 = MaxPooling3D(pool_size=(2,1,1))(x)\n",
        "x2 = Conv3D(16, (3, 3, 3), strides=(1, 1, 1), padding='same')(x2)\n",
        "x2 = LeakyReLU()(x2)\n",
        "x2 = Conv3D(32, (7, 7, 7), strides=(1, 1, 1), padding='same')(x2)\n",
        "x2 = LeakyReLU()(x2)\n",
        "x2 = Conv3D(32, (3, 3, 3), strides=(1, 1, 1), padding='same')(x2)\n",
        "x2 = LeakyReLU()(x2)\n",
        "x2 = Conv3D(32, (3, 3, 3), strides=(1, 1, 1), padding='same', kernel_regularizer = 'l2')(x2)\n",
        "x2 = LeakyReLU()(x2)\n",
        "\n",
        "# Concatenate x1 and x2\n",
        "x12 = Concatenate()([x1, x2])\n",
        "x12 = BatchNormalization()(x12)\n",
        "x12 = Conv3D(64, (3, 3, 3), strides=(1, 1, 1), padding='same')(x12)\n",
        "x12 = LeakyReLU()(x12)\n",
        "x12 = Conv3D(64, (3, 3, 3), strides=(2, 2, 2), padding='same')(x12)\n",
        "x12 = LeakyReLU()(x12)\n",
        "x12 = MaxPooling3D(pool_size=(2,2,2))(x12)\n",
        "\n",
        "# Define the right branch of the network with x as input\n",
        "x3 = Conv3D(32, (3,3,3), strides=(1,1,1), padding = 'same')(x)\n",
        "x3 = LeakyReLU()(x3)\n",
        "x3 = MaxPooling3D(pool_size=(2,2,2))(x3)\n",
        "x3 = Conv3D(32, (3,3,3), strides=(1,1,1), padding='same')(x3)\n",
        "x3 = LeakyReLU()(x3)\n",
        "x3 = Conv3D(64, (3,3,3), strides=(2,1,1), padding='same')(x3)\n",
        "x3 = LeakyReLU()(x3)\n",
        "x3 = Conv3D(64, (3,1,1), strides=(1,1,1), padding='same', kernel_regularizer = 'l2')(x3)\n",
        "x3 = LeakyReLU()(x3)\n",
        "x3 = MaxPooling3D(pool_size=(2,2,2))(x3)\n",
        "\n",
        "# Concatenate all the branches (Total)\n",
        "x4 = Concatenate()([x12, x3])\n",
        "x4 = BatchNormalization()(x4)\n",
        "x4 = Conv3D(96, (3,3,3), strides=(1,1,1), padding='same')(x4)\n",
        "x4 = LeakyReLU()(x4)\n",
        "x4 = Conv3D(96, (3,3,3), strides=(1,1,1), padding='same')(x4)\n",
        "x4 = PReLU()(x4)\n",
        "x4 = BatchNormalization()(x4)\n",
        "\n",
        "# Flatten and add the fully connected layers\n",
        "x4 = Lambda(lambda x: K.sum(x, axis=1))(x4)\n",
        "x4 = Flatten()(x4)\n",
        "x4 = Dense(1024)(x4)\n",
        "x4 = LeakyReLU()(x4)\n",
        "x4 = Dropout(0.4)(x4)\n",
        "x4 = Dense(128)(x4)\n",
        "x4 = LeakyReLU()(x4)\n",
        "x4 = Dropout(0.4)(x4)\n",
        "outputs = Dense(3, activation='softmax')(x4)\n",
        "\n",
        "# Create the model\n",
        "tf.keras.backend.clear_session()\n",
        "model = Model(inputs, outputs)\n",
        "\n",
        "#0.0005 has been the best learning rate\n",
        "model.compile(loss=config.loss_function, optimizer=tf.keras.optimizers.Adam(learning_rate = 0.001), metrics=['accuracy'])\n",
        "\n",
        "model.summary()"
      ]
    },
    {
      "cell_type": "code",
      "execution_count": null,
      "id": "9zWVUGAMiDzG",
      "metadata": {
        "id": "9zWVUGAMiDzG"
      },
      "outputs": [],
      "source": [
        "model.fit(train_ds,\n",
        "        epochs=config.epochs,\n",
        "        #batch_size = config.batch_size,\n",
        "        validation_data=val_ds,\n",
        "        callbacks= [wandb_callbacks, ReduceLROnPlateau(monitor='val_loss', factor=0.2, patience=9, verbose=1, min_delta=0.001)])"
      ]
    },
    {
      "cell_type": "markdown",
      "id": "7PyvjoF-fqah",
      "metadata": {
        "id": "7PyvjoF-fqah"
      },
      "source": [
        "#Test Model"
      ]
    },
    {
      "cell_type": "code",
      "execution_count": null,
      "id": "rO1iW5phMwKk",
      "metadata": {
        "colab": {
          "base_uri": "https://localhost:8080/"
        },
        "id": "rO1iW5phMwKk",
        "outputId": "6f47ca3a-af7c-4d79-da04-ec336d1d6205"
      },
      "outputs": [
        {
          "name": "stdout",
          "output_type": "stream",
          "text": [
            "Found 985 video files.\n"
          ]
        },
        {
          "data": {
            "text/plain": [
              "985"
            ]
          },
          "execution_count": 12,
          "metadata": {},
          "output_type": "execute_result"
        }
      ],
      "source": [
        "def video_num(video_path):\n",
        "    video_files = []\n",
        "    for root, dirs, files in os.walk(video_path):\n",
        "        for file in files:\n",
        "            if file.endswith('.mp4'):\n",
        "                video_files.append(os.path.join(root, file))\n",
        "\n",
        "    print(f\"Found {len(video_files)} video files.\")\n",
        "    return video_files\n",
        "\n",
        "len(video_num('/content/drive/MyDrive/Dataset/Share/'))"
      ]
    },
    {
      "cell_type": "code",
      "execution_count": null,
      "id": "VpRCExNbfwNz",
      "metadata": {
        "id": "VpRCExNbfwNz",
        "colab": {
          "base_uri": "https://localhost:8080/"
        },
        "outputId": "aacd8c7e-5a8a-4e88-fd54-b6d839af6530"
      },
      "outputs": [
        {
          "output_type": "stream",
          "name": "stdout",
          "text": [
            "Model: \"model_2\"\n",
            "__________________________________________________________________________________________________\n",
            " Layer (type)                Output Shape                 Param #   Connected to                  \n",
            "==================================================================================================\n",
            " input_5 (InputLayer)        [(None, 140, 120, 120, 3)]   0         []                            \n",
            "                                                                                                  \n",
            " conv3d_47 (Conv3D)          (None, 140, 120, 120, 8)     656       ['input_5[0][0]']             \n",
            "                                                                                                  \n",
            " re_lu_23 (ReLU)             (None, 140, 120, 120, 8)     0         ['conv3d_47[0][0]']           \n",
            "                                                                                                  \n",
            " conv3d_48 (Conv3D)          (None, 140, 120, 120, 8)     1736      ['re_lu_23[0][0]']            \n",
            "                                                                                                  \n",
            " re_lu_24 (ReLU)             (None, 140, 120, 120, 8)     0         ['conv3d_48[0][0]']           \n",
            "                                                                                                  \n",
            " conv3d_49 (Conv3D)          (None, 140, 120, 120, 16)    3472      ['re_lu_24[0][0]']            \n",
            "                                                                                                  \n",
            " re_lu_25 (ReLU)             (None, 140, 120, 120, 16)    0         ['conv3d_49[0][0]']           \n",
            "                                                                                                  \n",
            " max_pooling3d_13 (MaxPooli  (None, 70, 60, 60, 16)       0         ['re_lu_25[0][0]']            \n",
            " ng3D)                                                                                            \n",
            "                                                                                                  \n",
            " conv3d_50 (Conv3D)          (None, 70, 60, 60, 16)       6928      ['max_pooling3d_13[0][0]']    \n",
            "                                                                                                  \n",
            " re_lu_26 (ReLU)             (None, 70, 60, 60, 16)       0         ['conv3d_50[0][0]']           \n",
            "                                                                                                  \n",
            " conv3d_51 (Conv3D)          (None, 70, 60, 60, 16)       6928      ['re_lu_26[0][0]']            \n",
            "                                                                                                  \n",
            " elu_24 (ELU)                (None, 70, 60, 60, 16)       0         ['conv3d_51[0][0]']           \n",
            "                                                                                                  \n",
            " conv3d_55 (Conv3D)          (None, 70, 60, 60, 32)       13856     ['re_lu_26[0][0]']            \n",
            "                                                                                                  \n",
            " conv3d_52 (Conv3D)          (None, 70, 60, 60, 16)       32016     ['elu_24[0][0]']              \n",
            "                                                                                                  \n",
            " re_lu_27 (ReLU)             (None, 70, 60, 60, 32)       0         ['conv3d_55[0][0]']           \n",
            "                                                                                                  \n",
            " elu_25 (ELU)                (None, 70, 60, 60, 16)       0         ['conv3d_52[0][0]']           \n",
            "                                                                                                  \n",
            " conv3d_56 (Conv3D)          (None, 70, 60, 60, 32)       27680     ['re_lu_27[0][0]']            \n",
            "                                                                                                  \n",
            " conv3d_53 (Conv3D)          (None, 70, 60, 60, 32)       13856     ['elu_25[0][0]']              \n",
            "                                                                                                  \n",
            " re_lu_28 (ReLU)             (None, 70, 60, 60, 32)       0         ['conv3d_56[0][0]']           \n",
            "                                                                                                  \n",
            " elu_26 (ELU)                (None, 70, 60, 60, 32)       0         ['conv3d_53[0][0]']           \n",
            "                                                                                                  \n",
            " conv3d_57 (Conv3D)          (None, 70, 60, 60, 64)       55360     ['re_lu_28[0][0]']            \n",
            "                                                                                                  \n",
            " max_pooling3d_14 (MaxPooli  (None, 35, 30, 30, 32)       0         ['elu_26[0][0]']              \n",
            " ng3D)                                                                                            \n",
            "                                                                                                  \n",
            " re_lu_29 (ReLU)             (None, 70, 60, 60, 64)       0         ['conv3d_57[0][0]']           \n",
            "                                                                                                  \n",
            " conv3d_54 (Conv3D)          (None, 35, 30, 30, 32)       128032    ['max_pooling3d_14[0][0]']    \n",
            "                                                                                                  \n",
            " max_pooling3d_15 (MaxPooli  (None, 35, 30, 30, 64)       0         ['re_lu_29[0][0]']            \n",
            " ng3D)                                                                                            \n",
            "                                                                                                  \n",
            " elu_27 (ELU)                (None, 35, 30, 30, 32)       0         ['conv3d_54[0][0]']           \n",
            "                                                                                                  \n",
            " conv3d_58 (Conv3D)          (None, 35, 30, 30, 64)       110656    ['max_pooling3d_15[0][0]']    \n",
            "                                                                                                  \n",
            " concatenate_4 (Concatenate  (None, 35, 30, 30, 96)       0         ['elu_27[0][0]',              \n",
            " )                                                                   'conv3d_58[0][0]']           \n",
            "                                                                                                  \n",
            " batch_normalization_5 (Bat  (None, 35, 30, 30, 96)       384       ['concatenate_4[0][0]']       \n",
            " chNormalization)                                                                                 \n",
            "                                                                                                  \n",
            " conv3d_59 (Conv3D)          (None, 33, 28, 28, 96)       248928    ['batch_normalization_5[0][0]'\n",
            "                                                                    ]                             \n",
            "                                                                                                  \n",
            " elu_28 (ELU)                (None, 33, 28, 28, 96)       0         ['conv3d_59[0][0]']           \n",
            "                                                                                                  \n",
            " conv3d_60 (Conv3D)          (None, 31, 26, 26, 96)       248928    ['elu_28[0][0]']              \n",
            "                                                                                                  \n",
            " elu_29 (ELU)                (None, 31, 26, 26, 96)       0         ['conv3d_60[0][0]']           \n",
            "                                                                                                  \n",
            " max_pooling3d_16 (MaxPooli  (None, 15, 13, 13, 96)       0         ['elu_29[0][0]']              \n",
            " ng3D)                                                                                            \n",
            "                                                                                                  \n",
            " batch_normalization_6 (Bat  (None, 15, 13, 13, 96)       384       ['max_pooling3d_16[0][0]']    \n",
            " chNormalization)                                                                                 \n",
            "                                                                                                  \n",
            " lambda_2 (Lambda)           (None, 13, 13, 96)           0         ['batch_normalization_6[0][0]'\n",
            "                                                                    ]                             \n",
            "                                                                                                  \n",
            " flatten_2 (Flatten)         (None, 16224)                0         ['lambda_2[0][0]']            \n",
            "                                                                                                  \n",
            " dense_6 (Dense)             (None, 1024)                 1661440   ['flatten_2[0][0]']           \n",
            "                                                          0                                       \n",
            "                                                                                                  \n",
            " elu_30 (ELU)                (None, 1024)                 0         ['dense_6[0][0]']             \n",
            "                                                                                                  \n",
            " dropout_4 (Dropout)         (None, 1024)                 0         ['elu_30[0][0]']              \n",
            "                                                                                                  \n",
            " dense_7 (Dense)             (None, 128)                  131200    ['dropout_4[0][0]']           \n",
            "                                                                                                  \n",
            " re_lu_30 (ReLU)             (None, 128)                  0         ['dense_7[0][0]']             \n",
            "                                                                                                  \n",
            " dropout_5 (Dropout)         (None, 128)                  0         ['re_lu_30[0][0]']            \n",
            "                                                                                                  \n",
            " dense_8 (Dense)             (None, 3)                    387       ['dropout_5[0][0]']           \n",
            "                                                                                                  \n",
            "==================================================================================================\n",
            "Total params: 17645787 (67.31 MB)\n",
            "Trainable params: 17645403 (67.31 MB)\n",
            "Non-trainable params: 384 (1.50 KB)\n",
            "__________________________________________________________________________________________________\n"
          ]
        }
      ],
      "source": [
        "strategy = tf.distribute.MirroredStrategy()\n",
        "\n",
        "with strategy.scope():\n",
        "    # train_dist = strategy.experimental_distribute_dataset(train_ds)\n",
        "    # val_dist = strategy.experimental_distribute_dataset(val_ds)\n",
        "\n",
        "    input_shape = (8, 140, 120, 120, 3)\n",
        "    inputs = Input(shape=input_shape[1:])\n",
        "\n",
        "    x = Conv3D(8, (3, 3, 3), strides=(1, 1, 1), padding='same')(inputs)\n",
        "    x = ReLU()(x)\n",
        "    x = Conv3D(8, (3, 3, 3), strides=(1, 1, 1), padding='same')(x)\n",
        "    x = ReLU()(x)\n",
        "    x = Conv3D(16, (3, 3, 3), strides=(1, 1, 1), padding='same')(x)\n",
        "    x = ReLU()(x)\n",
        "    x = MaxPooling3D(pool_size=(2,2,2))(x)\n",
        "    x = Conv3D(16, (3, 3, 3), strides=(1, 1, 1), padding='same')(x)\n",
        "    x = ReLU()(x)\n",
        "\n",
        "    x1 = Conv3D(16, (3, 3, 3), strides=(1, 1, 1), padding='same')(x)\n",
        "    x1 = ELU()(x1)\n",
        "    x1 = Conv3D(16, (5, 5, 5), strides=(1, 1, 1), padding='same')(x1)\n",
        "    x1 = ELU()(x1)\n",
        "    x1 = Conv3D(32, (3, 3, 3), strides=(1, 1, 1), padding='same')(x1)\n",
        "    x1 = ELU()(x1)\n",
        "    x1 = MaxPooling3D(pool_size=(2,2,2))(x1)\n",
        "    x1 = Conv3D(32, (5, 5, 5), strides=(1, 1, 1), padding='same', kernel_regularizer = 'l2')(x1)\n",
        "    x1 = ELU()(x1)\n",
        "\n",
        "    # Define the right branch of the network with x as input\n",
        "    x3 = Conv3D(32, (3,3,3), strides=(1,1,1), padding = 'same')(x)\n",
        "    x3 = ReLU()(x3)\n",
        "    x3 = Conv3D(32, (3,3,3), strides=(1,1,1), padding='same')(x3)\n",
        "    x3 = ReLU()(x3)\n",
        "    x3 = Conv3D(64, (3,3,3), strides=(1,1,1), padding='same')(x3)\n",
        "    x3 = ReLU()(x3)\n",
        "    x3 = MaxPooling3D(pool_size=(2,2,2))(x3)\n",
        "    x3 = Conv3D(64, (3,3,3), strides=(1,1,1), activation = 'relu', padding='same', kernel_regularizer = 'l2')(x3)\n",
        "\n",
        "    # Concatenate all the branches (Total)\n",
        "    x4 = Concatenate()([x1, x3])\n",
        "    x4 = BatchNormalization()(x4)\n",
        "    x4 = Conv3D(96, (3,3,3), strides=(1,1,1))(x4)\n",
        "    x4 = ELU()(x4)\n",
        "    x4 = Conv3D(96, (3,3,3), strides=(1,1,1), kernel_regularizer = 'l2')(x4)\n",
        "    x4 = ELU()(x4)\n",
        "    x4 = MaxPooling3D(pool_size=(2,2,2))(x4)\n",
        "    x4 = BatchNormalization()(x4)\n",
        "\n",
        "    # Flatten and add the fully connected layers\n",
        "    x4 = Lambda(lambda x: K.sum(x, axis=1))(x4)\n",
        "    x4 = Flatten()(x4)\n",
        "    x4 = Dense(1024)(x4)\n",
        "    x4 = ELU()(x4)\n",
        "    x4 = Dropout(0.5)(x4)\n",
        "    x4 = Dense(128)(x4)\n",
        "    x4 = ReLU()(x4)\n",
        "    x4 = Dropout(0.4)(x4)\n",
        "    outputs = Dense(3, activation='softmax')(x4)\n",
        "\n",
        "    # Create the model\n",
        "    #tf.keras.backend.clear_session()\n",
        "    model = Model(inputs, outputs)\n",
        "\n",
        "    #0.0005 has been the best learning rate\n",
        "    model.compile(loss=\"sparse_categorical_crossentropy\", optimizer=tf.keras.optimizers.Adam(learning_rate = 0.001), metrics=['accuracy'])\n",
        "\n",
        "model.summary()"
      ]
    },
    {
      "cell_type": "code",
      "execution_count": null,
      "id": "tqUt0Y97fwNz",
      "metadata": {
        "colab": {
          "background_save": true,
          "base_uri": "https://localhost:8080/"
        },
        "id": "tqUt0Y97fwNz",
        "outputId": "61b11679-9163-4cb9-afbe-5263c1a0e299"
      },
      "outputs": [
        {
          "name": "stdout",
          "output_type": "stream",
          "text": [
            "Epoch 1/60\n",
            "      6/Unknown - 30s 415ms/step - loss: 55.9105 - accuracy: 0.5417"
          ]
        },
        {
          "name": "stderr",
          "output_type": "stream",
          "text": [
            "WARNING:tensorflow:Callback method `on_train_batch_end` is slow compared to the batch time (batch time: 0.1426s vs `on_train_batch_end` time: 0.2267s). Check your callbacks.\n"
          ]
        },
        {
          "name": "stdout",
          "output_type": "stream",
          "text": [
            "169/169 [==============================] - 127s 588ms/step - loss: 32.7585 - accuracy: 0.4896 - val_loss: 19.8825 - val_accuracy: 0.5114 - lr: 0.0010\n",
            "Epoch 2/60\n",
            "169/169 [==============================] - 80s 471ms/step - loss: 9.8579 - accuracy: 0.5222 - val_loss: 9.0996 - val_accuracy: 0.4853 - lr: 0.0010\n",
            "Epoch 3/60\n",
            "169/169 [==============================] - 80s 472ms/step - loss: 1.3433 - accuracy: 0.5695 - val_loss: 0.9928 - val_accuracy: 0.5342 - lr: 0.0010\n",
            "Epoch 4/60\n",
            "169/169 [==============================] - 80s 473ms/step - loss: 1.0541 - accuracy: 0.5533 - val_loss: 0.6996 - val_accuracy: 0.6515 - lr: 0.0010\n",
            "Epoch 5/60\n",
            "169/169 [==============================] - 80s 473ms/step - loss: 0.9106 - accuracy: 0.5917 - val_loss: 1.4015 - val_accuracy: 0.5244 - lr: 0.0010\n",
            "Epoch 6/60\n",
            "169/169 [==============================] - 80s 473ms/step - loss: 0.9034 - accuracy: 0.5888 - val_loss: 0.7121 - val_accuracy: 0.5668 - lr: 0.0010\n",
            "Epoch 7/60\n",
            "169/169 [==============================] - 80s 473ms/step - loss: 0.8251 - accuracy: 0.6331 - val_loss: 0.6692 - val_accuracy: 0.6352 - lr: 0.0010\n",
            "Epoch 8/60\n",
            "169/169 [==============================] - 80s 473ms/step - loss: 0.8782 - accuracy: 0.5902 - val_loss: 0.8188 - val_accuracy: 0.5928 - lr: 0.0010\n",
            "Epoch 9/60\n",
            "169/169 [==============================] - 80s 473ms/step - loss: 0.7886 - accuracy: 0.6361 - val_loss: 0.7094 - val_accuracy: 0.6287 - lr: 0.0010\n",
            "Epoch 10/60\n",
            "169/169 [==============================] - 80s 473ms/step - loss: 0.7868 - accuracy: 0.6391 - val_loss: 0.8717 - val_accuracy: 0.6775 - lr: 0.0010\n",
            "Epoch 11/60\n",
            "169/169 [==============================] - 80s 473ms/step - loss: 0.7403 - accuracy: 0.6864 - val_loss: 1.4117 - val_accuracy: 0.5635 - lr: 0.0010\n",
            "Epoch 12/60\n",
            "169/169 [==============================] - 80s 474ms/step - loss: 0.8020 - accuracy: 0.6361 - val_loss: 0.6860 - val_accuracy: 0.6938 - lr: 0.0010\n",
            "Epoch 13/60\n",
            "169/169 [==============================] - 80s 473ms/step - loss: 0.6152 - accuracy: 0.7189 - val_loss: 1.0249 - val_accuracy: 0.5765 - lr: 0.0010\n",
            "Epoch 14/60\n",
            "169/169 [==============================] - 80s 473ms/step - loss: 0.6946 - accuracy: 0.6760 - val_loss: 0.6620 - val_accuracy: 0.6221 - lr: 0.0010\n",
            "Epoch 15/60\n",
            "169/169 [==============================] - 80s 473ms/step - loss: 0.6011 - accuracy: 0.7071 - val_loss: 0.6903 - val_accuracy: 0.6808 - lr: 0.0010\n",
            "Epoch 16/60\n",
            "169/169 [==============================] - 80s 473ms/step - loss: 0.6030 - accuracy: 0.7012 - val_loss: 0.7953 - val_accuracy: 0.7101 - lr: 0.0010\n",
            "Epoch 17/60\n",
            "169/169 [==============================] - 80s 473ms/step - loss: 0.5384 - accuracy: 0.7175 - val_loss: 2.2202 - val_accuracy: 0.4886 - lr: 0.0010\n",
            "Epoch 18/60\n",
            "169/169 [==============================] - 80s 474ms/step - loss: 0.6098 - accuracy: 0.7396 - val_loss: 1.4743 - val_accuracy: 0.6515 - lr: 0.0010\n",
            "Epoch 19/60\n",
            "169/169 [==============================] - 80s 473ms/step - loss: 0.6063 - accuracy: 0.7367 - val_loss: 1.0205 - val_accuracy: 0.6254 - lr: 0.0010\n",
            "Epoch 20/60\n",
            "169/169 [==============================] - 80s 474ms/step - loss: 0.5934 - accuracy: 0.7293 - val_loss: 1.0380 - val_accuracy: 0.6287 - lr: 0.0010\n",
            "Epoch 21/60\n",
            "169/169 [==============================] - 80s 474ms/step - loss: 0.5647 - accuracy: 0.7470 - val_loss: 0.8338 - val_accuracy: 0.6906 - lr: 0.0010\n",
            "Epoch 22/60\n",
            "169/169 [==============================] - 80s 473ms/step - loss: 0.5170 - accuracy: 0.7544 - val_loss: 0.7131 - val_accuracy: 0.7329 - lr: 0.0010\n",
            "Epoch 23/60\n",
            "169/169 [==============================] - ETA: 0s - loss: 0.5464 - accuracy: 0.7544\n",
            "Epoch 23: ReduceLROnPlateau reducing learning rate to 0.00020000000949949026.\n",
            "169/169 [==============================] - 80s 473ms/step - loss: 0.5464 - accuracy: 0.7544 - val_loss: 1.3054 - val_accuracy: 0.5700 - lr: 0.0010\n",
            "Epoch 24/60\n",
            "169/169 [==============================] - 80s 473ms/step - loss: 0.4359 - accuracy: 0.8136 - val_loss: 0.7060 - val_accuracy: 0.6580 - lr: 2.0000e-04\n",
            "Epoch 25/60\n",
            "169/169 [==============================] - 80s 473ms/step - loss: 0.3842 - accuracy: 0.8417 - val_loss: 0.7476 - val_accuracy: 0.7199 - lr: 2.0000e-04\n",
            "Epoch 26/60\n",
            "169/169 [==============================] - 80s 473ms/step - loss: 0.3559 - accuracy: 0.8491 - val_loss: 0.8808 - val_accuracy: 0.6710 - lr: 2.0000e-04\n",
            "Epoch 27/60\n",
            "169/169 [==============================] - 80s 473ms/step - loss: 0.3655 - accuracy: 0.8284 - val_loss: 0.9092 - val_accuracy: 0.7036 - lr: 2.0000e-04\n",
            "Epoch 28/60\n",
            "169/169 [==============================] - 80s 473ms/step - loss: 0.3456 - accuracy: 0.8388 - val_loss: 0.8763 - val_accuracy: 0.6710 - lr: 2.0000e-04\n",
            "Epoch 29/60\n",
            "169/169 [==============================] - 80s 473ms/step - loss: 0.3238 - accuracy: 0.8536 - val_loss: 0.9247 - val_accuracy: 0.6678 - lr: 2.0000e-04\n",
            "Epoch 30/60\n",
            "169/169 [==============================] - 80s 473ms/step - loss: 0.3278 - accuracy: 0.8683 - val_loss: 0.9063 - val_accuracy: 0.6450 - lr: 2.0000e-04\n",
            "Epoch 31/60\n",
            "169/169 [==============================] - 80s 473ms/step - loss: 0.3069 - accuracy: 0.8595 - val_loss: 1.1403 - val_accuracy: 0.6450 - lr: 2.0000e-04\n",
            "Epoch 32/60\n",
            "169/169 [==============================] - ETA: 0s - loss: 0.3118 - accuracy: 0.8683\n",
            "Epoch 32: ReduceLROnPlateau reducing learning rate to 4.0000001899898055e-05.\n",
            "169/169 [==============================] - 80s 473ms/step - loss: 0.3118 - accuracy: 0.8683 - val_loss: 1.0124 - val_accuracy: 0.6319 - lr: 2.0000e-04\n",
            "Epoch 33/60\n",
            "169/169 [==============================] - 80s 473ms/step - loss: 0.2980 - accuracy: 0.8743 - val_loss: 0.9945 - val_accuracy: 0.6678 - lr: 4.0000e-05\n",
            "Epoch 34/60\n",
            "169/169 [==============================] - 80s 473ms/step - loss: 0.2673 - accuracy: 0.8772 - val_loss: 1.0360 - val_accuracy: 0.6612 - lr: 4.0000e-05\n",
            "Epoch 35/60\n",
            "169/169 [==============================] - 80s 473ms/step - loss: 0.2774 - accuracy: 0.8846 - val_loss: 1.0064 - val_accuracy: 0.6645 - lr: 4.0000e-05\n",
            "Epoch 36/60\n",
            "169/169 [==============================] - 80s 473ms/step - loss: 0.2634 - accuracy: 0.8994 - val_loss: 1.0165 - val_accuracy: 0.6612 - lr: 4.0000e-05\n",
            "Epoch 37/60\n",
            "169/169 [==============================] - 80s 473ms/step - loss: 0.2655 - accuracy: 0.8876 - val_loss: 1.0924 - val_accuracy: 0.6482 - lr: 4.0000e-05\n",
            "Epoch 38/60\n",
            "169/169 [==============================] - 80s 473ms/step - loss: 0.2472 - accuracy: 0.9038 - val_loss: 1.1275 - val_accuracy: 0.6450 - lr: 4.0000e-05\n",
            "Epoch 39/60\n",
            "169/169 [==============================] - 80s 474ms/step - loss: 0.2663 - accuracy: 0.8891 - val_loss: 1.0792 - val_accuracy: 0.6580 - lr: 4.0000e-05\n",
            "Epoch 40/60\n",
            "169/169 [==============================] - 80s 473ms/step - loss: 0.2424 - accuracy: 0.8935 - val_loss: 1.0772 - val_accuracy: 0.6417 - lr: 4.0000e-05\n",
            "Epoch 41/60\n",
            "169/169 [==============================] - ETA: 0s - loss: 0.2555 - accuracy: 0.8891\n",
            "Epoch 41: ReduceLROnPlateau reducing learning rate to 8.000000525498762e-06.\n",
            "169/169 [==============================] - 80s 473ms/step - loss: 0.2555 - accuracy: 0.8891 - val_loss: 1.1710 - val_accuracy: 0.6352 - lr: 4.0000e-05\n",
            "Epoch 42/60\n",
            "169/169 [==============================] - 80s 473ms/step - loss: 0.2388 - accuracy: 0.9083 - val_loss: 1.1506 - val_accuracy: 0.6417 - lr: 8.0000e-06\n",
            "Epoch 43/60\n",
            "169/169 [==============================] - 80s 473ms/step - loss: 0.2363 - accuracy: 0.9038 - val_loss: 1.1535 - val_accuracy: 0.6352 - lr: 8.0000e-06\n",
            "Epoch 44/60\n",
            "169/169 [==============================] - 80s 473ms/step - loss: 0.2378 - accuracy: 0.8979 - val_loss: 1.1347 - val_accuracy: 0.6515 - lr: 8.0000e-06\n",
            "Epoch 45/60\n",
            "169/169 [==============================] - 80s 473ms/step - loss: 0.2292 - accuracy: 0.9127 - val_loss: 1.1601 - val_accuracy: 0.6254 - lr: 8.0000e-06\n",
            "Epoch 46/60\n",
            "169/169 [==============================] - 80s 473ms/step - loss: 0.2471 - accuracy: 0.8950 - val_loss: 1.1388 - val_accuracy: 0.6450 - lr: 8.0000e-06\n",
            "Epoch 47/60\n",
            "169/169 [==============================] - 80s 473ms/step - loss: 0.2385 - accuracy: 0.8979 - val_loss: 1.1640 - val_accuracy: 0.6384 - lr: 8.0000e-06\n",
            "Epoch 48/60\n",
            "169/169 [==============================] - 80s 473ms/step - loss: 0.2319 - accuracy: 0.9053 - val_loss: 1.1796 - val_accuracy: 0.6352 - lr: 8.0000e-06\n",
            "Epoch 49/60\n",
            "169/169 [==============================] - 80s 473ms/step - loss: 0.2490 - accuracy: 0.9009 - val_loss: 1.1901 - val_accuracy: 0.6450 - lr: 8.0000e-06\n",
            "Epoch 50/60\n",
            "169/169 [==============================] - ETA: 0s - loss: 0.2223 - accuracy: 0.9024\n",
            "Epoch 50: ReduceLROnPlateau reducing learning rate to 1.6000001778593287e-06.\n",
            "169/169 [==============================] - 80s 473ms/step - loss: 0.2223 - accuracy: 0.9024 - val_loss: 1.1839 - val_accuracy: 0.6352 - lr: 8.0000e-06\n",
            "Epoch 51/60\n",
            "169/169 [==============================] - 80s 473ms/step - loss: 0.2270 - accuracy: 0.9172 - val_loss: 1.1823 - val_accuracy: 0.6319 - lr: 1.6000e-06\n",
            "Epoch 52/60\n",
            "169/169 [==============================] - 80s 473ms/step - loss: 0.2216 - accuracy: 0.9157 - val_loss: 1.1872 - val_accuracy: 0.6287 - lr: 1.6000e-06\n",
            "Epoch 53/60\n",
            "169/169 [==============================] - 80s 473ms/step - loss: 0.2273 - accuracy: 0.9083 - val_loss: 1.1854 - val_accuracy: 0.6319 - lr: 1.6000e-06\n",
            "Epoch 54/60\n",
            "169/169 [==============================] - 80s 473ms/step - loss: 0.2179 - accuracy: 0.9186 - val_loss: 1.1875 - val_accuracy: 0.6384 - lr: 1.6000e-06\n",
            "Epoch 55/60\n",
            "169/169 [==============================] - 80s 473ms/step - loss: 0.2155 - accuracy: 0.9112 - val_loss: 1.1936 - val_accuracy: 0.6417 - lr: 1.6000e-06\n",
            "Epoch 56/60\n",
            "169/169 [==============================] - 80s 473ms/step - loss: 0.2144 - accuracy: 0.9127 - val_loss: 1.2023 - val_accuracy: 0.6384 - lr: 1.6000e-06\n",
            "Epoch 57/60\n",
            "169/169 [==============================] - 80s 473ms/step - loss: 0.2238 - accuracy: 0.9098 - val_loss: 1.2026 - val_accuracy: 0.6384 - lr: 1.6000e-06\n",
            "Epoch 58/60\n",
            "169/169 [==============================] - 80s 473ms/step - loss: 0.2183 - accuracy: 0.9216 - val_loss: 1.2003 - val_accuracy: 0.6384 - lr: 1.6000e-06\n",
            "Epoch 59/60\n",
            "169/169 [==============================] - ETA: 0s - loss: 0.2236 - accuracy: 0.9083\n",
            "Epoch 59: ReduceLROnPlateau reducing learning rate to 3.200000264769187e-07.\n",
            "169/169 [==============================] - 80s 473ms/step - loss: 0.2236 - accuracy: 0.9083 - val_loss: 1.2082 - val_accuracy: 0.6352 - lr: 1.6000e-06\n",
            "Epoch 60/60\n",
            "169/169 [==============================] - 80s 473ms/step - loss: 0.2254 - accuracy: 0.9098 - val_loss: 1.2076 - val_accuracy: 0.6384 - lr: 3.2000e-07\n"
          ]
        },
        {
          "data": {
            "text/plain": [
              "<keras.src.callbacks.History at 0x7841486b4bb0>"
            ]
          },
          "execution_count": 36,
          "metadata": {},
          "output_type": "execute_result"
        }
      ],
      "source": [
        "model.fit(train_ds,\n",
        "        epochs=config.epochs,\n",
        "        #batch_size = config.batch_size,\n",
        "        validation_data=val_ds,\n",
        "        callbacks= [wandb_callbacks, ReduceLROnPlateau(monitor='val_loss', factor=0.2, patience=9, verbose=1, min_delta=0.001)])"
      ]
    },
    {
      "cell_type": "markdown",
      "id": "qtW5LouO5V58",
      "metadata": {
        "id": "qtW5LouO5V58"
      },
      "source": [
        "# Evaluate the performance of the model"
      ]
    },
    {
      "cell_type": "markdown",
      "id": "oU5YmNaA7XUs",
      "metadata": {
        "id": "oU5YmNaA7XUs"
      },
      "source": [
        "#Softmax"
      ]
    },
    {
      "cell_type": "code",
      "execution_count": null,
      "id": "5Q1pY-Sk7jU1",
      "metadata": {
        "id": "5Q1pY-Sk7jU1"
      },
      "outputs": [],
      "source": [
        "copy_val_ds = copy_val_ds.batch(1)"
      ]
    },
    {
      "cell_type": "code",
      "execution_count": null,
      "id": "rzF-ztKX7nCo",
      "metadata": {
        "id": "rzF-ztKX7nCo"
      },
      "outputs": [],
      "source": [
        "y_true = np.concatenate([np.array([y]) for x, y in copy_val_ds], axis=0)\n",
        "y_pred = model.predict(copy_val_ds)"
      ]
    },
    {
      "cell_type": "code",
      "execution_count": null,
      "id": "mxjzxIZi7uyG",
      "metadata": {
        "id": "mxjzxIZi7uyG"
      },
      "outputs": [],
      "source": [
        "conf_matrix = confusion_matrix(y_true, np.argmax(y_pred, axis=1))\n",
        "print(conf_matrix)"
      ]
    },
    {
      "cell_type": "code",
      "execution_count": null,
      "id": "Y35vXEVW7xZ2",
      "metadata": {
        "id": "Y35vXEVW7xZ2"
      },
      "outputs": [],
      "source": [
        "accuracy = accuracy_score(y_true, np.argmax(y_pred, axis=1))\n",
        "precision = precision_score(y_true, np.argmax(y_pred, axis=1), average='weighted')\n",
        "recall = recall_score(y_true, np.argmax(y_pred, axis=1), average='weighted')\n",
        "f1 = f1_score(y_true, np.argmax(y_pred, axis=1), average='weighted')\n",
        "roc_auc = roc_auc_score(y_true, y_pred, multi_class='ovr')\n",
        "\n",
        "print(f'Accuracy: {accuracy}')\n",
        "print(f'Precision: {precision}')\n",
        "print(f'Recall: {recall}')\n",
        "print(f'F1 Score: {f1}')\n",
        "print(f'ROC-AUC: {roc_auc}')\n"
      ]
    },
    {
      "cell_type": "code",
      "execution_count": null,
      "id": "nvSTxQy78lgm",
      "metadata": {
        "id": "nvSTxQy78lgm"
      },
      "outputs": [],
      "source": [
        "model.save('/content/drive/MyDrive/Dataset/model_latestv1.keras')"
      ]
    },
    {
      "cell_type": "markdown",
      "id": "e8uCh38e7T09",
      "metadata": {
        "id": "e8uCh38e7T09"
      },
      "source": [
        "#Binary Classification"
      ]
    },
    {
      "cell_type": "code",
      "execution_count": null,
      "id": "yeTok4yf3OOa",
      "metadata": {
        "id": "yeTok4yf3OOa"
      },
      "outputs": [],
      "source": [
        "copy_val_ds = copy_val_ds.batch(1)"
      ]
    },
    {
      "cell_type": "code",
      "execution_count": null,
      "id": "FV-hhXD12LT2",
      "metadata": {
        "colab": {
          "base_uri": "https://localhost:8080/"
        },
        "id": "FV-hhXD12LT2",
        "outputId": "35d796a0-b1c5-42d3-90b5-c31c03a788f2"
      },
      "outputs": [
        {
          "name": "stdout",
          "output_type": "stream",
          "text": [
            "Processing video: /content/drive/MyDrive/Dataset/Aggregate_Val/Pockets/flipped_shorten_resized_Copy of shoplift_6.mp4 Class name: Pockets Label: 2\n",
            "Processing video: /content/drive/MyDrive/Dataset/Aggregate_Val/Pockets/iseg_resized_Shoplifting (70).mp4 Class name: Pockets Label: 2\n",
            "Processing video: /content/drive/MyDrive/Dataset/Aggregate_Val/Pockets/iseg_resized_Shoplifting (77).mp4 Class name: Pockets Label: 2\n",
            "Processing video: /content/drive/MyDrive/Dataset/Aggregate_Val/Pockets/iseg_resized_Shoplifting (78).mp4 Class name: Pockets Label: 2\n",
            "Processing video: /content/drive/MyDrive/Dataset/Aggregate_Val/Pockets/iseg_resized_Shoplifting (87).mp4 Class name: Pockets Label: 2\n",
            "Processing video: /content/drive/MyDrive/Dataset/Aggregate_Val/Pockets/iseg_resized_Shoplifting (65).mp4 Class name: Pockets Label: 2\n",
            "Processing video: /content/drive/MyDrive/Dataset/Aggregate_Val/Pockets/iseg_resized_Shoplifting (66).mp4 Class name: Pockets Label: 2\n",
            "Processing video: /content/drive/MyDrive/Dataset/Aggregate_Val/Pockets/iseg_resized_Shoplifting (67).mp4 Class name: Pockets Label: 2\n",
            "Processing video: /content/drive/MyDrive/Dataset/Aggregate_Val/Pockets/iseg_resized_Shoplifting (68).mp4 Class name: Pockets Label: 2\n",
            "Processing video: /content/drive/MyDrive/Dataset/Aggregate_Val/Pockets/iseg_resized_Shoplifting (69).mp4 Class name: Pockets Label: 2\n",
            "Processing video: /content/drive/MyDrive/Dataset/Aggregate_Val/Pockets/resized_processed_Shoplifting (65).mp4 Class name: Pockets Label: 2\n",
            "Processing video: /content/drive/MyDrive/Dataset/Aggregate_Val/Pockets/resized_processed_Shoplifting (66).mp4 Class name: Pockets Label: 2\n",
            "Processing video: /content/drive/MyDrive/Dataset/Aggregate_Val/Pockets/resized_processed_Shoplifting (67).mp4 Class name: Pockets Label: 2\n",
            "Processing video: /content/drive/MyDrive/Dataset/Aggregate_Val/Pockets/resized_processed_Shoplifting (68).mp4 Class name: Pockets Label: 2\n",
            "Processing video: /content/drive/MyDrive/Dataset/Aggregate_Val/Pockets/resized_processed_Shoplifting (69).mp4 Class name: Pockets Label: 2\n",
            "Processing video: /content/drive/MyDrive/Dataset/Aggregate_Val/Pockets/resized_flipped_processed_Shoplifting (65).mp4 Class name: Pockets Label: 2\n",
            "Processing video: /content/drive/MyDrive/Dataset/Aggregate_Val/Pockets/resized_flipped_processed_Shoplifting (66).mp4 Class name: Pockets Label: 2\n",
            "Processing video: /content/drive/MyDrive/Dataset/Aggregate_Val/Pockets/resized_flipped_processed_Shoplifting (67).mp4 Class name: Pockets Label: 2\n",
            "Processing video: /content/drive/MyDrive/Dataset/Aggregate_Val/Pockets/resized_flipped_processed_Shoplifting (68).mp4 Class name: Pockets Label: 2\n",
            "Processing video: /content/drive/MyDrive/Dataset/Aggregate_Val/Pockets/resized_flipped_processed_Shoplifting (69).mp4 Class name: Pockets Label: 2\n",
            "Processing video: /content/drive/MyDrive/Dataset/Aggregate_Val/Pockets/resized_pose_Shoplifting (65).mp4 Class name: Pockets Label: 2\n",
            "Processing video: /content/drive/MyDrive/Dataset/Aggregate_Val/Pockets/resized_pose_Shoplifting (66).mp4 Class name: Pockets Label: 2\n",
            "Processing video: /content/drive/MyDrive/Dataset/Aggregate_Val/Pockets/resized_pose_Shoplifting (67).mp4 Class name: Pockets Label: 2\n",
            "Processing video: /content/drive/MyDrive/Dataset/Aggregate_Val/Pockets/resized_pose_Shoplifting (68).mp4 Class name: Pockets Label: 2\n",
            "Processing video: /content/drive/MyDrive/Dataset/Aggregate_Val/Pockets/resized_pose_Shoplifting (69).mp4 Class name: Pockets Label: 2\n",
            "Processing video: /content/drive/MyDrive/Dataset/Aggregate_Val/Pockets/resized_processed_Shoplifting (70).mp4 Class name: Pockets Label: 2\n",
            "Processing video: /content/drive/MyDrive/Dataset/Aggregate_Val/Pockets/resized_processed_Shoplifting (78).mp4 Class name: Pockets Label: 2\n",
            "Processing video: /content/drive/MyDrive/Dataset/Aggregate_Val/Pockets/resized_processed_Shoplifting (77).mp4 Class name: Pockets Label: 2\n",
            "Processing video: /content/drive/MyDrive/Dataset/Aggregate_Val/Pockets/resized_processed_Shoplifting (87).mp4 Class name: Pockets Label: 2\n",
            "Processing video: /content/drive/MyDrive/Dataset/Aggregate_Val/Pockets/resized_flipped_processed_Shoplifting (70).mp4 Class name: Pockets Label: 2\n",
            "Processing video: /content/drive/MyDrive/Dataset/Aggregate_Val/Pockets/resized_flipped_processed_Shoplifting (78).mp4 Class name: Pockets Label: 2\n",
            "Processing video: /content/drive/MyDrive/Dataset/Aggregate_Val/Pockets/resized_flipped_processed_Shoplifting (77).mp4 Class name: Pockets Label: 2\n",
            "Processing video: /content/drive/MyDrive/Dataset/Aggregate_Val/Pockets/resized_flipped_processed_Shoplifting (87).mp4 Class name: Pockets Label: 2\n",
            "Processing video: /content/drive/MyDrive/Dataset/Aggregate_Val/Pockets/resized_pose_Shoplifting (70).mp4 Class name: Pockets Label: 2\n",
            "Processing video: /content/drive/MyDrive/Dataset/Aggregate_Val/Pockets/resized_pose_Shoplifting (77).mp4 Class name: Pockets Label: 2\n",
            "Processing video: /content/drive/MyDrive/Dataset/Aggregate_Val/Pockets/resized_pose_Shoplifting (78).mp4 Class name: Pockets Label: 2\n",
            "Processing video: /content/drive/MyDrive/Dataset/Aggregate_Val/Pockets/resized_pose_Shoplifting (87).mp4 Class name: Pockets Label: 2\n",
            "Processing video: /content/drive/MyDrive/Dataset/Aggregate_Val/Pockets/resized_flipped_pose_Shoplifting (70).mp4 Class name: Pockets Label: 2\n",
            "Processing video: /content/drive/MyDrive/Dataset/Aggregate_Val/Pockets/resized_flipped_pose_Shoplifting (77).mp4 Class name: Pockets Label: 2\n",
            "Processing video: /content/drive/MyDrive/Dataset/Aggregate_Val/Pockets/resized_flipped_pose_Shoplifting (78).mp4 Class name: Pockets Label: 2\n",
            "Processing video: /content/drive/MyDrive/Dataset/Aggregate_Val/Pockets/resized_flipped_pose_Shoplifting (87).mp4 Class name: Pockets Label: 2\n",
            "Processing video: /content/drive/MyDrive/Dataset/Aggregate_Val/Pockets/resized_Copy of Shoplifting (87).mp4 Class name: Pockets Label: 2\n",
            "Processing video: /content/drive/MyDrive/Dataset/Aggregate_Val/Pockets/resized_Copy of Shoplifting (78).mp4 Class name: Pockets Label: 2\n",
            "Processing video: /content/drive/MyDrive/Dataset/Aggregate_Val/Pockets/resized_Copy of Shoplifting (70).mp4 Class name: Pockets Label: 2\n",
            "Processing video: /content/drive/MyDrive/Dataset/Aggregate_Val/Pockets/resized_Copy of Shoplifting (77).mp4 Class name: Pockets Label: 2\n",
            "Processing video: /content/drive/MyDrive/Dataset/Aggregate_Val/Pockets/shorten_Shoplifting (18x).mp4 Class name: Pockets Label: 2\n",
            "Processing video: /content/drive/MyDrive/Dataset/Aggregate_Val/Pockets/shorten_Shooplifting (24x).mp4 Class name: Pockets Label: 2\n",
            "Processing video: /content/drive/MyDrive/Dataset/Aggregate_Val/Pockets/shorten_Shoplifting (47x).mp4 Class name: Pockets Label: 2\n",
            "Processing video: /content/drive/MyDrive/Dataset/Aggregate_Val/Pockets/shorten_processed_Shoplifting (18x).mp4 Class name: Pockets Label: 2\n",
            "Processing video: /content/drive/MyDrive/Dataset/Aggregate_Val/Pockets/shorten_processed_Shooplifting (24x).mp4 Class name: Pockets Label: 2\n",
            "Processing video: /content/drive/MyDrive/Dataset/Aggregate_Val/Pockets/shorten_processed_Shoplifting (47x).mp4 Class name: Pockets Label: 2\n",
            "Processing video: /content/drive/MyDrive/Dataset/Aggregate_Val/Pockets/shorten_flipped_Shoplifting (18x).mp4 Class name: Pockets Label: 2\n",
            "Processing video: /content/drive/MyDrive/Dataset/Aggregate_Val/Pockets/shorten_flipped_Shooplifting (24x).mp4 Class name: Pockets Label: 2\n",
            "Processing video: /content/drive/MyDrive/Dataset/Aggregate_Val/Pockets/shorten_flipped_Shoplifting (47x).mp4 Class name: Pockets Label: 2\n",
            "Processing video: /content/drive/MyDrive/Dataset/Aggregate_Val/Pockets/shorten_flipped_processed_Shoplifting (18x).mp4 Class name: Pockets Label: 2\n",
            "Processing video: /content/drive/MyDrive/Dataset/Aggregate_Val/Pockets/shorten_flipped_processed_Shooplifting (24x).mp4 Class name: Pockets Label: 2\n",
            "Processing video: /content/drive/MyDrive/Dataset/Aggregate_Val/Pockets/shorten_flipped_processed_Shoplifting (47x).mp4 Class name: Pockets Label: 2\n",
            "Processing video: /content/drive/MyDrive/Dataset/Aggregate_Val/Pockets/shorten_resized_Copy of shoplift_6.mp4 Class name: Pockets Label: 2\n",
            "Processing video: /content/drive/MyDrive/Dataset/Aggregate_Val/Pockets/shorten_resized_shoplift_6.2.mp4 Class name: Pockets Label: 2\n",
            "Processing video: /content/drive/MyDrive/Dataset/Aggregate_Val/Pockets/shorten_IMG_0163.mp4 Class name: Pockets Label: 2\n",
            "Processing video: /content/drive/MyDrive/Dataset/Aggregate_Val/Pockets/shorten_IMG_0168.mp4 Class name: Pockets Label: 2\n",
            "Processing video: /content/drive/MyDrive/Dataset/Aggregate_Val/Pockets/shorten_IMG_0140.mp4 Class name: Pockets Label: 2\n",
            "Processing video: /content/drive/MyDrive/Dataset/Aggregate_Val/Pockets/shorten_IMG_0146.mp4 Class name: Pockets Label: 2\n",
            "Processing video: /content/drive/MyDrive/Dataset/Aggregate_Val/Pockets/shorten_IMG_0149.mp4 Class name: Pockets Label: 2\n",
            "Processing video: /content/drive/MyDrive/Dataset/Aggregate_Val/Pockets/shorten_IMG_0183.mp4 Class name: Pockets Label: 2\n",
            "Processing video: /content/drive/MyDrive/Dataset/Aggregate_Val/Pockets/shorten_IMG_0186.mp4 Class name: Pockets Label: 2\n",
            "Processing video: /content/drive/MyDrive/Dataset/Aggregate_Val/Pockets/flipped_shorten_IMG_0163.mp4 Class name: Pockets Label: 2\n",
            "Processing video: /content/drive/MyDrive/Dataset/Aggregate_Val/Pockets/flipped_shorten_IMG_0168.mp4 Class name: Pockets Label: 2\n",
            "Processing video: /content/drive/MyDrive/Dataset/Aggregate_Val/Pockets/flipped_shorten_IMG_0140.mp4 Class name: Pockets Label: 2\n",
            "Processing video: /content/drive/MyDrive/Dataset/Aggregate_Val/Pockets/flipped_shorten_IMG_0146.mp4 Class name: Pockets Label: 2\n",
            "Processing video: /content/drive/MyDrive/Dataset/Aggregate_Val/Pockets/flipped_shorten_IMG_0149.mp4 Class name: Pockets Label: 2\n",
            "Processing video: /content/drive/MyDrive/Dataset/Aggregate_Val/Pockets/flipped_shorten_IMG_0183.mp4 Class name: Pockets Label: 2\n",
            "Processing video: /content/drive/MyDrive/Dataset/Aggregate_Val/Pockets/flipped_shorten_IMG_0186.mp4 Class name: Pockets Label: 2\n",
            "Processing video: /content/drive/MyDrive/Dataset/Aggregate_Val/Pockets/processed_shorten_IMG_0168.mp4 Class name: Pockets Label: 2\n",
            "Processing video: /content/drive/MyDrive/Dataset/Aggregate_Val/Pockets/processed_shorten_IMG_0140.mp4 Class name: Pockets Label: 2\n",
            "Processing video: /content/drive/MyDrive/Dataset/Aggregate_Val/Pockets/processed_shorten_IMG_0146.mp4 Class name: Pockets Label: 2\n",
            "Processing video: /content/drive/MyDrive/Dataset/Aggregate_Val/Pockets/processed_shorten_IMG_0149.mp4 Class name: Pockets Label: 2\n",
            "Processing video: /content/drive/MyDrive/Dataset/Aggregate_Val/Pockets/processed_shorten_IMG_0183.mp4 Class name: Pockets Label: 2\n",
            "Processing video: /content/drive/MyDrive/Dataset/Aggregate_Val/Pockets/processed_shorten_IMG_0186.mp4 Class name: Pockets Label: 2\n",
            "Processing video: /content/drive/MyDrive/Dataset/Aggregate_Val/Pockets/processed_flipped_shorten_IMG_0163.mp4 Class name: Pockets Label: 2\n",
            "Processing video: /content/drive/MyDrive/Dataset/Aggregate_Val/Pockets/processed_flipped_shorten_IMG_0168.mp4 Class name: Pockets Label: 2\n",
            "Processing video: /content/drive/MyDrive/Dataset/Aggregate_Val/Pockets/processed_flipped_shorten_IMG_0146.mp4 Class name: Pockets Label: 2\n",
            "Processing video: /content/drive/MyDrive/Dataset/Aggregate_Val/Pockets/processed_flipped_shorten_IMG_0183.mp4 Class name: Pockets Label: 2\n",
            "Processing video: /content/drive/MyDrive/Dataset/Aggregate_Val/Pockets/processed_flipped_shorten_IMG_0186.mp4 Class name: Pockets Label: 2\n",
            "Processing video: /content/drive/MyDrive/Dataset/Aggregate_Val/Pockets/processed_flipped_shorten_IMG_0140.mp4 Class name: Pockets Label: 2\n",
            "Processing video: /content/drive/MyDrive/Dataset/Aggregate_Val/Pockets/processed_flipped_shorten_IMG_0149.mp4 Class name: Pockets Label: 2\n",
            "Processing video: /content/drive/MyDrive/Dataset/Aggregate_Val/Pockets/box_shorten_IMG_0163.mp4 Class name: Pockets Label: 2\n",
            "Processing video: /content/drive/MyDrive/Dataset/Aggregate_Val/Pockets/box_shorten_IMG_0140.mp4 Class name: Pockets Label: 2\n",
            "Processing video: /content/drive/MyDrive/Dataset/Aggregate_Val/Pockets/box_shorten_IMG_0168.mp4 Class name: Pockets Label: 2\n",
            "Processing video: /content/drive/MyDrive/Dataset/Aggregate_Val/Pockets/box_shorten_IMG_0146.mp4 Class name: Pockets Label: 2\n",
            "Processing video: /content/drive/MyDrive/Dataset/Aggregate_Val/Pockets/box_shorten_IMG_0149.mp4 Class name: Pockets Label: 2\n",
            "Processing video: /content/drive/MyDrive/Dataset/Aggregate_Val/Pockets/box_shorten_IMG_0183.mp4 Class name: Pockets Label: 2\n",
            "Processing video: /content/drive/MyDrive/Dataset/Aggregate_Val/Pockets/box_shorten_IMG_0186.mp4 Class name: Pockets Label: 2\n",
            "Processing video: /content/drive/MyDrive/Dataset/Aggregate_Val/Pockets/flipped_shorten_resized_shoplift_6.2.mp4 Class name: Pockets Label: 2\n",
            "Processing video: /content/drive/MyDrive/Dataset/Aggregate_Val/Normal/iseg_resized_Normal (75).mp4 Class name: Normal Label: 1\n",
            "Processing video: /content/drive/MyDrive/Dataset/Aggregate_Val/Normal/iseg_resized_Normal (76).mp4 Class name: Normal Label: 1\n",
            "Processing video: /content/drive/MyDrive/Dataset/Aggregate_Val/Normal/iseg_resized_Normal (77).mp4 Class name: Normal Label: 1\n",
            "Processing video: /content/drive/MyDrive/Dataset/Aggregate_Val/Normal/iseg_resized_Normal (78).mp4 Class name: Normal Label: 1\n",
            "Processing video: /content/drive/MyDrive/Dataset/Aggregate_Val/Normal/iseg_resized_Normal (79).mp4 Class name: Normal Label: 1\n",
            "Processing video: /content/drive/MyDrive/Dataset/Aggregate_Val/Normal/iseg_resized_Normal (80).mp4 Class name: Normal Label: 1\n",
            "Processing video: /content/drive/MyDrive/Dataset/Aggregate_Val/Normal/iseg_resized_Normal (81).mp4 Class name: Normal Label: 1\n",
            "Processing video: /content/drive/MyDrive/Dataset/Aggregate_Val/Normal/iseg_resized_Normal (82).mp4 Class name: Normal Label: 1\n",
            "Processing video: /content/drive/MyDrive/Dataset/Aggregate_Val/Normal/iseg_resized_Normal (83).mp4 Class name: Normal Label: 1\n",
            "Processing video: /content/drive/MyDrive/Dataset/Aggregate_Val/Normal/iseg_resized_Normal (84).mp4 Class name: Normal Label: 1\n",
            "Processing video: /content/drive/MyDrive/Dataset/Aggregate_Val/Normal/iseg_resized_Normal (85).mp4 Class name: Normal Label: 1\n",
            "Processing video: /content/drive/MyDrive/Dataset/Aggregate_Val/Normal/iseg_resized_Normal (86).mp4 Class name: Normal Label: 1\n",
            "Processing video: /content/drive/MyDrive/Dataset/Aggregate_Val/Normal/iseg_resized_Normal (87).mp4 Class name: Normal Label: 1\n",
            "Processing video: /content/drive/MyDrive/Dataset/Aggregate_Val/Normal/iseg_resized_Normal (88).mp4 Class name: Normal Label: 1\n",
            "Processing video: /content/drive/MyDrive/Dataset/Aggregate_Val/Normal/iseg_resized_Normal (89).mp4 Class name: Normal Label: 1\n",
            "Processing video: /content/drive/MyDrive/Dataset/Aggregate_Val/Normal/iseg_resized_Normal (90).mp4 Class name: Normal Label: 1\n",
            "Processing video: /content/drive/MyDrive/Dataset/Aggregate_Val/Normal/iseg_resized_Normal (61).mp4 Class name: Normal Label: 1\n",
            "Processing video: /content/drive/MyDrive/Dataset/Aggregate_Val/Normal/iseg_resized_Normal (60).mp4 Class name: Normal Label: 1\n",
            "Processing video: /content/drive/MyDrive/Dataset/Aggregate_Val/Normal/iseg_resized_Normal (64).mp4 Class name: Normal Label: 1\n",
            "Processing video: /content/drive/MyDrive/Dataset/Aggregate_Val/Normal/iseg_resized_Normal (63).mp4 Class name: Normal Label: 1\n",
            "Processing video: /content/drive/MyDrive/Dataset/Aggregate_Val/Normal/iseg_resized_Normal (62).mp4 Class name: Normal Label: 1\n",
            "Processing video: /content/drive/MyDrive/Dataset/Aggregate_Val/Normal/resized_processed_Normal (60).mp4 Class name: Normal Label: 1\n",
            "Processing video: /content/drive/MyDrive/Dataset/Aggregate_Val/Normal/resized_processed_Normal (61).mp4 Class name: Normal Label: 1\n",
            "Processing video: /content/drive/MyDrive/Dataset/Aggregate_Val/Normal/resized_processed_Normal (63).mp4 Class name: Normal Label: 1\n",
            "Processing video: /content/drive/MyDrive/Dataset/Aggregate_Val/Normal/resized_processed_Normal (62).mp4 Class name: Normal Label: 1\n",
            "Processing video: /content/drive/MyDrive/Dataset/Aggregate_Val/Normal/resized_processed_Normal (64).mp4 Class name: Normal Label: 1\n",
            "Processing video: /content/drive/MyDrive/Dataset/Aggregate_Val/Normal/resized_flipped_processed_Normal (60).mp4 Class name: Normal Label: 1\n",
            "Processing video: /content/drive/MyDrive/Dataset/Aggregate_Val/Normal/resized_flipped_processed_Normal (61).mp4 Class name: Normal Label: 1\n",
            "Processing video: /content/drive/MyDrive/Dataset/Aggregate_Val/Normal/resized_flipped_processed_Normal (63).mp4 Class name: Normal Label: 1\n",
            "Processing video: /content/drive/MyDrive/Dataset/Aggregate_Val/Normal/resized_flipped_processed_Normal (62).mp4 Class name: Normal Label: 1\n",
            "Processing video: /content/drive/MyDrive/Dataset/Aggregate_Val/Normal/resized_flipped_processed_Normal (64).mp4 Class name: Normal Label: 1\n",
            "Processing video: /content/drive/MyDrive/Dataset/Aggregate_Val/Normal/resized_pose_Normal (60).mp4 Class name: Normal Label: 1\n",
            "Processing video: /content/drive/MyDrive/Dataset/Aggregate_Val/Normal/resized_pose_Normal (61).mp4 Class name: Normal Label: 1\n",
            "Processing video: /content/drive/MyDrive/Dataset/Aggregate_Val/Normal/resized_pose_Normal (62).mp4 Class name: Normal Label: 1\n",
            "Processing video: /content/drive/MyDrive/Dataset/Aggregate_Val/Normal/resized_pose_Normal (63).mp4 Class name: Normal Label: 1\n",
            "Processing video: /content/drive/MyDrive/Dataset/Aggregate_Val/Normal/resized_pose_Normal (64).mp4 Class name: Normal Label: 1\n",
            "Processing video: /content/drive/MyDrive/Dataset/Aggregate_Val/Normal/resized_flipped_pose_Normal (60).mp4 Class name: Normal Label: 1\n",
            "Processing video: /content/drive/MyDrive/Dataset/Aggregate_Val/Normal/resized_flipped_pose_Normal (61).mp4 Class name: Normal Label: 1\n",
            "Processing video: /content/drive/MyDrive/Dataset/Aggregate_Val/Normal/resized_flipped_pose_Normal (62).mp4 Class name: Normal Label: 1\n",
            "Processing video: /content/drive/MyDrive/Dataset/Aggregate_Val/Normal/resized_flipped_pose_Normal (63).mp4 Class name: Normal Label: 1\n",
            "Processing video: /content/drive/MyDrive/Dataset/Aggregate_Val/Normal/resized_flipped_pose_Normal (64).mp4 Class name: Normal Label: 1\n",
            "Processing video: /content/drive/MyDrive/Dataset/Aggregate_Val/Normal/resized_processed_Normal (75).mp4 Class name: Normal Label: 1\n",
            "Processing video: /content/drive/MyDrive/Dataset/Aggregate_Val/Normal/resized_processed_Normal (76).mp4 Class name: Normal Label: 1\n",
            "Processing video: /content/drive/MyDrive/Dataset/Aggregate_Val/Normal/resized_processed_Normal (77).mp4 Class name: Normal Label: 1\n",
            "Processing video: /content/drive/MyDrive/Dataset/Aggregate_Val/Normal/resized_processed_Normal (78).mp4 Class name: Normal Label: 1\n",
            "Processing video: /content/drive/MyDrive/Dataset/Aggregate_Val/Normal/resized_processed_Normal (79).mp4 Class name: Normal Label: 1\n",
            "Processing video: /content/drive/MyDrive/Dataset/Aggregate_Val/Normal/resized_processed_Normal (81).mp4 Class name: Normal Label: 1\n",
            "Processing video: /content/drive/MyDrive/Dataset/Aggregate_Val/Normal/resized_processed_Normal (80).mp4 Class name: Normal Label: 1\n",
            "Processing video: /content/drive/MyDrive/Dataset/Aggregate_Val/Normal/resized_processed_Normal (83).mp4 Class name: Normal Label: 1\n",
            "Processing video: /content/drive/MyDrive/Dataset/Aggregate_Val/Normal/resized_processed_Normal (82).mp4 Class name: Normal Label: 1\n",
            "Processing video: /content/drive/MyDrive/Dataset/Aggregate_Val/Normal/resized_processed_Normal (84).mp4 Class name: Normal Label: 1\n",
            "Processing video: /content/drive/MyDrive/Dataset/Aggregate_Val/Normal/resized_processed_Normal (85).mp4 Class name: Normal Label: 1\n",
            "Processing video: /content/drive/MyDrive/Dataset/Aggregate_Val/Normal/resized_processed_Normal (86).mp4 Class name: Normal Label: 1\n",
            "Processing video: /content/drive/MyDrive/Dataset/Aggregate_Val/Normal/resized_processed_Normal (87).mp4 Class name: Normal Label: 1\n",
            "Processing video: /content/drive/MyDrive/Dataset/Aggregate_Val/Normal/resized_processed_Normal (88).mp4 Class name: Normal Label: 1\n",
            "Processing video: /content/drive/MyDrive/Dataset/Aggregate_Val/Normal/resized_processed_Normal (89).mp4 Class name: Normal Label: 1\n",
            "Processing video: /content/drive/MyDrive/Dataset/Aggregate_Val/Normal/resized_processed_Normal (90).mp4 Class name: Normal Label: 1\n",
            "Processing video: /content/drive/MyDrive/Dataset/Aggregate_Val/Normal/resized_flipped_processed_Normal (75).mp4 Class name: Normal Label: 1\n",
            "Processing video: /content/drive/MyDrive/Dataset/Aggregate_Val/Normal/resized_flipped_processed_Normal (76).mp4 Class name: Normal Label: 1\n",
            "Processing video: /content/drive/MyDrive/Dataset/Aggregate_Val/Normal/resized_flipped_processed_Normal (77).mp4 Class name: Normal Label: 1\n",
            "Processing video: /content/drive/MyDrive/Dataset/Aggregate_Val/Normal/resized_flipped_processed_Normal (78).mp4 Class name: Normal Label: 1\n",
            "Processing video: /content/drive/MyDrive/Dataset/Aggregate_Val/Normal/resized_flipped_processed_Normal (79).mp4 Class name: Normal Label: 1\n",
            "Processing video: /content/drive/MyDrive/Dataset/Aggregate_Val/Normal/resized_flipped_processed_Normal (81).mp4 Class name: Normal Label: 1\n",
            "Processing video: /content/drive/MyDrive/Dataset/Aggregate_Val/Normal/resized_flipped_processed_Normal (80).mp4 Class name: Normal Label: 1\n",
            "Processing video: /content/drive/MyDrive/Dataset/Aggregate_Val/Normal/resized_flipped_processed_Normal (83).mp4 Class name: Normal Label: 1\n",
            "Processing video: /content/drive/MyDrive/Dataset/Aggregate_Val/Normal/resized_flipped_processed_Normal (82).mp4 Class name: Normal Label: 1\n",
            "Processing video: /content/drive/MyDrive/Dataset/Aggregate_Val/Normal/resized_flipped_processed_Normal (84).mp4 Class name: Normal Label: 1\n",
            "Processing video: /content/drive/MyDrive/Dataset/Aggregate_Val/Normal/resized_flipped_processed_Normal (85).mp4 Class name: Normal Label: 1\n",
            "Processing video: /content/drive/MyDrive/Dataset/Aggregate_Val/Normal/resized_flipped_processed_Normal (86).mp4 Class name: Normal Label: 1\n",
            "Processing video: /content/drive/MyDrive/Dataset/Aggregate_Val/Normal/resized_flipped_processed_Normal (87).mp4 Class name: Normal Label: 1\n",
            "Processing video: /content/drive/MyDrive/Dataset/Aggregate_Val/Normal/resized_flipped_processed_Normal (88).mp4 Class name: Normal Label: 1\n",
            "Processing video: /content/drive/MyDrive/Dataset/Aggregate_Val/Normal/resized_flipped_processed_Normal (89).mp4 Class name: Normal Label: 1\n",
            "Processing video: /content/drive/MyDrive/Dataset/Aggregate_Val/Normal/resized_flipped_processed_Normal (90).mp4 Class name: Normal Label: 1\n",
            "Processing video: /content/drive/MyDrive/Dataset/Aggregate_Val/Normal/resized_pose_Normal (75).mp4 Class name: Normal Label: 1\n",
            "Processing video: /content/drive/MyDrive/Dataset/Aggregate_Val/Normal/resized_pose_Normal (76).mp4 Class name: Normal Label: 1\n",
            "Processing video: /content/drive/MyDrive/Dataset/Aggregate_Val/Normal/resized_pose_Normal (77).mp4 Class name: Normal Label: 1\n",
            "Processing video: /content/drive/MyDrive/Dataset/Aggregate_Val/Normal/resized_pose_Normal (78).mp4 Class name: Normal Label: 1\n",
            "Processing video: /content/drive/MyDrive/Dataset/Aggregate_Val/Normal/resized_pose_Normal (79).mp4 Class name: Normal Label: 1\n",
            "Processing video: /content/drive/MyDrive/Dataset/Aggregate_Val/Normal/resized_pose_Normal (80).mp4 Class name: Normal Label: 1\n",
            "Processing video: /content/drive/MyDrive/Dataset/Aggregate_Val/Normal/resized_pose_Normal (81).mp4 Class name: Normal Label: 1\n",
            "Processing video: /content/drive/MyDrive/Dataset/Aggregate_Val/Normal/resized_pose_Normal (82).mp4 Class name: Normal Label: 1\n",
            "Processing video: /content/drive/MyDrive/Dataset/Aggregate_Val/Normal/resized_pose_Normal (83).mp4 Class name: Normal Label: 1\n",
            "Processing video: /content/drive/MyDrive/Dataset/Aggregate_Val/Normal/resized_pose_Normal (84).mp4 Class name: Normal Label: 1\n",
            "Processing video: /content/drive/MyDrive/Dataset/Aggregate_Val/Normal/resized_pose_Normal (85).mp4 Class name: Normal Label: 1\n",
            "Processing video: /content/drive/MyDrive/Dataset/Aggregate_Val/Normal/resized_pose_Normal (86).mp4 Class name: Normal Label: 1\n",
            "Processing video: /content/drive/MyDrive/Dataset/Aggregate_Val/Normal/resized_pose_Normal (87).mp4 Class name: Normal Label: 1\n",
            "Processing video: /content/drive/MyDrive/Dataset/Aggregate_Val/Normal/resized_pose_Normal (88).mp4 Class name: Normal Label: 1\n",
            "Processing video: /content/drive/MyDrive/Dataset/Aggregate_Val/Normal/resized_pose_Normal (89).mp4 Class name: Normal Label: 1\n",
            "Processing video: /content/drive/MyDrive/Dataset/Aggregate_Val/Normal/resized_pose_Normal (90).mp4 Class name: Normal Label: 1\n",
            "Processing video: /content/drive/MyDrive/Dataset/Aggregate_Val/Normal/resized_flipped_pose_Normal (75).mp4 Class name: Normal Label: 1\n",
            "Processing video: /content/drive/MyDrive/Dataset/Aggregate_Val/Normal/resized_flipped_pose_Normal (76).mp4 Class name: Normal Label: 1\n",
            "Processing video: /content/drive/MyDrive/Dataset/Aggregate_Val/Normal/resized_flipped_pose_Normal (77).mp4 Class name: Normal Label: 1\n",
            "Processing video: /content/drive/MyDrive/Dataset/Aggregate_Val/Normal/resized_flipped_pose_Normal (78).mp4 Class name: Normal Label: 1\n",
            "Processing video: /content/drive/MyDrive/Dataset/Aggregate_Val/Normal/resized_flipped_pose_Normal (79).mp4 Class name: Normal Label: 1\n",
            "Processing video: /content/drive/MyDrive/Dataset/Aggregate_Val/Normal/resized_flipped_pose_Normal (80).mp4 Class name: Normal Label: 1\n",
            "Processing video: /content/drive/MyDrive/Dataset/Aggregate_Val/Normal/resized_flipped_pose_Normal (81).mp4 Class name: Normal Label: 1\n",
            "Processing video: /content/drive/MyDrive/Dataset/Aggregate_Val/Normal/resized_flipped_pose_Normal (82).mp4 Class name: Normal Label: 1\n",
            "Processing video: /content/drive/MyDrive/Dataset/Aggregate_Val/Normal/resized_flipped_pose_Normal (83).mp4 Class name: Normal Label: 1\n",
            "Processing video: /content/drive/MyDrive/Dataset/Aggregate_Val/Normal/resized_flipped_pose_Normal (84).mp4 Class name: Normal Label: 1\n",
            "Processing video: /content/drive/MyDrive/Dataset/Aggregate_Val/Normal/resized_flipped_pose_Normal (85).mp4 Class name: Normal Label: 1\n",
            "Processing video: /content/drive/MyDrive/Dataset/Aggregate_Val/Normal/resized_flipped_pose_Normal (86).mp4 Class name: Normal Label: 1\n",
            "Processing video: /content/drive/MyDrive/Dataset/Aggregate_Val/Normal/resized_flipped_pose_Normal (87).mp4 Class name: Normal Label: 1\n",
            "Processing video: /content/drive/MyDrive/Dataset/Aggregate_Val/Normal/resized_flipped_pose_Normal (88).mp4 Class name: Normal Label: 1\n",
            "Processing video: /content/drive/MyDrive/Dataset/Aggregate_Val/Normal/resized_flipped_pose_Normal (89).mp4 Class name: Normal Label: 1\n",
            "Processing video: /content/drive/MyDrive/Dataset/Aggregate_Val/Normal/resized_flipped_pose_Normal (90).mp4 Class name: Normal Label: 1\n",
            "Processing video: /content/drive/MyDrive/Dataset/Aggregate_Val/Normal/resized_Copy of Normal (84).mp4 Class name: Normal Label: 1\n",
            "Processing video: /content/drive/MyDrive/Dataset/Aggregate_Val/Normal/resized_Copy of Normal (76).mp4 Class name: Normal Label: 1\n",
            "Processing video: /content/drive/MyDrive/Dataset/Aggregate_Val/Normal/resized_Copy of Normal (77).mp4 Class name: Normal Label: 1\n",
            "Processing video: /content/drive/MyDrive/Dataset/Aggregate_Val/Normal/resized_Copy of Normal (78).mp4 Class name: Normal Label: 1\n",
            "Processing video: /content/drive/MyDrive/Dataset/Aggregate_Val/Normal/resized_Copy of Normal (75).mp4 Class name: Normal Label: 1\n",
            "Processing video: /content/drive/MyDrive/Dataset/Aggregate_Val/Normal/resized_Copy of Normal (79).mp4 Class name: Normal Label: 1\n",
            "Processing video: /content/drive/MyDrive/Dataset/Aggregate_Val/Normal/resized_Copy of Normal (85).mp4 Class name: Normal Label: 1\n",
            "Processing video: /content/drive/MyDrive/Dataset/Aggregate_Val/Normal/resized_Copy of Normal (86).mp4 Class name: Normal Label: 1\n",
            "Processing video: /content/drive/MyDrive/Dataset/Aggregate_Val/Normal/resized_Copy of Normal (88).mp4 Class name: Normal Label: 1\n",
            "Processing video: /content/drive/MyDrive/Dataset/Aggregate_Val/Normal/resized_Copy of Normal (87).mp4 Class name: Normal Label: 1\n",
            "Processing video: /content/drive/MyDrive/Dataset/Aggregate_Val/Normal/resized_Copy of Normal (82).mp4 Class name: Normal Label: 1\n",
            "Processing video: /content/drive/MyDrive/Dataset/Aggregate_Val/Normal/resized_Copy of Normal (89).mp4 Class name: Normal Label: 1\n",
            "Processing video: /content/drive/MyDrive/Dataset/Aggregate_Val/Normal/resized_Copy of Normal (83).mp4 Class name: Normal Label: 1\n",
            "Processing video: /content/drive/MyDrive/Dataset/Aggregate_Val/Normal/resized_Copy of Normal (80).mp4 Class name: Normal Label: 1\n",
            "Processing video: /content/drive/MyDrive/Dataset/Aggregate_Val/Normal/resized_Copy of Normal (81).mp4 Class name: Normal Label: 1\n",
            "Processing video: /content/drive/MyDrive/Dataset/Aggregate_Val/Normal/resized_Copy of Normal (90).mp4 Class name: Normal Label: 1\n",
            "Processing video: /content/drive/MyDrive/Dataset/Aggregate_Val/Normal/shorten_IMG_0169.mp4 Class name: Normal Label: 1\n",
            "Processing video: /content/drive/MyDrive/Dataset/Aggregate_Val/Normal/shorten_IMG_0155.mp4 Class name: Normal Label: 1\n",
            "Processing video: /content/drive/MyDrive/Dataset/Aggregate_Val/Normal/shorten_IMG_0153.mp4 Class name: Normal Label: 1\n",
            "Processing video: /content/drive/MyDrive/Dataset/Aggregate_Val/Normal/shorten_IMG_0177.mp4 Class name: Normal Label: 1\n",
            "Processing video: /content/drive/MyDrive/Dataset/Aggregate_Val/Normal/shorten_IMG_0182.mp4 Class name: Normal Label: 1\n",
            "Processing video: /content/drive/MyDrive/Dataset/Aggregate_Val/Normal/flipped_shorten_IMG_0169.mp4 Class name: Normal Label: 1\n",
            "Processing video: /content/drive/MyDrive/Dataset/Aggregate_Val/Normal/flipped_shorten_IMG_0155.mp4 Class name: Normal Label: 1\n",
            "Processing video: /content/drive/MyDrive/Dataset/Aggregate_Val/Normal/flipped_shorten_IMG_0153.mp4 Class name: Normal Label: 1\n",
            "Processing video: /content/drive/MyDrive/Dataset/Aggregate_Val/Normal/flipped_shorten_IMG_0177.mp4 Class name: Normal Label: 1\n",
            "Processing video: /content/drive/MyDrive/Dataset/Aggregate_Val/Normal/flipped_shorten_IMG_0182.mp4 Class name: Normal Label: 1\n",
            "Processing video: /content/drive/MyDrive/Dataset/Aggregate_Val/Normal/processed_shorten_IMG_0169.mp4 Class name: Normal Label: 1\n",
            "Processing video: /content/drive/MyDrive/Dataset/Aggregate_Val/Normal/processed_shorten_IMG_0155.mp4 Class name: Normal Label: 1\n",
            "Processing video: /content/drive/MyDrive/Dataset/Aggregate_Val/Normal/processed_shorten_IMG_0153.mp4 Class name: Normal Label: 1\n",
            "Processing video: /content/drive/MyDrive/Dataset/Aggregate_Val/Normal/processed_shorten_IMG_0177.mp4 Class name: Normal Label: 1\n",
            "Processing video: /content/drive/MyDrive/Dataset/Aggregate_Val/Normal/processed_shorten_IMG_0182.mp4 Class name: Normal Label: 1\n",
            "Processing video: /content/drive/MyDrive/Dataset/Aggregate_Val/Normal/processed_flipped_shorten_IMG_0169.mp4 Class name: Normal Label: 1\n",
            "Processing video: /content/drive/MyDrive/Dataset/Aggregate_Val/Normal/processed_flipped_shorten_IMG_0155.mp4 Class name: Normal Label: 1\n",
            "Processing video: /content/drive/MyDrive/Dataset/Aggregate_Val/Normal/processed_flipped_shorten_IMG_0153.mp4 Class name: Normal Label: 1\n",
            "Processing video: /content/drive/MyDrive/Dataset/Aggregate_Val/Normal/processed_flipped_shorten_IMG_0177.mp4 Class name: Normal Label: 1\n",
            "Processing video: /content/drive/MyDrive/Dataset/Aggregate_Val/Normal/processed_flipped_shorten_IMG_0182.mp4 Class name: Normal Label: 1\n",
            "Processing video: /content/drive/MyDrive/Dataset/Aggregate_Val/Normal/output_018.mp4 Class name: Normal Label: 1\n",
            "Processing video: /content/drive/MyDrive/Dataset/Aggregate_Val/Normal/output_016.mp4 Class name: Normal Label: 1\n",
            "Processing video: /content/drive/MyDrive/Dataset/Aggregate_Val/Normal/output_017.mp4 Class name: Normal Label: 1\n",
            "Processing video: /content/drive/MyDrive/Dataset/Aggregate_Val/Normal/output_015.mp4 Class name: Normal Label: 1\n",
            "Processing video: /content/drive/MyDrive/Dataset/Aggregate_Val/Normal/output_019.mp4 Class name: Normal Label: 1\n",
            "Processing video: /content/drive/MyDrive/Dataset/Aggregate_Val/Normal/output_020.mp4 Class name: Normal Label: 1\n",
            "Processing video: /content/drive/MyDrive/Dataset/Aggregate_Val/Normal/output3_200.mp4 Class name: Normal Label: 1\n",
            "Processing video: /content/drive/MyDrive/Dataset/Aggregate_Val/Normal/output3_204.mp4 Class name: Normal Label: 1\n",
            "Processing video: /content/drive/MyDrive/Dataset/Aggregate_Val/Normal/output3_203.mp4 Class name: Normal Label: 1\n",
            "Processing video: /content/drive/MyDrive/Dataset/Aggregate_Val/Normal/output3_201.mp4 Class name: Normal Label: 1\n",
            "Processing video: /content/drive/MyDrive/Dataset/Aggregate_Val/Normal/output3_202.mp4 Class name: Normal Label: 1\n",
            "Processing video: /content/drive/MyDrive/Dataset/Aggregate_Val/Normal/output3_205.mp4 Class name: Normal Label: 1\n",
            "Processing video: /content/drive/MyDrive/Dataset/Aggregate_Val/Normal/shorten_output_016.mp4 Class name: Normal Label: 1\n",
            "Processing video: /content/drive/MyDrive/Dataset/Aggregate_Val/Normal/shorten_output_015.mp4 Class name: Normal Label: 1\n",
            "Processing video: /content/drive/MyDrive/Dataset/Aggregate_Val/Normal/shorten_output_018.mp4 Class name: Normal Label: 1\n",
            "Processing video: /content/drive/MyDrive/Dataset/Aggregate_Val/Normal/shorten_output_020.mp4 Class name: Normal Label: 1\n",
            "Processing video: /content/drive/MyDrive/Dataset/Aggregate_Val/Normal/shorten_output_019.mp4 Class name: Normal Label: 1\n",
            "Processing video: /content/drive/MyDrive/Dataset/Aggregate_Val/Normal/shorten_output_017.mp4 Class name: Normal Label: 1\n",
            "Processing video: /content/drive/MyDrive/Dataset/Aggregate_Val/Normal/shorten_output3_201.mp4 Class name: Normal Label: 1\n",
            "Processing video: /content/drive/MyDrive/Dataset/Aggregate_Val/Normal/shorten_output3_202.mp4 Class name: Normal Label: 1\n",
            "Processing video: /content/drive/MyDrive/Dataset/Aggregate_Val/Normal/shorten_output3_203.mp4 Class name: Normal Label: 1\n",
            "Processing video: /content/drive/MyDrive/Dataset/Aggregate_Val/Normal/shorten_output3_205.mp4 Class name: Normal Label: 1\n",
            "Processing video: /content/drive/MyDrive/Dataset/Aggregate_Val/Normal/shorten_output3_204.mp4 Class name: Normal Label: 1\n",
            "Processing video: /content/drive/MyDrive/Dataset/Aggregate_Val/Normal/shorten_output3_200.mp4 Class name: Normal Label: 1\n",
            "Processing video: /content/drive/MyDrive/Dataset/Aggregate_Val/Normal/iseg_shorten_output_016.mp4 Class name: Normal Label: 1\n",
            "Processing video: /content/drive/MyDrive/Dataset/Aggregate_Val/Normal/iseg_shorten_output_015.mp4 Class name: Normal Label: 1\n",
            "Processing video: /content/drive/MyDrive/Dataset/Aggregate_Val/Normal/pose_shorten_output_016.mp4 Class name: Normal Label: 1\n",
            "Processing video: /content/drive/MyDrive/Dataset/Aggregate_Val/Normal/pose_shorten_output_015.mp4 Class name: Normal Label: 1\n",
            "Processing video: /content/drive/MyDrive/Dataset/Aggregate_Val/Normal/pose_shorten_output_018.mp4 Class name: Normal Label: 1\n",
            "Processing video: /content/drive/MyDrive/Dataset/Aggregate_Val/Normal/pose_shorten_output_020.mp4 Class name: Normal Label: 1\n",
            "Processing video: /content/drive/MyDrive/Dataset/Aggregate_Val/Normal/pose_shorten_output_019.mp4 Class name: Normal Label: 1\n",
            "Processing video: /content/drive/MyDrive/Dataset/Aggregate_Val/Normal/pose_shorten_output_017.mp4 Class name: Normal Label: 1\n",
            "Processing video: /content/drive/MyDrive/Dataset/Aggregate_Val/Normal/pose_shorten_output3_201.mp4 Class name: Normal Label: 1\n",
            "Processing video: /content/drive/MyDrive/Dataset/Aggregate_Val/Normal/pose_shorten_output3_202.mp4 Class name: Normal Label: 1\n",
            "Processing video: /content/drive/MyDrive/Dataset/Aggregate_Val/Normal/pose_shorten_output3_203.mp4 Class name: Normal Label: 1\n",
            "Processing video: /content/drive/MyDrive/Dataset/Aggregate_Val/Normal/pose_shorten_output3_205.mp4 Class name: Normal Label: 1\n",
            "Processing video: /content/drive/MyDrive/Dataset/Aggregate_Val/Normal/pose_shorten_output3_204.mp4 Class name: Normal Label: 1\n",
            "Processing video: /content/drive/MyDrive/Dataset/Aggregate_Val/Normal/pose_shorten_output3_200.mp4 Class name: Normal Label: 1\n",
            "Processing video: /content/drive/MyDrive/Dataset/Aggregate_Val/Bags/iseg_resized_Shoplifting (71).mp4 Class name: Bags Label: 0\n",
            "Processing video: /content/drive/MyDrive/Dataset/Aggregate_Val/Bags/iseg_resized_Shoplifting (76).mp4 Class name: Bags Label: 0\n",
            "Processing video: /content/drive/MyDrive/Dataset/Aggregate_Val/Bags/iseg_resized_Shoplifting (79).mp4 Class name: Bags Label: 0\n",
            "Processing video: /content/drive/MyDrive/Dataset/Aggregate_Val/Bags/iseg_resized_Shoplifting (81).mp4 Class name: Bags Label: 0\n",
            "Processing video: /content/drive/MyDrive/Dataset/Aggregate_Val/Bags/iseg_resized_Shoplifting (80).mp4 Class name: Bags Label: 0\n",
            "Processing video: /content/drive/MyDrive/Dataset/Aggregate_Val/Bags/iseg_resized_Shoplifting (82).mp4 Class name: Bags Label: 0\n",
            "Processing video: /content/drive/MyDrive/Dataset/Aggregate_Val/Bags/iseg_resized_Shoplifting (83).mp4 Class name: Bags Label: 0\n",
            "Processing video: /content/drive/MyDrive/Dataset/Aggregate_Val/Bags/iseg_resized_Shoplifting (85).mp4 Class name: Bags Label: 0\n",
            "Processing video: /content/drive/MyDrive/Dataset/Aggregate_Val/Bags/iseg_resized_Shoplifting (84).mp4 Class name: Bags Label: 0\n",
            "Processing video: /content/drive/MyDrive/Dataset/Aggregate_Val/Bags/iseg_resized_Shoplifting (86).mp4 Class name: Bags Label: 0\n",
            "Processing video: /content/drive/MyDrive/Dataset/Aggregate_Val/Bags/iseg_resized_Shoplifting (89).mp4 Class name: Bags Label: 0\n",
            "Processing video: /content/drive/MyDrive/Dataset/Aggregate_Val/Bags/iseg_resized_Shoplifting (88).mp4 Class name: Bags Label: 0\n",
            "Processing video: /content/drive/MyDrive/Dataset/Aggregate_Val/Bags/iseg_resized_Shoplifting (90).mp4 Class name: Bags Label: 0\n",
            "Processing video: /content/drive/MyDrive/Dataset/Aggregate_Val/Bags/resized_processed_Shoplifting (71).mp4 Class name: Bags Label: 0\n",
            "Processing video: /content/drive/MyDrive/Dataset/Aggregate_Val/Bags/resized_processed_Shoplifting (76).mp4 Class name: Bags Label: 0\n",
            "Processing video: /content/drive/MyDrive/Dataset/Aggregate_Val/Bags/resized_processed_Shoplifting (79).mp4 Class name: Bags Label: 0\n",
            "Processing video: /content/drive/MyDrive/Dataset/Aggregate_Val/Bags/resized_processed_Shoplifting (80).mp4 Class name: Bags Label: 0\n",
            "Processing video: /content/drive/MyDrive/Dataset/Aggregate_Val/Bags/resized_processed_Shoplifting (81).mp4 Class name: Bags Label: 0\n",
            "Processing video: /content/drive/MyDrive/Dataset/Aggregate_Val/Bags/resized_processed_Shoplifting (82).mp4 Class name: Bags Label: 0\n",
            "Processing video: /content/drive/MyDrive/Dataset/Aggregate_Val/Bags/resized_processed_Shoplifting (83).mp4 Class name: Bags Label: 0\n",
            "Processing video: /content/drive/MyDrive/Dataset/Aggregate_Val/Bags/resized_processed_Shoplifting (84).mp4 Class name: Bags Label: 0\n",
            "Processing video: /content/drive/MyDrive/Dataset/Aggregate_Val/Bags/resized_processed_Shoplifting (85).mp4 Class name: Bags Label: 0\n",
            "Processing video: /content/drive/MyDrive/Dataset/Aggregate_Val/Bags/resized_processed_Shoplifting (86).mp4 Class name: Bags Label: 0\n",
            "Processing video: /content/drive/MyDrive/Dataset/Aggregate_Val/Bags/resized_processed_Shoplifting (89).mp4 Class name: Bags Label: 0\n",
            "Processing video: /content/drive/MyDrive/Dataset/Aggregate_Val/Bags/resized_processed_Shoplifting (88).mp4 Class name: Bags Label: 0\n",
            "Processing video: /content/drive/MyDrive/Dataset/Aggregate_Val/Bags/resized_processed_Shoplifting (90).mp4 Class name: Bags Label: 0\n",
            "Processing video: /content/drive/MyDrive/Dataset/Aggregate_Val/Bags/resized_processed_Shoplifting (92).mp4 Class name: Bags Label: 0\n",
            "Processing video: /content/drive/MyDrive/Dataset/Aggregate_Val/Bags/resized_processed_Shoplifting (93).mp4 Class name: Bags Label: 0\n",
            "Processing video: /content/drive/MyDrive/Dataset/Aggregate_Val/Bags/resized_flipped_processed_Shoplifting (71).mp4 Class name: Bags Label: 0\n",
            "Processing video: /content/drive/MyDrive/Dataset/Aggregate_Val/Bags/resized_flipped_processed_Shoplifting (76).mp4 Class name: Bags Label: 0\n",
            "Processing video: /content/drive/MyDrive/Dataset/Aggregate_Val/Bags/resized_flipped_processed_Shoplifting (79).mp4 Class name: Bags Label: 0\n",
            "Processing video: /content/drive/MyDrive/Dataset/Aggregate_Val/Bags/resized_flipped_processed_Shoplifting (80).mp4 Class name: Bags Label: 0\n",
            "Processing video: /content/drive/MyDrive/Dataset/Aggregate_Val/Bags/resized_flipped_processed_Shoplifting (81).mp4 Class name: Bags Label: 0\n",
            "Processing video: /content/drive/MyDrive/Dataset/Aggregate_Val/Bags/resized_flipped_processed_Shoplifting (82).mp4 Class name: Bags Label: 0\n",
            "Processing video: /content/drive/MyDrive/Dataset/Aggregate_Val/Bags/resized_flipped_processed_Shoplifting (83).mp4 Class name: Bags Label: 0\n",
            "Processing video: /content/drive/MyDrive/Dataset/Aggregate_Val/Bags/resized_flipped_processed_Shoplifting (84).mp4 Class name: Bags Label: 0\n",
            "Processing video: /content/drive/MyDrive/Dataset/Aggregate_Val/Bags/resized_flipped_processed_Shoplifting (85).mp4 Class name: Bags Label: 0\n",
            "Processing video: /content/drive/MyDrive/Dataset/Aggregate_Val/Bags/resized_flipped_processed_Shoplifting (86).mp4 Class name: Bags Label: 0\n",
            "Processing video: /content/drive/MyDrive/Dataset/Aggregate_Val/Bags/resized_flipped_processed_Shoplifting (89).mp4 Class name: Bags Label: 0\n",
            "Processing video: /content/drive/MyDrive/Dataset/Aggregate_Val/Bags/resized_flipped_processed_Shoplifting (88).mp4 Class name: Bags Label: 0\n",
            "Processing video: /content/drive/MyDrive/Dataset/Aggregate_Val/Bags/resized_flipped_processed_Shoplifting (90).mp4 Class name: Bags Label: 0\n",
            "Processing video: /content/drive/MyDrive/Dataset/Aggregate_Val/Bags/resized_flipped_processed_Shoplifting (92).mp4 Class name: Bags Label: 0\n",
            "Processing video: /content/drive/MyDrive/Dataset/Aggregate_Val/Bags/resized_flipped_processed_Shoplifting (93).mp4 Class name: Bags Label: 0\n",
            "Processing video: /content/drive/MyDrive/Dataset/Aggregate_Val/Bags/resized_pose_Shoplifting (71).mp4 Class name: Bags Label: 0\n",
            "Processing video: /content/drive/MyDrive/Dataset/Aggregate_Val/Bags/resized_pose_Shoplifting (76).mp4 Class name: Bags Label: 0\n",
            "Processing video: /content/drive/MyDrive/Dataset/Aggregate_Val/Bags/resized_pose_Shoplifting (79).mp4 Class name: Bags Label: 0\n",
            "Processing video: /content/drive/MyDrive/Dataset/Aggregate_Val/Bags/resized_pose_Shoplifting (80).mp4 Class name: Bags Label: 0\n",
            "Processing video: /content/drive/MyDrive/Dataset/Aggregate_Val/Bags/resized_pose_Shoplifting (81).mp4 Class name: Bags Label: 0\n",
            "Processing video: /content/drive/MyDrive/Dataset/Aggregate_Val/Bags/resized_pose_Shoplifting (82).mp4 Class name: Bags Label: 0\n",
            "Processing video: /content/drive/MyDrive/Dataset/Aggregate_Val/Bags/resized_pose_Shoplifting (83).mp4 Class name: Bags Label: 0\n",
            "Processing video: /content/drive/MyDrive/Dataset/Aggregate_Val/Bags/resized_pose_Shoplifting (84).mp4 Class name: Bags Label: 0\n",
            "Processing video: /content/drive/MyDrive/Dataset/Aggregate_Val/Bags/resized_pose_Shoplifting (85).mp4 Class name: Bags Label: 0\n",
            "Processing video: /content/drive/MyDrive/Dataset/Aggregate_Val/Bags/resized_pose_Shoplifting (86).mp4 Class name: Bags Label: 0\n",
            "Processing video: /content/drive/MyDrive/Dataset/Aggregate_Val/Bags/resized_pose_Shoplifting (88).mp4 Class name: Bags Label: 0\n",
            "Processing video: /content/drive/MyDrive/Dataset/Aggregate_Val/Bags/resized_pose_Shoplifting (89).mp4 Class name: Bags Label: 0\n",
            "Processing video: /content/drive/MyDrive/Dataset/Aggregate_Val/Bags/resized_pose_Shoplifting (90).mp4 Class name: Bags Label: 0\n",
            "Processing video: /content/drive/MyDrive/Dataset/Aggregate_Val/Bags/resized_pose_Shoplifting (92).mp4 Class name: Bags Label: 0\n",
            "Processing video: /content/drive/MyDrive/Dataset/Aggregate_Val/Bags/resized_pose_Shoplifting (93).mp4 Class name: Bags Label: 0\n",
            "Processing video: /content/drive/MyDrive/Dataset/Aggregate_Val/Bags/resized_flipped_pose_Shoplifting (71).mp4 Class name: Bags Label: 0\n",
            "Processing video: /content/drive/MyDrive/Dataset/Aggregate_Val/Bags/resized_flipped_pose_Shoplifting (76).mp4 Class name: Bags Label: 0\n",
            "Processing video: /content/drive/MyDrive/Dataset/Aggregate_Val/Bags/resized_flipped_pose_Shoplifting (79).mp4 Class name: Bags Label: 0\n",
            "Processing video: /content/drive/MyDrive/Dataset/Aggregate_Val/Bags/resized_flipped_pose_Shoplifting (80).mp4 Class name: Bags Label: 0\n",
            "Processing video: /content/drive/MyDrive/Dataset/Aggregate_Val/Bags/resized_flipped_pose_Shoplifting (81).mp4 Class name: Bags Label: 0\n",
            "Processing video: /content/drive/MyDrive/Dataset/Aggregate_Val/Bags/resized_flipped_pose_Shoplifting (82).mp4 Class name: Bags Label: 0\n",
            "Processing video: /content/drive/MyDrive/Dataset/Aggregate_Val/Bags/resized_flipped_pose_Shoplifting (83).mp4 Class name: Bags Label: 0\n",
            "Processing video: /content/drive/MyDrive/Dataset/Aggregate_Val/Bags/resized_flipped_pose_Shoplifting (84).mp4 Class name: Bags Label: 0\n",
            "Processing video: /content/drive/MyDrive/Dataset/Aggregate_Val/Bags/resized_flipped_pose_Shoplifting (85).mp4 Class name: Bags Label: 0\n",
            "Processing video: /content/drive/MyDrive/Dataset/Aggregate_Val/Bags/resized_flipped_pose_Shoplifting (86).mp4 Class name: Bags Label: 0\n",
            "Processing video: /content/drive/MyDrive/Dataset/Aggregate_Val/Bags/resized_flipped_pose_Shoplifting (88).mp4 Class name: Bags Label: 0\n",
            "Processing video: /content/drive/MyDrive/Dataset/Aggregate_Val/Bags/resized_flipped_pose_Shoplifting (89).mp4 Class name: Bags Label: 0\n",
            "Processing video: /content/drive/MyDrive/Dataset/Aggregate_Val/Bags/resized_flipped_pose_Shoplifting (90).mp4 Class name: Bags Label: 0\n",
            "Processing video: /content/drive/MyDrive/Dataset/Aggregate_Val/Bags/resized_flipped_pose_Shoplifting (92).mp4 Class name: Bags Label: 0\n",
            "Processing video: /content/drive/MyDrive/Dataset/Aggregate_Val/Bags/resized_flipped_pose_Shoplifting (93).mp4 Class name: Bags Label: 0\n",
            "Processing video: /content/drive/MyDrive/Dataset/Aggregate_Val/Bags/resized_Copy of Shoplifting (86).mp4 Class name: Bags Label: 0\n",
            "Processing video: /content/drive/MyDrive/Dataset/Aggregate_Val/Bags/resized_Copy of Shoplifting (89).mp4 Class name: Bags Label: 0\n",
            "Processing video: /content/drive/MyDrive/Dataset/Aggregate_Val/Bags/resized_Copy of Shoplifting (85).mp4 Class name: Bags Label: 0\n",
            "Processing video: /content/drive/MyDrive/Dataset/Aggregate_Val/Bags/resized_Copy of Shoplifting (93).mp4 Class name: Bags Label: 0\n",
            "Processing video: /content/drive/MyDrive/Dataset/Aggregate_Val/Bags/resized_Copy of Shoplifting (90).mp4 Class name: Bags Label: 0\n",
            "Processing video: /content/drive/MyDrive/Dataset/Aggregate_Val/Bags/resized_Copy of Shoplifting (92).mp4 Class name: Bags Label: 0\n",
            "Processing video: /content/drive/MyDrive/Dataset/Aggregate_Val/Bags/resized_Copy of Shoplifting (83).mp4 Class name: Bags Label: 0\n",
            "Processing video: /content/drive/MyDrive/Dataset/Aggregate_Val/Bags/resized_Copy of Shoplifting (88).mp4 Class name: Bags Label: 0\n",
            "Processing video: /content/drive/MyDrive/Dataset/Aggregate_Val/Bags/resized_Copy of Shoplifting (84).mp4 Class name: Bags Label: 0\n",
            "Processing video: /content/drive/MyDrive/Dataset/Aggregate_Val/Bags/resized_Copy of Shoplifting (82).mp4 Class name: Bags Label: 0\n",
            "Processing video: /content/drive/MyDrive/Dataset/Aggregate_Val/Bags/resized_Copy of Shoplifting (80).mp4 Class name: Bags Label: 0\n",
            "Processing video: /content/drive/MyDrive/Dataset/Aggregate_Val/Bags/resized_Copy of Shoplifting (81).mp4 Class name: Bags Label: 0\n",
            "Processing video: /content/drive/MyDrive/Dataset/Aggregate_Val/Bags/resized_Copy of Shoplifting (79).mp4 Class name: Bags Label: 0\n",
            "Processing video: /content/drive/MyDrive/Dataset/Aggregate_Val/Bags/resized_Copy of Shoplifting (76).mp4 Class name: Bags Label: 0\n",
            "Processing video: /content/drive/MyDrive/Dataset/Aggregate_Val/Bags/resized_Copy of Shoplifting (71).mp4 Class name: Bags Label: 0\n",
            "Processing video: /content/drive/MyDrive/Dataset/Aggregate_Val/Bags/shorten_Shoplifting (45x).mp4 Class name: Bags Label: 0\n",
            "Processing video: /content/drive/MyDrive/Dataset/Aggregate_Val/Bags/shorten_processed_Shoplifting (45x).mp4 Class name: Bags Label: 0\n",
            "Processing video: /content/drive/MyDrive/Dataset/Aggregate_Val/Bags/shorten_flipped_Shoplifting (45x).mp4 Class name: Bags Label: 0\n",
            "Processing video: /content/drive/MyDrive/Dataset/Aggregate_Val/Bags/shorten_flipped_processed_Shoplifting (45x).mp4 Class name: Bags Label: 0\n"
          ]
        }
      ],
      "source": [
        "y_true = np.concatenate([np.array([y]) for x, y in copy_val_ds], axis=0)"
      ]
    },
    {
      "cell_type": "code",
      "execution_count": null,
      "id": "fNR-4m4jbave",
      "metadata": {
        "colab": {
          "base_uri": "https://localhost:8080/"
        },
        "id": "fNR-4m4jbave",
        "outputId": "9880e50e-0720-40de-c4e3-ab33d9018a7d"
      },
      "outputs": [
        {
          "name": "stdout",
          "output_type": "stream",
          "text": [
            "Processing video: /content/drive/MyDrive/Dataset/Aggregate_Val/Pockets/flipped_shorten_resized_Copy of shoplift_6.mp4 Class name: Pockets Label: 2\n",
            "Processing video: /content/drive/MyDrive/Dataset/Aggregate_Val/Pockets/iseg_resized_Shoplifting (70).mp4 Class name: Pockets Label: 2\n",
            "      1/Unknown \u001b[1m5s\u001b[0m 5s/stepProcessing video: /content/drive/MyDrive/Dataset/Aggregate_Val/Pockets/iseg_resized_Shoplifting (77).mp4 Class name: Pockets Label: 2\n",
            "Processing video: /content/drive/MyDrive/Dataset/Aggregate_Val/Pockets/iseg_resized_Shoplifting (78).mp4 Class name: Pockets Label: 2\n",
            "      3/Unknown \u001b[1m6s\u001b[0m 443ms/stepProcessing video: /content/drive/MyDrive/Dataset/Aggregate_Val/Pockets/iseg_resized_Shoplifting (87).mp4 Class name: Pockets Label: 2\n",
            "      4/Unknown \u001b[1m6s\u001b[0m 593ms/stepProcessing video: /content/drive/MyDrive/Dataset/Aggregate_Val/Pockets/iseg_resized_Shoplifting (65).mp4 Class name: Pockets Label: 2\n",
            "      5/Unknown \u001b[1m7s\u001b[0m 667ms/stepProcessing video: /content/drive/MyDrive/Dataset/Aggregate_Val/Pockets/iseg_resized_Shoplifting (66).mp4 Class name: Pockets Label: 2\n",
            "      6/Unknown \u001b[1m8s\u001b[0m 703ms/stepProcessing video: /content/drive/MyDrive/Dataset/Aggregate_Val/Pockets/iseg_resized_Shoplifting (67).mp4 Class name: Pockets Label: 2\n",
            "      7/Unknown \u001b[1m9s\u001b[0m 729ms/stepProcessing video: /content/drive/MyDrive/Dataset/Aggregate_Val/Pockets/iseg_resized_Shoplifting (68).mp4 Class name: Pockets Label: 2\n",
            "      8/Unknown \u001b[1m10s\u001b[0m 746ms/stepProcessing video: /content/drive/MyDrive/Dataset/Aggregate_Val/Pockets/iseg_resized_Shoplifting (69).mp4 Class name: Pockets Label: 2\n",
            "      9/Unknown \u001b[1m11s\u001b[0m 761ms/stepProcessing video: /content/drive/MyDrive/Dataset/Aggregate_Val/Pockets/resized_processed_Shoplifting (65).mp4 Class name: Pockets Label: 2\n",
            "     10/Unknown \u001b[1m12s\u001b[0m 772ms/stepProcessing video: /content/drive/MyDrive/Dataset/Aggregate_Val/Pockets/resized_processed_Shoplifting (66).mp4 Class name: Pockets Label: 2\n",
            "     11/Unknown \u001b[1m12s\u001b[0m 778ms/stepProcessing video: /content/drive/MyDrive/Dataset/Aggregate_Val/Pockets/resized_processed_Shoplifting (67).mp4 Class name: Pockets Label: 2\n",
            "     12/Unknown \u001b[1m13s\u001b[0m 786ms/stepProcessing video: /content/drive/MyDrive/Dataset/Aggregate_Val/Pockets/resized_processed_Shoplifting (68).mp4 Class name: Pockets Label: 2\n",
            "     13/Unknown \u001b[1m14s\u001b[0m 791ms/stepProcessing video: /content/drive/MyDrive/Dataset/Aggregate_Val/Pockets/resized_processed_Shoplifting (69).mp4 Class name: Pockets Label: 2\n",
            "     14/Unknown \u001b[1m15s\u001b[0m 797ms/stepProcessing video: /content/drive/MyDrive/Dataset/Aggregate_Val/Pockets/resized_flipped_processed_Shoplifting (65).mp4 Class name: Pockets Label: 2\n",
            "     15/Unknown \u001b[1m16s\u001b[0m 803ms/stepProcessing video: /content/drive/MyDrive/Dataset/Aggregate_Val/Pockets/resized_flipped_processed_Shoplifting (66).mp4 Class name: Pockets Label: 2\n",
            "     16/Unknown \u001b[1m17s\u001b[0m 810ms/stepProcessing video: /content/drive/MyDrive/Dataset/Aggregate_Val/Pockets/resized_flipped_processed_Shoplifting (67).mp4 Class name: Pockets Label: 2\n",
            "     17/Unknown \u001b[1m18s\u001b[0m 814ms/stepProcessing video: /content/drive/MyDrive/Dataset/Aggregate_Val/Pockets/resized_flipped_processed_Shoplifting (68).mp4 Class name: Pockets Label: 2\n",
            "     18/Unknown \u001b[1m19s\u001b[0m 817ms/stepProcessing video: /content/drive/MyDrive/Dataset/Aggregate_Val/Pockets/resized_flipped_processed_Shoplifting (69).mp4 Class name: Pockets Label: 2\n",
            "     19/Unknown \u001b[1m19s\u001b[0m 822ms/stepProcessing video: /content/drive/MyDrive/Dataset/Aggregate_Val/Pockets/resized_pose_Shoplifting (65).mp4 Class name: Pockets Label: 2\n",
            "     20/Unknown \u001b[1m20s\u001b[0m 824ms/stepProcessing video: /content/drive/MyDrive/Dataset/Aggregate_Val/Pockets/resized_pose_Shoplifting (66).mp4 Class name: Pockets Label: 2\n",
            "     21/Unknown \u001b[1m21s\u001b[0m 827ms/stepProcessing video: /content/drive/MyDrive/Dataset/Aggregate_Val/Pockets/resized_pose_Shoplifting (67).mp4 Class name: Pockets Label: 2\n",
            "     22/Unknown \u001b[1m22s\u001b[0m 830ms/stepProcessing video: /content/drive/MyDrive/Dataset/Aggregate_Val/Pockets/resized_pose_Shoplifting (68).mp4 Class name: Pockets Label: 2\n",
            "     23/Unknown \u001b[1m23s\u001b[0m 832ms/stepProcessing video: /content/drive/MyDrive/Dataset/Aggregate_Val/Pockets/resized_pose_Shoplifting (69).mp4 Class name: Pockets Label: 2\n",
            "     24/Unknown \u001b[1m24s\u001b[0m 833ms/stepProcessing video: /content/drive/MyDrive/Dataset/Aggregate_Val/Pockets/resized_processed_Shoplifting (70).mp4 Class name: Pockets Label: 2\n",
            "     25/Unknown \u001b[1m25s\u001b[0m 834ms/stepProcessing video: /content/drive/MyDrive/Dataset/Aggregate_Val/Pockets/resized_processed_Shoplifting (78).mp4 Class name: Pockets Label: 2\n",
            "     26/Unknown \u001b[1m26s\u001b[0m 837ms/stepProcessing video: /content/drive/MyDrive/Dataset/Aggregate_Val/Pockets/resized_processed_Shoplifting (77).mp4 Class name: Pockets Label: 2\n",
            "     27/Unknown \u001b[1m26s\u001b[0m 838ms/stepProcessing video: /content/drive/MyDrive/Dataset/Aggregate_Val/Pockets/resized_processed_Shoplifting (87).mp4 Class name: Pockets Label: 2\n",
            "     28/Unknown \u001b[1m27s\u001b[0m 839ms/stepProcessing video: /content/drive/MyDrive/Dataset/Aggregate_Val/Pockets/resized_flipped_processed_Shoplifting (70).mp4 Class name: Pockets Label: 2\n",
            "     29/Unknown \u001b[1m28s\u001b[0m 839ms/stepProcessing video: /content/drive/MyDrive/Dataset/Aggregate_Val/Pockets/resized_flipped_processed_Shoplifting (78).mp4 Class name: Pockets Label: 2\n",
            "     30/Unknown \u001b[1m29s\u001b[0m 840ms/stepProcessing video: /content/drive/MyDrive/Dataset/Aggregate_Val/Pockets/resized_flipped_processed_Shoplifting (77).mp4 Class name: Pockets Label: 2\n",
            "     31/Unknown \u001b[1m30s\u001b[0m 841ms/stepProcessing video: /content/drive/MyDrive/Dataset/Aggregate_Val/Pockets/resized_flipped_processed_Shoplifting (87).mp4 Class name: Pockets Label: 2\n",
            "     32/Unknown \u001b[1m31s\u001b[0m 842ms/stepProcessing video: /content/drive/MyDrive/Dataset/Aggregate_Val/Pockets/resized_pose_Shoplifting (70).mp4 Class name: Pockets Label: 2\n",
            "     33/Unknown \u001b[1m32s\u001b[0m 844ms/stepProcessing video: /content/drive/MyDrive/Dataset/Aggregate_Val/Pockets/resized_pose_Shoplifting (77).mp4 Class name: Pockets Label: 2\n",
            "     34/Unknown \u001b[1m33s\u001b[0m 845ms/stepProcessing video: /content/drive/MyDrive/Dataset/Aggregate_Val/Pockets/resized_pose_Shoplifting (78).mp4 Class name: Pockets Label: 2\n",
            "     35/Unknown \u001b[1m33s\u001b[0m 846ms/stepProcessing video: /content/drive/MyDrive/Dataset/Aggregate_Val/Pockets/resized_pose_Shoplifting (87).mp4 Class name: Pockets Label: 2\n",
            "     36/Unknown \u001b[1m34s\u001b[0m 846ms/stepProcessing video: /content/drive/MyDrive/Dataset/Aggregate_Val/Pockets/resized_flipped_pose_Shoplifting (70).mp4 Class name: Pockets Label: 2\n",
            "     37/Unknown \u001b[1m35s\u001b[0m 847ms/stepProcessing video: /content/drive/MyDrive/Dataset/Aggregate_Val/Pockets/resized_flipped_pose_Shoplifting (77).mp4 Class name: Pockets Label: 2\n",
            "     38/Unknown \u001b[1m36s\u001b[0m 848ms/stepProcessing video: /content/drive/MyDrive/Dataset/Aggregate_Val/Pockets/resized_flipped_pose_Shoplifting (78).mp4 Class name: Pockets Label: 2\n",
            "     39/Unknown \u001b[1m37s\u001b[0m 848ms/stepProcessing video: /content/drive/MyDrive/Dataset/Aggregate_Val/Pockets/resized_flipped_pose_Shoplifting (87).mp4 Class name: Pockets Label: 2\n",
            "     40/Unknown \u001b[1m38s\u001b[0m 848ms/stepProcessing video: /content/drive/MyDrive/Dataset/Aggregate_Val/Pockets/resized_Copy of Shoplifting (87).mp4 Class name: Pockets Label: 2\n",
            "     41/Unknown \u001b[1m39s\u001b[0m 849ms/stepProcessing video: /content/drive/MyDrive/Dataset/Aggregate_Val/Pockets/resized_Copy of Shoplifting (78).mp4 Class name: Pockets Label: 2\n",
            "     42/Unknown \u001b[1m39s\u001b[0m 850ms/stepProcessing video: /content/drive/MyDrive/Dataset/Aggregate_Val/Pockets/resized_Copy of Shoplifting (70).mp4 Class name: Pockets Label: 2\n",
            "     43/Unknown \u001b[1m40s\u001b[0m 850ms/stepProcessing video: /content/drive/MyDrive/Dataset/Aggregate_Val/Pockets/resized_Copy of Shoplifting (77).mp4 Class name: Pockets Label: 2\n",
            "     44/Unknown \u001b[1m41s\u001b[0m 851ms/stepProcessing video: /content/drive/MyDrive/Dataset/Aggregate_Val/Pockets/shorten_Shoplifting (18x).mp4 Class name: Pockets Label: 2\n",
            "     45/Unknown \u001b[1m42s\u001b[0m 851ms/stepProcessing video: /content/drive/MyDrive/Dataset/Aggregate_Val/Pockets/shorten_Shooplifting (24x).mp4 Class name: Pockets Label: 2\n",
            "     46/Unknown \u001b[1m43s\u001b[0m 854ms/stepProcessing video: /content/drive/MyDrive/Dataset/Aggregate_Val/Pockets/shorten_Shoplifting (47x).mp4 Class name: Pockets Label: 2\n",
            "     47/Unknown \u001b[1m44s\u001b[0m 857ms/stepProcessing video: /content/drive/MyDrive/Dataset/Aggregate_Val/Pockets/shorten_processed_Shoplifting (18x).mp4 Class name: Pockets Label: 2\n",
            "     48/Unknown \u001b[1m45s\u001b[0m 859ms/stepProcessing video: /content/drive/MyDrive/Dataset/Aggregate_Val/Pockets/shorten_processed_Shooplifting (24x).mp4 Class name: Pockets Label: 2\n",
            "     49/Unknown \u001b[1m46s\u001b[0m 862ms/stepProcessing video: /content/drive/MyDrive/Dataset/Aggregate_Val/Pockets/shorten_processed_Shoplifting (47x).mp4 Class name: Pockets Label: 2\n",
            "     50/Unknown \u001b[1m47s\u001b[0m 865ms/stepProcessing video: /content/drive/MyDrive/Dataset/Aggregate_Val/Pockets/shorten_flipped_Shoplifting (18x).mp4 Class name: Pockets Label: 2\n",
            "     51/Unknown \u001b[1m48s\u001b[0m 868ms/stepProcessing video: /content/drive/MyDrive/Dataset/Aggregate_Val/Pockets/shorten_flipped_Shooplifting (24x).mp4 Class name: Pockets Label: 2\n",
            "     52/Unknown \u001b[1m49s\u001b[0m 867ms/stepProcessing video: /content/drive/MyDrive/Dataset/Aggregate_Val/Pockets/shorten_flipped_Shoplifting (47x).mp4 Class name: Pockets Label: 2\n",
            "     53/Unknown \u001b[1m50s\u001b[0m 868ms/stepProcessing video: /content/drive/MyDrive/Dataset/Aggregate_Val/Pockets/shorten_flipped_processed_Shoplifting (18x).mp4 Class name: Pockets Label: 2\n",
            "     54/Unknown \u001b[1m51s\u001b[0m 868ms/stepProcessing video: /content/drive/MyDrive/Dataset/Aggregate_Val/Pockets/shorten_flipped_processed_Shooplifting (24x).mp4 Class name: Pockets Label: 2\n",
            "     55/Unknown \u001b[1m52s\u001b[0m 868ms/stepProcessing video: /content/drive/MyDrive/Dataset/Aggregate_Val/Pockets/shorten_flipped_processed_Shoplifting (47x).mp4 Class name: Pockets Label: 2\n",
            "     56/Unknown \u001b[1m52s\u001b[0m 868ms/stepProcessing video: /content/drive/MyDrive/Dataset/Aggregate_Val/Pockets/shorten_resized_Copy of shoplift_6.mp4 Class name: Pockets Label: 2\n",
            "     57/Unknown \u001b[1m53s\u001b[0m 868ms/stepProcessing video: /content/drive/MyDrive/Dataset/Aggregate_Val/Pockets/shorten_resized_shoplift_6.2.mp4 Class name: Pockets Label: 2\n",
            "     58/Unknown \u001b[1m54s\u001b[0m 868ms/stepProcessing video: /content/drive/MyDrive/Dataset/Aggregate_Val/Pockets/shorten_IMG_0163.mp4 Class name: Pockets Label: 2\n",
            "     59/Unknown \u001b[1m55s\u001b[0m 868ms/stepProcessing video: /content/drive/MyDrive/Dataset/Aggregate_Val/Pockets/shorten_IMG_0168.mp4 Class name: Pockets Label: 2\n",
            "     60/Unknown \u001b[1m57s\u001b[0m 884ms/stepProcessing video: /content/drive/MyDrive/Dataset/Aggregate_Val/Pockets/shorten_IMG_0140.mp4 Class name: Pockets Label: 2\n",
            "     61/Unknown \u001b[1m59s\u001b[0m 899ms/stepProcessing video: /content/drive/MyDrive/Dataset/Aggregate_Val/Pockets/shorten_IMG_0146.mp4 Class name: Pockets Label: 2\n",
            "     62/Unknown \u001b[1m60s\u001b[0m 913ms/stepProcessing video: /content/drive/MyDrive/Dataset/Aggregate_Val/Pockets/shorten_IMG_0149.mp4 Class name: Pockets Label: 2\n",
            "     63/Unknown \u001b[1m62s\u001b[0m 928ms/stepProcessing video: /content/drive/MyDrive/Dataset/Aggregate_Val/Pockets/shorten_IMG_0183.mp4 Class name: Pockets Label: 2\n",
            "     64/Unknown \u001b[1m64s\u001b[0m 941ms/stepProcessing video: /content/drive/MyDrive/Dataset/Aggregate_Val/Pockets/shorten_IMG_0186.mp4 Class name: Pockets Label: 2\n",
            "     65/Unknown \u001b[1m66s\u001b[0m 956ms/stepProcessing video: /content/drive/MyDrive/Dataset/Aggregate_Val/Pockets/flipped_shorten_IMG_0163.mp4 Class name: Pockets Label: 2\n",
            "     66/Unknown \u001b[1m68s\u001b[0m 971ms/stepProcessing video: /content/drive/MyDrive/Dataset/Aggregate_Val/Pockets/flipped_shorten_IMG_0168.mp4 Class name: Pockets Label: 2\n",
            "     67/Unknown \u001b[1m69s\u001b[0m 982ms/stepProcessing video: /content/drive/MyDrive/Dataset/Aggregate_Val/Pockets/flipped_shorten_IMG_0140.mp4 Class name: Pockets Label: 2\n",
            "     68/Unknown \u001b[1m71s\u001b[0m 994ms/stepProcessing video: /content/drive/MyDrive/Dataset/Aggregate_Val/Pockets/flipped_shorten_IMG_0146.mp4 Class name: Pockets Label: 2\n",
            "     69/Unknown \u001b[1m73s\u001b[0m 1s/step   Processing video: /content/drive/MyDrive/Dataset/Aggregate_Val/Pockets/flipped_shorten_IMG_0149.mp4 Class name: Pockets Label: 2\n",
            "     70/Unknown \u001b[1m75s\u001b[0m 1s/stepProcessing video: /content/drive/MyDrive/Dataset/Aggregate_Val/Pockets/flipped_shorten_IMG_0183.mp4 Class name: Pockets Label: 2\n",
            "     71/Unknown \u001b[1m77s\u001b[0m 1s/stepProcessing video: /content/drive/MyDrive/Dataset/Aggregate_Val/Pockets/flipped_shorten_IMG_0186.mp4 Class name: Pockets Label: 2\n",
            "     72/Unknown \u001b[1m78s\u001b[0m 1s/stepProcessing video: /content/drive/MyDrive/Dataset/Aggregate_Val/Pockets/processed_shorten_IMG_0168.mp4 Class name: Pockets Label: 2\n",
            "     73/Unknown \u001b[1m80s\u001b[0m 1s/stepProcessing video: /content/drive/MyDrive/Dataset/Aggregate_Val/Pockets/processed_shorten_IMG_0140.mp4 Class name: Pockets Label: 2\n",
            "     74/Unknown \u001b[1m82s\u001b[0m 1s/stepProcessing video: /content/drive/MyDrive/Dataset/Aggregate_Val/Pockets/processed_shorten_IMG_0146.mp4 Class name: Pockets Label: 2\n",
            "     75/Unknown \u001b[1m84s\u001b[0m 1s/stepProcessing video: /content/drive/MyDrive/Dataset/Aggregate_Val/Pockets/processed_shorten_IMG_0149.mp4 Class name: Pockets Label: 2\n",
            "     76/Unknown \u001b[1m86s\u001b[0m 1s/stepProcessing video: /content/drive/MyDrive/Dataset/Aggregate_Val/Pockets/processed_shorten_IMG_0183.mp4 Class name: Pockets Label: 2\n",
            "     77/Unknown \u001b[1m87s\u001b[0m 1s/stepProcessing video: /content/drive/MyDrive/Dataset/Aggregate_Val/Pockets/processed_shorten_IMG_0186.mp4 Class name: Pockets Label: 2\n",
            "     78/Unknown \u001b[1m89s\u001b[0m 1s/stepProcessing video: /content/drive/MyDrive/Dataset/Aggregate_Val/Pockets/processed_flipped_shorten_IMG_0163.mp4 Class name: Pockets Label: 2\n",
            "     79/Unknown \u001b[1m91s\u001b[0m 1s/stepProcessing video: /content/drive/MyDrive/Dataset/Aggregate_Val/Pockets/processed_flipped_shorten_IMG_0168.mp4 Class name: Pockets Label: 2\n",
            "     80/Unknown \u001b[1m93s\u001b[0m 1s/stepProcessing video: /content/drive/MyDrive/Dataset/Aggregate_Val/Pockets/processed_flipped_shorten_IMG_0146.mp4 Class name: Pockets Label: 2\n",
            "     81/Unknown \u001b[1m95s\u001b[0m 1s/stepProcessing video: /content/drive/MyDrive/Dataset/Aggregate_Val/Pockets/processed_flipped_shorten_IMG_0183.mp4 Class name: Pockets Label: 2\n",
            "     82/Unknown \u001b[1m97s\u001b[0m 1s/stepProcessing video: /content/drive/MyDrive/Dataset/Aggregate_Val/Pockets/processed_flipped_shorten_IMG_0186.mp4 Class name: Pockets Label: 2\n",
            "     83/Unknown \u001b[1m98s\u001b[0m 1s/stepProcessing video: /content/drive/MyDrive/Dataset/Aggregate_Val/Pockets/processed_flipped_shorten_IMG_0140.mp4 Class name: Pockets Label: 2\n",
            "     84/Unknown \u001b[1m100s\u001b[0m 1s/stepProcessing video: /content/drive/MyDrive/Dataset/Aggregate_Val/Pockets/processed_flipped_shorten_IMG_0149.mp4 Class name: Pockets Label: 2\n",
            "     85/Unknown \u001b[1m102s\u001b[0m 1s/stepProcessing video: /content/drive/MyDrive/Dataset/Aggregate_Val/Pockets/box_shorten_IMG_0163.mp4 Class name: Pockets Label: 2\n",
            "     86/Unknown \u001b[1m104s\u001b[0m 1s/stepProcessing video: /content/drive/MyDrive/Dataset/Aggregate_Val/Pockets/box_shorten_IMG_0140.mp4 Class name: Pockets Label: 2\n",
            "     87/Unknown \u001b[1m106s\u001b[0m 1s/stepProcessing video: /content/drive/MyDrive/Dataset/Aggregate_Val/Pockets/box_shorten_IMG_0168.mp4 Class name: Pockets Label: 2\n",
            "     88/Unknown \u001b[1m107s\u001b[0m 1s/stepProcessing video: /content/drive/MyDrive/Dataset/Aggregate_Val/Pockets/box_shorten_IMG_0146.mp4 Class name: Pockets Label: 2\n",
            "     89/Unknown \u001b[1m109s\u001b[0m 1s/stepProcessing video: /content/drive/MyDrive/Dataset/Aggregate_Val/Pockets/box_shorten_IMG_0149.mp4 Class name: Pockets Label: 2\n",
            "     90/Unknown \u001b[1m111s\u001b[0m 1s/stepProcessing video: /content/drive/MyDrive/Dataset/Aggregate_Val/Pockets/box_shorten_IMG_0183.mp4 Class name: Pockets Label: 2\n",
            "     91/Unknown \u001b[1m113s\u001b[0m 1s/stepProcessing video: /content/drive/MyDrive/Dataset/Aggregate_Val/Pockets/box_shorten_IMG_0186.mp4 Class name: Pockets Label: 2\n",
            "     92/Unknown \u001b[1m115s\u001b[0m 1s/stepProcessing video: /content/drive/MyDrive/Dataset/Aggregate_Val/Pockets/flipped_shorten_resized_shoplift_6.2.mp4 Class name: Pockets Label: 2\n",
            "     93/Unknown \u001b[1m117s\u001b[0m 1s/stepProcessing video: /content/drive/MyDrive/Dataset/Aggregate_Val/Normal/iseg_resized_Normal (75).mp4 Class name: Normal Label: 1\n",
            "     94/Unknown \u001b[1m118s\u001b[0m 1s/stepProcessing video: /content/drive/MyDrive/Dataset/Aggregate_Val/Normal/iseg_resized_Normal (76).mp4 Class name: Normal Label: 1\n",
            "     95/Unknown \u001b[1m118s\u001b[0m 1s/stepProcessing video: /content/drive/MyDrive/Dataset/Aggregate_Val/Normal/iseg_resized_Normal (77).mp4 Class name: Normal Label: 1\n",
            "     96/Unknown \u001b[1m119s\u001b[0m 1s/stepProcessing video: /content/drive/MyDrive/Dataset/Aggregate_Val/Normal/iseg_resized_Normal (78).mp4 Class name: Normal Label: 1\n",
            "     97/Unknown \u001b[1m120s\u001b[0m 1s/stepProcessing video: /content/drive/MyDrive/Dataset/Aggregate_Val/Normal/iseg_resized_Normal (79).mp4 Class name: Normal Label: 1\n",
            "     98/Unknown \u001b[1m121s\u001b[0m 1s/stepProcessing video: /content/drive/MyDrive/Dataset/Aggregate_Val/Normal/iseg_resized_Normal (80).mp4 Class name: Normal Label: 1\n",
            "     99/Unknown \u001b[1m122s\u001b[0m 1s/stepProcessing video: /content/drive/MyDrive/Dataset/Aggregate_Val/Normal/iseg_resized_Normal (81).mp4 Class name: Normal Label: 1\n",
            "    100/Unknown \u001b[1m123s\u001b[0m 1s/stepProcessing video: /content/drive/MyDrive/Dataset/Aggregate_Val/Normal/iseg_resized_Normal (82).mp4 Class name: Normal Label: 1\n",
            "    101/Unknown \u001b[1m124s\u001b[0m 1s/stepProcessing video: /content/drive/MyDrive/Dataset/Aggregate_Val/Normal/iseg_resized_Normal (83).mp4 Class name: Normal Label: 1\n",
            "    102/Unknown \u001b[1m125s\u001b[0m 1s/stepProcessing video: /content/drive/MyDrive/Dataset/Aggregate_Val/Normal/iseg_resized_Normal (84).mp4 Class name: Normal Label: 1\n",
            "    103/Unknown \u001b[1m125s\u001b[0m 1s/stepProcessing video: /content/drive/MyDrive/Dataset/Aggregate_Val/Normal/iseg_resized_Normal (85).mp4 Class name: Normal Label: 1\n",
            "    104/Unknown \u001b[1m126s\u001b[0m 1s/stepProcessing video: /content/drive/MyDrive/Dataset/Aggregate_Val/Normal/iseg_resized_Normal (86).mp4 Class name: Normal Label: 1\n",
            "    105/Unknown \u001b[1m127s\u001b[0m 1s/stepProcessing video: /content/drive/MyDrive/Dataset/Aggregate_Val/Normal/iseg_resized_Normal (87).mp4 Class name: Normal Label: 1\n",
            "    106/Unknown \u001b[1m128s\u001b[0m 1s/stepProcessing video: /content/drive/MyDrive/Dataset/Aggregate_Val/Normal/iseg_resized_Normal (88).mp4 Class name: Normal Label: 1\n",
            "    107/Unknown \u001b[1m129s\u001b[0m 1s/stepProcessing video: /content/drive/MyDrive/Dataset/Aggregate_Val/Normal/iseg_resized_Normal (89).mp4 Class name: Normal Label: 1\n",
            "    108/Unknown \u001b[1m130s\u001b[0m 1s/stepProcessing video: /content/drive/MyDrive/Dataset/Aggregate_Val/Normal/iseg_resized_Normal (90).mp4 Class name: Normal Label: 1\n",
            "    109/Unknown \u001b[1m131s\u001b[0m 1s/stepProcessing video: /content/drive/MyDrive/Dataset/Aggregate_Val/Normal/iseg_resized_Normal (61).mp4 Class name: Normal Label: 1\n",
            "    110/Unknown \u001b[1m132s\u001b[0m 1s/stepProcessing video: /content/drive/MyDrive/Dataset/Aggregate_Val/Normal/iseg_resized_Normal (60).mp4 Class name: Normal Label: 1\n",
            "    111/Unknown \u001b[1m132s\u001b[0m 1s/stepProcessing video: /content/drive/MyDrive/Dataset/Aggregate_Val/Normal/iseg_resized_Normal (64).mp4 Class name: Normal Label: 1\n",
            "    112/Unknown \u001b[1m133s\u001b[0m 1s/stepProcessing video: /content/drive/MyDrive/Dataset/Aggregate_Val/Normal/iseg_resized_Normal (63).mp4 Class name: Normal Label: 1\n",
            "    113/Unknown \u001b[1m134s\u001b[0m 1s/stepProcessing video: /content/drive/MyDrive/Dataset/Aggregate_Val/Normal/iseg_resized_Normal (62).mp4 Class name: Normal Label: 1\n",
            "    114/Unknown \u001b[1m135s\u001b[0m 1s/stepProcessing video: /content/drive/MyDrive/Dataset/Aggregate_Val/Normal/resized_processed_Normal (60).mp4 Class name: Normal Label: 1\n",
            "    115/Unknown \u001b[1m136s\u001b[0m 1s/stepProcessing video: /content/drive/MyDrive/Dataset/Aggregate_Val/Normal/resized_processed_Normal (61).mp4 Class name: Normal Label: 1\n",
            "    116/Unknown \u001b[1m137s\u001b[0m 1s/stepProcessing video: /content/drive/MyDrive/Dataset/Aggregate_Val/Normal/resized_processed_Normal (63).mp4 Class name: Normal Label: 1\n",
            "    117/Unknown \u001b[1m138s\u001b[0m 1s/stepProcessing video: /content/drive/MyDrive/Dataset/Aggregate_Val/Normal/resized_processed_Normal (62).mp4 Class name: Normal Label: 1\n",
            "    118/Unknown \u001b[1m139s\u001b[0m 1s/stepProcessing video: /content/drive/MyDrive/Dataset/Aggregate_Val/Normal/resized_processed_Normal (64).mp4 Class name: Normal Label: 1\n",
            "    119/Unknown \u001b[1m140s\u001b[0m 1s/stepProcessing video: /content/drive/MyDrive/Dataset/Aggregate_Val/Normal/resized_flipped_processed_Normal (60).mp4 Class name: Normal Label: 1\n",
            "    120/Unknown \u001b[1m140s\u001b[0m 1s/stepProcessing video: /content/drive/MyDrive/Dataset/Aggregate_Val/Normal/resized_flipped_processed_Normal (61).mp4 Class name: Normal Label: 1\n",
            "    121/Unknown \u001b[1m141s\u001b[0m 1s/stepProcessing video: /content/drive/MyDrive/Dataset/Aggregate_Val/Normal/resized_flipped_processed_Normal (63).mp4 Class name: Normal Label: 1\n",
            "    122/Unknown \u001b[1m142s\u001b[0m 1s/stepProcessing video: /content/drive/MyDrive/Dataset/Aggregate_Val/Normal/resized_flipped_processed_Normal (62).mp4 Class name: Normal Label: 1\n",
            "    123/Unknown \u001b[1m143s\u001b[0m 1s/stepProcessing video: /content/drive/MyDrive/Dataset/Aggregate_Val/Normal/resized_flipped_processed_Normal (64).mp4 Class name: Normal Label: 1\n",
            "    124/Unknown \u001b[1m144s\u001b[0m 1s/stepProcessing video: /content/drive/MyDrive/Dataset/Aggregate_Val/Normal/resized_pose_Normal (60).mp4 Class name: Normal Label: 1\n",
            "    125/Unknown \u001b[1m145s\u001b[0m 1s/stepProcessing video: /content/drive/MyDrive/Dataset/Aggregate_Val/Normal/resized_pose_Normal (61).mp4 Class name: Normal Label: 1\n",
            "    126/Unknown \u001b[1m146s\u001b[0m 1s/stepProcessing video: /content/drive/MyDrive/Dataset/Aggregate_Val/Normal/resized_pose_Normal (62).mp4 Class name: Normal Label: 1\n",
            "    127/Unknown \u001b[1m147s\u001b[0m 1s/stepProcessing video: /content/drive/MyDrive/Dataset/Aggregate_Val/Normal/resized_pose_Normal (63).mp4 Class name: Normal Label: 1\n",
            "    128/Unknown \u001b[1m148s\u001b[0m 1s/stepProcessing video: /content/drive/MyDrive/Dataset/Aggregate_Val/Normal/resized_pose_Normal (64).mp4 Class name: Normal Label: 1\n",
            "    129/Unknown \u001b[1m148s\u001b[0m 1s/stepProcessing video: /content/drive/MyDrive/Dataset/Aggregate_Val/Normal/resized_flipped_pose_Normal (60).mp4 Class name: Normal Label: 1\n",
            "    130/Unknown \u001b[1m149s\u001b[0m 1s/stepProcessing video: /content/drive/MyDrive/Dataset/Aggregate_Val/Normal/resized_flipped_pose_Normal (61).mp4 Class name: Normal Label: 1\n",
            "    131/Unknown \u001b[1m150s\u001b[0m 1s/stepProcessing video: /content/drive/MyDrive/Dataset/Aggregate_Val/Normal/resized_flipped_pose_Normal (62).mp4 Class name: Normal Label: 1\n",
            "    132/Unknown \u001b[1m151s\u001b[0m 1s/stepProcessing video: /content/drive/MyDrive/Dataset/Aggregate_Val/Normal/resized_flipped_pose_Normal (63).mp4 Class name: Normal Label: 1\n",
            "    133/Unknown \u001b[1m152s\u001b[0m 1s/stepProcessing video: /content/drive/MyDrive/Dataset/Aggregate_Val/Normal/resized_flipped_pose_Normal (64).mp4 Class name: Normal Label: 1\n",
            "    134/Unknown \u001b[1m153s\u001b[0m 1s/stepProcessing video: /content/drive/MyDrive/Dataset/Aggregate_Val/Normal/resized_processed_Normal (75).mp4 Class name: Normal Label: 1\n",
            "    135/Unknown \u001b[1m154s\u001b[0m 1s/stepProcessing video: /content/drive/MyDrive/Dataset/Aggregate_Val/Normal/resized_processed_Normal (76).mp4 Class name: Normal Label: 1\n",
            "    136/Unknown \u001b[1m155s\u001b[0m 1s/stepProcessing video: /content/drive/MyDrive/Dataset/Aggregate_Val/Normal/resized_processed_Normal (77).mp4 Class name: Normal Label: 1\n",
            "    137/Unknown \u001b[1m155s\u001b[0m 1s/stepProcessing video: /content/drive/MyDrive/Dataset/Aggregate_Val/Normal/resized_processed_Normal (78).mp4 Class name: Normal Label: 1\n",
            "    138/Unknown \u001b[1m156s\u001b[0m 1s/stepProcessing video: /content/drive/MyDrive/Dataset/Aggregate_Val/Normal/resized_processed_Normal (79).mp4 Class name: Normal Label: 1\n",
            "    139/Unknown \u001b[1m157s\u001b[0m 1s/stepProcessing video: /content/drive/MyDrive/Dataset/Aggregate_Val/Normal/resized_processed_Normal (81).mp4 Class name: Normal Label: 1\n",
            "    140/Unknown \u001b[1m158s\u001b[0m 1s/stepProcessing video: /content/drive/MyDrive/Dataset/Aggregate_Val/Normal/resized_processed_Normal (80).mp4 Class name: Normal Label: 1\n",
            "    141/Unknown \u001b[1m159s\u001b[0m 1s/stepProcessing video: /content/drive/MyDrive/Dataset/Aggregate_Val/Normal/resized_processed_Normal (83).mp4 Class name: Normal Label: 1\n",
            "    142/Unknown \u001b[1m160s\u001b[0m 1s/stepProcessing video: /content/drive/MyDrive/Dataset/Aggregate_Val/Normal/resized_processed_Normal (82).mp4 Class name: Normal Label: 1\n",
            "    143/Unknown \u001b[1m161s\u001b[0m 1s/stepProcessing video: /content/drive/MyDrive/Dataset/Aggregate_Val/Normal/resized_processed_Normal (84).mp4 Class name: Normal Label: 1\n",
            "    144/Unknown \u001b[1m162s\u001b[0m 1s/stepProcessing video: /content/drive/MyDrive/Dataset/Aggregate_Val/Normal/resized_processed_Normal (85).mp4 Class name: Normal Label: 1\n",
            "    145/Unknown \u001b[1m162s\u001b[0m 1s/stepProcessing video: /content/drive/MyDrive/Dataset/Aggregate_Val/Normal/resized_processed_Normal (86).mp4 Class name: Normal Label: 1\n",
            "    146/Unknown \u001b[1m163s\u001b[0m 1s/stepProcessing video: /content/drive/MyDrive/Dataset/Aggregate_Val/Normal/resized_processed_Normal (87).mp4 Class name: Normal Label: 1\n",
            "    147/Unknown \u001b[1m164s\u001b[0m 1s/stepProcessing video: /content/drive/MyDrive/Dataset/Aggregate_Val/Normal/resized_processed_Normal (88).mp4 Class name: Normal Label: 1\n",
            "    148/Unknown \u001b[1m165s\u001b[0m 1s/stepProcessing video: /content/drive/MyDrive/Dataset/Aggregate_Val/Normal/resized_processed_Normal (89).mp4 Class name: Normal Label: 1\n",
            "    149/Unknown \u001b[1m166s\u001b[0m 1s/stepProcessing video: /content/drive/MyDrive/Dataset/Aggregate_Val/Normal/resized_processed_Normal (90).mp4 Class name: Normal Label: 1\n",
            "    150/Unknown \u001b[1m167s\u001b[0m 1s/stepProcessing video: /content/drive/MyDrive/Dataset/Aggregate_Val/Normal/resized_flipped_processed_Normal (75).mp4 Class name: Normal Label: 1\n",
            "    151/Unknown \u001b[1m168s\u001b[0m 1s/stepProcessing video: /content/drive/MyDrive/Dataset/Aggregate_Val/Normal/resized_flipped_processed_Normal (76).mp4 Class name: Normal Label: 1\n",
            "    152/Unknown \u001b[1m168s\u001b[0m 1s/stepProcessing video: /content/drive/MyDrive/Dataset/Aggregate_Val/Normal/resized_flipped_processed_Normal (77).mp4 Class name: Normal Label: 1\n",
            "    153/Unknown \u001b[1m169s\u001b[0m 1s/stepProcessing video: /content/drive/MyDrive/Dataset/Aggregate_Val/Normal/resized_flipped_processed_Normal (78).mp4 Class name: Normal Label: 1\n",
            "    154/Unknown \u001b[1m170s\u001b[0m 1s/stepProcessing video: /content/drive/MyDrive/Dataset/Aggregate_Val/Normal/resized_flipped_processed_Normal (79).mp4 Class name: Normal Label: 1\n",
            "    155/Unknown \u001b[1m171s\u001b[0m 1s/stepProcessing video: /content/drive/MyDrive/Dataset/Aggregate_Val/Normal/resized_flipped_processed_Normal (81).mp4 Class name: Normal Label: 1\n",
            "    156/Unknown \u001b[1m172s\u001b[0m 1s/stepProcessing video: /content/drive/MyDrive/Dataset/Aggregate_Val/Normal/resized_flipped_processed_Normal (80).mp4 Class name: Normal Label: 1\n",
            "    157/Unknown \u001b[1m173s\u001b[0m 1s/stepProcessing video: /content/drive/MyDrive/Dataset/Aggregate_Val/Normal/resized_flipped_processed_Normal (83).mp4 Class name: Normal Label: 1\n",
            "    158/Unknown \u001b[1m174s\u001b[0m 1s/stepProcessing video: /content/drive/MyDrive/Dataset/Aggregate_Val/Normal/resized_flipped_processed_Normal (82).mp4 Class name: Normal Label: 1\n",
            "    159/Unknown \u001b[1m174s\u001b[0m 1s/stepProcessing video: /content/drive/MyDrive/Dataset/Aggregate_Val/Normal/resized_flipped_processed_Normal (84).mp4 Class name: Normal Label: 1\n",
            "    160/Unknown \u001b[1m175s\u001b[0m 1s/stepProcessing video: /content/drive/MyDrive/Dataset/Aggregate_Val/Normal/resized_flipped_processed_Normal (85).mp4 Class name: Normal Label: 1\n",
            "    161/Unknown \u001b[1m176s\u001b[0m 1s/stepProcessing video: /content/drive/MyDrive/Dataset/Aggregate_Val/Normal/resized_flipped_processed_Normal (86).mp4 Class name: Normal Label: 1\n",
            "    162/Unknown \u001b[1m177s\u001b[0m 1s/stepProcessing video: /content/drive/MyDrive/Dataset/Aggregate_Val/Normal/resized_flipped_processed_Normal (87).mp4 Class name: Normal Label: 1\n",
            "    163/Unknown \u001b[1m178s\u001b[0m 1s/stepProcessing video: /content/drive/MyDrive/Dataset/Aggregate_Val/Normal/resized_flipped_processed_Normal (88).mp4 Class name: Normal Label: 1\n",
            "    164/Unknown \u001b[1m179s\u001b[0m 1s/stepProcessing video: /content/drive/MyDrive/Dataset/Aggregate_Val/Normal/resized_flipped_processed_Normal (89).mp4 Class name: Normal Label: 1\n",
            "    165/Unknown \u001b[1m180s\u001b[0m 1s/stepProcessing video: /content/drive/MyDrive/Dataset/Aggregate_Val/Normal/resized_flipped_processed_Normal (90).mp4 Class name: Normal Label: 1\n",
            "    166/Unknown \u001b[1m180s\u001b[0m 1s/stepProcessing video: /content/drive/MyDrive/Dataset/Aggregate_Val/Normal/resized_pose_Normal (75).mp4 Class name: Normal Label: 1\n",
            "    167/Unknown \u001b[1m181s\u001b[0m 1s/stepProcessing video: /content/drive/MyDrive/Dataset/Aggregate_Val/Normal/resized_pose_Normal (76).mp4 Class name: Normal Label: 1\n",
            "    168/Unknown \u001b[1m182s\u001b[0m 1s/stepProcessing video: /content/drive/MyDrive/Dataset/Aggregate_Val/Normal/resized_pose_Normal (77).mp4 Class name: Normal Label: 1\n",
            "    169/Unknown \u001b[1m183s\u001b[0m 1s/stepProcessing video: /content/drive/MyDrive/Dataset/Aggregate_Val/Normal/resized_pose_Normal (78).mp4 Class name: Normal Label: 1\n",
            "    170/Unknown \u001b[1m184s\u001b[0m 1s/stepProcessing video: /content/drive/MyDrive/Dataset/Aggregate_Val/Normal/resized_pose_Normal (79).mp4 Class name: Normal Label: 1\n",
            "    171/Unknown \u001b[1m185s\u001b[0m 1s/stepProcessing video: /content/drive/MyDrive/Dataset/Aggregate_Val/Normal/resized_pose_Normal (80).mp4 Class name: Normal Label: 1\n",
            "    172/Unknown \u001b[1m186s\u001b[0m 1s/stepProcessing video: /content/drive/MyDrive/Dataset/Aggregate_Val/Normal/resized_pose_Normal (81).mp4 Class name: Normal Label: 1\n",
            "    173/Unknown \u001b[1m187s\u001b[0m 1s/stepProcessing video: /content/drive/MyDrive/Dataset/Aggregate_Val/Normal/resized_pose_Normal (82).mp4 Class name: Normal Label: 1\n",
            "    174/Unknown \u001b[1m187s\u001b[0m 1s/stepProcessing video: /content/drive/MyDrive/Dataset/Aggregate_Val/Normal/resized_pose_Normal (83).mp4 Class name: Normal Label: 1\n",
            "    175/Unknown \u001b[1m188s\u001b[0m 1s/stepProcessing video: /content/drive/MyDrive/Dataset/Aggregate_Val/Normal/resized_pose_Normal (84).mp4 Class name: Normal Label: 1\n",
            "    176/Unknown \u001b[1m189s\u001b[0m 1s/stepProcessing video: /content/drive/MyDrive/Dataset/Aggregate_Val/Normal/resized_pose_Normal (85).mp4 Class name: Normal Label: 1\n",
            "    177/Unknown \u001b[1m190s\u001b[0m 1s/stepProcessing video: /content/drive/MyDrive/Dataset/Aggregate_Val/Normal/resized_pose_Normal (86).mp4 Class name: Normal Label: 1\n",
            "    178/Unknown \u001b[1m191s\u001b[0m 1s/stepProcessing video: /content/drive/MyDrive/Dataset/Aggregate_Val/Normal/resized_pose_Normal (87).mp4 Class name: Normal Label: 1\n",
            "    179/Unknown \u001b[1m192s\u001b[0m 1s/stepProcessing video: /content/drive/MyDrive/Dataset/Aggregate_Val/Normal/resized_pose_Normal (88).mp4 Class name: Normal Label: 1\n",
            "    180/Unknown \u001b[1m193s\u001b[0m 1s/stepProcessing video: /content/drive/MyDrive/Dataset/Aggregate_Val/Normal/resized_pose_Normal (89).mp4 Class name: Normal Label: 1\n",
            "    181/Unknown \u001b[1m194s\u001b[0m 1s/stepProcessing video: /content/drive/MyDrive/Dataset/Aggregate_Val/Normal/resized_pose_Normal (90).mp4 Class name: Normal Label: 1\n",
            "    182/Unknown \u001b[1m194s\u001b[0m 1s/stepProcessing video: /content/drive/MyDrive/Dataset/Aggregate_Val/Normal/resized_flipped_pose_Normal (75).mp4 Class name: Normal Label: 1\n",
            "    183/Unknown \u001b[1m195s\u001b[0m 1s/stepProcessing video: /content/drive/MyDrive/Dataset/Aggregate_Val/Normal/resized_flipped_pose_Normal (76).mp4 Class name: Normal Label: 1\n",
            "    184/Unknown \u001b[1m196s\u001b[0m 1s/stepProcessing video: /content/drive/MyDrive/Dataset/Aggregate_Val/Normal/resized_flipped_pose_Normal (77).mp4 Class name: Normal Label: 1\n",
            "    185/Unknown \u001b[1m197s\u001b[0m 1s/stepProcessing video: /content/drive/MyDrive/Dataset/Aggregate_Val/Normal/resized_flipped_pose_Normal (78).mp4 Class name: Normal Label: 1\n",
            "    186/Unknown \u001b[1m198s\u001b[0m 1s/stepProcessing video: /content/drive/MyDrive/Dataset/Aggregate_Val/Normal/resized_flipped_pose_Normal (79).mp4 Class name: Normal Label: 1\n",
            "    187/Unknown \u001b[1m199s\u001b[0m 1s/stepProcessing video: /content/drive/MyDrive/Dataset/Aggregate_Val/Normal/resized_flipped_pose_Normal (80).mp4 Class name: Normal Label: 1\n",
            "    188/Unknown \u001b[1m200s\u001b[0m 1s/stepProcessing video: /content/drive/MyDrive/Dataset/Aggregate_Val/Normal/resized_flipped_pose_Normal (81).mp4 Class name: Normal Label: 1\n",
            "    189/Unknown \u001b[1m200s\u001b[0m 1s/stepProcessing video: /content/drive/MyDrive/Dataset/Aggregate_Val/Normal/resized_flipped_pose_Normal (82).mp4 Class name: Normal Label: 1\n",
            "    190/Unknown \u001b[1m201s\u001b[0m 1s/stepProcessing video: /content/drive/MyDrive/Dataset/Aggregate_Val/Normal/resized_flipped_pose_Normal (83).mp4 Class name: Normal Label: 1\n",
            "    191/Unknown \u001b[1m202s\u001b[0m 1s/stepProcessing video: /content/drive/MyDrive/Dataset/Aggregate_Val/Normal/resized_flipped_pose_Normal (84).mp4 Class name: Normal Label: 1\n",
            "    192/Unknown \u001b[1m203s\u001b[0m 1s/stepProcessing video: /content/drive/MyDrive/Dataset/Aggregate_Val/Normal/resized_flipped_pose_Normal (85).mp4 Class name: Normal Label: 1\n",
            "    193/Unknown \u001b[1m204s\u001b[0m 1s/stepProcessing video: /content/drive/MyDrive/Dataset/Aggregate_Val/Normal/resized_flipped_pose_Normal (86).mp4 Class name: Normal Label: 1\n",
            "    194/Unknown \u001b[1m205s\u001b[0m 1s/stepProcessing video: /content/drive/MyDrive/Dataset/Aggregate_Val/Normal/resized_flipped_pose_Normal (87).mp4 Class name: Normal Label: 1\n",
            "    195/Unknown \u001b[1m206s\u001b[0m 1s/stepProcessing video: /content/drive/MyDrive/Dataset/Aggregate_Val/Normal/resized_flipped_pose_Normal (88).mp4 Class name: Normal Label: 1\n",
            "    196/Unknown \u001b[1m207s\u001b[0m 1s/stepProcessing video: /content/drive/MyDrive/Dataset/Aggregate_Val/Normal/resized_flipped_pose_Normal (89).mp4 Class name: Normal Label: 1\n",
            "    197/Unknown \u001b[1m208s\u001b[0m 1s/stepProcessing video: /content/drive/MyDrive/Dataset/Aggregate_Val/Normal/resized_flipped_pose_Normal (90).mp4 Class name: Normal Label: 1\n",
            "    198/Unknown \u001b[1m208s\u001b[0m 1s/stepProcessing video: /content/drive/MyDrive/Dataset/Aggregate_Val/Normal/resized_Copy of Normal (84).mp4 Class name: Normal Label: 1\n",
            "    199/Unknown \u001b[1m209s\u001b[0m 1s/stepProcessing video: /content/drive/MyDrive/Dataset/Aggregate_Val/Normal/resized_Copy of Normal (76).mp4 Class name: Normal Label: 1\n",
            "    200/Unknown \u001b[1m210s\u001b[0m 1s/stepProcessing video: /content/drive/MyDrive/Dataset/Aggregate_Val/Normal/resized_Copy of Normal (77).mp4 Class name: Normal Label: 1\n",
            "    201/Unknown \u001b[1m211s\u001b[0m 1s/stepProcessing video: /content/drive/MyDrive/Dataset/Aggregate_Val/Normal/resized_Copy of Normal (78).mp4 Class name: Normal Label: 1\n",
            "    202/Unknown \u001b[1m212s\u001b[0m 1s/stepProcessing video: /content/drive/MyDrive/Dataset/Aggregate_Val/Normal/resized_Copy of Normal (75).mp4 Class name: Normal Label: 1\n",
            "    203/Unknown \u001b[1m213s\u001b[0m 1s/stepProcessing video: /content/drive/MyDrive/Dataset/Aggregate_Val/Normal/resized_Copy of Normal (79).mp4 Class name: Normal Label: 1\n",
            "    204/Unknown \u001b[1m214s\u001b[0m 1s/stepProcessing video: /content/drive/MyDrive/Dataset/Aggregate_Val/Normal/resized_Copy of Normal (85).mp4 Class name: Normal Label: 1\n",
            "    205/Unknown \u001b[1m215s\u001b[0m 1s/stepProcessing video: /content/drive/MyDrive/Dataset/Aggregate_Val/Normal/resized_Copy of Normal (86).mp4 Class name: Normal Label: 1\n",
            "    206/Unknown \u001b[1m215s\u001b[0m 1s/stepProcessing video: /content/drive/MyDrive/Dataset/Aggregate_Val/Normal/resized_Copy of Normal (88).mp4 Class name: Normal Label: 1\n",
            "    207/Unknown \u001b[1m216s\u001b[0m 1s/stepProcessing video: /content/drive/MyDrive/Dataset/Aggregate_Val/Normal/resized_Copy of Normal (87).mp4 Class name: Normal Label: 1\n",
            "    208/Unknown \u001b[1m217s\u001b[0m 1s/stepProcessing video: /content/drive/MyDrive/Dataset/Aggregate_Val/Normal/resized_Copy of Normal (82).mp4 Class name: Normal Label: 1\n",
            "    209/Unknown \u001b[1m218s\u001b[0m 1s/stepProcessing video: /content/drive/MyDrive/Dataset/Aggregate_Val/Normal/resized_Copy of Normal (89).mp4 Class name: Normal Label: 1\n",
            "    210/Unknown \u001b[1m219s\u001b[0m 1s/stepProcessing video: /content/drive/MyDrive/Dataset/Aggregate_Val/Normal/resized_Copy of Normal (83).mp4 Class name: Normal Label: 1\n",
            "    211/Unknown \u001b[1m220s\u001b[0m 1s/stepProcessing video: /content/drive/MyDrive/Dataset/Aggregate_Val/Normal/resized_Copy of Normal (80).mp4 Class name: Normal Label: 1\n",
            "    212/Unknown \u001b[1m221s\u001b[0m 1s/stepProcessing video: /content/drive/MyDrive/Dataset/Aggregate_Val/Normal/resized_Copy of Normal (81).mp4 Class name: Normal Label: 1\n",
            "    213/Unknown \u001b[1m221s\u001b[0m 1s/stepProcessing video: /content/drive/MyDrive/Dataset/Aggregate_Val/Normal/resized_Copy of Normal (90).mp4 Class name: Normal Label: 1\n",
            "    214/Unknown \u001b[1m222s\u001b[0m 1s/stepProcessing video: /content/drive/MyDrive/Dataset/Aggregate_Val/Normal/shorten_IMG_0169.mp4 Class name: Normal Label: 1\n",
            "    215/Unknown \u001b[1m223s\u001b[0m 1s/stepProcessing video: /content/drive/MyDrive/Dataset/Aggregate_Val/Normal/shorten_IMG_0155.mp4 Class name: Normal Label: 1\n",
            "    216/Unknown \u001b[1m225s\u001b[0m 1s/stepProcessing video: /content/drive/MyDrive/Dataset/Aggregate_Val/Normal/shorten_IMG_0153.mp4 Class name: Normal Label: 1\n",
            "    217/Unknown \u001b[1m227s\u001b[0m 1s/stepProcessing video: /content/drive/MyDrive/Dataset/Aggregate_Val/Normal/shorten_IMG_0177.mp4 Class name: Normal Label: 1\n",
            "    218/Unknown \u001b[1m229s\u001b[0m 1s/stepProcessing video: /content/drive/MyDrive/Dataset/Aggregate_Val/Normal/shorten_IMG_0182.mp4 Class name: Normal Label: 1\n",
            "    219/Unknown \u001b[1m230s\u001b[0m 1s/stepProcessing video: /content/drive/MyDrive/Dataset/Aggregate_Val/Normal/flipped_shorten_IMG_0169.mp4 Class name: Normal Label: 1\n",
            "    220/Unknown \u001b[1m232s\u001b[0m 1s/stepProcessing video: /content/drive/MyDrive/Dataset/Aggregate_Val/Normal/flipped_shorten_IMG_0155.mp4 Class name: Normal Label: 1\n",
            "    221/Unknown \u001b[1m234s\u001b[0m 1s/stepProcessing video: /content/drive/MyDrive/Dataset/Aggregate_Val/Normal/flipped_shorten_IMG_0153.mp4 Class name: Normal Label: 1\n",
            "    222/Unknown \u001b[1m236s\u001b[0m 1s/stepProcessing video: /content/drive/MyDrive/Dataset/Aggregate_Val/Normal/flipped_shorten_IMG_0177.mp4 Class name: Normal Label: 1\n",
            "    223/Unknown \u001b[1m238s\u001b[0m 1s/stepProcessing video: /content/drive/MyDrive/Dataset/Aggregate_Val/Normal/flipped_shorten_IMG_0182.mp4 Class name: Normal Label: 1\n",
            "    224/Unknown \u001b[1m240s\u001b[0m 1s/stepProcessing video: /content/drive/MyDrive/Dataset/Aggregate_Val/Normal/processed_shorten_IMG_0169.mp4 Class name: Normal Label: 1\n",
            "    225/Unknown \u001b[1m241s\u001b[0m 1s/stepProcessing video: /content/drive/MyDrive/Dataset/Aggregate_Val/Normal/processed_shorten_IMG_0155.mp4 Class name: Normal Label: 1\n",
            "    226/Unknown \u001b[1m243s\u001b[0m 1s/stepProcessing video: /content/drive/MyDrive/Dataset/Aggregate_Val/Normal/processed_shorten_IMG_0153.mp4 Class name: Normal Label: 1\n",
            "    227/Unknown \u001b[1m245s\u001b[0m 1s/stepProcessing video: /content/drive/MyDrive/Dataset/Aggregate_Val/Normal/processed_shorten_IMG_0177.mp4 Class name: Normal Label: 1\n",
            "    228/Unknown \u001b[1m247s\u001b[0m 1s/stepProcessing video: /content/drive/MyDrive/Dataset/Aggregate_Val/Normal/processed_shorten_IMG_0182.mp4 Class name: Normal Label: 1\n",
            "    229/Unknown \u001b[1m249s\u001b[0m 1s/stepProcessing video: /content/drive/MyDrive/Dataset/Aggregate_Val/Normal/processed_flipped_shorten_IMG_0169.mp4 Class name: Normal Label: 1\n",
            "    230/Unknown \u001b[1m250s\u001b[0m 1s/stepProcessing video: /content/drive/MyDrive/Dataset/Aggregate_Val/Normal/processed_flipped_shorten_IMG_0155.mp4 Class name: Normal Label: 1\n",
            "    231/Unknown \u001b[1m252s\u001b[0m 1s/stepProcessing video: /content/drive/MyDrive/Dataset/Aggregate_Val/Normal/processed_flipped_shorten_IMG_0153.mp4 Class name: Normal Label: 1\n",
            "    232/Unknown \u001b[1m254s\u001b[0m 1s/stepProcessing video: /content/drive/MyDrive/Dataset/Aggregate_Val/Normal/processed_flipped_shorten_IMG_0177.mp4 Class name: Normal Label: 1\n",
            "    233/Unknown \u001b[1m256s\u001b[0m 1s/stepProcessing video: /content/drive/MyDrive/Dataset/Aggregate_Val/Normal/processed_flipped_shorten_IMG_0182.mp4 Class name: Normal Label: 1\n",
            "    234/Unknown \u001b[1m258s\u001b[0m 1s/stepProcessing video: /content/drive/MyDrive/Dataset/Aggregate_Val/Normal/output_018.mp4 Class name: Normal Label: 1\n",
            "    235/Unknown \u001b[1m260s\u001b[0m 1s/stepProcessing video: /content/drive/MyDrive/Dataset/Aggregate_Val/Normal/output_016.mp4 Class name: Normal Label: 1\n",
            "    236/Unknown \u001b[1m261s\u001b[0m 1s/stepProcessing video: /content/drive/MyDrive/Dataset/Aggregate_Val/Normal/output_017.mp4 Class name: Normal Label: 1\n",
            "    237/Unknown \u001b[1m262s\u001b[0m 1s/stepProcessing video: /content/drive/MyDrive/Dataset/Aggregate_Val/Normal/output_015.mp4 Class name: Normal Label: 1\n",
            "    238/Unknown \u001b[1m263s\u001b[0m 1s/stepProcessing video: /content/drive/MyDrive/Dataset/Aggregate_Val/Normal/output_019.mp4 Class name: Normal Label: 1\n",
            "    239/Unknown \u001b[1m264s\u001b[0m 1s/stepProcessing video: /content/drive/MyDrive/Dataset/Aggregate_Val/Normal/output_020.mp4 Class name: Normal Label: 1\n",
            "    240/Unknown \u001b[1m265s\u001b[0m 1s/stepProcessing video: /content/drive/MyDrive/Dataset/Aggregate_Val/Normal/output3_200.mp4 Class name: Normal Label: 1\n",
            "    241/Unknown \u001b[1m266s\u001b[0m 1s/stepProcessing video: /content/drive/MyDrive/Dataset/Aggregate_Val/Normal/output3_204.mp4 Class name: Normal Label: 1\n",
            "    242/Unknown \u001b[1m267s\u001b[0m 1s/stepProcessing video: /content/drive/MyDrive/Dataset/Aggregate_Val/Normal/output3_203.mp4 Class name: Normal Label: 1\n",
            "    243/Unknown \u001b[1m268s\u001b[0m 1s/stepProcessing video: /content/drive/MyDrive/Dataset/Aggregate_Val/Normal/output3_201.mp4 Class name: Normal Label: 1\n",
            "    244/Unknown \u001b[1m269s\u001b[0m 1s/stepProcessing video: /content/drive/MyDrive/Dataset/Aggregate_Val/Normal/output3_202.mp4 Class name: Normal Label: 1\n",
            "    245/Unknown \u001b[1m270s\u001b[0m 1s/stepProcessing video: /content/drive/MyDrive/Dataset/Aggregate_Val/Normal/output3_205.mp4 Class name: Normal Label: 1\n",
            "    246/Unknown \u001b[1m271s\u001b[0m 1s/stepProcessing video: /content/drive/MyDrive/Dataset/Aggregate_Val/Normal/shorten_output_016.mp4 Class name: Normal Label: 1\n",
            "    247/Unknown \u001b[1m272s\u001b[0m 1s/stepProcessing video: /content/drive/MyDrive/Dataset/Aggregate_Val/Normal/shorten_output_015.mp4 Class name: Normal Label: 1\n",
            "    248/Unknown \u001b[1m273s\u001b[0m 1s/stepProcessing video: /content/drive/MyDrive/Dataset/Aggregate_Val/Normal/shorten_output_018.mp4 Class name: Normal Label: 1\n",
            "    249/Unknown \u001b[1m273s\u001b[0m 1s/stepProcessing video: /content/drive/MyDrive/Dataset/Aggregate_Val/Normal/shorten_output_020.mp4 Class name: Normal Label: 1\n",
            "    250/Unknown \u001b[1m274s\u001b[0m 1s/stepProcessing video: /content/drive/MyDrive/Dataset/Aggregate_Val/Normal/shorten_output_019.mp4 Class name: Normal Label: 1\n",
            "    251/Unknown \u001b[1m274s\u001b[0m 1s/stepProcessing video: /content/drive/MyDrive/Dataset/Aggregate_Val/Normal/shorten_output_017.mp4 Class name: Normal Label: 1\n",
            "    252/Unknown \u001b[1m275s\u001b[0m 1s/stepProcessing video: /content/drive/MyDrive/Dataset/Aggregate_Val/Normal/shorten_output3_201.mp4 Class name: Normal Label: 1\n",
            "    253/Unknown \u001b[1m275s\u001b[0m 1s/stepProcessing video: /content/drive/MyDrive/Dataset/Aggregate_Val/Normal/shorten_output3_202.mp4 Class name: Normal Label: 1\n",
            "    254/Unknown \u001b[1m276s\u001b[0m 1s/stepProcessing video: /content/drive/MyDrive/Dataset/Aggregate_Val/Normal/shorten_output3_203.mp4 Class name: Normal Label: 1\n",
            "    255/Unknown \u001b[1m276s\u001b[0m 1s/stepProcessing video: /content/drive/MyDrive/Dataset/Aggregate_Val/Normal/shorten_output3_205.mp4 Class name: Normal Label: 1\n",
            "    256/Unknown \u001b[1m277s\u001b[0m 1s/stepProcessing video: /content/drive/MyDrive/Dataset/Aggregate_Val/Normal/shorten_output3_204.mp4 Class name: Normal Label: 1\n",
            "    257/Unknown \u001b[1m277s\u001b[0m 1s/stepProcessing video: /content/drive/MyDrive/Dataset/Aggregate_Val/Normal/shorten_output3_200.mp4 Class name: Normal Label: 1\n",
            "    258/Unknown \u001b[1m278s\u001b[0m 1s/stepProcessing video: /content/drive/MyDrive/Dataset/Aggregate_Val/Normal/iseg_shorten_output_016.mp4 Class name: Normal Label: 1\n",
            "    259/Unknown \u001b[1m278s\u001b[0m 1s/stepProcessing video: /content/drive/MyDrive/Dataset/Aggregate_Val/Normal/iseg_shorten_output_015.mp4 Class name: Normal Label: 1\n",
            "    260/Unknown \u001b[1m279s\u001b[0m 1s/stepProcessing video: /content/drive/MyDrive/Dataset/Aggregate_Val/Normal/pose_shorten_output_016.mp4 Class name: Normal Label: 1\n",
            "    261/Unknown \u001b[1m279s\u001b[0m 1s/stepProcessing video: /content/drive/MyDrive/Dataset/Aggregate_Val/Normal/pose_shorten_output_015.mp4 Class name: Normal Label: 1\n",
            "    262/Unknown \u001b[1m280s\u001b[0m 1s/stepProcessing video: /content/drive/MyDrive/Dataset/Aggregate_Val/Normal/pose_shorten_output_018.mp4 Class name: Normal Label: 1\n",
            "    263/Unknown \u001b[1m281s\u001b[0m 1s/stepProcessing video: /content/drive/MyDrive/Dataset/Aggregate_Val/Normal/pose_shorten_output_020.mp4 Class name: Normal Label: 1\n",
            "    264/Unknown \u001b[1m281s\u001b[0m 1s/stepProcessing video: /content/drive/MyDrive/Dataset/Aggregate_Val/Normal/pose_shorten_output_019.mp4 Class name: Normal Label: 1\n",
            "    265/Unknown \u001b[1m282s\u001b[0m 1s/stepProcessing video: /content/drive/MyDrive/Dataset/Aggregate_Val/Normal/pose_shorten_output_017.mp4 Class name: Normal Label: 1\n",
            "    266/Unknown \u001b[1m283s\u001b[0m 1s/stepProcessing video: /content/drive/MyDrive/Dataset/Aggregate_Val/Normal/pose_shorten_output3_201.mp4 Class name: Normal Label: 1\n",
            "    267/Unknown \u001b[1m283s\u001b[0m 1s/stepProcessing video: /content/drive/MyDrive/Dataset/Aggregate_Val/Normal/pose_shorten_output3_202.mp4 Class name: Normal Label: 1\n",
            "    268/Unknown \u001b[1m284s\u001b[0m 1s/stepProcessing video: /content/drive/MyDrive/Dataset/Aggregate_Val/Normal/pose_shorten_output3_203.mp4 Class name: Normal Label: 1\n",
            "    269/Unknown \u001b[1m285s\u001b[0m 1s/stepProcessing video: /content/drive/MyDrive/Dataset/Aggregate_Val/Normal/pose_shorten_output3_205.mp4 Class name: Normal Label: 1\n",
            "    270/Unknown \u001b[1m285s\u001b[0m 1s/stepProcessing video: /content/drive/MyDrive/Dataset/Aggregate_Val/Normal/pose_shorten_output3_204.mp4 Class name: Normal Label: 1\n",
            "    271/Unknown \u001b[1m286s\u001b[0m 1s/stepProcessing video: /content/drive/MyDrive/Dataset/Aggregate_Val/Normal/pose_shorten_output3_200.mp4 Class name: Normal Label: 1\n",
            "    272/Unknown \u001b[1m287s\u001b[0m 1s/stepProcessing video: /content/drive/MyDrive/Dataset/Aggregate_Val/Bags/iseg_resized_Shoplifting (71).mp4 Class name: Bags Label: 0\n",
            "    273/Unknown \u001b[1m287s\u001b[0m 1s/stepProcessing video: /content/drive/MyDrive/Dataset/Aggregate_Val/Bags/iseg_resized_Shoplifting (76).mp4 Class name: Bags Label: 0\n",
            "    274/Unknown \u001b[1m288s\u001b[0m 1s/stepProcessing video: /content/drive/MyDrive/Dataset/Aggregate_Val/Bags/iseg_resized_Shoplifting (79).mp4 Class name: Bags Label: 0\n",
            "    275/Unknown \u001b[1m289s\u001b[0m 1s/stepProcessing video: /content/drive/MyDrive/Dataset/Aggregate_Val/Bags/iseg_resized_Shoplifting (81).mp4 Class name: Bags Label: 0\n",
            "    276/Unknown \u001b[1m290s\u001b[0m 1s/stepProcessing video: /content/drive/MyDrive/Dataset/Aggregate_Val/Bags/iseg_resized_Shoplifting (80).mp4 Class name: Bags Label: 0\n",
            "    277/Unknown \u001b[1m291s\u001b[0m 1s/stepProcessing video: /content/drive/MyDrive/Dataset/Aggregate_Val/Bags/iseg_resized_Shoplifting (82).mp4 Class name: Bags Label: 0\n",
            "    278/Unknown \u001b[1m292s\u001b[0m 1s/stepProcessing video: /content/drive/MyDrive/Dataset/Aggregate_Val/Bags/iseg_resized_Shoplifting (83).mp4 Class name: Bags Label: 0\n",
            "    279/Unknown \u001b[1m292s\u001b[0m 1s/stepProcessing video: /content/drive/MyDrive/Dataset/Aggregate_Val/Bags/iseg_resized_Shoplifting (85).mp4 Class name: Bags Label: 0\n",
            "    280/Unknown \u001b[1m293s\u001b[0m 1s/stepProcessing video: /content/drive/MyDrive/Dataset/Aggregate_Val/Bags/iseg_resized_Shoplifting (84).mp4 Class name: Bags Label: 0\n",
            "    281/Unknown \u001b[1m294s\u001b[0m 1s/stepProcessing video: /content/drive/MyDrive/Dataset/Aggregate_Val/Bags/iseg_resized_Shoplifting (86).mp4 Class name: Bags Label: 0\n",
            "    282/Unknown \u001b[1m295s\u001b[0m 1s/stepProcessing video: /content/drive/MyDrive/Dataset/Aggregate_Val/Bags/iseg_resized_Shoplifting (89).mp4 Class name: Bags Label: 0\n",
            "    283/Unknown \u001b[1m296s\u001b[0m 1s/stepProcessing video: /content/drive/MyDrive/Dataset/Aggregate_Val/Bags/iseg_resized_Shoplifting (88).mp4 Class name: Bags Label: 0\n",
            "    284/Unknown \u001b[1m297s\u001b[0m 1s/stepProcessing video: /content/drive/MyDrive/Dataset/Aggregate_Val/Bags/iseg_resized_Shoplifting (90).mp4 Class name: Bags Label: 0\n",
            "    285/Unknown \u001b[1m298s\u001b[0m 1s/stepProcessing video: /content/drive/MyDrive/Dataset/Aggregate_Val/Bags/resized_processed_Shoplifting (71).mp4 Class name: Bags Label: 0\n",
            "    286/Unknown \u001b[1m298s\u001b[0m 1s/stepProcessing video: /content/drive/MyDrive/Dataset/Aggregate_Val/Bags/resized_processed_Shoplifting (76).mp4 Class name: Bags Label: 0\n",
            "    287/Unknown \u001b[1m299s\u001b[0m 1s/stepProcessing video: /content/drive/MyDrive/Dataset/Aggregate_Val/Bags/resized_processed_Shoplifting (79).mp4 Class name: Bags Label: 0\n",
            "    288/Unknown \u001b[1m300s\u001b[0m 1s/stepProcessing video: /content/drive/MyDrive/Dataset/Aggregate_Val/Bags/resized_processed_Shoplifting (80).mp4 Class name: Bags Label: 0\n",
            "    289/Unknown \u001b[1m301s\u001b[0m 1s/stepProcessing video: /content/drive/MyDrive/Dataset/Aggregate_Val/Bags/resized_processed_Shoplifting (81).mp4 Class name: Bags Label: 0\n",
            "    290/Unknown \u001b[1m302s\u001b[0m 1s/stepProcessing video: /content/drive/MyDrive/Dataset/Aggregate_Val/Bags/resized_processed_Shoplifting (82).mp4 Class name: Bags Label: 0\n",
            "    291/Unknown \u001b[1m303s\u001b[0m 1s/stepProcessing video: /content/drive/MyDrive/Dataset/Aggregate_Val/Bags/resized_processed_Shoplifting (83).mp4 Class name: Bags Label: 0\n",
            "    292/Unknown \u001b[1m304s\u001b[0m 1s/stepProcessing video: /content/drive/MyDrive/Dataset/Aggregate_Val/Bags/resized_processed_Shoplifting (84).mp4 Class name: Bags Label: 0\n",
            "    293/Unknown \u001b[1m305s\u001b[0m 1s/stepProcessing video: /content/drive/MyDrive/Dataset/Aggregate_Val/Bags/resized_processed_Shoplifting (85).mp4 Class name: Bags Label: 0\n",
            "    294/Unknown \u001b[1m305s\u001b[0m 1s/stepProcessing video: /content/drive/MyDrive/Dataset/Aggregate_Val/Bags/resized_processed_Shoplifting (86).mp4 Class name: Bags Label: 0\n",
            "    295/Unknown \u001b[1m306s\u001b[0m 1s/stepProcessing video: /content/drive/MyDrive/Dataset/Aggregate_Val/Bags/resized_processed_Shoplifting (89).mp4 Class name: Bags Label: 0\n",
            "    296/Unknown \u001b[1m307s\u001b[0m 1s/stepProcessing video: /content/drive/MyDrive/Dataset/Aggregate_Val/Bags/resized_processed_Shoplifting (88).mp4 Class name: Bags Label: 0\n",
            "    297/Unknown \u001b[1m308s\u001b[0m 1s/stepProcessing video: /content/drive/MyDrive/Dataset/Aggregate_Val/Bags/resized_processed_Shoplifting (90).mp4 Class name: Bags Label: 0\n",
            "    298/Unknown \u001b[1m309s\u001b[0m 1s/stepProcessing video: /content/drive/MyDrive/Dataset/Aggregate_Val/Bags/resized_processed_Shoplifting (92).mp4 Class name: Bags Label: 0\n",
            "    299/Unknown \u001b[1m310s\u001b[0m 1s/stepProcessing video: /content/drive/MyDrive/Dataset/Aggregate_Val/Bags/resized_processed_Shoplifting (93).mp4 Class name: Bags Label: 0\n",
            "    300/Unknown \u001b[1m311s\u001b[0m 1s/stepProcessing video: /content/drive/MyDrive/Dataset/Aggregate_Val/Bags/resized_flipped_processed_Shoplifting (71).mp4 Class name: Bags Label: 0\n",
            "    301/Unknown \u001b[1m312s\u001b[0m 1s/stepProcessing video: /content/drive/MyDrive/Dataset/Aggregate_Val/Bags/resized_flipped_processed_Shoplifting (76).mp4 Class name: Bags Label: 0\n",
            "    302/Unknown \u001b[1m312s\u001b[0m 1s/stepProcessing video: /content/drive/MyDrive/Dataset/Aggregate_Val/Bags/resized_flipped_processed_Shoplifting (79).mp4 Class name: Bags Label: 0\n",
            "    303/Unknown \u001b[1m313s\u001b[0m 1s/stepProcessing video: /content/drive/MyDrive/Dataset/Aggregate_Val/Bags/resized_flipped_processed_Shoplifting (80).mp4 Class name: Bags Label: 0\n",
            "    304/Unknown \u001b[1m314s\u001b[0m 1s/stepProcessing video: /content/drive/MyDrive/Dataset/Aggregate_Val/Bags/resized_flipped_processed_Shoplifting (81).mp4 Class name: Bags Label: 0\n",
            "    305/Unknown \u001b[1m315s\u001b[0m 1s/stepProcessing video: /content/drive/MyDrive/Dataset/Aggregate_Val/Bags/resized_flipped_processed_Shoplifting (82).mp4 Class name: Bags Label: 0\n",
            "    306/Unknown \u001b[1m316s\u001b[0m 1s/stepProcessing video: /content/drive/MyDrive/Dataset/Aggregate_Val/Bags/resized_flipped_processed_Shoplifting (83).mp4 Class name: Bags Label: 0\n",
            "    307/Unknown \u001b[1m317s\u001b[0m 1s/stepProcessing video: /content/drive/MyDrive/Dataset/Aggregate_Val/Bags/resized_flipped_processed_Shoplifting (84).mp4 Class name: Bags Label: 0\n",
            "    308/Unknown \u001b[1m318s\u001b[0m 1s/stepProcessing video: /content/drive/MyDrive/Dataset/Aggregate_Val/Bags/resized_flipped_processed_Shoplifting (85).mp4 Class name: Bags Label: 0\n",
            "    309/Unknown \u001b[1m319s\u001b[0m 1s/stepProcessing video: /content/drive/MyDrive/Dataset/Aggregate_Val/Bags/resized_flipped_processed_Shoplifting (86).mp4 Class name: Bags Label: 0\n",
            "    310/Unknown \u001b[1m319s\u001b[0m 1s/stepProcessing video: /content/drive/MyDrive/Dataset/Aggregate_Val/Bags/resized_flipped_processed_Shoplifting (89).mp4 Class name: Bags Label: 0\n",
            "    311/Unknown \u001b[1m320s\u001b[0m 1s/stepProcessing video: /content/drive/MyDrive/Dataset/Aggregate_Val/Bags/resized_flipped_processed_Shoplifting (88).mp4 Class name: Bags Label: 0\n",
            "    312/Unknown \u001b[1m321s\u001b[0m 1s/stepProcessing video: /content/drive/MyDrive/Dataset/Aggregate_Val/Bags/resized_flipped_processed_Shoplifting (90).mp4 Class name: Bags Label: 0\n",
            "    313/Unknown \u001b[1m322s\u001b[0m 1s/stepProcessing video: /content/drive/MyDrive/Dataset/Aggregate_Val/Bags/resized_flipped_processed_Shoplifting (92).mp4 Class name: Bags Label: 0\n",
            "    314/Unknown \u001b[1m323s\u001b[0m 1s/stepProcessing video: /content/drive/MyDrive/Dataset/Aggregate_Val/Bags/resized_flipped_processed_Shoplifting (93).mp4 Class name: Bags Label: 0\n",
            "    315/Unknown \u001b[1m324s\u001b[0m 1s/stepProcessing video: /content/drive/MyDrive/Dataset/Aggregate_Val/Bags/resized_pose_Shoplifting (71).mp4 Class name: Bags Label: 0\n",
            "    316/Unknown \u001b[1m325s\u001b[0m 1s/stepProcessing video: /content/drive/MyDrive/Dataset/Aggregate_Val/Bags/resized_pose_Shoplifting (76).mp4 Class name: Bags Label: 0\n",
            "    317/Unknown \u001b[1m325s\u001b[0m 1s/stepProcessing video: /content/drive/MyDrive/Dataset/Aggregate_Val/Bags/resized_pose_Shoplifting (79).mp4 Class name: Bags Label: 0\n",
            "    318/Unknown \u001b[1m326s\u001b[0m 1s/stepProcessing video: /content/drive/MyDrive/Dataset/Aggregate_Val/Bags/resized_pose_Shoplifting (80).mp4 Class name: Bags Label: 0\n",
            "    319/Unknown \u001b[1m327s\u001b[0m 1s/stepProcessing video: /content/drive/MyDrive/Dataset/Aggregate_Val/Bags/resized_pose_Shoplifting (81).mp4 Class name: Bags Label: 0\n",
            "    320/Unknown \u001b[1m328s\u001b[0m 1s/stepProcessing video: /content/drive/MyDrive/Dataset/Aggregate_Val/Bags/resized_pose_Shoplifting (82).mp4 Class name: Bags Label: 0\n",
            "    321/Unknown \u001b[1m329s\u001b[0m 1s/stepProcessing video: /content/drive/MyDrive/Dataset/Aggregate_Val/Bags/resized_pose_Shoplifting (83).mp4 Class name: Bags Label: 0\n",
            "    322/Unknown \u001b[1m330s\u001b[0m 1s/stepProcessing video: /content/drive/MyDrive/Dataset/Aggregate_Val/Bags/resized_pose_Shoplifting (84).mp4 Class name: Bags Label: 0\n",
            "    323/Unknown \u001b[1m331s\u001b[0m 1s/stepProcessing video: /content/drive/MyDrive/Dataset/Aggregate_Val/Bags/resized_pose_Shoplifting (85).mp4 Class name: Bags Label: 0\n",
            "    324/Unknown \u001b[1m331s\u001b[0m 1s/stepProcessing video: /content/drive/MyDrive/Dataset/Aggregate_Val/Bags/resized_pose_Shoplifting (86).mp4 Class name: Bags Label: 0\n",
            "    325/Unknown \u001b[1m332s\u001b[0m 1s/stepProcessing video: /content/drive/MyDrive/Dataset/Aggregate_Val/Bags/resized_pose_Shoplifting (88).mp4 Class name: Bags Label: 0\n",
            "    326/Unknown \u001b[1m333s\u001b[0m 1s/stepProcessing video: /content/drive/MyDrive/Dataset/Aggregate_Val/Bags/resized_pose_Shoplifting (89).mp4 Class name: Bags Label: 0\n",
            "    327/Unknown \u001b[1m334s\u001b[0m 1s/stepProcessing video: /content/drive/MyDrive/Dataset/Aggregate_Val/Bags/resized_pose_Shoplifting (90).mp4 Class name: Bags Label: 0\n",
            "    328/Unknown \u001b[1m335s\u001b[0m 1s/stepProcessing video: /content/drive/MyDrive/Dataset/Aggregate_Val/Bags/resized_pose_Shoplifting (92).mp4 Class name: Bags Label: 0\n",
            "    329/Unknown \u001b[1m336s\u001b[0m 1s/stepProcessing video: /content/drive/MyDrive/Dataset/Aggregate_Val/Bags/resized_pose_Shoplifting (93).mp4 Class name: Bags Label: 0\n",
            "    330/Unknown \u001b[1m337s\u001b[0m 1s/stepProcessing video: /content/drive/MyDrive/Dataset/Aggregate_Val/Bags/resized_flipped_pose_Shoplifting (71).mp4 Class name: Bags Label: 0\n",
            "    331/Unknown \u001b[1m337s\u001b[0m 1s/stepProcessing video: /content/drive/MyDrive/Dataset/Aggregate_Val/Bags/resized_flipped_pose_Shoplifting (76).mp4 Class name: Bags Label: 0\n",
            "    332/Unknown \u001b[1m338s\u001b[0m 1s/stepProcessing video: /content/drive/MyDrive/Dataset/Aggregate_Val/Bags/resized_flipped_pose_Shoplifting (79).mp4 Class name: Bags Label: 0\n",
            "    333/Unknown \u001b[1m339s\u001b[0m 1s/stepProcessing video: /content/drive/MyDrive/Dataset/Aggregate_Val/Bags/resized_flipped_pose_Shoplifting (80).mp4 Class name: Bags Label: 0\n",
            "    334/Unknown \u001b[1m340s\u001b[0m 1s/stepProcessing video: /content/drive/MyDrive/Dataset/Aggregate_Val/Bags/resized_flipped_pose_Shoplifting (81).mp4 Class name: Bags Label: 0\n",
            "    335/Unknown \u001b[1m341s\u001b[0m 1s/stepProcessing video: /content/drive/MyDrive/Dataset/Aggregate_Val/Bags/resized_flipped_pose_Shoplifting (82).mp4 Class name: Bags Label: 0\n",
            "    336/Unknown \u001b[1m342s\u001b[0m 1s/stepProcessing video: /content/drive/MyDrive/Dataset/Aggregate_Val/Bags/resized_flipped_pose_Shoplifting (83).mp4 Class name: Bags Label: 0\n",
            "    337/Unknown \u001b[1m343s\u001b[0m 1s/stepProcessing video: /content/drive/MyDrive/Dataset/Aggregate_Val/Bags/resized_flipped_pose_Shoplifting (84).mp4 Class name: Bags Label: 0\n",
            "    338/Unknown \u001b[1m344s\u001b[0m 1s/stepProcessing video: /content/drive/MyDrive/Dataset/Aggregate_Val/Bags/resized_flipped_pose_Shoplifting (85).mp4 Class name: Bags Label: 0\n",
            "    339/Unknown \u001b[1m344s\u001b[0m 1s/stepProcessing video: /content/drive/MyDrive/Dataset/Aggregate_Val/Bags/resized_flipped_pose_Shoplifting (86).mp4 Class name: Bags Label: 0\n",
            "    340/Unknown \u001b[1m345s\u001b[0m 1s/stepProcessing video: /content/drive/MyDrive/Dataset/Aggregate_Val/Bags/resized_flipped_pose_Shoplifting (88).mp4 Class name: Bags Label: 0\n",
            "    341/Unknown \u001b[1m346s\u001b[0m 1s/stepProcessing video: /content/drive/MyDrive/Dataset/Aggregate_Val/Bags/resized_flipped_pose_Shoplifting (89).mp4 Class name: Bags Label: 0\n",
            "    342/Unknown \u001b[1m347s\u001b[0m 1s/stepProcessing video: /content/drive/MyDrive/Dataset/Aggregate_Val/Bags/resized_flipped_pose_Shoplifting (90).mp4 Class name: Bags Label: 0\n",
            "    343/Unknown \u001b[1m348s\u001b[0m 1s/stepProcessing video: /content/drive/MyDrive/Dataset/Aggregate_Val/Bags/resized_flipped_pose_Shoplifting (92).mp4 Class name: Bags Label: 0\n",
            "    344/Unknown \u001b[1m349s\u001b[0m 1s/stepProcessing video: /content/drive/MyDrive/Dataset/Aggregate_Val/Bags/resized_flipped_pose_Shoplifting (93).mp4 Class name: Bags Label: 0\n",
            "    345/Unknown \u001b[1m350s\u001b[0m 1s/stepProcessing video: /content/drive/MyDrive/Dataset/Aggregate_Val/Bags/resized_Copy of Shoplifting (86).mp4 Class name: Bags Label: 0\n",
            "    346/Unknown \u001b[1m351s\u001b[0m 1s/stepProcessing video: /content/drive/MyDrive/Dataset/Aggregate_Val/Bags/resized_Copy of Shoplifting (89).mp4 Class name: Bags Label: 0\n",
            "    347/Unknown \u001b[1m352s\u001b[0m 1s/stepProcessing video: /content/drive/MyDrive/Dataset/Aggregate_Val/Bags/resized_Copy of Shoplifting (85).mp4 Class name: Bags Label: 0\n",
            "    348/Unknown \u001b[1m352s\u001b[0m 1s/stepProcessing video: /content/drive/MyDrive/Dataset/Aggregate_Val/Bags/resized_Copy of Shoplifting (93).mp4 Class name: Bags Label: 0\n",
            "    349/Unknown \u001b[1m353s\u001b[0m 1s/stepProcessing video: /content/drive/MyDrive/Dataset/Aggregate_Val/Bags/resized_Copy of Shoplifting (90).mp4 Class name: Bags Label: 0\n",
            "    350/Unknown \u001b[1m354s\u001b[0m 1s/stepProcessing video: /content/drive/MyDrive/Dataset/Aggregate_Val/Bags/resized_Copy of Shoplifting (92).mp4 Class name: Bags Label: 0\n",
            "    351/Unknown \u001b[1m355s\u001b[0m 1s/stepProcessing video: /content/drive/MyDrive/Dataset/Aggregate_Val/Bags/resized_Copy of Shoplifting (83).mp4 Class name: Bags Label: 0\n",
            "    352/Unknown \u001b[1m356s\u001b[0m 1s/stepProcessing video: /content/drive/MyDrive/Dataset/Aggregate_Val/Bags/resized_Copy of Shoplifting (88).mp4 Class name: Bags Label: 0\n",
            "    353/Unknown \u001b[1m357s\u001b[0m 1s/stepProcessing video: /content/drive/MyDrive/Dataset/Aggregate_Val/Bags/resized_Copy of Shoplifting (84).mp4 Class name: Bags Label: 0\n",
            "    354/Unknown \u001b[1m358s\u001b[0m 1000ms/stepProcessing video: /content/drive/MyDrive/Dataset/Aggregate_Val/Bags/resized_Copy of Shoplifting (82).mp4 Class name: Bags Label: 0\n",
            "    355/Unknown \u001b[1m359s\u001b[0m 1000ms/stepProcessing video: /content/drive/MyDrive/Dataset/Aggregate_Val/Bags/resized_Copy of Shoplifting (80).mp4 Class name: Bags Label: 0\n",
            "    356/Unknown \u001b[1m359s\u001b[0m 999ms/step Processing video: /content/drive/MyDrive/Dataset/Aggregate_Val/Bags/resized_Copy of Shoplifting (81).mp4 Class name: Bags Label: 0\n",
            "    357/Unknown \u001b[1m360s\u001b[0m 999ms/stepProcessing video: /content/drive/MyDrive/Dataset/Aggregate_Val/Bags/resized_Copy of Shoplifting (79).mp4 Class name: Bags Label: 0\n",
            "    358/Unknown \u001b[1m361s\u001b[0m 998ms/stepProcessing video: /content/drive/MyDrive/Dataset/Aggregate_Val/Bags/resized_Copy of Shoplifting (76).mp4 Class name: Bags Label: 0\n",
            "    359/Unknown \u001b[1m362s\u001b[0m 998ms/stepProcessing video: /content/drive/MyDrive/Dataset/Aggregate_Val/Bags/resized_Copy of Shoplifting (71).mp4 Class name: Bags Label: 0\n",
            "    360/Unknown \u001b[1m363s\u001b[0m 998ms/stepProcessing video: /content/drive/MyDrive/Dataset/Aggregate_Val/Bags/shorten_Shoplifting (45x).mp4 Class name: Bags Label: 0\n",
            "    361/Unknown \u001b[1m364s\u001b[0m 997ms/stepProcessing video: /content/drive/MyDrive/Dataset/Aggregate_Val/Bags/shorten_processed_Shoplifting (45x).mp4 Class name: Bags Label: 0\n",
            "    362/Unknown \u001b[1m365s\u001b[0m 997ms/stepProcessing video: /content/drive/MyDrive/Dataset/Aggregate_Val/Bags/shorten_flipped_Shoplifting (45x).mp4 Class name: Bags Label: 0\n",
            "    363/Unknown \u001b[1m366s\u001b[0m 997ms/stepProcessing video: /content/drive/MyDrive/Dataset/Aggregate_Val/Bags/shorten_flipped_processed_Shoplifting (45x).mp4 Class name: Bags Label: 0\n",
            "\u001b[1m365/365\u001b[0m \u001b[32m━━━━━━━━━━━━━━━━━━━━\u001b[0m\u001b[37m\u001b[0m \u001b[1m367s\u001b[0m 997ms/step\n"
          ]
        }
      ],
      "source": [
        "y_pred = model.predict(copy_val_ds)"
      ]
    },
    {
      "cell_type": "code",
      "execution_count": null,
      "id": "I8GPkQsMcipp",
      "metadata": {
        "id": "I8GPkQsMcipp"
      },
      "outputs": [],
      "source": [
        "test_preds_binary = (y_pred > 0.5).astype(int)"
      ]
    },
    {
      "cell_type": "code",
      "execution_count": null,
      "id": "F4FnedK24mGY",
      "metadata": {
        "colab": {
          "base_uri": "https://localhost:8080/",
          "height": 304
        },
        "id": "F4FnedK24mGY",
        "outputId": "2b53eeb5-2036-4708-8523-eb40d27a7bda"
      },
      "outputs": [
        {
          "ename": "ValueError",
          "evalue": "Classification metrics can't handle a mix of multiclass and multilabel-indicator targets",
          "output_type": "error",
          "traceback": [
            "\u001b[0;31m---------------------------------------------------------------------------\u001b[0m",
            "\u001b[0;31mValueError\u001b[0m                                Traceback (most recent call last)",
            "\u001b[0;32m<ipython-input-51-8b07c347d066>\u001b[0m in \u001b[0;36m<cell line: 1>\u001b[0;34m()\u001b[0m\n\u001b[0;32m----> 1\u001b[0;31m \u001b[0mconf_matrix\u001b[0m \u001b[0;34m=\u001b[0m \u001b[0mconfusion_matrix\u001b[0m\u001b[0;34m(\u001b[0m\u001b[0my_true\u001b[0m\u001b[0;34m,\u001b[0m \u001b[0mtest_preds_binary\u001b[0m\u001b[0;34m)\u001b[0m\u001b[0;34m\u001b[0m\u001b[0;34m\u001b[0m\u001b[0m\n\u001b[0m\u001b[1;32m      2\u001b[0m \u001b[0mprint\u001b[0m\u001b[0;34m(\u001b[0m\u001b[0mconf_matrix\u001b[0m\u001b[0;34m)\u001b[0m\u001b[0;34m\u001b[0m\u001b[0;34m\u001b[0m\u001b[0m\n",
            "\u001b[0;32m/usr/local/lib/python3.10/dist-packages/sklearn/metrics/_classification.py\u001b[0m in \u001b[0;36mconfusion_matrix\u001b[0;34m(y_true, y_pred, labels, sample_weight, normalize)\u001b[0m\n\u001b[1;32m    315\u001b[0m     \u001b[0;34m(\u001b[0m\u001b[0;36m0\u001b[0m\u001b[0;34m,\u001b[0m \u001b[0;36m2\u001b[0m\u001b[0;34m,\u001b[0m \u001b[0;36m1\u001b[0m\u001b[0;34m,\u001b[0m \u001b[0;36m1\u001b[0m\u001b[0;34m)\u001b[0m\u001b[0;34m\u001b[0m\u001b[0;34m\u001b[0m\u001b[0m\n\u001b[1;32m    316\u001b[0m     \"\"\"\n\u001b[0;32m--> 317\u001b[0;31m     \u001b[0my_type\u001b[0m\u001b[0;34m,\u001b[0m \u001b[0my_true\u001b[0m\u001b[0;34m,\u001b[0m \u001b[0my_pred\u001b[0m \u001b[0;34m=\u001b[0m \u001b[0m_check_targets\u001b[0m\u001b[0;34m(\u001b[0m\u001b[0my_true\u001b[0m\u001b[0;34m,\u001b[0m \u001b[0my_pred\u001b[0m\u001b[0;34m)\u001b[0m\u001b[0;34m\u001b[0m\u001b[0;34m\u001b[0m\u001b[0m\n\u001b[0m\u001b[1;32m    318\u001b[0m     \u001b[0;32mif\u001b[0m \u001b[0my_type\u001b[0m \u001b[0;32mnot\u001b[0m \u001b[0;32min\u001b[0m \u001b[0;34m(\u001b[0m\u001b[0;34m\"binary\"\u001b[0m\u001b[0;34m,\u001b[0m \u001b[0;34m\"multiclass\"\u001b[0m\u001b[0;34m)\u001b[0m\u001b[0;34m:\u001b[0m\u001b[0;34m\u001b[0m\u001b[0;34m\u001b[0m\u001b[0m\n\u001b[1;32m    319\u001b[0m         \u001b[0;32mraise\u001b[0m \u001b[0mValueError\u001b[0m\u001b[0;34m(\u001b[0m\u001b[0;34m\"%s is not supported\"\u001b[0m \u001b[0;34m%\u001b[0m \u001b[0my_type\u001b[0m\u001b[0;34m)\u001b[0m\u001b[0;34m\u001b[0m\u001b[0;34m\u001b[0m\u001b[0m\n",
            "\u001b[0;32m/usr/local/lib/python3.10/dist-packages/sklearn/metrics/_classification.py\u001b[0m in \u001b[0;36m_check_targets\u001b[0;34m(y_true, y_pred)\u001b[0m\n\u001b[1;32m     93\u001b[0m \u001b[0;34m\u001b[0m\u001b[0m\n\u001b[1;32m     94\u001b[0m     \u001b[0;32mif\u001b[0m \u001b[0mlen\u001b[0m\u001b[0;34m(\u001b[0m\u001b[0my_type\u001b[0m\u001b[0;34m)\u001b[0m \u001b[0;34m>\u001b[0m \u001b[0;36m1\u001b[0m\u001b[0;34m:\u001b[0m\u001b[0;34m\u001b[0m\u001b[0;34m\u001b[0m\u001b[0m\n\u001b[0;32m---> 95\u001b[0;31m         raise ValueError(\n\u001b[0m\u001b[1;32m     96\u001b[0m             \"Classification metrics can't handle a mix of {0} and {1} targets\".format(\n\u001b[1;32m     97\u001b[0m                 \u001b[0mtype_true\u001b[0m\u001b[0;34m,\u001b[0m \u001b[0mtype_pred\u001b[0m\u001b[0;34m\u001b[0m\u001b[0;34m\u001b[0m\u001b[0m\n",
            "\u001b[0;31mValueError\u001b[0m: Classification metrics can't handle a mix of multiclass and multilabel-indicator targets"
          ]
        }
      ],
      "source": [
        "conf_matrix = confusion_matrix(y_true, test_preds_binary)\n",
        "print(conf_matrix)"
      ]
    },
    {
      "cell_type": "code",
      "execution_count": null,
      "id": "8u7wqr0rKmyi",
      "metadata": {
        "id": "8u7wqr0rKmyi"
      },
      "outputs": [],
      "source": [
        "accuracy = accuracy_score(y_true, test_preds_binary)\n",
        "precision = precision_score(y_true, test_preds_binary)\n",
        "recall = recall_score(y_true, test_preds_binary)\n",
        "f1 = f1_score(y_true, test_preds_binary)\n",
        "roc_auc = roc_auc_score(y_true, y_pred)\n",
        "\n",
        "print(f'Accuracy: {accuracy}')\n",
        "print(f'Precision: {precision}')\n",
        "print(f'Recall: {recall}')\n",
        "print(f'F1 Score: {f1}')\n",
        "print(f'ROC-AUC: {roc_auc}')"
      ]
    },
    {
      "cell_type": "code",
      "execution_count": null,
      "id": "g6JGpAD_98Ab",
      "metadata": {
        "id": "g6JGpAD_98Ab"
      },
      "outputs": [],
      "source": [
        "# PR Curve\n",
        "from sklearn.metrics import precision_recall_curve\n",
        "from sklearn.metrics import PrecisionRecallDisplay\n",
        "\n",
        "precision, recall, thresholds = precision_recall_curve(y_true, test_preds_binary)\n",
        "\n",
        "disp = PrecisionRecallDisplay(precision=precision, recall=recall)\n",
        "disp.plot()\n",
        "plt.show()\n",
        "\n",
        "\"\"\"plt.figure(figsize=(8, 6))\n",
        "plt.plot(recall, precision, marker='.', label='Precision-Recall curve')\n",
        "plt.xlabel('Recall')\n",
        "plt.ylabel('Precision')\n",
        "plt.title('Precision-Recall Curve')\n",
        "plt.grid(True)\n",
        "plt.legend()\n",
        "plt.show()\"\"\""
      ]
    },
    {
      "cell_type": "code",
      "execution_count": null,
      "id": "rHu-iPL0WhNO",
      "metadata": {
        "id": "rHu-iPL0WhNO"
      },
      "outputs": [],
      "source": [
        "from sklearn.metrics import roc_curve, roc_auc_score\n",
        "import matplotlib.pyplot as plt\n",
        "%matplotlib inline\n",
        "\n",
        "# Calculate TPR, FPR, and threshold values\n",
        "fpr, tpr, thresholds = roc_curve(y_true, y_pred)\n",
        "\n",
        "# Calculate the AUC\n",
        "auc = roc_auc_score(y_true, y_pred)\n",
        "print(f\"AUC: {auc}\")\n",
        "\n",
        "# Plot the ROC curve\n",
        "plt.figure(figsize=(8, 6))\n",
        "plt.plot(fpr, tpr, color='blue', label=f'ROC curve (AUC = {auc:.2f})')\n",
        "plt.plot([0, 1], [0, 1], color='darkorange', linestyle='--') # Diagonal line\n",
        "plt.xlim([0.0, 1.0])\n",
        "plt.ylim([0.0, 1.05])\n",
        "plt.xlabel('False Positive Rate')\n",
        "plt.ylabel('True Positive Rate')\n",
        "plt.title('Receiver Operating Characteristic (ROC) Curve')\n",
        "plt.legend(loc=\"lower right\")\n",
        "plt.show()"
      ]
    },
    {
      "cell_type": "code",
      "execution_count": null,
      "id": "UJ_xPUx0r5ID",
      "metadata": {
        "id": "UJ_xPUx0r5ID"
      },
      "outputs": [],
      "source": [
        "model.save('/content/drive/MyDrive/Dataset/modelv9.keras')"
      ]
    },
    {
      "cell_type": "markdown",
      "id": "Ugn3NPKs2qnc",
      "metadata": {
        "id": "Ugn3NPKs2qnc"
      },
      "source": [
        "# Test Set"
      ]
    },
    {
      "cell_type": "code",
      "execution_count": null,
      "id": "mms8mL0SfsUd",
      "metadata": {
        "id": "mms8mL0SfsUd"
      },
      "outputs": [],
      "source": [
        "test_ds = test_ds.batch(1)"
      ]
    },
    {
      "cell_type": "code",
      "execution_count": null,
      "id": "NY-3wkXkfsUd",
      "metadata": {
        "id": "NY-3wkXkfsUd"
      },
      "outputs": [],
      "source": [
        "y_true = np.concatenate([np.array([y]) for x, y in test_ds], axis=0)"
      ]
    },
    {
      "cell_type": "code",
      "execution_count": null,
      "id": "ZxndV3CnfsUd",
      "metadata": {
        "id": "ZxndV3CnfsUd"
      },
      "outputs": [],
      "source": [
        "y_pred = model.predict(test_ds)"
      ]
    },
    {
      "cell_type": "code",
      "execution_count": null,
      "id": "gUHW3UXXfsUd",
      "metadata": {
        "id": "gUHW3UXXfsUd"
      },
      "outputs": [],
      "source": [
        "test_preds_binary = (y_pred > 0.5).astype(int)"
      ]
    },
    {
      "cell_type": "code",
      "execution_count": null,
      "id": "Wg3raQGDfsUd",
      "metadata": {
        "colab": {
          "base_uri": "https://localhost:8080/"
        },
        "id": "Wg3raQGDfsUd",
        "outputId": "83664565-c3e9-4847-cbaf-c5f169ce1515"
      },
      "outputs": [
        {
          "name": "stdout",
          "output_type": "stream",
          "text": [
            "[[21  0]\n",
            " [ 5 37]]\n"
          ]
        }
      ],
      "source": [
        "conf_matrix = confusion_matrix(y_true, test_preds_binary)\n",
        "print(conf_matrix)"
      ]
    },
    {
      "cell_type": "code",
      "execution_count": null,
      "id": "lUJAFfWofsUd",
      "metadata": {
        "colab": {
          "base_uri": "https://localhost:8080/"
        },
        "id": "lUJAFfWofsUd",
        "outputId": "1e9f6e17-6d18-48cf-9dd4-ef40c4def283"
      },
      "outputs": [
        {
          "name": "stdout",
          "output_type": "stream",
          "text": [
            "Accuracy: 0.9206349206349206\n",
            "Precision: 1.0\n",
            "Recall: 0.8809523809523809\n",
            "F1 Score: 0.9367088607594937\n",
            "ROC-AUC: 0.9863945578231292\n"
          ]
        }
      ],
      "source": [
        "accuracy = accuracy_score(y_true, test_preds_binary)\n",
        "precision = precision_score(y_true, test_preds_binary)\n",
        "recall = recall_score(y_true, test_preds_binary)\n",
        "f1 = f1_score(y_true, test_preds_binary)\n",
        "roc_auc = roc_auc_score(y_true, y_pred)\n",
        "\n",
        "print(f'Accuracy: {accuracy}')\n",
        "print(f'Precision: {precision}')\n",
        "print(f'Recall: {recall}')\n",
        "print(f'F1 Score: {f1}')\n",
        "print(f'ROC-AUC: {roc_auc}')"
      ]
    },
    {
      "cell_type": "markdown",
      "id": "41kSWPgs2gcC",
      "metadata": {
        "id": "41kSWPgs2gcC"
      },
      "source": [
        "**save the model**"
      ]
    },
    {
      "cell_type": "markdown",
      "id": "-gP2phcaO2Bc",
      "metadata": {
        "id": "-gP2phcaO2Bc"
      },
      "source": [
        "**Double Check the Evaluation Metrics**"
      ]
    },
    {
      "cell_type": "code",
      "execution_count": null,
      "id": "YSq_tH5XBUCr",
      "metadata": {
        "id": "YSq_tH5XBUCr"
      },
      "outputs": [],
      "source": [
        "def get_actual_predicted_labels(dataset):\n",
        "  \"\"\"\n",
        "    Create a list of actual ground truth values and the predictions from the model.\n",
        "\n",
        "    Args:\n",
        "      dataset: An iterable data structure, such as a TensorFlow Dataset, with features and labels.\n",
        "\n",
        "    Return:\n",
        "      Ground truth and predicted values for a particular dataset.\n",
        "  \"\"\"\n",
        "  actual = [labels for data, labels in dataset.unbatch()]\n",
        "  predicted = model.predict(dataset)\n",
        "\n",
        "  actual = tf.stack(actual, axis=0)\n",
        "  predicted = tf.concat(predicted, axis=0)\n",
        "  predicted = predicted > 0.5\n",
        "  predicted = tf.cast(predicted, tf.int32)\n",
        "\n",
        "  return actual, predicted"
      ]
    },
    {
      "cell_type": "code",
      "execution_count": null,
      "id": "ZFEv97fwK4Ux",
      "metadata": {
        "colab": {
          "base_uri": "https://localhost:8080/"
        },
        "id": "ZFEv97fwK4Ux",
        "outputId": "1788734c-d648-4f8d-9fff-774a33149772"
      },
      "outputs": [
        {
          "name": "stdout",
          "output_type": "stream",
          "text": [
            "\u001b[1m218/218\u001b[0m \u001b[32m━━━━━━━━━━━━━━━━━━━━\u001b[0m\u001b[37m\u001b[0m \u001b[1m652s\u001b[0m 3s/step\n"
          ]
        },
        {
          "name": "stderr",
          "output_type": "stream",
          "text": [
            "/usr/lib/python3.10/contextlib.py:153: UserWarning: Your input ran out of data; interrupting training. Make sure that your dataset or generator can generate at least `steps_per_epoch * epochs` batches. You may need to use the `.repeat()` function when building your dataset.\n",
            "  self.gen.throw(typ, value, traceback)\n"
          ]
        }
      ],
      "source": [
        "actual, predicted = get_actual_predicted_labels(copy_val_ds)"
      ]
    },
    {
      "cell_type": "code",
      "execution_count": null,
      "id": "_BIbqOo6JVyq",
      "metadata": {
        "id": "_BIbqOo6JVyq"
      },
      "outputs": [],
      "source": []
    },
    {
      "cell_type": "code",
      "execution_count": null,
      "id": "2qBsAkO0Mnaw",
      "metadata": {
        "colab": {
          "base_uri": "https://localhost:8080/"
        },
        "id": "2qBsAkO0Mnaw",
        "outputId": "e3134c5a-a546-4d19-f0d0-a1cd3bc8b8d4"
      },
      "outputs": [
        {
          "name": "stdout",
          "output_type": "stream",
          "text": [
            "[[103   2]\n",
            " [102  11]]\n"
          ]
        }
      ],
      "source": [
        "conf_matrix = confusion_matrix(actual, predicted)\n",
        "print(conf_matrix)"
      ]
    },
    {
      "cell_type": "code",
      "execution_count": null,
      "id": "NHyVIDaOM6GK",
      "metadata": {
        "colab": {
          "base_uri": "https://localhost:8080/"
        },
        "id": "NHyVIDaOM6GK",
        "outputId": "8f6738ee-69e9-4537-ddba-217bb2d7b518"
      },
      "outputs": [
        {
          "data": {
            "text/plain": [
              "0.5229357798165137"
            ]
          },
          "execution_count": 67,
          "metadata": {},
          "output_type": "execute_result"
        }
      ],
      "source": [
        "accuracy1 = accuracy_score(actual, predicted)\n",
        "accuracy1"
      ]
    },
    {
      "cell_type": "markdown",
      "id": "DcwBgLllCkT_",
      "metadata": {
        "id": "DcwBgLllCkT_"
      },
      "source": [
        "# Inference"
      ]
    },
    {
      "cell_type": "code",
      "execution_count": null,
      "id": "bTtX7EtKCm0E",
      "metadata": {
        "id": "bTtX7EtKCm0E"
      },
      "outputs": [],
      "source": [
        "model = tf.keras.models.load_model(\"/content/drive/MyDrive/Dataset/modelv2.keras\")"
      ]
    },
    {
      "cell_type": "code",
      "execution_count": null,
      "id": "Lb4LG2klDO63",
      "metadata": {
        "id": "Lb4LG2klDO63"
      },
      "outputs": [],
      "source": [
        "# Predict on unseen data\n",
        "def prepare_video_by_skipping_frames(input_video_path, output_frames=140, resolution=(160, 160)):\n",
        "    # Capture video\n",
        "    cap = cv2.VideoCapture(input_video_path)\n",
        "    total_frames = int(cap.get(cv2.CAP_PROP_FRAME_COUNT))\n",
        "    skip_factor = max(1, total_frames // output_frames)\n",
        "\n",
        "    frames = []\n",
        "    frame_count = 0\n",
        "\n",
        "    while True:\n",
        "        ret, frame = cap.read()\n",
        "        if not ret:\n",
        "            break\n",
        "        # Skip frames\n",
        "        #if frame_count % skip_factor == 0:\n",
        "        #    if len(frames) < output_frames:\n",
        "        #        # Resize frame\n",
        "        #        resized_frame = cv2.resize(frame, resolution)\n",
        "        #        frames.append(resized_frame)\n",
        "        frames.append(frame)\n",
        "        frame_count += 1\n",
        "\n",
        "    return np.array(frames)\n",
        "\n",
        "# Example usage\n",
        "video_clip = prepare_video_by_skipping_frames(\"/content/drive/MyDrive/Dataset/Validation/Shoplifting/Shoplifting (90).mp4\")\n",
        "video_clip"
      ]
    },
    {
      "cell_type": "code",
      "execution_count": null,
      "id": "eO-XhkLpHcKi",
      "metadata": {
        "id": "eO-XhkLpHcKi"
      },
      "outputs": [],
      "source": [
        "predictions = model.predict(np.array([video_clip]))\n",
        "predictions"
      ]
    },
    {
      "cell_type": "markdown",
      "id": "VMg5O-5XOGzg",
      "metadata": {
        "id": "VMg5O-5XOGzg"
      },
      "source": [
        "# Ignore Everything Below"
      ]
    },
    {
      "cell_type": "markdown",
      "id": "G9IQg5RSTcrH",
      "metadata": {
        "id": "G9IQg5RSTcrH"
      },
      "source": [
        "# Vivit Model"
      ]
    },
    {
      "cell_type": "code",
      "execution_count": null,
      "id": "N2xfwWK6SD9l",
      "metadata": {
        "id": "N2xfwWK6SD9l"
      },
      "outputs": [],
      "source": [
        "class TubeletEmbedding(layers.Layer):\n",
        "    def __init__(self, embed_dim, patch_size, **kwargs):\n",
        "        super().__init__(**kwargs)\n",
        "        self.projection = layers.Conv3D(\n",
        "            filters=embed_dim,\n",
        "            kernel_size=patch_size,\n",
        "            strides=patch_size,\n",
        "            padding=\"VALID\",\n",
        "        )\n",
        "        self.flatten = layers.Reshape(target_shape=(-1, embed_dim))\n",
        "\n",
        "    def call(self, videos):\n",
        "        projected_patches = self.projection(videos)\n",
        "        flattened_patches = self.flatten(projected_patches)\n",
        "        return flattened_patches"
      ]
    },
    {
      "cell_type": "markdown",
      "id": "ojYTDkRNSD9l",
      "metadata": {
        "id": "ojYTDkRNSD9l"
      },
      "source": [
        "This layer adds positional information to the encoded video tokens."
      ]
    },
    {
      "cell_type": "code",
      "execution_count": null,
      "id": "jELI06Q5SD9l",
      "metadata": {
        "id": "jELI06Q5SD9l"
      },
      "outputs": [],
      "source": [
        "class PositionalEncoder(layers.Layer):\n",
        "    def __init__(self, embed_dim, **kwargs):\n",
        "        super().__init__(**kwargs)\n",
        "        self.embed_dim = embed_dim\n",
        "\n",
        "    def build(self, input_shape):\n",
        "        _, num_tokens, _ = input_shape\n",
        "        self.position_embedding = layers.Embedding(\n",
        "            input_dim=num_tokens, output_dim=self.embed_dim\n",
        "        )\n",
        "        self.positions = ops.arange(0, num_tokens, 1)\n",
        "\n",
        "    def call(self, encoded_tokens):\n",
        "        # Encode the positions and add it to the encoded tokens\n",
        "        encoded_positions = self.position_embedding(self.positions)\n",
        "        encoded_tokens = encoded_tokens + encoded_positions\n",
        "        return encoded_tokens\n"
      ]
    },
    {
      "cell_type": "code",
      "execution_count": null,
      "id": "K8hwkt4mQq3I",
      "metadata": {
        "id": "K8hwkt4mQq3I"
      },
      "outputs": [],
      "source": [
        "DATASET_NAME = \"organmnist3d\"\n",
        "AUTO = tf.data.AUTOTUNE\n",
        "INPUT_SHAPE = (120, 160, 160, 3)\n",
        "\n",
        "# OPTIMIZER\n",
        "LEARNING_RATE = 1e-4\n",
        "WEIGHT_DECAY = 1e-5\n",
        "\n",
        "# TRAINING\n",
        "EPOCHS = 20\n",
        "\n",
        "# TUBELET EMBEDDING\n",
        "PATCH_SIZE = (8, 8, 8)\n",
        "NUM_PATCHES = (INPUT_SHAPE[0] // PATCH_SIZE[0]) ** 2\n",
        "\n",
        "PROJECTION_DIM = 128"
      ]
    },
    {
      "cell_type": "code",
      "execution_count": null,
      "id": "MqektVXvSD9m",
      "metadata": {
        "id": "MqektVXvSD9m"
      },
      "outputs": [],
      "source": [
        "def create_vivit_classifier(\n",
        "    tubelet_embedder,\n",
        "    positional_encoder,\n",
        "    input_shape=(120, 160, 160, 3),\n",
        "    transformer_layers=5,\n",
        "    num_heads=5,\n",
        "    embed_dim=64,\n",
        "    layer_norm_eps=1e-6,\n",
        "    num_classes=1,\n",
        "):\n",
        "    # Get the input layer\n",
        "    inputs = layers.Input(shape=input_shape)\n",
        "    # Create patches.\n",
        "    patches = tubelet_embedder(inputs)\n",
        "    # Encode patches.\n",
        "    encoded_patches = positional_encoder(patches)\n",
        "\n",
        "    # Create multiple layers of the Transformer block.\n",
        "    for _ in range(transformer_layers):\n",
        "        # Layer normalization and MHSA\n",
        "        x1 = layers.LayerNormalization(epsilon=1e-6)(encoded_patches)\n",
        "        attention_output = layers.MultiHeadAttention(\n",
        "            num_heads=num_heads, key_dim=embed_dim // num_heads, dropout=0.1\n",
        "        )(x1, x1)\n",
        "\n",
        "        # Skip connection\n",
        "        x2 = layers.Add()([attention_output, encoded_patches])\n",
        "\n",
        "        # Layer Normalization and MLP\n",
        "        x3 = layers.LayerNormalization(epsilon=1e-6)(x2)\n",
        "        x3 = keras.Sequential(\n",
        "            [\n",
        "                layers.Dense(units=embed_dim * 4, activation=ops.gelu),\n",
        "                layers.Dense(units=embed_dim, activation=ops.gelu),\n",
        "            ]\n",
        "        )(x3)\n",
        "\n",
        "        # Skip connection\n",
        "        encoded_patches = layers.Add()([x3, x2])\n",
        "\n",
        "    # Layer normalization and Global average pooling.\n",
        "    representation = layers.LayerNormalization(epsilon=layer_norm_eps)(encoded_patches)\n",
        "    representation = layers.GlobalAvgPool1D()(representation)\n",
        "\n",
        "    # Classify outputs.\n",
        "    outputs = layers.Dense(units=num_classes, activation=\"sigmoid\")(representation)\n",
        "\n",
        "    # Create the Keras model.\n",
        "    model = keras.Model(inputs=inputs, outputs=outputs)\n",
        "    return model\n"
      ]
    },
    {
      "cell_type": "code",
      "execution_count": null,
      "id": "jdx7gDciSD9n",
      "metadata": {
        "id": "jdx7gDciSD9n"
      },
      "outputs": [],
      "source": [
        "def run_experiment():\n",
        "    # Initialize model\n",
        "    model = create_vivit_classifier(\n",
        "        tubelet_embedder=TubeletEmbedding(\n",
        "            embed_dim=PROJECTION_DIM, patch_size=PATCH_SIZE\n",
        "        ),\n",
        "        positional_encoder=PositionalEncoder(embed_dim=PROJECTION_DIM),\n",
        "    )\n",
        "\n",
        "    # Compile the model with the optimizer, loss function\n",
        "    # and the metrics.\n",
        "    optimizer = keras.optimizers.Adam(learning_rate=LEARNING_RATE)\n",
        "    model.compile(\n",
        "        optimizer=optimizer,\n",
        "        loss=\"binary_crossentropy\",\n",
        "        metrics=['accuracy',\n",
        "                  keras.metrics.Precision(name='precision'),\n",
        "                  keras.metrics.Recall(name='recall'),\n",
        "                  keras.metrics.AUC(name='auc')]\n",
        "        )\n",
        "\n",
        "    # Train the model.\n",
        "    _ = model.fit(train_ds, epochs=EPOCHS, validation_data=val_ds)\n",
        "\n",
        "    _, accuracy, precision, recall, auc = model.evaluate(val_ds)\n",
        "    print(f\"Test accuracy: {round(accuracy * 100, 2)}%\")\n",
        "    print(f\"Test accuracy: {round(precision * 100, 2)}%\")\n",
        "    print(f\"Test accuracy: {round(recall * 100, 2)}%\")\n",
        "    print(f\"Test accuracy: {round(auc * 100, 2)}%\")\n",
        "\n",
        "    return model\n",
        "\n",
        "\n",
        "model = run_experiment()"
      ]
    },
    {
      "cell_type": "markdown",
      "id": "LQtJ3str4-I0",
      "metadata": {
        "id": "LQtJ3str4-I0"
      },
      "source": [
        "# MovieNet Model"
      ]
    },
    {
      "cell_type": "code",
      "execution_count": null,
      "id": "jCqamNT-Jb-k",
      "metadata": {
        "colab": {
          "base_uri": "https://localhost:8080/"
        },
        "id": "jCqamNT-Jb-k",
        "outputId": "8b4d3663-ad2a-4828-b4bc-b96c8d447921"
      },
      "outputs": [
        {
          "name": "stdout",
          "output_type": "stream",
          "text": [
            "movinet_a0_base/\n",
            "movinet_a0_base/checkpoint\n",
            "movinet_a0_base/ckpt-1.data-00000-of-00001\n",
            "movinet_a0_base/ckpt-1.index\n"
          ]
        },
        {
          "data": {
            "text/plain": [
              "<tensorflow.python.checkpoint.checkpoint.CheckpointLoadStatus at 0x7c547c80c820>"
            ]
          },
          "execution_count": 16,
          "metadata": {},
          "output_type": "execute_result"
        }
      ],
      "source": [
        "model_id = 'a0'\n",
        "\n",
        "tf.keras.backend.clear_session()\n",
        "\n",
        "backbone = movinet.Movinet(model_id=model_id)\n",
        "backbone.trainable = False\n",
        "\n",
        "# Set num_classes=600 to load the pre-trained weights from the original model\n",
        "model = movinet_model.MovinetClassifier(backbone=backbone, num_classes=600)\n",
        "model.build([None, None, None, None, 3])\n",
        "\n",
        "# Load pre-trained weights\n",
        "!wget https://storage.googleapis.com/tf_model_garden/vision/movinet/movinet_a0_base.tar.gz -O movinet_a0_base.tar.gz -q\n",
        "!tar -xvf movinet_a0_base.tar.gz\n",
        "\n",
        "checkpoint_dir = f'movinet_{model_id}_base'\n",
        "checkpoint_path = tf.train.latest_checkpoint(checkpoint_dir)\n",
        "checkpoint = tf.train.Checkpoint(model=model)\n",
        "status = checkpoint.restore(checkpoint_path)\n",
        "status.assert_existing_objects_matched()"
      ]
    },
    {
      "cell_type": "code",
      "execution_count": null,
      "id": "xswt4_rilSiI",
      "metadata": {
        "id": "xswt4_rilSiI"
      },
      "outputs": [],
      "source": [
        "def build_classifier(batch_size, num_frames, resolution, backbone, num_classes):\n",
        "  \"\"\"Builds a classifier on top of a backbone model.\"\"\"\n",
        "  model = movinet_model.MovinetClassifier(\n",
        "      backbone=backbone,\n",
        "      num_classes=num_classes)\n",
        "  model.build([batch_size, num_frames, resolution, resolution, 3])\n",
        "\n",
        "  return model"
      ]
    },
    {
      "cell_type": "code",
      "execution_count": null,
      "id": "FhHU4puAlN8n",
      "metadata": {
        "id": "FhHU4puAlN8n"
      },
      "outputs": [],
      "source": [
        "model = build_classifier(5, 120, 160, backbone, 2)"
      ]
    },
    {
      "cell_type": "code",
      "execution_count": null,
      "id": "3PtNPbhEi8ox",
      "metadata": {
        "id": "3PtNPbhEi8ox"
      },
      "outputs": [],
      "source": [
        "model.compile(loss='binary_crossentropy', optimizer='adam', metrics=['accuracy'])\n",
        "model.fit(train_ds, epochs=20, validation_data=val_ds)"
      ]
    },
    {
      "cell_type": "code",
      "execution_count": null,
      "id": "atrIMyWuPAii",
      "metadata": {
        "id": "atrIMyWuPAii"
      },
      "outputs": [],
      "source": [
        "loss_obj = tf.keras.losses.BinaryCrossentropy(from_logits=True)\n",
        "\n",
        "model.compile(loss=loss_obj, optimizer='adam', metrics=['accuracy'])"
      ]
    },
    {
      "cell_type": "code",
      "execution_count": null,
      "id": "uMDMTqWvPFVs",
      "metadata": {
        "id": "uMDMTqWvPFVs"
      },
      "outputs": [],
      "source": [
        "results = model.fit(train_ds,\n",
        "                    validation_data=val_ds,\n",
        "                    epochs=20,\n",
        "                    validation_freq=1,\n",
        "                    verbose=1)"
      ]
    },
    {
      "cell_type": "code",
      "execution_count": null,
      "id": "hGza7NqyLFq-",
      "metadata": {
        "id": "hGza7NqyLFq-"
      },
      "outputs": [],
      "source": [
        "#!git clone https://github.com/tensorflow/models.git"
      ]
    },
    {
      "cell_type": "code",
      "execution_count": null,
      "id": "x5ZxEZckdN_7",
      "metadata": {
        "id": "x5ZxEZckdN_7"
      },
      "outputs": [],
      "source": [
        "#!git clone https://github.com/keras-team/keras-io.git"
      ]
    },
    {
      "cell_type": "code",
      "execution_count": null,
      "id": "I8_quPmvJxAY",
      "metadata": {
        "id": "I8_quPmvJxAY"
      },
      "outputs": [],
      "source": [
        "#model = hub.load(\"https://tfhub.dev/deepmind/i3d-kinetics-400/1\")"
      ]
    },
    {
      "cell_type": "code",
      "execution_count": null,
      "id": "5s0chd1bIUss",
      "metadata": {
        "id": "5s0chd1bIUss"
      },
      "outputs": [],
      "source": [
        "class HubLayer(tf.keras.layers.Layer):\n",
        "    def __init__(self, model_url, output_shape=None, **kwargs):\n",
        "        super(HubLayer, self).__init__(**kwargs)\n",
        "        self.model_url = model_url\n",
        "        self.output_shape = output_shape\n",
        "        self.hub_layer = hub.KerasLayer(self.model_url, output_shape=self.output_shape, trainable=False)\n",
        "\n",
        "    def call(self, inputs):\n",
        "        return self.hub_layer(inputs)\n",
        "\n",
        "# Initialize your custom layer with the URL of the model\n",
        "i3d_layer = HubLayer(\"https://tfhub.dev/deepmind/i3d-kinetics-400/1\")\n",
        "\n",
        "# Now you can add it to a Sequential model\n",
        "model = models.Sequential([\n",
        "    i3d_layer,\n",
        "    layers.Dense(1, activation='sigmoid')\n",
        "])\n",
        "\n",
        "# Compile the model\n",
        "model.compile(optimizer='adam',\n",
        "              loss='binary_crossentropy',\n",
        "              metrics=['accuracy'])\n",
        "\n",
        "# Assuming `train_data` and `train_labels` are prepared\n",
        "model.fit(train_ds, epochs = 20, validation_data = val_ds)"
      ]
    },
    {
      "cell_type": "code",
      "execution_count": null,
      "id": "i8LdKLeoOg9m",
      "metadata": {
        "colab": {
          "base_uri": "https://localhost:8080/"
        },
        "id": "i8LdKLeoOg9m",
        "outputId": "3efa4c6c-5897-4362-be46-26c746972fc2"
      },
      "outputs": [
        {
          "name": "stdout",
          "output_type": "stream",
          "text": [
            "9/9 [==============================] - 16s 400ms/step\n"
          ]
        }
      ],
      "source": [
        "predictions = model.predict(val_ds)"
      ]
    },
    {
      "cell_type": "code",
      "execution_count": null,
      "id": "qVtrGftDBw1A",
      "metadata": {
        "id": "qVtrGftDBw1A"
      },
      "outputs": [],
      "source": [
        "def i3d_model():\n",
        "    inputs = tf.keras.Input(shape=(224, 224, 3))  # Adjust the input shape as needed\n",
        "\n",
        "    # Load the I3D model from TensorFlow Hub\n",
        "    i3d_layer = hub.KerasLayer(\"https://tfhub.dev/deepmind/i3d-kinetics-400/1\", trainable=False)\n",
        "    x = i3d_layer(inputs)\n",
        "\n",
        "    # Example of additional layers after the I3D model output\n",
        "    x = tf.keras.layers.Dense(1024, activation='relu')(x)\n",
        "    x = tf.keras.layers.Dropout(0.4)(x)\n",
        "    x = tf.keras.layers.Dense(128, activation='relu')(x)\n",
        "    x = tf.keras.layers.Dropout(0.4)(x)\n",
        "    outputs = tf.keras.layers.Dense(1, activation='sigmoid')(x)\n",
        "\n",
        "    # Create the model\n",
        "    model = tf.keras.Model(inputs=inputs, outputs=outputs)\n",
        "    return model\n",
        "\n",
        "model = i3d_model()"
      ]
    },
    {
      "cell_type": "code",
      "execution_count": null,
      "id": "frOVk0UbCg6t",
      "metadata": {
        "id": "frOVk0UbCg6t"
      },
      "outputs": [],
      "source": [
        "model.compile(loss='binary_crossentropy', optimizer='adam', metrics=['accuracy'])\n",
        "model.fit(train_ds, epochs = 20, validation_data = val_ds)"
      ]
    },
    {
      "cell_type": "code",
      "execution_count": null,
      "id": "UZXd7y7adRyk",
      "metadata": {
        "id": "UZXd7y7adRyk"
      },
      "outputs": [],
      "source": [
        "def feature_extractor(inputs):\n",
        "  feature_extractor_layer = tf.keras.applications.resnet.ResNet50(\n",
        "      input_shape = (224, 224, 3),\n",
        "      include_top = False,\n",
        "      weights = 'imagenet')(inputs)\n",
        "\n",
        "  feature_extractor_layer.trainable = False\n",
        "  features = feature_extractor_layer(inputs)\n",
        "  return features"
      ]
    },
    {
      "cell_type": "code",
      "execution_count": null,
      "id": "CLwK-mW9iXvd",
      "metadata": {
        "id": "CLwK-mW9iXvd"
      },
      "outputs": [],
      "source": [
        "def classifier(inputs):\n",
        "    #x = tf.keras.layers.Flatten()(inputs)\n",
        "    x = tf.keras.layers.Dense(1024, activation='relu')(inputs)\n",
        "    x = tf.keras.layers.Dropout(0.4)(x)\n",
        "    x = tf.keras.layers.Dense(128, activation='relu')(x)\n",
        "    x = tf.keras.layers.Dropout(0.4)(x)\n",
        "\n",
        "    x = tf.keras.layers.Dense(2, activation='sigmoid')(x)\n",
        "\n",
        "    return x"
      ]
    },
    {
      "cell_type": "code",
      "execution_count": null,
      "id": "i_aNHAsOkj59",
      "metadata": {
        "id": "i_aNHAsOkj59"
      },
      "outputs": [],
      "source": [
        "def final_model(inputs):\n",
        "  mo_feature_extractor = feature_extractor(inputs)\n",
        "  classification_output = classifier(mo_feature_extractor)\n",
        "\n",
        "  return classification_output"
      ]
    },
    {
      "cell_type": "code",
      "execution_count": null,
      "id": "6-U6erZG9_PS",
      "metadata": {
        "colab": {
          "base_uri": "https://localhost:8080/"
        },
        "id": "6-U6erZG9_PS",
        "outputId": "f2b92d79-51e0-413e-b1b0-2b44bef364f5"
      },
      "outputs": [
        {
          "name": "stdout",
          "output_type": "stream",
          "text": [
            "Downloading data from https://storage.googleapis.com/tensorflow/keras-applications/resnet/resnet50_weights_tf_dim_ordering_tf_kernels_notop.h5\n",
            "\u001b[1m94765736/94765736\u001b[0m \u001b[32m━━━━━━━━━━━━━━━━━━━━\u001b[0m\u001b[37m\u001b[0m \u001b[1m1s\u001b[0m 0us/step\n"
          ]
        }
      ],
      "source": [
        "inputs = tf.keras.Input(shape=(224, 224, 3))\n",
        "outputs = final_model(inputs)\n",
        "model = tf.keras.models.Model(inputs=inputs, outputs=outputs)\n",
        "\n",
        "#model.compile(loss='binary_crossentropy', optimizer='adam', metrics=['accuracy'])\n",
        "\n",
        "#with tf.device(\"/GPU:0\"):\n",
        "#  model.fit(train_ds, epochs = 20, validation_data = val_ds)"
      ]
    },
    {
      "cell_type": "markdown",
      "id": "ad8b3354",
      "metadata": {
        "id": "ad8b3354"
      },
      "source": [
        "# Deep Learning Model 2 - Transformer"
      ]
    },
    {
      "cell_type": "code",
      "execution_count": null,
      "id": "ESR8FeykOg6v",
      "metadata": {
        "colab": {
          "base_uri": "https://localhost:8080/"
        },
        "id": "ESR8FeykOg6v",
        "outputId": "5a1668ef-b88a-458f-f1f4-32c6af5bd1bb"
      },
      "outputs": [
        {
          "name": "stdout",
          "output_type": "stream",
          "text": [
            "              precision    recall  f1-score   support\n",
            "\n",
            "           0       0.47      1.00      0.64        21\n",
            "           1       0.00      0.00      0.00        24\n",
            "\n",
            "    accuracy                           0.47        45\n",
            "   macro avg       0.23      0.50      0.32        45\n",
            "weighted avg       0.22      0.47      0.30        45\n",
            "\n"
          ]
        },
        {
          "name": "stderr",
          "output_type": "stream",
          "text": [
            "/usr/local/lib/python3.10/dist-packages/sklearn/metrics/_classification.py:1344: UndefinedMetricWarning: Precision and F-score are ill-defined and being set to 0.0 in labels with no predicted samples. Use `zero_division` parameter to control this behavior.\n",
            "  _warn_prf(average, modifier, msg_start, len(result))\n",
            "/usr/local/lib/python3.10/dist-packages/sklearn/metrics/_classification.py:1344: UndefinedMetricWarning: Precision and F-score are ill-defined and being set to 0.0 in labels with no predicted samples. Use `zero_division` parameter to control this behavior.\n",
            "  _warn_prf(average, modifier, msg_start, len(result))\n",
            "/usr/local/lib/python3.10/dist-packages/sklearn/metrics/_classification.py:1344: UndefinedMetricWarning: Precision and F-score are ill-defined and being set to 0.0 in labels with no predicted samples. Use `zero_division` parameter to control this behavior.\n",
            "  _warn_prf(average, modifier, msg_start, len(result))\n"
          ]
        }
      ],
      "source": [
        "from sklearn.metrics import classification_report\n",
        "\n",
        "print(classification_report(y_true, y_pred))"
      ]
    },
    {
      "cell_type": "code",
      "execution_count": null,
      "id": "RMe0CZyY1eK8",
      "metadata": {
        "id": "RMe0CZyY1eK8"
      },
      "outputs": [],
      "source": [
        "!git clone https://github.com/google-research/scenic.git\n",
        "!cd scenic\n",
        "!pip install ."
      ]
    },
    {
      "cell_type": "code",
      "execution_count": null,
      "id": "uECZjgyp2Q4i",
      "metadata": {
        "colab": {
          "base_uri": "https://localhost:8080/"
        },
        "id": "uECZjgyp2Q4i",
        "outputId": "1ff21672-aaec-45eb-a4b5-1fe9c4bcc3d5"
      },
      "outputs": [
        {
          "name": "stdout",
          "output_type": "stream",
          "text": [
            "/content/drive/MyDrive\n"
          ]
        }
      ],
      "source": [
        "cd ../"
      ]
    },
    {
      "cell_type": "code",
      "execution_count": null,
      "id": "2uUwTIoF10UE",
      "metadata": {
        "id": "2uUwTIoF10UE"
      },
      "outputs": [],
      "source": [
        "!pip install -r /content/drive/MyDrive/scenic/scenic/projects/vivit/requirements.txt"
      ]
    },
    {
      "cell_type": "code",
      "execution_count": null,
      "id": "i5RM8tVG4dJN",
      "metadata": {
        "id": "i5RM8tVG4dJN"
      },
      "outputs": [],
      "source": [
        "vit = tf.saved_model.load(\"/content/drive/MyDrive/scenic/tf_saved_model/\")"
      ]
    },
    {
      "cell_type": "code",
      "execution_count": null,
      "id": "2Sxoxn8f4dcv",
      "metadata": {
        "id": "2Sxoxn8f4dcv"
      },
      "outputs": [],
      "source": [
        "infer = vit.signatures['serving_default']\n",
        "input_tensor = tf.constant((10, 50, 224, 224, 3), dtype=tf.float32)\n",
        "predictions = infer(input_tensor)"
      ]
    },
    {
      "cell_type": "code",
      "execution_count": null,
      "id": "0e69190c",
      "metadata": {
        "id": "0e69190c"
      },
      "outputs": [],
      "source": [
        "# Save the model\n",
        "#model_version = max([int(i) for i in os.listdir(\"../models\")+[0]]) + 1\n",
        "#model.save(f\"../models/{model_version}\")"
      ]
    },
    {
      "cell_type": "code",
      "execution_count": null,
      "id": "9950f7eb",
      "metadata": {
        "id": "9950f7eb"
      },
      "outputs": [],
      "source": [
        "net = tf.keras.applications.EfficientNetB0(include_top = False)\n",
        "net.trainable = False\n",
        "\n",
        "model = tf.keras.Sequential([\n",
        "    tf.keras.layers.Rescaling(scale=255),\n",
        "    tf.keras.layers.TimeDistributed(net),\n",
        "    tf.keras.layers.Dense(2),\n",
        "    tf.keras.layers.GlobalAveragePooling3D()\n",
        "])\n",
        "\n",
        "model.compile(optimizer = 'adam',\n",
        "              loss= 'binary_crossentropy',\n",
        "              metrics=['accuracy'])\n",
        "\n",
        "model.fit(train_ds,\n",
        "          epochs = 10,\n",
        "          validation_data = val_ds)"
      ]
    },
    {
      "cell_type": "markdown",
      "id": "mdSg7IKp4vnH",
      "metadata": {
        "id": "mdSg7IKp4vnH"
      },
      "source": [
        "# Standard 3D CNN"
      ]
    },
    {
      "cell_type": "code",
      "execution_count": null,
      "id": "V7AR-JI1T5LB",
      "metadata": {
        "colab": {
          "base_uri": "https://localhost:8080/"
        },
        "id": "V7AR-JI1T5LB",
        "outputId": "8a53890d-11ab-481d-88cf-444ae0fe19a7"
      },
      "outputs": [
        {
          "name": "stderr",
          "output_type": "stream",
          "text": [
            "/usr/local/lib/python3.10/dist-packages/keras/src/layers/convolutional/base_conv.py:99: UserWarning: Do not pass an `input_shape`/`input_dim` argument to a layer. When using Sequential models, prefer using an `Input(shape)` object as the first layer in the model instead.\n",
            "  super().__init__(\n"
          ]
        }
      ],
      "source": [
        "model = Sequential([\n",
        "    Conv3D(64, kernel_size=(3, 3, 3), strides=(1,1,1), padding='same', activation=\"relu\", input_shape=(60, 224, 224, 3)),\n",
        "    Conv3D(128, kernel_size=(3, 3, 3), strides=(1,1,1), padding='same', activation=\"relu\"),\n",
        "    MaxPooling3D(pool_size=(2, 2, 2)),\n",
        "    Dropout(0.25),\n",
        "\n",
        "    Conv3D(128, kernel_size=(3, 3, 3), strides=(1,1,1), padding='same', activation=\"relu\"),\n",
        "    Conv3D(256, kernel_size=(3, 3, 3), strides=(1,1,1), padding='same', activation=\"relu\"),\n",
        "    MaxPooling3D(pool_size=(2, 2, 2)),\n",
        "    Dropout(0.25),\n",
        "\n",
        "    Conv3D(256, kernel_size=(3, 3, 3), strides=(1,1,1), padding='same', activation=\"relu\"),\n",
        "    Conv3D(256, kernel_size=(3, 3, 3), strides=(1,1,1), padding='same', activation=\"relu\"),\n",
        "    MaxPooling3D(pool_size=(2, 2, 2)),\n",
        "    Dropout(0.25),\n",
        "\n",
        "    Conv3D(128, kernel_size=(3, 3, 3), strides=(1,1,1), padding='same', activation=\"relu\"),\n",
        "    Conv3D(128, kernel_size=(3, 3, 3), strides=(1,1,1), padding='same', activation=\"relu\"),\n",
        "    GlobalAveragePooling3D(),\n",
        "\n",
        "    BatchNormalization(),\n",
        "    Flatten(),\n",
        "    Dense(64, activation=\"relu\"),\n",
        "    BatchNormalization(),\n",
        "    Dropout(0.5),\n",
        "    Dense(1, activation=\"sigmoid\")\n",
        "])"
      ]
    },
    {
      "cell_type": "markdown",
      "id": "a703fb10",
      "metadata": {
        "id": "a703fb10"
      },
      "source": [
        "# A3DConvNet-15 Deep Learning Model\n",
        "\n",
        "\n",
        "\n"
      ]
    },
    {
      "cell_type": "code",
      "execution_count": null,
      "id": "2kSyZa40kXpo",
      "metadata": {
        "id": "2kSyZa40kXpo"
      },
      "outputs": [],
      "source": [
        "# Input layer\n",
        "input_shape = (3, 110, 160, 160, 3)  # This will need to be adjusted to match your actual input dimensions\n",
        "inputs = Input(shape=input_shape[1:])\n",
        "\n",
        "x = Conv3D(8, (3,3,3), strides=(1,1,1), padding='same')(inputs)\n",
        "x = Conv3D(8, (3,3,3), strides=(1,1,1), padding='same')(x)\n",
        "x = Conv3D(16, (3,3,3), strides=(1,1,1), padding='same')(x)\n",
        "x = MaxPooling3D(pool_size=(2,2,2), padding='same')(x)\n",
        "x = Conv3D(16, (3,3,3), strides=(1,1,1), padding='same')(x)\n",
        "\n",
        "x1 = MaxPooling3D(pool_size=(2,1,1), padding='same')(x)\n",
        "x1 = Conv3D(16, (3,3,3), strides=(1,1,1), padding='same')(x1)\n",
        "x1 = Conv3D(32, (5,5,5), strides=(1,1,1), padding='same')(x1)\n",
        "x1 = Conv3D(32, (3,3,3), strides=(1,1,1), padding='same')(x1)\n",
        "x1 = Conv3D(32, (3,3,3), strides=(1,1,1), padding='same')(x1)\n",
        "\n",
        "# mid branch\n",
        "x2 = MaxPooling3D(pool_size=(2,1,1), padding='same')(x)\n",
        "x2 = Conv3D(16, (3, 3, 3), strides=(1, 1, 1), padding='same', activation='relu')(x2)\n",
        "x2 = Conv3D(32, (7, 7, 7), strides=(1, 1, 1), padding='same', activation='relu')(x2)\n",
        "x2 = Conv3D(32, (3, 3, 3), strides=(1, 1, 1), padding='same', activation='relu')(x2)\n",
        "\n",
        "# concatenate x1 and mid branch\n",
        "x12 = Concatenate()([x1, x2])\n",
        "x12 = BatchNormalization()(x12)\n",
        "x12 = Conv3D(64, (3, 3, 3), strides=(1, 1, 1), padding='same', activation='relu')(x12)\n",
        "x12 = MaxPooling3D(pool_size=(2,2,2), padding='same')(x12)\n",
        "x12 = Conv3D(64, (3, 3, 3), strides=(1, 1, 1), padding='same', activation='relu')(x12)\n",
        "x12 = MaxPooling3D(pool_size=(2,2,2), padding='same')(x12)\n",
        "\n",
        "# Define the right branch of the network\n",
        "x3 = Conv3D(32, (3,3,3), strides=(2,2,2), padding='same')(x)\n",
        "x3 = MaxPooling3D(pool_size=(2,2,2), padding='same')(x3)\n",
        "x3 = Conv3D(32, (3,3,3), strides=(1,1,1), padding='same')(x3)\n",
        "x3 = UpSampling3D(size=(2, 2, 2))(x3)\n",
        "x3 = Conv3D(64, (3,3,3), strides=(2,1,1), padding='same')(x3)\n",
        "x3 = Conv3D(64, (3,1,1), strides=(1,1,1), padding='same')(x3)\n",
        "x3 = MaxPooling3D(pool_size=(2,2,2), padding='same')(x3)\n",
        "\n",
        "# Concatenate all the branches (Total)\n",
        "x4 = Concatenate()([x12, x3])\n",
        "x4 = BatchNormalization()(x4)\n",
        "x4 = Conv3D(96, (3,3,3), strides=(1,1,1), padding='same')(x4)\n",
        "x4 = Conv3D(96, (3,3,3), strides=(1,1,1), padding='same')(x4)\n",
        "x4 = BatchNormalization()(x4)\n",
        "\n",
        "# Flatten and add the fully connected layers\n",
        "x4 = GlobalMaxPooling3D()(x4) #information loss here?\n",
        "x4 = Flatten()(x4)\n",
        "x4 = Dense(512, activation='relu')(x4)\n",
        "x4 = Dropout(0.4)(x4)\n",
        "x4 = Dense(128, activation='relu')(x4)\n",
        "x4 = Dropout(0.4)(x4)\n",
        "\n",
        "outputs = Dense(1, activation='sigmoid')(x4)\n",
        "\n",
        "# Create the model\n",
        "tf.keras.backend.clear_session()\n",
        "model = Model(inputs, outputs)\n",
        "\n",
        "model.summary()"
      ]
    }
  ],
  "metadata": {
    "colab": {
      "provenance": [],
      "toc_visible": true
    },
    "kernelspec": {
      "display_name": "Python 3",
      "name": "python3"
    },
    "language_info": {
      "codemirror_mode": {
        "name": "ipython",
        "version": 3
      },
      "file_extension": ".py",
      "mimetype": "text/x-python",
      "name": "python",
      "nbconvert_exporter": "python",
      "pygments_lexer": "ipython3",
      "version": "3.11.5"
    }
  },
  "nbformat": 4,
  "nbformat_minor": 5
}